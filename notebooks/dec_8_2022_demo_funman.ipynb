{
 "cells": [
  {
   "cell_type": "markdown",
   "metadata": {},
   "source": [
    "# Scenario 1\n",
    "- Inputs: Simulator, \n",
    "- Query: Will Intervention keep hospitalizations below 3000?\n",
    "- Intervention 1: Dec 1 - Mar 1, 5% decrease in transmission\n",
    "- Intervention 2: Jan 1 - Mar 1, X% decrease required?\n",
    "\n",
    "# Open Issues\n",
    "1. Infected > Hospitalized, how is Hospitalized defined?\n",
    "    - Assume that H = I * HR, HR = hospitalization rate, maybe synthesize HR\n",
    "2. Initial Conditions?  \n",
    "    - From Data.  \n",
    "\n",
    "# Goals\n",
    "1. Synthesize (X, Start Intervention)\n",
    "2. Synthesize (HR, gamma, End of Intervention)\n",
    "3. Models: CHIME, BUCKY, CHIME SVIIR\n",
    "\n",
    "# Analysis:\n",
    "1. Intervention 1 works (yes/no), Intervention 2 (range of X that works, single variable synthesis)\n",
    "2. Compute a metric: I1: sum of differences with threshold, I2: uniform grid evaluation of sum of differences.\n",
    "3. Additional Parameters: HR, Start of Intervention, \n",
    "4. Sensitivity Analysis: What values of infection rate will the intervention work or not.  \n",
    "\n",
    "# Operations:\n",
    "- evaluate point\n",
    "- project onto subset of dimensions\n",
    "- project after assigning dimensions \n",
    "- Evaluate metric over remaining space"
   ]
  },
  {
   "cell_type": "markdown",
   "metadata": {},
   "source": [
    "# Notes\n",
    "- Focus on data products\n",
    "    - parameter space\n",
    "    - quality\n",
    "    - query\n",
    "- Edit models to make comparable\n",
    "    - Add measurements\n",
    "    - parameter overlap"
   ]
  },
  {
   "cell_type": "code",
   "execution_count": 30,
   "metadata": {},
   "outputs": [
    {
     "name": "stdout",
     "output_type": "stream",
     "text": [
      "The autoreload extension is already loaded. To reload it, use:\n",
      "  %reload_ext autoreload\n"
     ]
    },
    {
     "data": {
      "text/markdown": [
       "# Bilayer and Measurement Model\n",
       "![](bilayer.png) ![](measurement.png)\n",
       "# Initial State\n",
       "- ## R: 1\n",
       "- ## S: 10000\n",
       "- ## I: 1\n",
       "# Parameter Bounds\n",
       "- ## gamma: [0.07142857142857142, 0.07142857142857142]\n",
       "- ## beta: [6.7e-05, 6.7e-05]\n",
       "- ## hr: [0.01, 0.01]\n",
       "# Scenario Configuration\n",
       "- ## query_variable: H\n",
       "- ## step_size: 3\n",
       "- ## duration: 30\n",
       "- ## query_threshold: 100\n",
       "# Query\n",
       "- ## $\\bigwedge\\limits_{t \\in [0,30]} H_t \\leq100$\n"
      ],
      "text/plain": [
       "<IPython.core.display.Markdown object>"
      ]
     },
     "execution_count": 30,
     "metadata": {},
     "output_type": "execute_result"
    }
   ],
   "source": [
    "from funman_demo.example.demo120822 import Scenario1\n",
    "%load_ext autoreload\n",
    "%autoreload 2\n",
    "\n",
    "scenario1 = Scenario1()\n",
    "scenario1.to_md(scenario1.models[\"intervention1\"])"
   ]
  },
  {
   "cell_type": "code",
   "execution_count": 48,
   "metadata": {},
   "outputs": [
    {
     "name": "stdout",
     "output_type": "stream",
     "text": [
      "Result: Query Not Satisfied\n"
     ]
    }
   ],
   "source": [
    "scenario1 = Scenario1()\n",
    "result_msg1, plot1, df1 = scenario1.analyze_intervention_1(0.0)\n",
    "print(f\"Result: {result_msg1}\")"
   ]
  },
  {
   "cell_type": "code",
   "execution_count": 51,
   "metadata": {},
   "outputs": [
    {
     "data": {
      "image/png": "[encoded data removed]",
      "text/plain": [
       "<Figure size 432x288 with 1 Axes>"
      ]
     },
     "metadata": {
      "needs_background": "light"
     },
     "output_type": "display_data"
    },
    {
     "name": "stdout",
     "output_type": "stream",
     "text": [
      "Result: Query Satisfied\n",
      "Avg. Unused Hospital Capacity: 19.209018029415738\n",
      "Min Unused Hospital Capacity: 4.809784994148192\n"
     ]
    }
   ],
   "source": [
    "# Analyze Intervention 1 to check it will achieve goals of query\n",
    "scenario1 = Scenario1()\n",
    "result_msg1, plot1, df1 = scenario1.analyze_intervention_1(0.05)\n",
    "print(f\"Result: {result_msg1}\")\n",
    "unused = df1[\"H\"].apply(lambda x: scenario1.config[\"query_threshold\"] - x).mean()\n",
    "print(f\"Avg. Unused Hospital Capacity: {unused}\")\n",
    "unused = df1[\"H\"].apply(lambda x: scenario1.config[\"query_threshold\"] - x).min()\n",
    "print(f\"Min Unused Hospital Capacity: {unused}\")\n",
    "\n",
    "plot1"
   ]
  },
  {
   "cell_type": "code",
   "execution_count": 52,
   "metadata": {},
   "outputs": [
    {
     "name": "stdout",
     "output_type": "stream",
     "text": [
      "Starting initializing dynamics of model\n",
      "Initialized dynamics of model\n",
      "Checking true query\n",
      "Checking false query\n",
      "Split(dict_values([[5.695e-05, 7.035e-05]]))\n",
      "Checking true query\n",
      "Checking false query\n",
      "Split(dict_values([[6.372716263110762e-05, 7.035e-05]]))\n",
      "Checking true query\n",
      "Checking false query\n",
      "+++ True(dict_values([[5.695e-05, 6.372716263110762e-05]]))\n"
     ]
    }
   ],
   "source": [
    "# Intervention 2 is over a shorter time period, with different initial conditions\n",
    "# The task is to find the level of efficacy beta needed to satisfy the query\n",
    "scenario1 = Scenario1()\n",
    "scenario1.analyze_intervention_2([-0.05, 0.15])\n"
   ]
  },
  {
   "cell_type": "code",
   "execution_count": null,
   "metadata": {},
   "outputs": [
    {
     "data": {
      "text/plain": [
       "<funman.model.bilayer.BilayerModel at 0x4072cc3fd0>"
      ]
     },
     "execution_count": 10,
     "metadata": {},
     "output_type": "execute_result"
    }
   ],
   "source": []
  },
  {
   "cell_type": "markdown",
   "metadata": {},
   "source": [
    "<!-- (:process infection\n",
    " :parameters (?gamma)\n",
    " :precondition (and)\n",
    " :effect (and \n",
    "            (increase (I) (function1))\n",
    "            (increase (R) (function2))\n",
    "            (increase (S) (function3))\n",
    "            )\n",
    " )\n",
    "\n",
    " (:durative-action mandate\n",
    "  :parameters ()\n",
    "  :duraiton (?duration)\n",
    "  :precondition (and)\n",
    "  :effect (and (at-start (increase (beta) (function1))\n",
    "                (at-end (decrease (beta) (function1))))\n",
    "  )\n",
    "\n",
    "  (:event infected-threshold\n",
    "   :precondtion (>= I 1000)\n",
    "   :effect (fail)\n",
    "   ) -->"
   ]
  },
  {
   "cell_type": "code",
   "execution_count": null,
   "metadata": {},
   "outputs": [
    {
     "data": {
      "text/plain": [
       "<funman.scenario.consistency.ConsistencyScenarioResult at 0x406e02d908>"
      ]
     },
     "execution_count": 14,
     "metadata": {},
     "output_type": "execute_result"
    }
   ],
   "source": [
    "result"
   ]
  },
  {
   "cell_type": "code",
   "execution_count": null,
   "metadata": {},
   "outputs": [
    {
     "data": {
      "image/svg+xml": "<?xml version=\"1.0\" encoding=\"UTF-8\" standalone=\"no\"?>\n<!DOCTYPE svg PUBLIC \"-//W3C//DTD SVG 1.1//EN\"\n \"http://www.w3.org/Graphics/SVG/1.1/DTD/svg11.dtd\">\n<!-- Generated by graphviz version 2.50.0 (0)\n -->\n<!-- Title: bilayer Pages: 1 -->\n<svg width=\"601pt\" height=\"188pt\"\n viewBox=\"0.00 0.00 600.59 188.00\" xmlns=\"http://www.w3.org/2000/svg\" xmlns:xlink=\"http://www.w3.org/1999/xlink\">\n<g id=\"graph0\" class=\"graph\" transform=\"scale(1 1) rotate(0) translate(4 184)\">\n<title>bilayer</title>\n<polygon fill=\"white\" stroke=\"transparent\" points=\"-4,4 -4,-184 596.59,-184 596.59,4 -4,4\"/>\n<!-- S&#39; -->\n<g id=\"node1\" class=\"node\">\n<title>S&#39;</title>\n<ellipse fill=\"none\" stroke=\"black\" cx=\"113.45\" cy=\"-18\" rx=\"27\" ry=\"18\"/>\n<text text-anchor=\"middle\" x=\"113.45\" y=\"-14.3\" font-family=\"Times,serif\" font-size=\"14.00\">S&#39;</text>\n</g>\n<!-- V&#39; -->\n<g id=\"node2\" class=\"node\">\n<title>V&#39;</title>\n<ellipse fill=\"none\" stroke=\"black\" cx=\"346.45\" cy=\"-18\" rx=\"27\" ry=\"18\"/>\n<text text-anchor=\"middle\" x=\"346.45\" y=\"-14.3\" font-family=\"Times,serif\" font-size=\"14.00\">V&#39;</text>\n</g>\n<!-- I&#39; -->\n<g id=\"node3\" class=\"node\">\n<title>I&#39;</title>\n<ellipse fill=\"none\" stroke=\"black\" cx=\"192.45\" cy=\"-18\" rx=\"27\" ry=\"18\"/>\n<text text-anchor=\"middle\" x=\"192.45\" y=\"-14.3\" font-family=\"Times,serif\" font-size=\"14.00\">I&#39;</text>\n</g>\n<!-- I_v&#39; -->\n<g id=\"node4\" class=\"node\">\n<title>I_v&#39;</title>\n<ellipse fill=\"none\" stroke=\"black\" cx=\"490.45\" cy=\"-18\" rx=\"27\" ry=\"18\"/>\n<text text-anchor=\"middle\" x=\"490.45\" y=\"-14.3\" font-family=\"Times,serif\" font-size=\"14.00\">I_v&#39;</text>\n</g>\n<!-- R&#39; -->\n<g id=\"node5\" class=\"node\">\n<title>R&#39;</title>\n<ellipse fill=\"none\" stroke=\"black\" cx=\"418.45\" cy=\"-18\" rx=\"27\" ry=\"18\"/>\n<text text-anchor=\"middle\" x=\"418.45\" y=\"-14.3\" font-family=\"Times,serif\" font-size=\"14.00\">R&#39;</text>\n</g>\n<!-- beta_1 -->\n<g id=\"node6\" class=\"node\">\n<title>beta_1</title>\n<ellipse fill=\"none\" stroke=\"black\" cx=\"34.45\" cy=\"-90\" rx=\"34.39\" ry=\"18\"/>\n<text text-anchor=\"middle\" x=\"34.45\" y=\"-86.3\" font-family=\"Times,serif\" font-size=\"14.00\">beta_1</text>\n</g>\n<!-- beta_1&#45;&gt;S&#39; -->\n<g id=\"edge19\" class=\"edge\">\n<title>beta_1&#45;&gt;S&#39;</title>\n<path fill=\"none\" stroke=\"black\" stroke-dasharray=\"5,2\" d=\"M51.2,-74.15C62.5,-64.15 77.55,-50.8 90.03,-39.75\"/>\n<polygon fill=\"black\" stroke=\"black\" points=\"92.63,-42.12 97.79,-32.87 87.99,-36.88 92.63,-42.12\"/>\n</g>\n<!-- beta_1&#45;&gt;I&#39; -->\n<g id=\"edge12\" class=\"edge\">\n<title>beta_1&#45;&gt;I&#39;</title>\n<path fill=\"none\" stroke=\"black\" d=\"M59.83,-77.75C87.34,-65.57 131.27,-46.1 160.96,-32.95\"/>\n<polygon fill=\"black\" stroke=\"black\" points=\"162.71,-36 170.44,-28.75 159.88,-29.6 162.71,-36\"/>\n</g>\n<!-- beta_2 -->\n<g id=\"node7\" class=\"node\">\n<title>beta_2</title>\n<ellipse fill=\"none\" stroke=\"black\" cx=\"192.45\" cy=\"-90\" rx=\"34.39\" ry=\"18\"/>\n<text text-anchor=\"middle\" x=\"192.45\" y=\"-86.3\" font-family=\"Times,serif\" font-size=\"14.00\">beta_2</text>\n</g>\n<!-- beta_2&#45;&gt;S&#39; -->\n<g id=\"edge20\" class=\"edge\">\n<title>beta_2&#45;&gt;S&#39;</title>\n<path fill=\"none\" stroke=\"black\" stroke-dasharray=\"5,2\" d=\"M175.69,-74.15C164.4,-64.15 149.34,-50.8 136.86,-39.75\"/>\n<polygon fill=\"black\" stroke=\"black\" points=\"138.91,-36.88 129.1,-32.87 134.27,-42.12 138.91,-36.88\"/>\n</g>\n<!-- beta_2&#45;&gt;I&#39; -->\n<g id=\"edge13\" class=\"edge\">\n<title>beta_2&#45;&gt;I&#39;</title>\n<path fill=\"none\" stroke=\"black\" d=\"M192.45,-71.7C192.45,-63.98 192.45,-54.71 192.45,-46.11\"/>\n<polygon fill=\"black\" stroke=\"black\" points=\"195.95,-46.1 192.45,-36.1 188.95,-46.1 195.95,-46.1\"/>\n</g>\n<!-- v_r -->\n<g id=\"node8\" class=\"node\">\n<title>v_r</title>\n<ellipse fill=\"none\" stroke=\"black\" cx=\"113.45\" cy=\"-90\" rx=\"27\" ry=\"18\"/>\n<text text-anchor=\"middle\" x=\"113.45\" y=\"-86.3\" font-family=\"Times,serif\" font-size=\"14.00\">v_r</text>\n</g>\n<!-- v_r&#45;&gt;S&#39; -->\n<g id=\"edge21\" class=\"edge\">\n<title>v_r&#45;&gt;S&#39;</title>\n<path fill=\"none\" stroke=\"black\" stroke-dasharray=\"5,2\" d=\"M113.45,-71.7C113.45,-63.98 113.45,-54.71 113.45,-46.11\"/>\n<polygon fill=\"black\" stroke=\"black\" points=\"116.95,-46.1 113.45,-36.1 109.95,-46.1 116.95,-46.1\"/>\n</g>\n<!-- v_r&#45;&gt;V&#39; -->\n<g id=\"edge14\" class=\"edge\">\n<title>v_r&#45;&gt;V&#39;</title>\n<path fill=\"none\" stroke=\"black\" d=\"M134.5,-78.29C139.34,-76.05 144.52,-73.81 149.45,-72 204.8,-51.67 271.49,-35.36 311.35,-26.45\"/>\n<polygon fill=\"black\" stroke=\"black\" points=\"312.11,-29.86 321.12,-24.29 310.6,-23.03 312.11,-29.86\"/>\n</g>\n<!-- v_s1 -->\n<g id=\"node9\" class=\"node\">\n<title>v_s1</title>\n<ellipse fill=\"none\" stroke=\"black\" cx=\"382.45\" cy=\"-90\" rx=\"27.1\" ry=\"18\"/>\n<text text-anchor=\"middle\" x=\"382.45\" y=\"-86.3\" font-family=\"Times,serif\" font-size=\"14.00\">v_s1</text>\n</g>\n<!-- v_s1&#45;&gt;V&#39; -->\n<g id=\"edge22\" class=\"edge\">\n<title>v_s1&#45;&gt;V&#39;</title>\n<path fill=\"none\" stroke=\"black\" stroke-dasharray=\"5,2\" d=\"M374.1,-72.76C369.74,-64.28 364.3,-53.71 359.41,-44.2\"/>\n<polygon fill=\"black\" stroke=\"black\" points=\"362.44,-42.44 354.75,-35.15 356.21,-45.64 362.44,-42.44\"/>\n</g>\n<!-- v_s1&#45;&gt;I_v&#39; -->\n<g id=\"edge15\" class=\"edge\">\n<title>v_s1&#45;&gt;I_v&#39;</title>\n<path fill=\"none\" stroke=\"black\" d=\"M401.26,-76.81C418.45,-65.67 444.07,-49.06 463.44,-36.5\"/>\n<polygon fill=\"black\" stroke=\"black\" points=\"465.36,-39.43 471.85,-31.05 461.56,-33.56 465.36,-39.43\"/>\n</g>\n<!-- v_s2 -->\n<g id=\"node10\" class=\"node\">\n<title>v_s2</title>\n<ellipse fill=\"none\" stroke=\"black\" cx=\"455.45\" cy=\"-90\" rx=\"27.1\" ry=\"18\"/>\n<text text-anchor=\"middle\" x=\"455.45\" y=\"-86.3\" font-family=\"Times,serif\" font-size=\"14.00\">v_s2</text>\n</g>\n<!-- v_s2&#45;&gt;V&#39; -->\n<g id=\"edge23\" class=\"edge\">\n<title>v_s2&#45;&gt;V&#39;</title>\n<path fill=\"none\" stroke=\"black\" stroke-dasharray=\"5,2\" d=\"M436.46,-76.81C419.11,-65.67 393.26,-49.06 373.7,-36.5\"/>\n<polygon fill=\"black\" stroke=\"black\" points=\"375.52,-33.51 365.22,-31.05 371.74,-39.4 375.52,-33.51\"/>\n</g>\n<!-- v_s2&#45;&gt;I_v&#39; -->\n<g id=\"edge16\" class=\"edge\">\n<title>v_s2&#45;&gt;I_v&#39;</title>\n<path fill=\"none\" stroke=\"black\" d=\"M463.56,-72.76C467.74,-64.4 472.94,-54.02 477.64,-44.61\"/>\n<polygon fill=\"black\" stroke=\"black\" points=\"480.79,-46.14 482.13,-35.63 474.53,-43.01 480.79,-46.14\"/>\n</g>\n<!-- gamma_1 -->\n<g id=\"node11\" class=\"node\">\n<title>gamma_1</title>\n<ellipse fill=\"none\" stroke=\"black\" cx=\"291.45\" cy=\"-90\" rx=\"46.29\" ry=\"18\"/>\n<text text-anchor=\"middle\" x=\"291.45\" y=\"-86.3\" font-family=\"Times,serif\" font-size=\"14.00\">gamma_1</text>\n</g>\n<!-- gamma_1&#45;&gt;I&#39; -->\n<g id=\"edge24\" class=\"edge\">\n<title>gamma_1&#45;&gt;I&#39;</title>\n<path fill=\"none\" stroke=\"black\" stroke-dasharray=\"5,2\" d=\"M269.97,-73.81C254.9,-63.16 234.67,-48.85 218.65,-37.53\"/>\n<polygon fill=\"black\" stroke=\"black\" points=\"220.43,-34.5 210.25,-31.59 216.39,-40.22 220.43,-34.5\"/>\n</g>\n<!-- gamma_1&#45;&gt;R&#39; -->\n<g id=\"edge17\" class=\"edge\">\n<title>gamma_1&#45;&gt;R&#39;</title>\n<path fill=\"none\" stroke=\"black\" d=\"M317.15,-74.83C338.08,-63.3 367.62,-47.02 389.4,-35.01\"/>\n<polygon fill=\"black\" stroke=\"black\" points=\"391.15,-38.04 398.21,-30.15 387.77,-31.91 391.15,-38.04\"/>\n</g>\n<!-- gamma_2 -->\n<g id=\"node12\" class=\"node\">\n<title>gamma_2</title>\n<ellipse fill=\"none\" stroke=\"black\" cx=\"546.45\" cy=\"-90\" rx=\"46.29\" ry=\"18\"/>\n<text text-anchor=\"middle\" x=\"546.45\" y=\"-86.3\" font-family=\"Times,serif\" font-size=\"14.00\">gamma_2</text>\n</g>\n<!-- gamma_2&#45;&gt;I_v&#39; -->\n<g id=\"edge25\" class=\"edge\">\n<title>gamma_2&#45;&gt;I_v&#39;</title>\n<path fill=\"none\" stroke=\"black\" stroke-dasharray=\"5,2\" d=\"M533.18,-72.41C526,-63.44 517.02,-52.21 509.15,-42.37\"/>\n<polygon fill=\"black\" stroke=\"black\" points=\"511.84,-40.13 502.86,-34.51 506.37,-44.51 511.84,-40.13\"/>\n</g>\n<!-- gamma_2&#45;&gt;R&#39; -->\n<g id=\"edge18\" class=\"edge\">\n<title>gamma_2&#45;&gt;R&#39;</title>\n<path fill=\"none\" stroke=\"black\" d=\"M520.85,-75C499.79,-63.48 469.91,-47.14 447.86,-35.09\"/>\n<polygon fill=\"black\" stroke=\"black\" points=\"449.39,-31.93 438.94,-30.21 446.03,-38.08 449.39,-31.93\"/>\n</g>\n<!-- S -->\n<g id=\"node13\" class=\"node\">\n<title>S</title>\n<ellipse fill=\"none\" stroke=\"black\" cx=\"113.45\" cy=\"-162\" rx=\"27\" ry=\"18\"/>\n<text text-anchor=\"middle\" x=\"113.45\" y=\"-158.3\" font-family=\"Times,serif\" font-size=\"14.00\">S</text>\n</g>\n<!-- S&#45;&gt;beta_1 -->\n<g id=\"edge1\" class=\"edge\">\n<title>S&#45;&gt;beta_1</title>\n<path fill=\"none\" stroke=\"black\" d=\"M97.84,-147.17C86.67,-137.27 71.41,-123.75 58.67,-112.46\"/>\n<polygon fill=\"black\" stroke=\"black\" points=\"60.92,-109.78 51.11,-105.77 56.28,-115.02 60.92,-109.78\"/>\n</g>\n<!-- S&#45;&gt;beta_2 -->\n<g id=\"edge2\" class=\"edge\">\n<title>S&#45;&gt;beta_2</title>\n<path fill=\"none\" stroke=\"black\" d=\"M129.05,-147.17C140.23,-137.27 155.48,-123.75 168.23,-112.46\"/>\n<polygon fill=\"black\" stroke=\"black\" points=\"170.62,-115.02 175.78,-105.77 165.97,-109.78 170.62,-115.02\"/>\n</g>\n<!-- S&#45;&gt;v_r -->\n<g id=\"edge3\" class=\"edge\">\n<title>S&#45;&gt;v_r</title>\n<path fill=\"none\" stroke=\"black\" d=\"M113.45,-143.7C113.45,-135.98 113.45,-126.71 113.45,-118.11\"/>\n<polygon fill=\"black\" stroke=\"black\" points=\"116.95,-118.1 113.45,-108.1 109.95,-118.1 116.95,-118.1\"/>\n</g>\n<!-- V -->\n<g id=\"node14\" class=\"node\">\n<title>V</title>\n<ellipse fill=\"none\" stroke=\"black\" cx=\"382.45\" cy=\"-162\" rx=\"27\" ry=\"18\"/>\n<text text-anchor=\"middle\" x=\"382.45\" y=\"-158.3\" font-family=\"Times,serif\" font-size=\"14.00\">V</text>\n</g>\n<!-- V&#45;&gt;v_s1 -->\n<g id=\"edge4\" class=\"edge\">\n<title>V&#45;&gt;v_s1</title>\n<path fill=\"none\" stroke=\"black\" d=\"M382.45,-143.7C382.45,-135.98 382.45,-126.71 382.45,-118.11\"/>\n<polygon fill=\"black\" stroke=\"black\" points=\"385.95,-118.1 382.45,-108.1 378.95,-118.1 385.95,-118.1\"/>\n</g>\n<!-- V&#45;&gt;v_s2 -->\n<g id=\"edge5\" class=\"edge\">\n<title>V&#45;&gt;v_s2</title>\n<path fill=\"none\" stroke=\"black\" d=\"M397.22,-146.83C407.54,-136.94 421.51,-123.55 433.17,-112.36\"/>\n<polygon fill=\"black\" stroke=\"black\" points=\"435.65,-114.83 440.45,-105.38 430.81,-109.78 435.65,-114.83\"/>\n</g>\n<!-- I -->\n<g id=\"node15\" class=\"node\">\n<title>I</title>\n<ellipse fill=\"none\" stroke=\"black\" cx=\"291.45\" cy=\"-162\" rx=\"27\" ry=\"18\"/>\n<text text-anchor=\"middle\" x=\"291.45\" y=\"-158.3\" font-family=\"Times,serif\" font-size=\"14.00\">I</text>\n</g>\n<!-- I&#45;&gt;beta_1 -->\n<g id=\"edge6\" class=\"edge\">\n<title>I&#45;&gt;beta_1</title>\n<path fill=\"none\" stroke=\"black\" d=\"M265.77,-155.8C225.29,-147.35 144.34,-129.4 77.45,-108 75.04,-107.23 72.57,-106.39 70.1,-105.51\"/>\n<polygon fill=\"black\" stroke=\"black\" points=\"71.22,-102.2 60.62,-101.99 68.78,-108.76 71.22,-102.2\"/>\n</g>\n<!-- I&#45;&gt;v_s1 -->\n<g id=\"edge7\" class=\"edge\">\n<title>I&#45;&gt;v_s1</title>\n<path fill=\"none\" stroke=\"black\" d=\"M308.56,-147.83C322.29,-137.27 341.76,-122.3 357.26,-110.37\"/>\n<polygon fill=\"black\" stroke=\"black\" points=\"359.62,-112.98 365.41,-104.11 355.35,-107.43 359.62,-112.98\"/>\n</g>\n<!-- I&#45;&gt;gamma_1 -->\n<g id=\"edge8\" class=\"edge\">\n<title>I&#45;&gt;gamma_1</title>\n<path fill=\"none\" stroke=\"black\" d=\"M291.45,-143.7C291.45,-135.98 291.45,-126.71 291.45,-118.11\"/>\n<polygon fill=\"black\" stroke=\"black\" points=\"294.95,-118.1 291.45,-108.1 287.95,-118.1 294.95,-118.1\"/>\n</g>\n<!-- I_v -->\n<g id=\"node16\" class=\"node\">\n<title>I_v</title>\n<ellipse fill=\"none\" stroke=\"black\" cx=\"455.45\" cy=\"-162\" rx=\"27\" ry=\"18\"/>\n<text text-anchor=\"middle\" x=\"455.45\" y=\"-158.3\" font-family=\"Times,serif\" font-size=\"14.00\">I_v</text>\n</g>\n<!-- I_v&#45;&gt;beta_2 -->\n<g id=\"edge9\" class=\"edge\">\n<title>I_v&#45;&gt;beta_2</title>\n<path fill=\"none\" stroke=\"black\" d=\"M434.66,-150.41C429.46,-148.05 423.83,-145.74 418.45,-144 340,-118.61 315.65,-130.94 236.45,-108 233.81,-107.24 231.11,-106.38 228.4,-105.47\"/>\n<polygon fill=\"black\" stroke=\"black\" points=\"229.31,-102.08 218.72,-102 226.95,-108.67 229.31,-102.08\"/>\n</g>\n<!-- I_v&#45;&gt;v_s2 -->\n<g id=\"edge10\" class=\"edge\">\n<title>I_v&#45;&gt;v_s2</title>\n<path fill=\"none\" stroke=\"black\" d=\"M455.45,-143.7C455.45,-135.98 455.45,-126.71 455.45,-118.11\"/>\n<polygon fill=\"black\" stroke=\"black\" points=\"458.95,-118.1 455.45,-108.1 451.95,-118.1 458.95,-118.1\"/>\n</g>\n<!-- I_v&#45;&gt;gamma_2 -->\n<g id=\"edge11\" class=\"edge\">\n<title>I_v&#45;&gt;gamma_2</title>\n<path fill=\"none\" stroke=\"black\" d=\"M472.56,-147.83C485.51,-137.88 503.56,-123.99 518.58,-112.44\"/>\n<polygon fill=\"black\" stroke=\"black\" points=\"520.76,-115.17 526.56,-106.3 516.5,-109.62 520.76,-115.17\"/>\n</g>\n<!-- R -->\n<g id=\"node17\" class=\"node\">\n<title>R</title>\n<ellipse fill=\"none\" stroke=\"black\" cx=\"527.45\" cy=\"-162\" rx=\"27\" ry=\"18\"/>\n<text text-anchor=\"middle\" x=\"527.45\" y=\"-158.3\" font-family=\"Times,serif\" font-size=\"14.00\">R</text>\n</g>\n</g>\n</svg>\n",
      "text/plain": [
       "<graphviz.graphs.Digraph at 0x13ebd5810>"
      ]
     },
     "metadata": {},
     "output_type": "display_data"
    }
   ],
   "source": [
    "sviir = {\"Qin\":[{\"variable\":\"S\"},\n",
    "        {\"variable\":\"V\"},\n",
    "        {\"variable\":\"I\"},\n",
    "        {\"variable\":\"I_v\"},\n",
    "        {\"variable\":\"R\"}],\n",
    " \"Box\":[{\"parameter\":\"beta_1\"},\n",
    "        {\"parameter\":\"beta_2\"},\n",
    "        {\"parameter\":\"v_r\"},\n",
    "        {\"parameter\":\"v_s1\"},\n",
    "        {\"parameter\":\"v_s2\"},\n",
    "        {\"parameter\":\"gamma_1\"},\n",
    "        {\"parameter\":\"gamma_2\"}],\n",
    " \"Qout\":[{\"tanvar\":\"S'\"},\n",
    "         {\"tanvar\":\"V'\"},\n",
    "         {\"tanvar\":\"I'\"},\n",
    "         {\"tanvar\":\"I_v'\"},\n",
    "         {\"tanvar\":\"R'\"}],\n",
    " \"Win\":[{\"arg\":1,\"call\":1},\n",
    "        {\"arg\":1,\"call\":2},\n",
    "        {\"arg\":1,\"call\":3},\n",
    "        {\"arg\":2,\"call\":4},\n",
    "        {\"arg\":2,\"call\":5},\n",
    "        {\"arg\":3,\"call\":1},\n",
    "        {\"arg\":3,\"call\":4},\n",
    "        {\"arg\":3,\"call\":6},\n",
    "        {\"arg\":4,\"call\":2},\n",
    "        {\"arg\":4,\"call\":5},\n",
    "        {\"arg\":4,\"call\":7}],\n",
    " \"Wa\":[{\"influx\":1,\"infusion\":3},\n",
    "       {\"influx\":2,\"infusion\":3},\n",
    "       {\"influx\":3,\"infusion\":2},\n",
    "       {\"influx\":4,\"infusion\":4},\n",
    "       {\"influx\":5,\"infusion\":4},\n",
    "       {\"influx\":6,\"infusion\":5},\n",
    "       {\"influx\":7,\"infusion\":5}],\n",
    " \"Wn\":[{\"efflux\":1,\"effusion\":1},\n",
    "       {\"efflux\":2,\"effusion\":1},\n",
    "       {\"efflux\":3,\"effusion\":1},\n",
    "       {\"efflux\":4,\"effusion\":2},\n",
    "       {\"efflux\":5,\"effusion\":2},\n",
    "       {\"efflux\":6,\"effusion\":3},\n",
    "       {\"efflux\":7,\"effusion\":4}]}\n",
    "       \n",
    "Bilayer.from_json(sviir).to_dot()"
   ]
  },
  {
   "cell_type": "code",
   "execution_count": null,
   "metadata": {},
   "outputs": [
    {
     "data": {
      "image/svg+xml": "<?xml version=\"1.0\" encoding=\"UTF-8\" standalone=\"no\"?>\n<!DOCTYPE svg PUBLIC \"-//W3C//DTD SVG 1.1//EN\"\n \"http://www.w3.org/Graphics/SVG/1.1/DTD/svg11.dtd\">\n<!-- Generated by graphviz version 2.50.0 (0)\n -->\n<!-- Title: bilayer Pages: 1 -->\n<svg width=\"809pt\" height=\"188pt\"\n viewBox=\"0.00 0.00 809.40 188.00\" xmlns=\"http://www.w3.org/2000/svg\" xmlns:xlink=\"http://www.w3.org/1999/xlink\">\n<g id=\"graph0\" class=\"graph\" transform=\"scale(1 1) rotate(0) translate(4 184)\">\n<title>bilayer</title>\n<polygon fill=\"white\" stroke=\"transparent\" points=\"-4,4 -4,-184 805.4,-184 805.4,4 -4,4\"/>\n<!-- S&#39; -->\n<g id=\"node1\" class=\"node\">\n<title>S&#39;</title>\n<ellipse fill=\"none\" stroke=\"black\" cx=\"27\" cy=\"-18\" rx=\"27\" ry=\"18\"/>\n<text text-anchor=\"middle\" x=\"27\" y=\"-14.3\" font-family=\"Times,serif\" font-size=\"14.00\">S&#39;</text>\n</g>\n<!-- E&#39; -->\n<g id=\"node2\" class=\"node\">\n<title>E&#39;</title>\n<ellipse fill=\"none\" stroke=\"black\" cx=\"111\" cy=\"-18\" rx=\"27\" ry=\"18\"/>\n<text text-anchor=\"middle\" x=\"111\" y=\"-14.3\" font-family=\"Times,serif\" font-size=\"14.00\">E&#39;</text>\n</g>\n<!-- I_asym&#39; -->\n<g id=\"node3\" class=\"node\">\n<title>I_asym&#39;</title>\n<ellipse fill=\"none\" stroke=\"black\" cx=\"197\" cy=\"-18\" rx=\"38.19\" ry=\"18\"/>\n<text text-anchor=\"middle\" x=\"197\" y=\"-14.3\" font-family=\"Times,serif\" font-size=\"14.00\">I_asym&#39;</text>\n</g>\n<!-- I_mild&#39; -->\n<g id=\"node4\" class=\"node\">\n<title>I_mild&#39;</title>\n<ellipse fill=\"none\" stroke=\"black\" cx=\"312\" cy=\"-18\" rx=\"36.29\" ry=\"18\"/>\n<text text-anchor=\"middle\" x=\"312\" y=\"-14.3\" font-family=\"Times,serif\" font-size=\"14.00\">I_mild&#39;</text>\n</g>\n<!-- I_hosp&#39; -->\n<g id=\"node5\" class=\"node\">\n<title>I_hosp&#39;</title>\n<ellipse fill=\"none\" stroke=\"black\" cx=\"414\" cy=\"-18\" rx=\"36.29\" ry=\"18\"/>\n<text text-anchor=\"middle\" x=\"414\" y=\"-14.3\" font-family=\"Times,serif\" font-size=\"14.00\">I_hosp&#39;</text>\n</g>\n<!-- R&#39; -->\n<g id=\"node6\" class=\"node\">\n<title>R&#39;</title>\n<ellipse fill=\"none\" stroke=\"black\" cx=\"501\" cy=\"-18\" rx=\"27\" ry=\"18\"/>\n<text text-anchor=\"middle\" x=\"501\" y=\"-14.3\" font-family=\"Times,serif\" font-size=\"14.00\">R&#39;</text>\n</g>\n<!-- R_hosp&#39; -->\n<g id=\"node7\" class=\"node\">\n<title>R_hosp&#39;</title>\n<ellipse fill=\"none\" stroke=\"black\" cx=\"682\" cy=\"-18\" rx=\"38.99\" ry=\"18\"/>\n<text text-anchor=\"middle\" x=\"682\" y=\"-14.3\" font-family=\"Times,serif\" font-size=\"14.00\">R_hosp&#39;</text>\n</g>\n<!-- D&#39; -->\n<g id=\"node8\" class=\"node\">\n<title>D&#39;</title>\n<ellipse fill=\"none\" stroke=\"black\" cx=\"766\" cy=\"-18\" rx=\"27\" ry=\"18\"/>\n<text text-anchor=\"middle\" x=\"766\" y=\"-14.3\" font-family=\"Times,serif\" font-size=\"14.00\">D&#39;</text>\n</g>\n<!-- beta -->\n<g id=\"node9\" class=\"node\">\n<title>beta</title>\n<ellipse fill=\"none\" stroke=\"black\" cx=\"27\" cy=\"-90\" rx=\"27\" ry=\"18\"/>\n<text text-anchor=\"middle\" x=\"27\" y=\"-86.3\" font-family=\"Times,serif\" font-size=\"14.00\">beta</text>\n</g>\n<!-- beta&#45;&gt;S&#39; -->\n<g id=\"edge28\" class=\"edge\">\n<title>beta&#45;&gt;S&#39;</title>\n<path fill=\"none\" stroke=\"black\" stroke-dasharray=\"5,2\" d=\"M27,-71.7C27,-63.98 27,-54.71 27,-46.11\"/>\n<polygon fill=\"black\" stroke=\"black\" points=\"30.5,-46.1 27,-36.1 23.5,-46.1 30.5,-46.1\"/>\n</g>\n<!-- beta&#45;&gt;E&#39; -->\n<g id=\"edge19\" class=\"edge\">\n<title>beta&#45;&gt;E&#39;</title>\n<path fill=\"none\" stroke=\"black\" d=\"M43.2,-75.5C55.63,-65.14 72.99,-50.67 87.03,-38.97\"/>\n<polygon fill=\"black\" stroke=\"black\" points=\"89.41,-41.55 94.85,-32.46 84.93,-36.17 89.41,-41.55\"/>\n</g>\n<!-- delta_1 -->\n<g id=\"node10\" class=\"node\">\n<title>delta_1</title>\n<ellipse fill=\"none\" stroke=\"black\" cx=\"108\" cy=\"-90\" rx=\"36.29\" ry=\"18\"/>\n<text text-anchor=\"middle\" x=\"108\" y=\"-86.3\" font-family=\"Times,serif\" font-size=\"14.00\">delta_1</text>\n</g>\n<!-- delta_1&#45;&gt;E&#39; -->\n<g id=\"edge29\" class=\"edge\">\n<title>delta_1&#45;&gt;E&#39;</title>\n<path fill=\"none\" stroke=\"black\" stroke-dasharray=\"5,2\" d=\"M108.74,-71.7C109.07,-63.98 109.47,-54.71 109.84,-46.11\"/>\n<polygon fill=\"black\" stroke=\"black\" points=\"113.34,-46.25 110.27,-36.1 106.34,-45.95 113.34,-46.25\"/>\n</g>\n<!-- delta_1&#45;&gt;I_asym&#39; -->\n<g id=\"edge20\" class=\"edge\">\n<title>delta_1&#45;&gt;I_asym&#39;</title>\n<path fill=\"none\" stroke=\"black\" d=\"M126.87,-74.15C139.5,-64.22 156.3,-51.01 170.29,-40.01\"/>\n<polygon fill=\"black\" stroke=\"black\" points=\"172.46,-42.76 178.15,-33.82 168.13,-37.25 172.46,-42.76\"/>\n</g>\n<!-- delta_2 -->\n<g id=\"node11\" class=\"node\">\n<title>delta_2</title>\n<ellipse fill=\"none\" stroke=\"black\" cx=\"199\" cy=\"-90\" rx=\"36.29\" ry=\"18\"/>\n<text text-anchor=\"middle\" x=\"199\" y=\"-86.3\" font-family=\"Times,serif\" font-size=\"14.00\">delta_2</text>\n</g>\n<!-- delta_2&#45;&gt;E&#39; -->\n<g id=\"edge30\" class=\"edge\">\n<title>delta_2&#45;&gt;E&#39;</title>\n<path fill=\"none\" stroke=\"black\" stroke-dasharray=\"5,2\" d=\"M180.34,-74.15C167.35,-63.82 149.89,-49.93 135.74,-38.68\"/>\n<polygon fill=\"black\" stroke=\"black\" points=\"137.86,-35.89 127.85,-32.4 133.5,-41.37 137.86,-35.89\"/>\n</g>\n<!-- delta_2&#45;&gt;I_mild&#39; -->\n<g id=\"edge21\" class=\"edge\">\n<title>delta_2&#45;&gt;I_mild&#39;</title>\n<path fill=\"none\" stroke=\"black\" d=\"M220.79,-75.5C238.06,-64.8 262.4,-49.72 281.6,-37.83\"/>\n<polygon fill=\"black\" stroke=\"black\" points=\"283.62,-40.7 290.28,-32.46 279.94,-34.75 283.62,-40.7\"/>\n</g>\n<!-- delta_3 -->\n<g id=\"node12\" class=\"node\">\n<title>delta_3</title>\n<ellipse fill=\"none\" stroke=\"black\" cx=\"290\" cy=\"-90\" rx=\"36.29\" ry=\"18\"/>\n<text text-anchor=\"middle\" x=\"290\" y=\"-86.3\" font-family=\"Times,serif\" font-size=\"14.00\">delta_3</text>\n</g>\n<!-- delta_3&#45;&gt;E&#39; -->\n<g id=\"edge31\" class=\"edge\">\n<title>delta_3&#45;&gt;E&#39;</title>\n<path fill=\"none\" stroke=\"black\" stroke-dasharray=\"5,2\" d=\"M261.66,-78.46C227.11,-65.58 170.76,-44.45 150,-36 147.46,-34.97 144.83,-33.87 142.2,-32.76\"/>\n<polygon fill=\"black\" stroke=\"black\" points=\"143.35,-29.45 132.78,-28.72 140.59,-35.88 143.35,-29.45\"/>\n</g>\n<!-- delta_3&#45;&gt;I_hosp&#39; -->\n<g id=\"edge22\" class=\"edge\">\n<title>delta_3&#45;&gt;I_hosp&#39;</title>\n<path fill=\"none\" stroke=\"black\" d=\"M313.03,-76C332.4,-65.07 360.29,-49.32 381.86,-37.14\"/>\n<polygon fill=\"black\" stroke=\"black\" points=\"383.68,-40.13 390.67,-32.17 380.24,-34.04 383.68,-40.13\"/>\n</g>\n<!-- gamma_1 -->\n<g id=\"node13\" class=\"node\">\n<title>gamma_1</title>\n<ellipse fill=\"none\" stroke=\"black\" cx=\"391\" cy=\"-90\" rx=\"46.29\" ry=\"18\"/>\n<text text-anchor=\"middle\" x=\"391\" y=\"-86.3\" font-family=\"Times,serif\" font-size=\"14.00\">gamma_1</text>\n</g>\n<!-- gamma_1&#45;&gt;I_asym&#39; -->\n<g id=\"edge32\" class=\"edge\">\n<title>gamma_1&#45;&gt;I_asym&#39;</title>\n<path fill=\"none\" stroke=\"black\" stroke-dasharray=\"5,2\" d=\"M358.09,-77.13C324.4,-64.97 272.02,-46.07 236.2,-33.15\"/>\n<polygon fill=\"black\" stroke=\"black\" points=\"237.16,-29.77 226.57,-29.67 234.79,-36.36 237.16,-29.77\"/>\n</g>\n<!-- gamma_1&#45;&gt;R&#39; -->\n<g id=\"edge23\" class=\"edge\">\n<title>gamma_1&#45;&gt;R&#39;</title>\n<path fill=\"none\" stroke=\"black\" d=\"M414.06,-74.33C431.38,-63.3 455.18,-48.16 473.5,-36.5\"/>\n<polygon fill=\"black\" stroke=\"black\" points=\"475.44,-39.41 482,-31.09 471.68,-33.51 475.44,-39.41\"/>\n</g>\n<!-- gamma_2 -->\n<g id=\"node14\" class=\"node\">\n<title>gamma_2</title>\n<ellipse fill=\"none\" stroke=\"black\" cx=\"501\" cy=\"-90\" rx=\"46.29\" ry=\"18\"/>\n<text text-anchor=\"middle\" x=\"501\" y=\"-86.3\" font-family=\"Times,serif\" font-size=\"14.00\">gamma_2</text>\n</g>\n<!-- gamma_2&#45;&gt;I_mild&#39; -->\n<g id=\"edge33\" class=\"edge\">\n<title>gamma_2&#45;&gt;I_mild&#39;</title>\n<path fill=\"none\" stroke=\"black\" stroke-dasharray=\"5,2\" d=\"M468.51,-76.97C435.66,-64.8 384.9,-46 350.16,-33.13\"/>\n<polygon fill=\"black\" stroke=\"black\" points=\"350.96,-29.7 340.37,-29.51 348.53,-36.26 350.96,-29.7\"/>\n</g>\n<!-- gamma_2&#45;&gt;R&#39; -->\n<g id=\"edge24\" class=\"edge\">\n<title>gamma_2&#45;&gt;R&#39;</title>\n<path fill=\"none\" stroke=\"black\" d=\"M501,-71.7C501,-63.98 501,-54.71 501,-46.11\"/>\n<polygon fill=\"black\" stroke=\"black\" points=\"504.5,-46.1 501,-36.1 497.5,-46.1 504.5,-46.1\"/>\n</g>\n<!-- delta_4 -->\n<g id=\"node15\" class=\"node\">\n<title>delta_4</title>\n<ellipse fill=\"none\" stroke=\"black\" cx=\"602\" cy=\"-90\" rx=\"36.29\" ry=\"18\"/>\n<text text-anchor=\"middle\" x=\"602\" y=\"-86.3\" font-family=\"Times,serif\" font-size=\"14.00\">delta_4</text>\n</g>\n<!-- delta_4&#45;&gt;I_hosp&#39; -->\n<g id=\"edge34\" class=\"edge\">\n<title>delta_4&#45;&gt;I_hosp&#39;</title>\n<path fill=\"none\" stroke=\"black\" stroke-dasharray=\"5,2\" d=\"M573.85,-78.52C541.46,-66.46 488.09,-46.59 452.02,-33.16\"/>\n<polygon fill=\"black\" stroke=\"black\" points=\"452.93,-29.76 442.34,-29.55 450.49,-36.32 452.93,-29.76\"/>\n</g>\n<!-- delta_4&#45;&gt;R_hosp&#39; -->\n<g id=\"edge25\" class=\"edge\">\n<title>delta_4&#45;&gt;R_hosp&#39;</title>\n<path fill=\"none\" stroke=\"black\" d=\"M619.36,-73.81C630.37,-64.18 644.78,-51.56 657.01,-40.86\"/>\n<polygon fill=\"black\" stroke=\"black\" points=\"659.45,-43.38 664.68,-34.16 654.84,-38.11 659.45,-43.38\"/>\n</g>\n<!-- tau -->\n<g id=\"node16\" class=\"node\">\n<title>tau</title>\n<ellipse fill=\"none\" stroke=\"black\" cx=\"683\" cy=\"-90\" rx=\"27\" ry=\"18\"/>\n<text text-anchor=\"middle\" x=\"683\" y=\"-86.3\" font-family=\"Times,serif\" font-size=\"14.00\">tau</text>\n</g>\n<!-- tau&#45;&gt;R&#39; -->\n<g id=\"edge26\" class=\"edge\">\n<title>tau&#45;&gt;R&#39;</title>\n<path fill=\"none\" stroke=\"black\" d=\"M661.83,-78.6C656.99,-76.34 651.85,-74.02 647,-72 608.87,-56.12 564.1,-40.26 534.28,-30.09\"/>\n<polygon fill=\"black\" stroke=\"black\" points=\"535.37,-26.77 524.78,-26.87 533.12,-33.4 535.37,-26.77\"/>\n</g>\n<!-- tau&#45;&gt;R_hosp&#39; -->\n<g id=\"edge35\" class=\"edge\">\n<title>tau&#45;&gt;R_hosp&#39;</title>\n<path fill=\"none\" stroke=\"black\" stroke-dasharray=\"5,2\" d=\"M682.75,-71.7C682.64,-63.98 682.51,-54.71 682.39,-46.11\"/>\n<polygon fill=\"black\" stroke=\"black\" points=\"685.89,-46.05 682.24,-36.1 678.89,-46.15 685.89,-46.05\"/>\n</g>\n<!-- delta_5 -->\n<g id=\"node17\" class=\"node\">\n<title>delta_5</title>\n<ellipse fill=\"none\" stroke=\"black\" cx=\"765\" cy=\"-90\" rx=\"36.29\" ry=\"18\"/>\n<text text-anchor=\"middle\" x=\"765\" y=\"-86.3\" font-family=\"Times,serif\" font-size=\"14.00\">delta_5</text>\n</g>\n<!-- delta_5&#45;&gt;R_hosp&#39; -->\n<g id=\"edge36\" class=\"edge\">\n<title>delta_5&#45;&gt;R_hosp&#39;</title>\n<path fill=\"none\" stroke=\"black\" stroke-dasharray=\"5,2\" d=\"M747.4,-74.15C735.81,-64.38 720.46,-51.43 707.54,-40.54\"/>\n<polygon fill=\"black\" stroke=\"black\" points=\"709.76,-37.84 699.86,-34.07 705.25,-43.19 709.76,-37.84\"/>\n</g>\n<!-- delta_5&#45;&gt;D&#39; -->\n<g id=\"edge27\" class=\"edge\">\n<title>delta_5&#45;&gt;D&#39;</title>\n<path fill=\"none\" stroke=\"black\" d=\"M765.25,-71.7C765.36,-63.98 765.49,-54.71 765.61,-46.11\"/>\n<polygon fill=\"black\" stroke=\"black\" points=\"769.11,-46.15 765.76,-36.1 762.11,-46.05 769.11,-46.15\"/>\n</g>\n<!-- S -->\n<g id=\"node18\" class=\"node\">\n<title>S</title>\n<ellipse fill=\"none\" stroke=\"black\" cx=\"27\" cy=\"-162\" rx=\"27\" ry=\"18\"/>\n<text text-anchor=\"middle\" x=\"27\" y=\"-158.3\" font-family=\"Times,serif\" font-size=\"14.00\">S</text>\n</g>\n<!-- S&#45;&gt;beta -->\n<g id=\"edge1\" class=\"edge\">\n<title>S&#45;&gt;beta</title>\n<path fill=\"none\" stroke=\"black\" d=\"M27,-143.7C27,-135.98 27,-126.71 27,-118.11\"/>\n<polygon fill=\"black\" stroke=\"black\" points=\"30.5,-118.1 27,-108.1 23.5,-118.1 30.5,-118.1\"/>\n</g>\n<!-- E -->\n<g id=\"node19\" class=\"node\">\n<title>E</title>\n<ellipse fill=\"none\" stroke=\"black\" cx=\"111\" cy=\"-162\" rx=\"27\" ry=\"18\"/>\n<text text-anchor=\"middle\" x=\"111\" y=\"-158.3\" font-family=\"Times,serif\" font-size=\"14.00\">E</text>\n</g>\n<!-- E&#45;&gt;beta -->\n<g id=\"edge2\" class=\"edge\">\n<title>E&#45;&gt;beta</title>\n<path fill=\"none\" stroke=\"black\" d=\"M94.8,-147.5C82.37,-137.14 65.01,-122.67 50.97,-110.97\"/>\n<polygon fill=\"black\" stroke=\"black\" points=\"53.07,-108.17 43.15,-104.46 48.59,-113.55 53.07,-108.17\"/>\n</g>\n<!-- E&#45;&gt;delta_1 -->\n<g id=\"edge3\" class=\"edge\">\n<title>E&#45;&gt;delta_1</title>\n<path fill=\"none\" stroke=\"black\" d=\"M110.26,-143.7C109.93,-135.98 109.53,-126.71 109.16,-118.11\"/>\n<polygon fill=\"black\" stroke=\"black\" points=\"112.66,-117.95 108.73,-108.1 105.66,-118.25 112.66,-117.95\"/>\n</g>\n<!-- E&#45;&gt;delta_2 -->\n<g id=\"edge4\" class=\"edge\">\n<title>E&#45;&gt;delta_2</title>\n<path fill=\"none\" stroke=\"black\" d=\"M127.97,-147.5C140.58,-137.47 158.02,-123.6 172.47,-112.11\"/>\n<polygon fill=\"black\" stroke=\"black\" points=\"174.92,-114.63 180.57,-105.66 170.56,-109.15 174.92,-114.63\"/>\n</g>\n<!-- E&#45;&gt;delta_3 -->\n<g id=\"edge5\" class=\"edge\">\n<title>E&#45;&gt;delta_3</title>\n<path fill=\"none\" stroke=\"black\" d=\"M132.94,-151.5C138.79,-149.01 145.12,-146.37 151,-144 185.07,-130.27 224.19,-115.44 252.23,-104.96\"/>\n<polygon fill=\"black\" stroke=\"black\" points=\"253.51,-108.22 261.66,-101.45 251.07,-101.66 253.51,-108.22\"/>\n</g>\n<!-- I_asym -->\n<g id=\"node20\" class=\"node\">\n<title>I_asym</title>\n<ellipse fill=\"none\" stroke=\"black\" cx=\"197\" cy=\"-162\" rx=\"37.09\" ry=\"18\"/>\n<text text-anchor=\"middle\" x=\"197\" y=\"-158.3\" font-family=\"Times,serif\" font-size=\"14.00\">I_asym</text>\n</g>\n<!-- I_asym&#45;&gt;delta_1 -->\n<g id=\"edge6\" class=\"edge\">\n<title>I_asym&#45;&gt;delta_1</title>\n<path fill=\"none\" stroke=\"black\" d=\"M178.13,-146.15C165.41,-136.16 148.47,-122.83 134.42,-111.78\"/>\n<polygon fill=\"black\" stroke=\"black\" points=\"136.57,-109.01 126.54,-105.58 132.24,-114.52 136.57,-109.01\"/>\n</g>\n<!-- I_asym&#45;&gt;gamma_1 -->\n<g id=\"edge7\" class=\"edge\">\n<title>I_asym&#45;&gt;gamma_1</title>\n<path fill=\"none\" stroke=\"black\" d=\"M226.04,-150.52C258.55,-138.79 311.52,-119.68 348.64,-106.29\"/>\n<polygon fill=\"black\" stroke=\"black\" points=\"349.97,-109.53 358.18,-102.84 347.59,-102.94 349.97,-109.53\"/>\n</g>\n<!-- I_mild -->\n<g id=\"node21\" class=\"node\">\n<title>I_mild</title>\n<ellipse fill=\"none\" stroke=\"black\" cx=\"314\" cy=\"-162\" rx=\"34.39\" ry=\"18\"/>\n<text text-anchor=\"middle\" x=\"314\" y=\"-158.3\" font-family=\"Times,serif\" font-size=\"14.00\">I_mild</text>\n</g>\n<!-- I_mild&#45;&gt;delta_2 -->\n<g id=\"edge8\" class=\"edge\">\n<title>I_mild&#45;&gt;delta_2</title>\n<path fill=\"none\" stroke=\"black\" d=\"M292.37,-147.83C274.77,-137.12 249.69,-121.86 229.96,-109.85\"/>\n<polygon fill=\"black\" stroke=\"black\" points=\"231.68,-106.79 221.32,-104.58 228.04,-112.77 231.68,-106.79\"/>\n</g>\n<!-- I_mild&#45;&gt;gamma_2 -->\n<g id=\"edge9\" class=\"edge\">\n<title>I_mild&#45;&gt;gamma_2</title>\n<path fill=\"none\" stroke=\"black\" d=\"M341.19,-150.82C372.12,-139.24 422.98,-120.2 459.01,-106.72\"/>\n<polygon fill=\"black\" stroke=\"black\" points=\"460.61,-109.86 468.75,-103.07 458.16,-103.3 460.61,-109.86\"/>\n</g>\n<!-- I_hosp -->\n<g id=\"node22\" class=\"node\">\n<title>I_hosp</title>\n<ellipse fill=\"none\" stroke=\"black\" cx=\"415\" cy=\"-162\" rx=\"34.39\" ry=\"18\"/>\n<text text-anchor=\"middle\" x=\"415\" y=\"-158.3\" font-family=\"Times,serif\" font-size=\"14.00\">I_hosp</text>\n</g>\n<!-- I_hosp&#45;&gt;delta_3 -->\n<g id=\"edge10\" class=\"edge\">\n<title>I_hosp&#45;&gt;delta_3</title>\n<path fill=\"none\" stroke=\"black\" d=\"M392.36,-148.32C372.79,-137.36 344.26,-121.38 322.29,-109.08\"/>\n<polygon fill=\"black\" stroke=\"black\" points=\"323.75,-105.89 313.32,-104.06 320.33,-112 323.75,-105.89\"/>\n</g>\n<!-- I_hosp&#45;&gt;delta_4 -->\n<g id=\"edge11\" class=\"edge\">\n<title>I_hosp&#45;&gt;delta_4</title>\n<path fill=\"none\" stroke=\"black\" d=\"M442.19,-150.82C474.32,-138.79 527.97,-118.71 564.15,-105.17\"/>\n<polygon fill=\"black\" stroke=\"black\" points=\"565.72,-108.32 573.86,-101.53 563.27,-101.76 565.72,-108.32\"/>\n</g>\n<!-- R -->\n<g id=\"node23\" class=\"node\">\n<title>R</title>\n<ellipse fill=\"none\" stroke=\"black\" cx=\"501\" cy=\"-162\" rx=\"27\" ry=\"18\"/>\n<text text-anchor=\"middle\" x=\"501\" y=\"-158.3\" font-family=\"Times,serif\" font-size=\"14.00\">R</text>\n</g>\n<!-- R&#45;&gt;gamma_1 -->\n<g id=\"edge12\" class=\"edge\">\n<title>R&#45;&gt;gamma_1</title>\n<path fill=\"none\" stroke=\"black\" d=\"M481.84,-148.81C465.58,-138.46 441.92,-123.4 422.82,-111.25\"/>\n<polygon fill=\"black\" stroke=\"black\" points=\"424.45,-108.14 414.14,-105.72 420.69,-114.04 424.45,-108.14\"/>\n</g>\n<!-- R&#45;&gt;gamma_2 -->\n<g id=\"edge13\" class=\"edge\">\n<title>R&#45;&gt;gamma_2</title>\n<path fill=\"none\" stroke=\"black\" d=\"M501,-143.7C501,-135.98 501,-126.71 501,-118.11\"/>\n<polygon fill=\"black\" stroke=\"black\" points=\"504.5,-118.1 501,-108.1 497.5,-118.1 504.5,-118.1\"/>\n</g>\n<!-- R&#45;&gt;tau -->\n<g id=\"edge14\" class=\"edge\">\n<title>R&#45;&gt;tau</title>\n<path fill=\"none\" stroke=\"black\" d=\"M524.78,-153.13C553.89,-143.32 604.56,-125.68 647,-108 648.82,-107.24 650.68,-106.44 652.55,-105.62\"/>\n<polygon fill=\"black\" stroke=\"black\" points=\"654.17,-108.73 661.83,-101.4 651.27,-102.35 654.17,-108.73\"/>\n</g>\n<!-- R_hosp -->\n<g id=\"node24\" class=\"node\">\n<title>R_hosp</title>\n<ellipse fill=\"none\" stroke=\"black\" cx=\"682\" cy=\"-162\" rx=\"37.89\" ry=\"18\"/>\n<text text-anchor=\"middle\" x=\"682\" y=\"-158.3\" font-family=\"Times,serif\" font-size=\"14.00\">R_hosp</text>\n</g>\n<!-- R_hosp&#45;&gt;delta_4 -->\n<g id=\"edge15\" class=\"edge\">\n<title>R_hosp&#45;&gt;delta_4</title>\n<path fill=\"none\" stroke=\"black\" d=\"M664.64,-145.81C653.56,-136.11 639.02,-123.39 626.74,-112.64\"/>\n<polygon fill=\"black\" stroke=\"black\" points=\"628.88,-109.87 619.05,-105.92 624.27,-115.14 628.88,-109.87\"/>\n</g>\n<!-- R_hosp&#45;&gt;tau -->\n<g id=\"edge16\" class=\"edge\">\n<title>R_hosp&#45;&gt;tau</title>\n<path fill=\"none\" stroke=\"black\" d=\"M682.25,-143.7C682.36,-135.98 682.49,-126.71 682.61,-118.11\"/>\n<polygon fill=\"black\" stroke=\"black\" points=\"686.11,-118.15 682.76,-108.1 679.11,-118.05 686.11,-118.15\"/>\n</g>\n<!-- R_hosp&#45;&gt;delta_5 -->\n<g id=\"edge17\" class=\"edge\">\n<title>R_hosp&#45;&gt;delta_5</title>\n<path fill=\"none\" stroke=\"black\" d=\"M700.01,-145.81C711.51,-136.11 726.59,-123.39 739.34,-112.64\"/>\n<polygon fill=\"black\" stroke=\"black\" points=\"741.92,-115.04 747.31,-105.92 737.41,-109.69 741.92,-115.04\"/>\n</g>\n<!-- D -->\n<g id=\"node25\" class=\"node\">\n<title>D</title>\n<ellipse fill=\"none\" stroke=\"black\" cx=\"765\" cy=\"-162\" rx=\"27\" ry=\"18\"/>\n<text text-anchor=\"middle\" x=\"765\" y=\"-158.3\" font-family=\"Times,serif\" font-size=\"14.00\">D</text>\n</g>\n<!-- D&#45;&gt;delta_5 -->\n<g id=\"edge18\" class=\"edge\">\n<title>D&#45;&gt;delta_5</title>\n<path fill=\"none\" stroke=\"black\" d=\"M765,-143.7C765,-135.98 765,-126.71 765,-118.11\"/>\n<polygon fill=\"black\" stroke=\"black\" points=\"768.5,-118.1 765,-108.1 761.5,-118.1 768.5,-118.1\"/>\n</g>\n</g>\n</svg>\n",
      "text/plain": [
       "<graphviz.graphs.Digraph at 0x1035c30d0>"
      ]
     },
     "metadata": {},
     "output_type": "display_data"
    }
   ],
   "source": [
    "bucky = {\"Qin\":[{\"variable\":\"S\"},\n",
    "        {\"variable\":\"E\"},\n",
    "        {\"variable\":\"I_asym\"},\n",
    "        {\"variable\":\"I_mild\"},\n",
    "        {\"variable\":\"I_hosp\"},\n",
    "        {\"variable\":\"R\"},\n",
    "        {\"variable\":\"R_hosp\"},\n",
    "        {\"variable\":\"D\"}],\n",
    " \"Box\":[{\"parameter\":\"beta\"},\n",
    "        {\"parameter\":\"delta_1\"},\n",
    "        {\"parameter\":\"delta_2\"},\n",
    "        {\"parameter\":\"delta_3\"},\n",
    "        {\"parameter\":\"gamma_1\"},\n",
    "        {\"parameter\":\"gamma_2\"},\n",
    "        {\"parameter\":\"delta_4\"},\n",
    "        {\"parameter\":\"tau\"},\n",
    "        {\"parameter\":\"delta_5\"}],\n",
    " \"Qout\":[{\"tanvar\":\"S'\"},\n",
    "         {\"tanvar\":\"E'\"},\n",
    "         {\"tanvar\":\"I_asym'\"},\n",
    "         {\"tanvar\":\"I_mild'\"},\n",
    "         {\"tanvar\":\"I_hosp'\"},\n",
    "         {\"tanvar\":\"R'\"},\n",
    "         {\"tanvar\":\"R_hosp'\"},\n",
    "         {\"tanvar\":\"D'\"}],\n",
    " \"Win\":[{\"arg\":1,\"call\":1},\n",
    "        {\"arg\":2,\"call\":1},\n",
    "        {\"arg\":2,\"call\":2},\n",
    "        {\"arg\":2,\"call\":3},\n",
    "        {\"arg\":2,\"call\":4},\n",
    "        {\"arg\":3,\"call\":2},\n",
    "        {\"arg\":3,\"call\":5},\n",
    "        {\"arg\":4,\"call\":3},\n",
    "        {\"arg\":4,\"call\":6},\n",
    "        {\"arg\":5,\"call\":4},\n",
    "        {\"arg\":5,\"call\":7},\n",
    "        {\"arg\":6,\"call\":5},\n",
    "        {\"arg\":6,\"call\":6},\n",
    "        {\"arg\":6,\"call\":8},\n",
    "        {\"arg\":7,\"call\":7},\n",
    "        {\"arg\":7,\"call\":8},\n",
    "        {\"arg\":7,\"call\":9},\n",
    "        {\"arg\":8,\"call\":9}],\n",
    " \"Wa\":[{\"influx\":1,\"infusion\":2},\n",
    "       {\"influx\":2,\"infusion\":3},\n",
    "       {\"influx\":3,\"infusion\":4},\n",
    "       {\"influx\":4,\"infusion\":5},\n",
    "       {\"influx\":5,\"infusion\":6},\n",
    "       {\"influx\":6,\"infusion\":6},\n",
    "       {\"influx\":7,\"infusion\":7},\n",
    "       {\"influx\":8,\"infusion\":6},\n",
    "       {\"influx\":9,\"infusion\":8}],\n",
    " \"Wn\":[{\"efflux\":1,\"effusion\":1},\n",
    "       {\"efflux\":2,\"effusion\":2},\n",
    "       {\"efflux\":3,\"effusion\":2},\n",
    "       {\"efflux\":4,\"effusion\":2},\n",
    "       {\"efflux\":5,\"effusion\":3},\n",
    "       {\"efflux\":6,\"effusion\":4},\n",
    "       {\"efflux\":7,\"effusion\":5},\n",
    "       {\"efflux\":8,\"effusion\":7},\n",
    "       {\"efflux\":9,\"effusion\":7}]}\n",
    "       \n",
    "Bilayer.from_json(bucky).to_dot()       \n"
   ]
  },
  {
   "cell_type": "code",
   "execution_count": null,
   "metadata": {},
   "outputs": [],
   "source": []
  },
  {
   "cell_type": "code",
   "execution_count": null,
   "metadata": {},
   "outputs": [],
   "source": [
    "# Analysis of results\n",
    "# Intervention 1 result and explanation\n",
    "# Intervention 2 range of parameter and metric computed on range ?\n",
    "# Compute metric over parameter space from points in parameter space"
   ]
  },
  {
   "cell_type": "markdown",
   "metadata": {},
   "source": [
    "# Scneario 2\n",
    "- Inputs:\n",
    "    - Query: Rate of vaccination to keep cases under threshold over period of time\n",
    "    - Result: Compute minimum vacc rate\n",
    "- Parameters:\n",
    "    - Vaccination rate\n",
    "    - Age range (optional)\n",
    "    - Age specific efficacy"
   ]
  },
  {
   "cell_type": "markdown",
   "metadata": {},
   "source": [
    "# Scenario 3\n",
    "- Identify indifference region wrt. parameters.\n",
    "- Outside of indifference region are candidate parameters where one model is better.\n",
    "- Generate two parameter spaces, identify symm diff, and evaluate metric over symm diff uniform grid.  Metric can be the fit to data."
   ]
  },
  {
   "cell_type": "code",
   "execution_count": null,
   "metadata": {},
   "outputs": [],
   "source": [
    "# Notes in this cell\n",
    "\n",
    "# chime_bilayer_src = {\n",
    "#     \"Wa\": [{\"influx\": 1, \"infusion\": 2}, {\"influx\": 2, \"infusion\": 3}],\n",
    "#     \"Win\": [\n",
    "#         {\"arg\": 1, \"call\": 1},\n",
    "#         {\"arg\": 2, \"call\": 1},\n",
    "#         {\"arg\": 2, \"call\": 2},\n",
    "#     ],\n",
    "#     \"Box\": [{\"parameter\": \"beta\"}, {\"parameter\": \"gamma\"}],\n",
    "#     \"Qin\": [{\"variable\": \"S\"}, {\"variable\": \"I\"}, {\"variable\": \"R\"}],\n",
    "#     \"Qout\": [{\"tanvar\": \"S'\"}, {\"tanvar\": \"I'\"}, {\"tanvar\": \"R'\"}],\n",
    "#     \"Wn\": [{\"efflux\": 1, \"effusion\": 1}, {\"efflux\": 2, \"effusion\": 2}],\n",
    "# }\n",
    "\n",
    "# measurements = {\n",
    "#     \"S\" : [{\"variable\": \"I\"}],\n",
    "#     \"O\" : [{\"observable\" : \"H\"}],\n",
    "#     \"D\" : [{\"parameter\": \"hr\"}],\n",
    "#     \"Din\": [{\"variable\": 1, \"parameter\": 1}],\n",
    "#     \"Dout\": [{\"parameter\": 1, \"observable\": 1}]\n",
    "# }\n",
    "\n",
    "# chime_bilayer = Bilayer.from_json(chime_bilayer_src, measurements)\n",
    "\n",
    "\n",
    "# chime_bilayer_src2 = {\n",
    "#     \"Wa\": [{\"influx\": 1, \"infusion\": 2}, {\"influx\": 2, \"infusion\": 3}],\n",
    "#     \"Win\": [\n",
    "#         {\"arg\": 1, \"call\": 1},\n",
    "#         {\"arg\": 2, \"call\": 1},\n",
    "#         {\"arg\": 2, \"call\": 2},\n",
    "#     ],\n",
    "#     \"Box\": [{\"parameter\": \"beta\"}, {\"parameter\": \"gamma\"}],\n",
    "#     \"Qin\": [{\"variable\": \"S\"}, {\"variable\": \"I\"}, {\"variable\": \"R\"}],\n",
    "#     \"Qout\": [{\"tanvar\": \"S'\"}, {\"tanvar\": \"I'\"}, {\"tanvar\": \"R'\"}],\n",
    "#     \"Wn\": [{\"efflux\": 1, \"effusion\": 1}, {\"efflux\": 2, \"effusion\": 2}],\n",
    "# }\n",
    "\n",
    "# measurements2 = {\n",
    "#     \"S\" : [{\"variable\": \"I\"}],\n",
    "#     \"O\" : [{\"observable\" : \"H\"}],\n",
    "#     \"D\" : [{\"parameter\": \"hr\"}],\n",
    "#     \"Din\": [{\"variable\": 1, \"parameter\": 1}],\n",
    "#     \"Dout\": [{\"parameter\": 1, \"observable\": 1}]\n",
    "# }\n",
    "# chime_bilayer2 = Bilayer.from_json(chime_bilayer_src2, measurements2)\n",
    "\n",
    "# fail = Bilayer.from_json({}, {})\n",
    "# HybridAutomaton(\n",
    "#     [Node(chime_bilayer, QueryLE(chime_bilayer, \"I\", 1000)), Node(chime_bilayer2, QueryLE(chime_bilayer, \"I\", 1000)), Node(fail, None)],\n",
    "#     [Jump(chime_bilayer, Guard(QueryLE(chime_bilayer, \"days\", 10)),chime_bilayer2)]\n",
    "#     )\n",
    "\n",
    "# chime_bilayer = Bilayer.from_json(chime_bilayer_src, measurements)\n",
    "# chime_bilayer.to_dot()\n"
   ]
  }
 ],
 "metadata": {
  "kernelspec": {
   "display_name": "Python 3.6.9 ('.docker_venv': venv)",
   "language": "python",
   "name": "python3"
  },
  "language_info": {
   "codemirror_mode": {
    "name": "ipython",
    "version": 3
   },
   "file_extension": ".py",
   "mimetype": "text/x-python",
   "name": "python",
   "nbconvert_exporter": "python",
   "pygments_lexer": "ipython3",
   "version": "3.6.9"
  },
  "orig_nbformat": 4,
  "vscode": {
   "interpreter": {
    "hash": "9dc75540f12627f4d337de302ba22817c846571fb771982f2e8118ce5d7356dd"
   }
  }
 },
 "nbformat": 4,
 "nbformat_minor": 2
}
