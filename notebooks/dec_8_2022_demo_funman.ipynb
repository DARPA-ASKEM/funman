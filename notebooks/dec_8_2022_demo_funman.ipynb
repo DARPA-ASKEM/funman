{
 "cells": [
  {
   "cell_type": "markdown",
   "metadata": {},
   "source": [
    "# Scenario 1\n",
    "- Inputs: Simulator, \n",
    "- Query: Will Intervention keep hospitalizations below 3000?\n",
    "- Intervention 1: Dec 1 - Mar 1, 5% decrease in transmission\n",
    "- Intervention 2: Jan 1 - Mar 1, X% decrease required?\n",
    "\n",
    "# Open Issues\n",
    "1. Infected > Hospitalized, how is Hospitalized defined?\n",
    "    - Assume that H = I * HR, HR = hospitalization rate, maybe synthesize HR\n",
    "2. Initial Conditions?  \n",
    "    - From Data.  \n",
    "\n",
    "# Goals\n",
    "1. Synthesize (X, Start Intervention)\n",
    "2. Synthesize (HR, gamma, End of Intervention)\n",
    "3. Models: CHIME, BUCKY, CHIME SVIIR\n",
    "\n",
    "# Analysis:\n",
    "1. Intervention 1 works (yes/no), Intervention 2 (range of X that works, single variable synthesis)\n",
    "2. Compute a metric: I1: sum of differences with threshold, I2: uniform grid evaluation of sum of differences.\n",
    "3. Additional Parameters: HR, Start of Intervention, \n",
    "4. Sensitivity Analysis: What values of infection rate will the intervention work or not.  \n",
    "\n",
    "# Operations:\n",
    "- evaluate point\n",
    "- project onto subset of dimensions\n",
    "- project after assigning dimensions \n",
    "- Evaluate metric over remaining space"
   ]
  },
  {
   "cell_type": "markdown",
   "metadata": {},
   "source": [
    "# Scneario 2\n",
    "- Inputs:\n",
    "    - Query: Rate of vaccination to keep cases under threshold over period of time\n",
    "    - Result: Compute minimum vacc rate\n",
    "- Parameters:\n",
    "    - Vaccination rate\n",
    "    - Age range (optional)\n",
    "    - Age specific efficacy"
   ]
  },
  {
   "cell_type": "markdown",
   "metadata": {},
   "source": [
    "# Scenario 3\n",
    "- Identify indifference region wrt. parameters.\n",
    "- Outside of indifference region are candidate parameters where one model is better.\n",
    "- Generate two parameter spaces, identify symm diff, and evaluate metric over symm diff uniform grid.  Metric can be the fit to data."
   ]
  }
 ],
 "metadata": {
  "kernelspec": {
   "display_name": "Python 3.10.6 ('.venv': pipenv)",
   "language": "python",
   "name": "python3"
  },
  "language_info": {
   "name": "python",
   "version": "3.10.6"
  },
  "orig_nbformat": 4,
  "vscode": {
   "interpreter": {
    "hash": "b6f79c1f1542acd5e584bd916a89512af8178b24c2322603a3342a8f11c2598e"
   }
  }
 },
 "nbformat": 4,
 "nbformat_minor": 2
}
