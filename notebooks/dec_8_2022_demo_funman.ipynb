{
 "cells": [
  {
   "cell_type": "markdown",
   "metadata": {},
   "source": [
    "# Scenario 1\n",
    "- Inputs: Simulator, \n",
    "- Query: Will Intervention keep hospitalizations below 3000?\n",
    "- Intervention 1: Dec 1 - Mar 1, 5% decrease in transmission\n",
    "- Intervention 2: Jan 1 - Mar 1, X% decrease required?\n",
    "\n",
    "# Open Issues\n",
    "1. Infected > Hospitalized, how is Hospitalized defined?\n",
    "    - Assume that H = I * HR, HR = hospitalization rate, maybe synthesize HR\n",
    "2. Initial Conditions?  \n",
    "    - From Data.  \n",
    "\n",
    "# Goals\n",
    "1. Synthesize (X, Start Intervention)\n",
    "2. Synthesize (HR, gamma, End of Intervention)\n",
    "3. Models: CHIME, BUCKY, CHIME SVIIR\n",
    "\n",
    "# Analysis:\n",
    "1. Intervention 1 works (yes/no), Intervention 2 (range of X that works, single variable synthesis)\n",
    "2. Compute a metric: I1: sum of differences with threshold, I2: uniform grid evaluation of sum of differences.\n",
    "3. Additional Parameters: HR, Start of Intervention, \n",
    "4. Sensitivity Analysis: What values of infection rate will the intervention work or not.  \n",
    "\n",
    "# Operations:\n",
    "- evaluate point\n",
    "- project onto subset of dimensions\n",
    "- project after assigning dimensions \n",
    "- Evaluate metric over remaining space"
   ]
  },
  {
   "cell_type": "code",
   "execution_count": 1,
   "metadata": {},
   "outputs": [],
   "source": [
    "from model2smtlib.bilayer.translate import BilayerEncoder, BilayerEncodingOptions\n",
    "from funman.scenario.consistency import ConsistencyScenario\n",
    "from funman.scenario.parameter_synthesis import ParameterSynthesisScenario\n",
    "from funman import Funman\n",
    "from funman.model import Parameter, QueryLE, QueryTrue\n",
    "from funman.model.bilayer import Bilayer, BilayerMeasurement, BilayerModel\n",
    "from funman_demo.handlers import ResultCacheWriter, RealtimeResultPlotter, NotebookImageRefresher\n",
    "from funman.search_utils import ResultCombinedHandler, SearchConfig\n",
    "from funman.search_episode import DRealSearchEpisode\n",
    "from funman.search import SMTCheck\n",
    "import os\n",
    "import tempfile\n",
    "\n",
    "%load_ext autoreload\n",
    "%autoreload 2"
   ]
  },
  {
   "cell_type": "code",
   "execution_count": 1,
   "metadata": {},
   "outputs": [],
   "source": [
    "from funman_dreal.funman_dreal import DReal\n",
    "from pysmt.shortcuts import get_env, GT, Solver, Symbol\n",
    "from pysmt.logics import QF_NRA\n",
    "from pysmt.exceptions import SolverRedefinitionError\n",
    "from functools import partial\n",
    "\n",
    "\n",
    "%load_ext autoreload\n",
    "%autoreload 2\n",
    "\n",
    "name =  \"dreal\"\n",
    "# path = \"dreal/dreal4\"\n",
    "\n",
    "\n",
    "env = get_env()\n",
    "# env.factory.add_generic_solver(name, path, logics)\n",
    "\n",
    "# Override Factory.add_generic_solver\n",
    "\n",
    "# if name in env.factory._all_solvers:\n",
    "#     raise SolverRedefinitionError(\"Solver %s already defined\" % name)\n",
    "solver = partial(DReal, 'dreal/dreal4', LOGICS=DReal.LOGICS)\n",
    "solver.LOGICS= DReal.LOGICS\n",
    "env.factory._all_solvers[name] = solver\n",
    "env.factory._generic_solvers[name] = ('dreal/dreal4', DReal.LOGICS)\n",
    "env.factory.solver_preference_list.append(name)"
   ]
  },
  {
   "cell_type": "code",
   "execution_count": 10,
   "metadata": {},
   "outputs": [
    {
     "data": {
      "text/plain": [
       "[QF_NRA]"
      ]
     },
     "execution_count": 10,
     "metadata": {},
     "output_type": "execute_result"
    }
   ],
   "source": [
    "solver.LOGICS\n",
    "\n"
   ]
  },
  {
   "cell_type": "code",
   "execution_count": 14,
   "metadata": {},
   "outputs": [
    {
     "name": "stdout",
     "output_type": "stream",
     "text": [
      "Skipped: (set-option :print-success true)\n",
      "Skipped: (set-option :diagnostic-output-channel \"stdout\")\n",
      "Skipped: (set-option :produce-models true)\n",
      "Sent: b'(set-logic QF_NRA)'\n",
      "Sent: b'(declare-fun p () Real)'\n",
      "Sent: b'(declare-fun q () Real)'\n",
      "Sent: b'(assert (< q p))'\n",
      "Sent: b'(check-sat)'\n",
      "Sent: b'(exit)'\n",
      "Stopping dreal container ...\n",
      "Done stopping dreal container.\n"
     ]
    },
    {
     "ename": "KeyboardInterrupt",
     "evalue": "",
     "output_type": "error",
     "traceback": [
      "\u001b[0;31m---------------------------------------------------------------------------\u001b[0m",
      "\u001b[0;31mKeyboardInterrupt\u001b[0m                         Traceback (most recent call last)",
      "Cell \u001b[0;32mIn [14], line 6\u001b[0m\n\u001b[1;32m      4\u001b[0m \u001b[39mwith\u001b[39;00m Solver(name\u001b[39m=\u001b[39m\u001b[39m\"\u001b[39m\u001b[39mdreal\u001b[39m\u001b[39m\"\u001b[39m, logic\u001b[39m=\u001b[39mQF_NRA) \u001b[39mas\u001b[39;00m s:\n\u001b[1;32m      5\u001b[0m     s\u001b[39m.\u001b[39madd_assertion(GT(Symbol(\u001b[39m\"\u001b[39m\u001b[39mp\u001b[39m\u001b[39m\"\u001b[39m, REAL), Symbol(\u001b[39m\"\u001b[39m\u001b[39mq\u001b[39m\u001b[39m\"\u001b[39m, REAL)))\n\u001b[0;32m----> 6\u001b[0m     res \u001b[39m=\u001b[39m s\u001b[39m.\u001b[39msolve()\n\u001b[1;32m      7\u001b[0m res\n",
      "File \u001b[0;32m~/Documents/sift/ASKEM/code/funman/.venv/lib/python3.10/site-packages/pysmt/decorators.py:64\u001b[0m, in \u001b[0;36mclear_pending_pop.<locals>.clear_pending_pop_wrap\u001b[0;34m(self, *args, **kwargs)\u001b[0m\n\u001b[1;32m     62\u001b[0m     \u001b[39mself\u001b[39m\u001b[39m.\u001b[39mpending_pop \u001b[39m=\u001b[39m \u001b[39mFalse\u001b[39;00m\n\u001b[1;32m     63\u001b[0m     \u001b[39mself\u001b[39m\u001b[39m.\u001b[39mpop()\n\u001b[0;32m---> 64\u001b[0m \u001b[39mreturn\u001b[39;00m f(\u001b[39mself\u001b[39;49m, \u001b[39m*\u001b[39;49margs, \u001b[39m*\u001b[39;49m\u001b[39m*\u001b[39;49mkwargs)\n",
      "File \u001b[0;32m~/Documents/sift/ASKEM/code/funman/auxiliary_packages/funman_dreal/src/funman_dreal/funman_dreal.py:204\u001b[0m, in \u001b[0;36mDReal.solve\u001b[0;34m(self, assumptions)\u001b[0m\n\u001b[1;32m    202\u001b[0m \u001b[39massert\u001b[39;00m assumptions \u001b[39mis\u001b[39;00m \u001b[39mNone\u001b[39;00m\n\u001b[1;32m    203\u001b[0m \u001b[39mself\u001b[39m\u001b[39m.\u001b[39m_send_command(SmtLibCommand(smtcmd\u001b[39m.\u001b[39mCHECK_SAT, []))\n\u001b[0;32m--> 204\u001b[0m ans \u001b[39m=\u001b[39m \u001b[39mself\u001b[39;49m\u001b[39m.\u001b[39;49m_get_answer()\n\u001b[1;32m    205\u001b[0m \u001b[39mif\u001b[39;00m ans \u001b[39m==\u001b[39m \u001b[39m\"\u001b[39m\u001b[39msat\u001b[39m\u001b[39m\"\u001b[39m \u001b[39mor\u001b[39;00m ans \u001b[39m==\u001b[39m \u001b[39m\"\u001b[39m\u001b[39msuccess\u001b[39m\u001b[39m\"\u001b[39m \u001b[39mor\u001b[39;00m ans \u001b[39m==\u001b[39m \u001b[39m\"\u001b[39m\u001b[39mdelta-sat\u001b[39m\u001b[39m\"\u001b[39m:\n\u001b[1;32m    206\u001b[0m     \u001b[39mreturn\u001b[39;00m \u001b[39mTrue\u001b[39;00m\n",
      "File \u001b[0;32m~/Documents/sift/ASKEM/code/funman/auxiliary_packages/funman_dreal/src/funman_dreal/funman_dreal.py:169\u001b[0m, in \u001b[0;36mDReal._get_answer\u001b[0;34m(self)\u001b[0m\n\u001b[1;32m    167\u001b[0m \u001b[39m\"\"\"Reads a line from socket.\"\"\"\u001b[39;00m\n\u001b[1;32m    168\u001b[0m \u001b[39mif\u001b[39;00m \u001b[39mself\u001b[39m\u001b[39m.\u001b[39mwait \u001b[39m>\u001b[39m \u001b[39m0\u001b[39m:\n\u001b[0;32m--> 169\u001b[0m     s \u001b[39m=\u001b[39m \u001b[39mself\u001b[39;49m\u001b[39m.\u001b[39;49mclient\u001b[39m.\u001b[39;49mattach_socket(\n\u001b[1;32m    170\u001b[0m         \u001b[39mself\u001b[39;49m\u001b[39m.\u001b[39;49mcontainer,\n\u001b[1;32m    171\u001b[0m         params\u001b[39m=\u001b[39;49m{\u001b[39m\"\u001b[39;49m\u001b[39mstdout\u001b[39;49m\u001b[39m\"\u001b[39;49m: \u001b[39m1\u001b[39;49m, \u001b[39m\"\u001b[39;49m\u001b[39mstream\u001b[39;49m\u001b[39m\"\u001b[39;49m: \u001b[39m1\u001b[39;49m},\n\u001b[1;32m    172\u001b[0m     )\n\u001b[1;32m    173\u001b[0m     s\u001b[39m.\u001b[39m_sock\u001b[39m.\u001b[39msettimeout(\u001b[39mself\u001b[39m\u001b[39m.\u001b[39mwait)\n\u001b[1;32m    174\u001b[0m     \u001b[39mtry\u001b[39;00m:\n",
      "File \u001b[0;32m/opt/homebrew/Caskroom/miniforge/base/lib/python3.10/site-packages/docker/utils/decorators.py:19\u001b[0m, in \u001b[0;36mcheck_resource.<locals>.decorator.<locals>.wrapped\u001b[0;34m(self, resource_id, *args, **kwargs)\u001b[0m\n\u001b[1;32m     15\u001b[0m \u001b[39mif\u001b[39;00m \u001b[39mnot\u001b[39;00m resource_id:\n\u001b[1;32m     16\u001b[0m     \u001b[39mraise\u001b[39;00m errors\u001b[39m.\u001b[39mNullResource(\n\u001b[1;32m     17\u001b[0m         \u001b[39m'\u001b[39m\u001b[39mResource ID was not provided\u001b[39m\u001b[39m'\u001b[39m\n\u001b[1;32m     18\u001b[0m     )\n\u001b[0;32m---> 19\u001b[0m \u001b[39mreturn\u001b[39;00m f(\u001b[39mself\u001b[39;49m, resource_id, \u001b[39m*\u001b[39;49margs, \u001b[39m*\u001b[39;49m\u001b[39m*\u001b[39;49mkwargs)\n",
      "File \u001b[0;32m/opt/homebrew/Caskroom/miniforge/base/lib/python3.10/site-packages/docker/api/container.py:107\u001b[0m, in \u001b[0;36mContainerApiMixin.attach_socket\u001b[0;34m(self, container, params, ws)\u001b[0m\n\u001b[1;32m    100\u001b[0m headers \u001b[39m=\u001b[39m {\n\u001b[1;32m    101\u001b[0m     \u001b[39m'\u001b[39m\u001b[39mConnection\u001b[39m\u001b[39m'\u001b[39m: \u001b[39m'\u001b[39m\u001b[39mUpgrade\u001b[39m\u001b[39m'\u001b[39m,\n\u001b[1;32m    102\u001b[0m     \u001b[39m'\u001b[39m\u001b[39mUpgrade\u001b[39m\u001b[39m'\u001b[39m: \u001b[39m'\u001b[39m\u001b[39mtcp\u001b[39m\u001b[39m'\u001b[39m\n\u001b[1;32m    103\u001b[0m }\n\u001b[1;32m    105\u001b[0m u \u001b[39m=\u001b[39m \u001b[39mself\u001b[39m\u001b[39m.\u001b[39m_url(\u001b[39m\"\u001b[39m\u001b[39m/containers/\u001b[39m\u001b[39m{0}\u001b[39;00m\u001b[39m/attach\u001b[39m\u001b[39m\"\u001b[39m, container)\n\u001b[1;32m    106\u001b[0m \u001b[39mreturn\u001b[39;00m \u001b[39mself\u001b[39m\u001b[39m.\u001b[39m_get_raw_response_socket(\n\u001b[0;32m--> 107\u001b[0m     \u001b[39mself\u001b[39;49m\u001b[39m.\u001b[39;49mpost(\n\u001b[1;32m    108\u001b[0m         u, \u001b[39mNone\u001b[39;49;00m, params\u001b[39m=\u001b[39;49m\u001b[39mself\u001b[39;49m\u001b[39m.\u001b[39;49m_attach_params(params), stream\u001b[39m=\u001b[39;49m\u001b[39mTrue\u001b[39;49;00m,\n\u001b[1;32m    109\u001b[0m         headers\u001b[39m=\u001b[39;49mheaders\n\u001b[1;32m    110\u001b[0m     )\n\u001b[1;32m    111\u001b[0m )\n",
      "File \u001b[0;32m/opt/homebrew/Caskroom/miniforge/base/lib/python3.10/site-packages/requests/sessions.py:635\u001b[0m, in \u001b[0;36mSession.post\u001b[0;34m(self, url, data, json, **kwargs)\u001b[0m\n\u001b[1;32m    624\u001b[0m \u001b[39mdef\u001b[39;00m \u001b[39mpost\u001b[39m(\u001b[39mself\u001b[39m, url, data\u001b[39m=\u001b[39m\u001b[39mNone\u001b[39;00m, json\u001b[39m=\u001b[39m\u001b[39mNone\u001b[39;00m, \u001b[39m*\u001b[39m\u001b[39m*\u001b[39mkwargs):\n\u001b[1;32m    625\u001b[0m     \u001b[39mr\u001b[39m\u001b[39m\"\"\"Sends a POST request. Returns :class:`Response` object.\u001b[39;00m\n\u001b[1;32m    626\u001b[0m \n\u001b[1;32m    627\u001b[0m \u001b[39m    :param url: URL for the new :class:`Request` object.\u001b[39;00m\n\u001b[0;32m   (...)\u001b[0m\n\u001b[1;32m    632\u001b[0m \u001b[39m    :rtype: requests.Response\u001b[39;00m\n\u001b[1;32m    633\u001b[0m \u001b[39m    \"\"\"\u001b[39;00m\n\u001b[0;32m--> 635\u001b[0m     \u001b[39mreturn\u001b[39;00m \u001b[39mself\u001b[39;49m\u001b[39m.\u001b[39;49mrequest(\u001b[39m\"\u001b[39;49m\u001b[39mPOST\u001b[39;49m\u001b[39m\"\u001b[39;49m, url, data\u001b[39m=\u001b[39;49mdata, json\u001b[39m=\u001b[39;49mjson, \u001b[39m*\u001b[39;49m\u001b[39m*\u001b[39;49mkwargs)\n",
      "File \u001b[0;32m/opt/homebrew/Caskroom/miniforge/base/lib/python3.10/site-packages/requests/sessions.py:587\u001b[0m, in \u001b[0;36mSession.request\u001b[0;34m(self, method, url, params, data, headers, cookies, files, auth, timeout, allow_redirects, proxies, hooks, stream, verify, cert, json)\u001b[0m\n\u001b[1;32m    582\u001b[0m send_kwargs \u001b[39m=\u001b[39m {\n\u001b[1;32m    583\u001b[0m     \u001b[39m\"\u001b[39m\u001b[39mtimeout\u001b[39m\u001b[39m\"\u001b[39m: timeout,\n\u001b[1;32m    584\u001b[0m     \u001b[39m\"\u001b[39m\u001b[39mallow_redirects\u001b[39m\u001b[39m\"\u001b[39m: allow_redirects,\n\u001b[1;32m    585\u001b[0m }\n\u001b[1;32m    586\u001b[0m send_kwargs\u001b[39m.\u001b[39mupdate(settings)\n\u001b[0;32m--> 587\u001b[0m resp \u001b[39m=\u001b[39m \u001b[39mself\u001b[39;49m\u001b[39m.\u001b[39;49msend(prep, \u001b[39m*\u001b[39;49m\u001b[39m*\u001b[39;49msend_kwargs)\n\u001b[1;32m    589\u001b[0m \u001b[39mreturn\u001b[39;00m resp\n",
      "File \u001b[0;32m/opt/homebrew/Caskroom/miniforge/base/lib/python3.10/site-packages/requests/sessions.py:701\u001b[0m, in \u001b[0;36mSession.send\u001b[0;34m(self, request, **kwargs)\u001b[0m\n\u001b[1;32m    698\u001b[0m start \u001b[39m=\u001b[39m preferred_clock()\n\u001b[1;32m    700\u001b[0m \u001b[39m# Send the request\u001b[39;00m\n\u001b[0;32m--> 701\u001b[0m r \u001b[39m=\u001b[39m adapter\u001b[39m.\u001b[39;49msend(request, \u001b[39m*\u001b[39;49m\u001b[39m*\u001b[39;49mkwargs)\n\u001b[1;32m    703\u001b[0m \u001b[39m# Total elapsed time of the request (approximately)\u001b[39;00m\n\u001b[1;32m    704\u001b[0m elapsed \u001b[39m=\u001b[39m preferred_clock() \u001b[39m-\u001b[39m start\n",
      "File \u001b[0;32m/opt/homebrew/Caskroom/miniforge/base/lib/python3.10/site-packages/requests/adapters.py:489\u001b[0m, in \u001b[0;36mHTTPAdapter.send\u001b[0;34m(self, request, stream, timeout, verify, cert, proxies)\u001b[0m\n\u001b[1;32m    487\u001b[0m \u001b[39mtry\u001b[39;00m:\n\u001b[1;32m    488\u001b[0m     \u001b[39mif\u001b[39;00m \u001b[39mnot\u001b[39;00m chunked:\n\u001b[0;32m--> 489\u001b[0m         resp \u001b[39m=\u001b[39m conn\u001b[39m.\u001b[39;49murlopen(\n\u001b[1;32m    490\u001b[0m             method\u001b[39m=\u001b[39;49mrequest\u001b[39m.\u001b[39;49mmethod,\n\u001b[1;32m    491\u001b[0m             url\u001b[39m=\u001b[39;49murl,\n\u001b[1;32m    492\u001b[0m             body\u001b[39m=\u001b[39;49mrequest\u001b[39m.\u001b[39;49mbody,\n\u001b[1;32m    493\u001b[0m             headers\u001b[39m=\u001b[39;49mrequest\u001b[39m.\u001b[39;49mheaders,\n\u001b[1;32m    494\u001b[0m             redirect\u001b[39m=\u001b[39;49m\u001b[39mFalse\u001b[39;49;00m,\n\u001b[1;32m    495\u001b[0m             assert_same_host\u001b[39m=\u001b[39;49m\u001b[39mFalse\u001b[39;49;00m,\n\u001b[1;32m    496\u001b[0m             preload_content\u001b[39m=\u001b[39;49m\u001b[39mFalse\u001b[39;49;00m,\n\u001b[1;32m    497\u001b[0m             decode_content\u001b[39m=\u001b[39;49m\u001b[39mFalse\u001b[39;49;00m,\n\u001b[1;32m    498\u001b[0m             retries\u001b[39m=\u001b[39;49m\u001b[39mself\u001b[39;49m\u001b[39m.\u001b[39;49mmax_retries,\n\u001b[1;32m    499\u001b[0m             timeout\u001b[39m=\u001b[39;49mtimeout,\n\u001b[1;32m    500\u001b[0m         )\n\u001b[1;32m    502\u001b[0m     \u001b[39m# Send the request.\u001b[39;00m\n\u001b[1;32m    503\u001b[0m     \u001b[39melse\u001b[39;00m:\n\u001b[1;32m    504\u001b[0m         \u001b[39mif\u001b[39;00m \u001b[39mhasattr\u001b[39m(conn, \u001b[39m\"\u001b[39m\u001b[39mproxy_pool\u001b[39m\u001b[39m\"\u001b[39m):\n",
      "File \u001b[0;32m/opt/homebrew/Caskroom/miniforge/base/lib/python3.10/site-packages/urllib3/connectionpool.py:703\u001b[0m, in \u001b[0;36mHTTPConnectionPool.urlopen\u001b[0;34m(self, method, url, body, headers, retries, redirect, assert_same_host, timeout, pool_timeout, release_conn, chunked, body_pos, **response_kw)\u001b[0m\n\u001b[1;32m    700\u001b[0m     \u001b[39mself\u001b[39m\u001b[39m.\u001b[39m_prepare_proxy(conn)\n\u001b[1;32m    702\u001b[0m \u001b[39m# Make the request on the httplib connection object.\u001b[39;00m\n\u001b[0;32m--> 703\u001b[0m httplib_response \u001b[39m=\u001b[39m \u001b[39mself\u001b[39;49m\u001b[39m.\u001b[39;49m_make_request(\n\u001b[1;32m    704\u001b[0m     conn,\n\u001b[1;32m    705\u001b[0m     method,\n\u001b[1;32m    706\u001b[0m     url,\n\u001b[1;32m    707\u001b[0m     timeout\u001b[39m=\u001b[39;49mtimeout_obj,\n\u001b[1;32m    708\u001b[0m     body\u001b[39m=\u001b[39;49mbody,\n\u001b[1;32m    709\u001b[0m     headers\u001b[39m=\u001b[39;49mheaders,\n\u001b[1;32m    710\u001b[0m     chunked\u001b[39m=\u001b[39;49mchunked,\n\u001b[1;32m    711\u001b[0m )\n\u001b[1;32m    713\u001b[0m \u001b[39m# If we're going to release the connection in ``finally:``, then\u001b[39;00m\n\u001b[1;32m    714\u001b[0m \u001b[39m# the response doesn't need to know about the connection. Otherwise\u001b[39;00m\n\u001b[1;32m    715\u001b[0m \u001b[39m# it will also try to release it and we'll have a double-release\u001b[39;00m\n\u001b[1;32m    716\u001b[0m \u001b[39m# mess.\u001b[39;00m\n\u001b[1;32m    717\u001b[0m response_conn \u001b[39m=\u001b[39m conn \u001b[39mif\u001b[39;00m \u001b[39mnot\u001b[39;00m release_conn \u001b[39melse\u001b[39;00m \u001b[39mNone\u001b[39;00m\n",
      "File \u001b[0;32m/opt/homebrew/Caskroom/miniforge/base/lib/python3.10/site-packages/urllib3/connectionpool.py:398\u001b[0m, in \u001b[0;36mHTTPConnectionPool._make_request\u001b[0;34m(self, conn, method, url, timeout, chunked, **httplib_request_kw)\u001b[0m\n\u001b[1;32m    396\u001b[0m         conn\u001b[39m.\u001b[39mrequest_chunked(method, url, \u001b[39m*\u001b[39m\u001b[39m*\u001b[39mhttplib_request_kw)\n\u001b[1;32m    397\u001b[0m     \u001b[39melse\u001b[39;00m:\n\u001b[0;32m--> 398\u001b[0m         conn\u001b[39m.\u001b[39;49mrequest(method, url, \u001b[39m*\u001b[39;49m\u001b[39m*\u001b[39;49mhttplib_request_kw)\n\u001b[1;32m    400\u001b[0m \u001b[39m# We are swallowing BrokenPipeError (errno.EPIPE) since the server is\u001b[39;00m\n\u001b[1;32m    401\u001b[0m \u001b[39m# legitimately able to close the connection after sending a valid response.\u001b[39;00m\n\u001b[1;32m    402\u001b[0m \u001b[39m# With this behaviour, the received response is still readable.\u001b[39;00m\n\u001b[1;32m    403\u001b[0m \u001b[39mexcept\u001b[39;00m \u001b[39mBrokenPipeError\u001b[39;00m:\n\u001b[1;32m    404\u001b[0m     \u001b[39m# Python 3\u001b[39;00m\n",
      "File \u001b[0;32m/opt/homebrew/Caskroom/miniforge/base/lib/python3.10/http/client.py:1282\u001b[0m, in \u001b[0;36mHTTPConnection.request\u001b[0;34m(self, method, url, body, headers, encode_chunked)\u001b[0m\n\u001b[1;32m   1279\u001b[0m \u001b[39mdef\u001b[39;00m \u001b[39mrequest\u001b[39m(\u001b[39mself\u001b[39m, method, url, body\u001b[39m=\u001b[39m\u001b[39mNone\u001b[39;00m, headers\u001b[39m=\u001b[39m{}, \u001b[39m*\u001b[39m,\n\u001b[1;32m   1280\u001b[0m             encode_chunked\u001b[39m=\u001b[39m\u001b[39mFalse\u001b[39;00m):\n\u001b[1;32m   1281\u001b[0m     \u001b[39m\"\"\"Send a complete request to the server.\"\"\"\u001b[39;00m\n\u001b[0;32m-> 1282\u001b[0m     \u001b[39mself\u001b[39;49m\u001b[39m.\u001b[39;49m_send_request(method, url, body, headers, encode_chunked)\n",
      "File \u001b[0;32m/opt/homebrew/Caskroom/miniforge/base/lib/python3.10/http/client.py:1328\u001b[0m, in \u001b[0;36mHTTPConnection._send_request\u001b[0;34m(self, method, url, body, headers, encode_chunked)\u001b[0m\n\u001b[1;32m   1324\u001b[0m \u001b[39mif\u001b[39;00m \u001b[39misinstance\u001b[39m(body, \u001b[39mstr\u001b[39m):\n\u001b[1;32m   1325\u001b[0m     \u001b[39m# RFC 2616 Section 3.7.1 says that text default has a\u001b[39;00m\n\u001b[1;32m   1326\u001b[0m     \u001b[39m# default charset of iso-8859-1.\u001b[39;00m\n\u001b[1;32m   1327\u001b[0m     body \u001b[39m=\u001b[39m _encode(body, \u001b[39m'\u001b[39m\u001b[39mbody\u001b[39m\u001b[39m'\u001b[39m)\n\u001b[0;32m-> 1328\u001b[0m \u001b[39mself\u001b[39;49m\u001b[39m.\u001b[39;49mendheaders(body, encode_chunked\u001b[39m=\u001b[39;49mencode_chunked)\n",
      "File \u001b[0;32m/opt/homebrew/Caskroom/miniforge/base/lib/python3.10/http/client.py:1277\u001b[0m, in \u001b[0;36mHTTPConnection.endheaders\u001b[0;34m(self, message_body, encode_chunked)\u001b[0m\n\u001b[1;32m   1275\u001b[0m \u001b[39melse\u001b[39;00m:\n\u001b[1;32m   1276\u001b[0m     \u001b[39mraise\u001b[39;00m CannotSendHeader()\n\u001b[0;32m-> 1277\u001b[0m \u001b[39mself\u001b[39;49m\u001b[39m.\u001b[39;49m_send_output(message_body, encode_chunked\u001b[39m=\u001b[39;49mencode_chunked)\n",
      "File \u001b[0;32m/opt/homebrew/Caskroom/miniforge/base/lib/python3.10/http/client.py:1037\u001b[0m, in \u001b[0;36mHTTPConnection._send_output\u001b[0;34m(self, message_body, encode_chunked)\u001b[0m\n\u001b[1;32m   1035\u001b[0m msg \u001b[39m=\u001b[39m \u001b[39mb\u001b[39m\u001b[39m\"\u001b[39m\u001b[39m\\r\u001b[39;00m\u001b[39m\\n\u001b[39;00m\u001b[39m\"\u001b[39m\u001b[39m.\u001b[39mjoin(\u001b[39mself\u001b[39m\u001b[39m.\u001b[39m_buffer)\n\u001b[1;32m   1036\u001b[0m \u001b[39mdel\u001b[39;00m \u001b[39mself\u001b[39m\u001b[39m.\u001b[39m_buffer[:]\n\u001b[0;32m-> 1037\u001b[0m \u001b[39mself\u001b[39;49m\u001b[39m.\u001b[39;49msend(msg)\n\u001b[1;32m   1039\u001b[0m \u001b[39mif\u001b[39;00m message_body \u001b[39mis\u001b[39;00m \u001b[39mnot\u001b[39;00m \u001b[39mNone\u001b[39;00m:\n\u001b[1;32m   1040\u001b[0m \n\u001b[1;32m   1041\u001b[0m     \u001b[39m# create a consistent interface to message_body\u001b[39;00m\n\u001b[1;32m   1042\u001b[0m     \u001b[39mif\u001b[39;00m \u001b[39mhasattr\u001b[39m(message_body, \u001b[39m'\u001b[39m\u001b[39mread\u001b[39m\u001b[39m'\u001b[39m):\n\u001b[1;32m   1043\u001b[0m         \u001b[39m# Let file-like take precedence over byte-like.  This\u001b[39;00m\n\u001b[1;32m   1044\u001b[0m         \u001b[39m# is needed to allow the current position of mmap'ed\u001b[39;00m\n\u001b[1;32m   1045\u001b[0m         \u001b[39m# files to be taken into account.\u001b[39;00m\n",
      "File \u001b[0;32m/opt/homebrew/Caskroom/miniforge/base/lib/python3.10/http/client.py:975\u001b[0m, in \u001b[0;36mHTTPConnection.send\u001b[0;34m(self, data)\u001b[0m\n\u001b[1;32m    973\u001b[0m \u001b[39mif\u001b[39;00m \u001b[39mself\u001b[39m\u001b[39m.\u001b[39msock \u001b[39mis\u001b[39;00m \u001b[39mNone\u001b[39;00m:\n\u001b[1;32m    974\u001b[0m     \u001b[39mif\u001b[39;00m \u001b[39mself\u001b[39m\u001b[39m.\u001b[39mauto_open:\n\u001b[0;32m--> 975\u001b[0m         \u001b[39mself\u001b[39;49m\u001b[39m.\u001b[39;49mconnect()\n\u001b[1;32m    976\u001b[0m     \u001b[39melse\u001b[39;00m:\n\u001b[1;32m    977\u001b[0m         \u001b[39mraise\u001b[39;00m NotConnected()\n",
      "File \u001b[0;32m/opt/homebrew/Caskroom/miniforge/base/lib/python3.10/site-packages/docker/transport/unixconn.py:30\u001b[0m, in \u001b[0;36mUnixHTTPConnection.connect\u001b[0;34m(self)\u001b[0m\n\u001b[1;32m     28\u001b[0m sock \u001b[39m=\u001b[39m socket\u001b[39m.\u001b[39msocket(socket\u001b[39m.\u001b[39mAF_UNIX, socket\u001b[39m.\u001b[39mSOCK_STREAM)\n\u001b[1;32m     29\u001b[0m sock\u001b[39m.\u001b[39msettimeout(\u001b[39mself\u001b[39m\u001b[39m.\u001b[39mtimeout)\n\u001b[0;32m---> 30\u001b[0m sock\u001b[39m.\u001b[39;49mconnect(\u001b[39mself\u001b[39;49m\u001b[39m.\u001b[39;49munix_socket)\n\u001b[1;32m     31\u001b[0m \u001b[39mself\u001b[39m\u001b[39m.\u001b[39msock \u001b[39m=\u001b[39m sock\n",
      "\u001b[0;31mKeyboardInterrupt\u001b[0m: "
     ]
    }
   ],
   "source": [
    "from pysmt.typing import REAL\n",
    "from pysmt.shortcuts import GT\n",
    "\n",
    "with Solver(name=\"dreal\", logic=QF_NRA) as s:\n",
    "    s.add_assertion(GT(Symbol(\"p\", REAL), Symbol(\"q\", REAL)))\n",
    "    res = s.solve()\n",
    "res"
   ]
  },
  {
   "cell_type": "code",
   "execution_count": 9,
   "metadata": {},
   "outputs": [
    {
     "data": {
      "text/plain": [
       "{'z3': pysmt.solvers.z3.Z3Solver}"
      ]
     },
     "execution_count": 9,
     "metadata": {},
     "output_type": "execute_result"
    }
   ],
   "source": [
    "env.factory._all_solvers\n"
   ]
  },
  {
   "cell_type": "code",
   "execution_count": 7,
   "metadata": {},
   "outputs": [
    {
     "data": {
      "image/svg+xml": "<?xml version=\"1.0\" encoding=\"UTF-8\" standalone=\"no\"?>\n<!DOCTYPE svg PUBLIC \"-//W3C//DTD SVG 1.1//EN\"\n \"http://www.w3.org/Graphics/SVG/1.1/DTD/svg11.dtd\">\n<!-- Generated by graphviz version 2.50.0 (0)\n -->\n<!-- Title: bilayer Pages: 1 -->\n<svg width=\"241pt\" height=\"188pt\"\n viewBox=\"0.00 0.00 241.00 188.00\" xmlns=\"http://www.w3.org/2000/svg\" xmlns:xlink=\"http://www.w3.org/1999/xlink\">\n<g id=\"graph0\" class=\"graph\" transform=\"scale(1 1) rotate(0) translate(4 184)\">\n<title>bilayer</title>\n<polygon fill=\"white\" stroke=\"transparent\" points=\"-4,4 -4,-184 237,-184 237,4 -4,4\"/>\n<!-- S&#39; -->\n<g id=\"node1\" class=\"node\">\n<title>S&#39;</title>\n<ellipse fill=\"none\" stroke=\"black\" cx=\"27\" cy=\"-18\" rx=\"27\" ry=\"18\"/>\n<text text-anchor=\"middle\" x=\"27\" y=\"-14.3\" font-family=\"Times,serif\" font-size=\"14.00\">S&#39;</text>\n</g>\n<!-- I&#39; -->\n<g id=\"node2\" class=\"node\">\n<title>I&#39;</title>\n<ellipse fill=\"none\" stroke=\"black\" cx=\"99\" cy=\"-18\" rx=\"27\" ry=\"18\"/>\n<text text-anchor=\"middle\" x=\"99\" y=\"-14.3\" font-family=\"Times,serif\" font-size=\"14.00\">I&#39;</text>\n</g>\n<!-- R&#39; -->\n<g id=\"node3\" class=\"node\">\n<title>R&#39;</title>\n<ellipse fill=\"none\" stroke=\"black\" cx=\"171\" cy=\"-18\" rx=\"27\" ry=\"18\"/>\n<text text-anchor=\"middle\" x=\"171\" y=\"-14.3\" font-family=\"Times,serif\" font-size=\"14.00\">R&#39;</text>\n</g>\n<!-- beta -->\n<g id=\"node4\" class=\"node\">\n<title>beta</title>\n<ellipse fill=\"none\" stroke=\"black\" cx=\"57\" cy=\"-90\" rx=\"27\" ry=\"18\"/>\n<text text-anchor=\"middle\" x=\"57\" y=\"-86.3\" font-family=\"Times,serif\" font-size=\"14.00\">beta</text>\n</g>\n<!-- beta&#45;&gt;S&#39; -->\n<g id=\"edge6\" class=\"edge\">\n<title>beta&#45;&gt;S&#39;</title>\n<path fill=\"none\" stroke=\"black\" stroke-dasharray=\"5,2\" d=\"M49.89,-72.41C46.34,-64.13 41.97,-53.92 38,-44.66\"/>\n<polygon fill=\"black\" stroke=\"black\" points=\"41.21,-43.28 34.06,-35.47 34.78,-46.04 41.21,-43.28\"/>\n</g>\n<!-- beta&#45;&gt;I&#39; -->\n<g id=\"edge4\" class=\"edge\">\n<title>beta&#45;&gt;I&#39;</title>\n<path fill=\"none\" stroke=\"black\" d=\"M66.53,-73.12C71.67,-64.56 78.12,-53.8 83.92,-44.13\"/>\n<polygon fill=\"black\" stroke=\"black\" points=\"87.07,-45.68 89.22,-35.31 81.07,-42.08 87.07,-45.68\"/>\n</g>\n<!-- gamma -->\n<g id=\"node5\" class=\"node\">\n<title>gamma</title>\n<ellipse fill=\"none\" stroke=\"black\" cx=\"140\" cy=\"-90\" rx=\"37.89\" ry=\"18\"/>\n<text text-anchor=\"middle\" x=\"140\" y=\"-86.3\" font-family=\"Times,serif\" font-size=\"14.00\">gamma</text>\n</g>\n<!-- gamma&#45;&gt;I&#39; -->\n<g id=\"edge7\" class=\"edge\">\n<title>gamma&#45;&gt;I&#39;</title>\n<path fill=\"none\" stroke=\"black\" stroke-dasharray=\"5,2\" d=\"M130.28,-72.41C125.26,-63.83 119.03,-53.19 113.45,-43.67\"/>\n<polygon fill=\"black\" stroke=\"black\" points=\"116.44,-41.85 108.36,-34.99 110.4,-45.39 116.44,-41.85\"/>\n</g>\n<!-- gamma&#45;&gt;R&#39; -->\n<g id=\"edge5\" class=\"edge\">\n<title>gamma&#45;&gt;R&#39;</title>\n<path fill=\"none\" stroke=\"black\" d=\"M147.5,-72.05C151.08,-63.97 155.45,-54.12 159.44,-45.11\"/>\n<polygon fill=\"black\" stroke=\"black\" points=\"162.72,-46.35 163.56,-35.79 156.32,-43.52 162.72,-46.35\"/>\n</g>\n<!-- S -->\n<g id=\"node6\" class=\"node\">\n<title>S</title>\n<ellipse fill=\"none\" stroke=\"black\" cx=\"57\" cy=\"-162\" rx=\"27\" ry=\"18\"/>\n<text text-anchor=\"middle\" x=\"57\" y=\"-158.3\" font-family=\"Times,serif\" font-size=\"14.00\">S</text>\n</g>\n<!-- S&#45;&gt;beta -->\n<g id=\"edge1\" class=\"edge\">\n<title>S&#45;&gt;beta</title>\n<path fill=\"none\" stroke=\"black\" d=\"M57,-143.7C57,-135.98 57,-126.71 57,-118.11\"/>\n<polygon fill=\"black\" stroke=\"black\" points=\"60.5,-118.1 57,-108.1 53.5,-118.1 60.5,-118.1\"/>\n</g>\n<!-- I -->\n<g id=\"node7\" class=\"node\">\n<title>I</title>\n<ellipse fill=\"none\" stroke=\"black\" cx=\"134\" cy=\"-162\" rx=\"27\" ry=\"18\"/>\n<text text-anchor=\"middle\" x=\"134\" y=\"-158.3\" font-family=\"Times,serif\" font-size=\"14.00\">I</text>\n</g>\n<!-- I&#45;&gt;beta -->\n<g id=\"edge2\" class=\"edge\">\n<title>I&#45;&gt;beta</title>\n<path fill=\"none\" stroke=\"black\" d=\"M118.42,-146.83C107.39,-136.81 92.41,-123.19 80.01,-111.92\"/>\n<polygon fill=\"black\" stroke=\"black\" points=\"82.05,-109.04 72.3,-104.91 77.34,-114.22 82.05,-109.04\"/>\n</g>\n<!-- I&#45;&gt;gamma -->\n<g id=\"edge3\" class=\"edge\">\n<title>I&#45;&gt;gamma</title>\n<path fill=\"none\" stroke=\"black\" d=\"M135.48,-143.7C136.14,-135.98 136.94,-126.71 137.68,-118.11\"/>\n<polygon fill=\"black\" stroke=\"black\" points=\"141.17,-118.37 138.53,-108.1 134.19,-117.77 141.17,-118.37\"/>\n</g>\n<!-- R -->\n<g id=\"node8\" class=\"node\">\n<title>R</title>\n<ellipse fill=\"none\" stroke=\"black\" cx=\"206\" cy=\"-162\" rx=\"27\" ry=\"18\"/>\n<text text-anchor=\"middle\" x=\"206\" y=\"-158.3\" font-family=\"Times,serif\" font-size=\"14.00\">R</text>\n</g>\n</g>\n</svg>\n",
      "text/plain": [
       "<graphviz.graphs.Digraph at 0x147845c90>"
      ]
     },
     "execution_count": 7,
     "metadata": {},
     "output_type": "execute_result"
    }
   ],
   "source": [
    "# Define the dynamics with a bilayer\n",
    "\n",
    "chime_bilayer_src = {\n",
    "    \"Wa\": [{\"influx\": 1, \"infusion\": 2}, {\"influx\": 2, \"infusion\": 3}],\n",
    "    \"Win\": [\n",
    "        {\"arg\": 1, \"call\": 1},\n",
    "        {\"arg\": 2, \"call\": 1},\n",
    "        {\"arg\": 2, \"call\": 2},\n",
    "    ],\n",
    "    \"Box\": [{\"parameter\": \"beta\"}, {\"parameter\": \"gamma\"}],\n",
    "    \"Qin\": [{\"variable\": \"S\"}, {\"variable\": \"I\"}, {\"variable\": \"R\"}],\n",
    "    \"Qout\": [{\"tanvar\": \"S'\"}, {\"tanvar\": \"I'\"}, {\"tanvar\": \"R'\"}],\n",
    "    \"Wn\": [{\"efflux\": 1, \"effusion\": 1}, {\"efflux\": 2, \"effusion\": 2}],\n",
    "}\n",
    "\n",
    "chime_bilayer = Bilayer.from_json(chime_bilayer_src)\n",
    "chime_bilayer.to_dot()"
   ]
  },
  {
   "cell_type": "code",
   "execution_count": 8,
   "metadata": {},
   "outputs": [
    {
     "data": {
      "image/svg+xml": "<?xml version=\"1.0\" encoding=\"UTF-8\" standalone=\"no\"?>\n<!DOCTYPE svg PUBLIC \"-//W3C//DTD SVG 1.1//EN\"\n \"http://www.w3.org/Graphics/SVG/1.1/DTD/svg11.dtd\">\n<!-- Generated by graphviz version 2.50.0 (0)\n -->\n<!-- Title: bilayer_measurement Pages: 1 -->\n<svg width=\"62pt\" height=\"188pt\"\n viewBox=\"0.00 0.00 62.00 188.00\" xmlns=\"http://www.w3.org/2000/svg\" xmlns:xlink=\"http://www.w3.org/1999/xlink\">\n<g id=\"graph0\" class=\"graph\" transform=\"scale(1 1) rotate(0) translate(4 184)\">\n<title>bilayer_measurement</title>\n<polygon fill=\"white\" stroke=\"transparent\" points=\"-4,4 -4,-184 58,-184 58,4 -4,4\"/>\n<!-- I -->\n<g id=\"node1\" class=\"node\">\n<title>I</title>\n<ellipse fill=\"none\" stroke=\"black\" cx=\"27\" cy=\"-162\" rx=\"27\" ry=\"18\"/>\n<text text-anchor=\"middle\" x=\"27\" y=\"-158.3\" font-family=\"Times,serif\" font-size=\"14.00\">I</text>\n</g>\n<!-- hr -->\n<g id=\"node2\" class=\"node\">\n<title>hr</title>\n<ellipse fill=\"none\" stroke=\"black\" cx=\"27\" cy=\"-90\" rx=\"27\" ry=\"18\"/>\n<text text-anchor=\"middle\" x=\"27\" y=\"-86.3\" font-family=\"Times,serif\" font-size=\"14.00\">hr</text>\n</g>\n<!-- I&#45;&gt;hr -->\n<g id=\"edge1\" class=\"edge\">\n<title>I&#45;&gt;hr</title>\n<path fill=\"none\" stroke=\"black\" d=\"M27,-143.7C27,-135.98 27,-126.71 27,-118.11\"/>\n<polygon fill=\"black\" stroke=\"black\" points=\"30.5,-118.1 27,-108.1 23.5,-118.1 30.5,-118.1\"/>\n</g>\n<!-- H -->\n<g id=\"node3\" class=\"node\">\n<title>H</title>\n<ellipse fill=\"none\" stroke=\"black\" cx=\"27\" cy=\"-18\" rx=\"27\" ry=\"18\"/>\n<text text-anchor=\"middle\" x=\"27\" y=\"-14.3\" font-family=\"Times,serif\" font-size=\"14.00\">H</text>\n</g>\n<!-- hr&#45;&gt;H -->\n<g id=\"edge2\" class=\"edge\">\n<title>hr&#45;&gt;H</title>\n<path fill=\"none\" stroke=\"black\" d=\"M27,-71.7C27,-63.98 27,-54.71 27,-46.11\"/>\n<polygon fill=\"black\" stroke=\"black\" points=\"30.5,-46.1 27,-36.1 23.5,-46.1 30.5,-46.1\"/>\n</g>\n</g>\n</svg>\n",
      "text/plain": [
       "<graphviz.graphs.Digraph at 0x117c86170>"
      ]
     },
     "execution_count": 8,
     "metadata": {},
     "output_type": "execute_result"
    }
   ],
   "source": [
    "# Define the measurements made of the bilayer variables\n",
    "\n",
    "measurements = {\n",
    "    \"state\" : [{\"variable\": \"I\"}],\n",
    "    \"observable\" : [{\"observable\" : \"H\"}],\n",
    "    \"rate\" : [{\"parameter\": \"hr\"}],\n",
    "    \"Din\": [{\"variable\": 1, \"parameter\": 1}],\n",
    "    \"Dout\": [{\"parameter\": 1, \"observable\": 1}]\n",
    "}\n",
    "hospital_measurements = BilayerMeasurement.from_json(measurements)\n",
    "hospital_measurements.to_dot()"
   ]
  },
  {
   "cell_type": "code",
   "execution_count": 9,
   "metadata": {},
   "outputs": [],
   "source": [
    "# Model Setup for both Intervention 1\n",
    "# - Prescribed reduction in transmission\n",
    "\n",
    "transmission_reduction = 0.05\n",
    "duration = 10 #days\n",
    "model = BilayerModel(\n",
    "    chime_bilayer,\n",
    "    measurements = hospital_measurements,\n",
    "    init_values={\"S\": 10000, \"I\": 1, \"R\": 1},\n",
    "    parameter_bounds={\n",
    "        \"beta\": [0.00067*(1.0-transmission_reduction), 0.00067*(1.0-transmission_reduction)],\n",
    "        # \"beta\" : [0.00005, 0.00007],\n",
    "        \"gamma\": [1.0/14.0, 1.0/14.0],\n",
    "        \"hr\": [0.01, 0.01]\n",
    "    },\n",
    ")\n",
    "\n",
    "#query = QueryTrue()\n",
    "query = QueryLE(\"H\", 3000)"
   ]
  },
  {
   "cell_type": "code",
   "execution_count": 15,
   "metadata": {},
   "outputs": [
    {
     "name": "stdout",
     "output_type": "stream",
     "text": [
      "Unexpected exception formatting exception. Falling back to standard exception\n"
     ]
    },
    {
     "name": "stderr",
     "output_type": "stream",
     "text": [
      "Traceback (most recent call last):\n",
      "  File \"/Users/danbryce/Documents/sift/ASKEM/code/funman/.venv/lib/python3.10/site-packages/IPython/core/interactiveshell.py\", line 3378, in run_code\n",
      "    exec(code_obj, self.user_global_ns, self.user_ns)\n",
      "  File \"/var/folders/1k/3gwxz21d0h3bpjrmbr5_t_2h0000gn/T/ipykernel_98552/2718702863.py\", line 4, in <module>\n",
      "    result = Funman().solve(\n",
      "  File \"/Users/danbryce/Documents/sift/ASKEM/code/funman/src/funman/__init__.py\", line 54, in solve\n",
      "    return problem.solve(config)\n",
      "  File \"/Users/danbryce/Documents/sift/ASKEM/code/funman/src/funman/scenario/consistency.py\", line 62, in solve\n",
      "    result = search.search(self, config=config)\n",
      "  File \"/Users/danbryce/Documents/sift/ASKEM/code/funman/src/funman/search.py\", line 46, in search\n",
      "  File \"/Users/danbryce/Documents/sift/ASKEM/code/funman/.venv/lib/python3.10/site-packages/pysmt/shortcuts.py\", line 1021, in get_model\n",
      "    return env.factory.get_model(formula,\n",
      "  File \"/Users/danbryce/Documents/sift/ASKEM/code/funman/.venv/lib/python3.10/site-packages/pysmt/factory.py\", line 475, in get_model\n",
      "    if solver.solve():\n",
      "  File \"/Users/danbryce/Documents/sift/ASKEM/code/funman/.venv/lib/python3.10/site-packages/pysmt/solvers/solver.py\", line 359, in solve\n",
      "    res = self._solve(assumptions=assumptions)\n",
      "  File \"/Users/danbryce/Documents/sift/ASKEM/code/funman/.venv/lib/python3.10/site-packages/pysmt/decorators.py\", line 64, in clear_pending_pop_wrap\n",
      "    return f(self, *args, **kwargs)\n",
      "  File \"/Users/danbryce/Documents/sift/ASKEM/code/funman/.venv/lib/python3.10/site-packages/pysmt/solvers/z3.py\", line 274, in _solve\n",
      "    raise SolverReturnedUnknownResultError\n",
      "pysmt.exceptions.SolverReturnedUnknownResultError\n",
      "\n",
      "During handling of the above exception, another exception occurred:\n",
      "\n",
      "Traceback (most recent call last):\n",
      "  File \"/Users/danbryce/Documents/sift/ASKEM/code/funman/.venv/lib/python3.10/site-packages/IPython/core/interactiveshell.py\", line 1997, in showtraceback\n",
      "    stb = self.InteractiveTB.structured_traceback(\n",
      "  File \"/Users/danbryce/Documents/sift/ASKEM/code/funman/.venv/lib/python3.10/site-packages/IPython/core/ultratb.py\", line 1112, in structured_traceback\n",
      "    return FormattedTB.structured_traceback(\n",
      "  File \"/Users/danbryce/Documents/sift/ASKEM/code/funman/.venv/lib/python3.10/site-packages/IPython/core/ultratb.py\", line 1006, in structured_traceback\n",
      "    return VerboseTB.structured_traceback(\n",
      "  File \"/Users/danbryce/Documents/sift/ASKEM/code/funman/.venv/lib/python3.10/site-packages/IPython/core/ultratb.py\", line 859, in structured_traceback\n",
      "    formatted_exception = self.format_exception_as_a_whole(etype, evalue, etb, number_of_lines_of_context,\n",
      "  File \"/Users/danbryce/Documents/sift/ASKEM/code/funman/.venv/lib/python3.10/site-packages/IPython/core/ultratb.py\", line 812, in format_exception_as_a_whole\n",
      "    frames.append(self.format_record(r))\n",
      "  File \"/Users/danbryce/Documents/sift/ASKEM/code/funman/.venv/lib/python3.10/site-packages/IPython/core/ultratb.py\", line 730, in format_record\n",
      "    result += ''.join(_format_traceback_lines(frame_info.lines, Colors, self.has_colors, lvals))\n",
      "  File \"/Users/danbryce/Documents/sift/ASKEM/code/funman/.venv/lib/python3.10/site-packages/stack_data/utils.py\", line 145, in cached_property_wrapper\n",
      "    value = obj.__dict__[self.func.__name__] = self.func(obj)\n",
      "  File \"/Users/danbryce/Documents/sift/ASKEM/code/funman/.venv/lib/python3.10/site-packages/stack_data/core.py\", line 734, in lines\n",
      "    pieces = self.included_pieces\n",
      "  File \"/Users/danbryce/Documents/sift/ASKEM/code/funman/.venv/lib/python3.10/site-packages/stack_data/utils.py\", line 145, in cached_property_wrapper\n",
      "    value = obj.__dict__[self.func.__name__] = self.func(obj)\n",
      "  File \"/Users/danbryce/Documents/sift/ASKEM/code/funman/.venv/lib/python3.10/site-packages/stack_data/core.py\", line 681, in included_pieces\n",
      "    pos = scope_pieces.index(self.executing_piece)\n",
      "  File \"/Users/danbryce/Documents/sift/ASKEM/code/funman/.venv/lib/python3.10/site-packages/stack_data/utils.py\", line 145, in cached_property_wrapper\n",
      "    value = obj.__dict__[self.func.__name__] = self.func(obj)\n",
      "  File \"/Users/danbryce/Documents/sift/ASKEM/code/funman/.venv/lib/python3.10/site-packages/stack_data/core.py\", line 660, in executing_piece\n",
      "    return only(\n",
      "  File \"/Users/danbryce/Documents/sift/ASKEM/code/funman/.venv/lib/python3.10/site-packages/executing/executing.py\", line 167, in only\n",
      "    raise NotOneValueFound('Expected one value, found 0')\n",
      "executing.executing.NotOneValueFound: Expected one value, found 0\n"
     ]
    }
   ],
   "source": [
    "# Analyze Intervention 1 to check it will achieve goals of query\n",
    "\n",
    "tmp_dir_path = tempfile.mkdtemp(prefix=\"funman-\")\n",
    "result = Funman().solve(\n",
    "    ConsistencyScenario(\n",
    "        model,\n",
    "        query,\n",
    "        smt_encoder=BilayerEncoder(config=BilayerEncodingOptions(step_size=1, max_steps=duration)) # four months,\n",
    "    ),\n",
    "    config=SearchConfig(search=SMTCheck, episode_type=DRealSearchEpisode)\n",
    ")\n",
    "if result.consistent:\n",
    "    result.plot(logy=True)\n",
    "    # print(f\"parameters = {result.parameters()}\")\n",
    "    result.dataframe()\n",
    "else:\n",
    "    print(\"Scenario Inconsistent\")"
   ]
  },
  {
   "cell_type": "code",
   "execution_count": null,
   "metadata": {},
   "outputs": [],
   "source": [
    "result.plot(logy=True)"
   ]
  },
  {
   "cell_type": "code",
   "execution_count": null,
   "metadata": {},
   "outputs": [],
   "source": [
    "result.dataframe()"
   ]
  },
  {
   "cell_type": "code",
   "execution_count": null,
   "metadata": {},
   "outputs": [],
   "source": [
    "# Model Setup for both Intervention 2\n",
    "# - unknown efficacy\n",
    "\n",
    "transmission_reduction = 0.05\n",
    "model = BilayerModel(\n",
    "    chime_bilayer,\n",
    "    measurements = hospital_measurements,\n",
    "    init_values={\"S\": 10000, \"I\": 1, \"R\": 1},\n",
    "    parameter_bounds={\n",
    "        \"beta\": [0.00005, 0.00007], # beta no longer prescribed\n",
    "        \"gamma\": [1.0/14.0, 1.0/14.0],\n",
    "        \"hr\": [0.05, 0.05]\n",
    "    },\n",
    ")\n"
   ]
  },
  {
   "cell_type": "code",
   "execution_count": null,
   "metadata": {},
   "outputs": [],
   "source": [
    "# Intervention 2 is over a shorter time period, with different initial conditions\n",
    "# The task is to find the level of efficacy beta needed to satisfy the query\n",
    "\n",
    "# The efficacy can be up to 4x that of baseline (i.e., 0.05 - 0.20)\n",
    "parameters = [\n",
    "    Parameter(\"beta\", lb=0.00005*(1.0-4*transmission_reduction), ub=0.00007)\n",
    "]\n",
    "tmp_dir_path = tempfile.mkdtemp(prefix=\"funman-\")\n",
    "result = Funman().solve(\n",
    "    ParameterSynthesisScenario(\n",
    "        parameters,\n",
    "        model,\n",
    "        query,\n",
    "        smt_encoder=BilayerEncoder(config=BilayerEncodingOptions(step_size=30, max_steps=3*30))\n",
    "    ),\n",
    "    config=SearchConfig(\n",
    "        number_of_processes=1,\n",
    "        tolerance=1e-6,\n",
    "        wait_action = NotebookImageRefresher(os.path.join(tmp_dir_path, \"search.png\"), sleep_for=1),\n",
    "        handler=ResultCombinedHandler(\n",
    "            [\n",
    "                ResultCacheWriter(os.path.join(tmp_dir_path, \"search.json\")),\n",
    "                RealtimeResultPlotter(\n",
    "                    parameters,\n",
    "                    plot_points=True,\n",
    "                    realtime_save_path=os.path.join(tmp_dir_path, \"search.png\"),\n",
    "                ),\n",
    "            ]\n",
    "        ),\n",
    "    ),\n",
    ")\n",
    "result.plot()"
   ]
  },
  {
   "cell_type": "markdown",
   "metadata": {},
   "source": [
    "<!-- (:process infection\n",
    " :parameters (?gamma)\n",
    " :precondition (and)\n",
    " :effect (and \n",
    "            (increase (I) (function1))\n",
    "            (increase (R) (function2))\n",
    "            (increase (S) (function3))\n",
    "            )\n",
    " )\n",
    "\n",
    " (:durative-action mandate\n",
    "  :parameters ()\n",
    "  :duraiton (?duration)\n",
    "  :precondition (and)\n",
    "  :effect (and (at-start (increase (beta) (function1))\n",
    "                (at-end (decrease (beta) (function1))))\n",
    "  )\n",
    "\n",
    "  (:event infected-threshold\n",
    "   :precondtion (>= I 1000)\n",
    "   :effect (fail)\n",
    "   ) -->"
   ]
  },
  {
   "cell_type": "markdown",
   "metadata": {},
   "source": [
    "# Scneario 2\n",
    "- Inputs:\n",
    "    - Query: Rate of vaccination to keep cases under threshold over period of time\n",
    "    - Result: Compute minimum vacc rate\n",
    "- Parameters:\n",
    "    - Vaccination rate\n",
    "    - Age range (optional)\n",
    "    - Age specific efficacy"
   ]
  },
  {
   "cell_type": "markdown",
   "metadata": {},
   "source": [
    "# Scenario 3\n",
    "- Identify indifference region wrt. parameters.\n",
    "- Outside of indifference region are candidate parameters where one model is better.\n",
    "- Generate two parameter spaces, identify symm diff, and evaluate metric over symm diff uniform grid.  Metric can be the fit to data."
   ]
  },
  {
   "cell_type": "code",
   "execution_count": null,
   "metadata": {},
   "outputs": [],
   "source": [
    "# Notes in this cell\n",
    "\n",
    "# chime_bilayer_src = {\n",
    "#     \"Wa\": [{\"influx\": 1, \"infusion\": 2}, {\"influx\": 2, \"infusion\": 3}],\n",
    "#     \"Win\": [\n",
    "#         {\"arg\": 1, \"call\": 1},\n",
    "#         {\"arg\": 2, \"call\": 1},\n",
    "#         {\"arg\": 2, \"call\": 2},\n",
    "#     ],\n",
    "#     \"Box\": [{\"parameter\": \"beta\"}, {\"parameter\": \"gamma\"}],\n",
    "#     \"Qin\": [{\"variable\": \"S\"}, {\"variable\": \"I\"}, {\"variable\": \"R\"}],\n",
    "#     \"Qout\": [{\"tanvar\": \"S'\"}, {\"tanvar\": \"I'\"}, {\"tanvar\": \"R'\"}],\n",
    "#     \"Wn\": [{\"efflux\": 1, \"effusion\": 1}, {\"efflux\": 2, \"effusion\": 2}],\n",
    "# }\n",
    "\n",
    "# measurements = {\n",
    "#     \"S\" : [{\"variable\": \"I\"}],\n",
    "#     \"O\" : [{\"observable\" : \"H\"}],\n",
    "#     \"D\" : [{\"parameter\": \"hr\"}],\n",
    "#     \"Din\": [{\"variable\": 1, \"parameter\": 1}],\n",
    "#     \"Dout\": [{\"parameter\": 1, \"observable\": 1}]\n",
    "# }\n",
    "\n",
    "# chime_bilayer = Bilayer.from_json(chime_bilayer_src, measurements)\n",
    "\n",
    "\n",
    "# chime_bilayer_src2 = {\n",
    "#     \"Wa\": [{\"influx\": 1, \"infusion\": 2}, {\"influx\": 2, \"infusion\": 3}],\n",
    "#     \"Win\": [\n",
    "#         {\"arg\": 1, \"call\": 1},\n",
    "#         {\"arg\": 2, \"call\": 1},\n",
    "#         {\"arg\": 2, \"call\": 2},\n",
    "#     ],\n",
    "#     \"Box\": [{\"parameter\": \"beta\"}, {\"parameter\": \"gamma\"}],\n",
    "#     \"Qin\": [{\"variable\": \"S\"}, {\"variable\": \"I\"}, {\"variable\": \"R\"}],\n",
    "#     \"Qout\": [{\"tanvar\": \"S'\"}, {\"tanvar\": \"I'\"}, {\"tanvar\": \"R'\"}],\n",
    "#     \"Wn\": [{\"efflux\": 1, \"effusion\": 1}, {\"efflux\": 2, \"effusion\": 2}],\n",
    "# }\n",
    "\n",
    "# measurements2 = {\n",
    "#     \"S\" : [{\"variable\": \"I\"}],\n",
    "#     \"O\" : [{\"observable\" : \"H\"}],\n",
    "#     \"D\" : [{\"parameter\": \"hr\"}],\n",
    "#     \"Din\": [{\"variable\": 1, \"parameter\": 1}],\n",
    "#     \"Dout\": [{\"parameter\": 1, \"observable\": 1}]\n",
    "# }\n",
    "# chime_bilayer2 = Bilayer.from_json(chime_bilayer_src2, measurements2)\n",
    "\n",
    "# fail = Bilayer.from_json({}, {})\n",
    "# HybridAutomaton(\n",
    "#     [Node(chime_bilayer, QueryLE(chime_bilayer, \"I\", 1000)), Node(chime_bilayer2, QueryLE(chime_bilayer, \"I\", 1000)), Node(fail, None)],\n",
    "#     [Jump(chime_bilayer, Guard(QueryLE(chime_bilayer, \"days\", 10)),chime_bilayer2)]\n",
    "#     )\n",
    "\n",
    "# chime_bilayer = Bilayer.from_json(chime_bilayer_src, measurements)\n",
    "# chime_bilayer.to_dot()\n"
   ]
  }
 ],
 "metadata": {
  "kernelspec": {
   "display_name": "Python 3.10.6 ('.venv': pipenv)",
   "language": "python",
   "name": "python3"
  },
  "language_info": {
   "codemirror_mode": {
    "name": "ipython",
    "version": 3
   },
   "file_extension": ".py",
   "mimetype": "text/x-python",
   "name": "python",
   "nbconvert_exporter": "python",
   "pygments_lexer": "ipython3",
   "version": "3.10.6"
  },
  "orig_nbformat": 4,
  "vscode": {
   "interpreter": {
    "hash": "b6f79c1f1542acd5e584bd916a89512af8178b24c2322603a3342a8f11c2598e"
   }
  }
 },
 "nbformat": 4,
 "nbformat_minor": 2
}
