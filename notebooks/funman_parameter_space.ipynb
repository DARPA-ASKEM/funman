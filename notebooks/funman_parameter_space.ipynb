{
 "cells": [
  {
   "cell_type": "code",
   "execution_count": 1,
   "metadata": {},
   "outputs": [],
   "source": [
    "from pathlib import Path\n",
    "from funman.api.run import Runner\n",
    "\n",
    "%load_ext autoreload\n",
    "%autoreload 2"
   ]
  },
  {
   "cell_type": "code",
   "execution_count": 7,
   "metadata": {},
   "outputs": [
    {
     "name": "stdout",
     "output_type": "stream",
     "text": [
      "INFO:funman.server.worker:FunmanWorker running...\n",
      "INFO:funman.server.worker:Starting work on: a1d6884f-2d8e-45e0-a4d5-b7bb325b7eef\n"
     ]
    }
   ],
   "source": [
    "# Setup Paths\n",
    "\n",
    "\n",
    "RESOURCES = Path(\"../resources\").resolve()\n",
    "EXAMPLE_DIR = RESOURCES / \"amr\" / \"petrinet\" / \"amr-examples\"\n",
    "MODEL_PATH = EXAMPLE_DIR / \"sir.json\"\n",
    "REQUEST_PATH = EXAMPLE_DIR / \"sir_request1.json\"\n",
    "\n",
    "request_dict = {\n",
    "  \"constraints\": [\n",
    "      { \n",
    "          \"variable\" : \"I\", \n",
    "        \"bounds\": [10, 40],\n",
    "        \"timepoints\": [20, 30]\n",
    "       }\n",
    "  ],\n",
    "  \"parameters\": [\n",
    "    {\n",
    "      \"name\": \"beta\",\n",
    "      \"lb\": 2.6e-7,\n",
    "      \"ub\": 2.8e-7,\n",
    "      \"label\": \"all\"\n",
    "    },\n",
    "    {\n",
    "      \"name\": \"gamma\",\n",
    "      \"lb\": 0.1,\n",
    "      \"ub\": 0.18,\n",
    "      \"label\": \"all\"\n",
    "    },\n",
    "    {\n",
    "      \"name\": \"S0\",\n",
    "      \"lb\": 1000,\n",
    "      \"ub\": 1000,\n",
    "      \"label\": \"any\"\n",
    "    },\n",
    "    {\n",
    "      \"name\": \"I0\",\n",
    "      \"lb\": 1,\n",
    "      \"ub\": 1,\n",
    "      \"label\": \"any\"\n",
    "    },\n",
    "    {\n",
    "      \"name\": \"R0\",\n",
    "      \"lb\": 0,\n",
    "      \"ub\": 0,\n",
    "      \"label\": \"any\"\n",
    "    }\n",
    "  ],\n",
    "  \"structure_parameters\": [\n",
    "    {\n",
    "      \"name\": \"num_steps\",\n",
    "      \"lb\": 1,\n",
    "      \"ub\": 5,\n",
    "      \"label\": \"all\"\n",
    "    },\n",
    "    {\n",
    "      \"name\": \"step_size\",\n",
    "      \"lb\": 1,\n",
    "      \"ub\": 1,\n",
    "      \"label\": \"all\"\n",
    "    }\n",
    "  ],\n",
    "  \"config\": {\n",
    "    \"normalization_constant\": 1001\n",
    "  }\n",
    "}\n",
    "results = Runner().run(MODEL_PATH, request_dict, description=\"Basic SIR with simple request\", case_out_dir=\"./out\")\n",
    "# results = Runner().run(MODEL_PATH, REQUEST_PATH, description=\"Basic SIR with simple request\", case_out_dir=\"./out\")"
   ]
  },
  {
   "cell_type": "code",
   "execution_count": 3,
   "metadata": {},
   "outputs": [
    {
     "ename": "ValueError",
     "evalue": "max() arg is an empty sequence",
     "output_type": "error",
     "traceback": [
      "\u001b[0;31m---------------------------------------------------------------------------\u001b[0m",
      "\u001b[0;31mValueError\u001b[0m                                Traceback (most recent call last)",
      "Cell \u001b[0;32mIn[3], line 1\u001b[0m\n\u001b[0;32m----> 1\u001b[0m results\u001b[39m.\u001b[39;49mplot()\n",
      "File \u001b[0;32m~/funman/src/funman/server/query.py:403\u001b[0m, in \u001b[0;36mFunmanResults.plot\u001b[0;34m(self, points, variables, log_y, max_time, **kwargs)\u001b[0m\n\u001b[1;32m    400\u001b[0m \u001b[39mif\u001b[39;00m points \u001b[39mis\u001b[39;00m \u001b[39mNone\u001b[39;00m:\n\u001b[1;32m    401\u001b[0m     points \u001b[39m=\u001b[39m \u001b[39mself\u001b[39m\u001b[39m.\u001b[39mpoints()\n\u001b[0;32m--> 403\u001b[0m df \u001b[39m=\u001b[39m \u001b[39mself\u001b[39;49m\u001b[39m.\u001b[39;49mdataframe(points, max_time\u001b[39m=\u001b[39;49mmax_time)\n\u001b[1;32m    405\u001b[0m \u001b[39mif\u001b[39;00m variables \u001b[39mis\u001b[39;00m \u001b[39mnot\u001b[39;00m \u001b[39mNone\u001b[39;00m:\n\u001b[1;32m    406\u001b[0m     ax \u001b[39m=\u001b[39m df[variables]\u001b[39m.\u001b[39mplot(marker\u001b[39m=\u001b[39m\u001b[39m\"\u001b[39m\u001b[39mo\u001b[39m\u001b[39m\"\u001b[39m, \u001b[39m*\u001b[39m\u001b[39m*\u001b[39mkwargs)\n",
      "File \u001b[0;32m~/funman/src/funman/server/query.py:253\u001b[0m, in \u001b[0;36mFunmanResults.dataframe\u001b[0;34m(self, points, interpolate, max_time)\u001b[0m\n\u001b[1;32m    251\u001b[0m all_df \u001b[39m=\u001b[39m pd\u001b[39m.\u001b[39mDataFrame()\n\u001b[1;32m    252\u001b[0m \u001b[39mfor\u001b[39;00m i, point \u001b[39min\u001b[39;00m \u001b[39menumerate\u001b[39m(points):\n\u001b[0;32m--> 253\u001b[0m     timeseries \u001b[39m=\u001b[39m \u001b[39mself\u001b[39;49m\u001b[39m.\u001b[39;49msymbol_timeseries(point, to_plot)\n\u001b[1;32m    254\u001b[0m     df \u001b[39m=\u001b[39m pd\u001b[39m.\u001b[39mDataFrame\u001b[39m.\u001b[39mfrom_dict(timeseries)\n\u001b[1;32m    255\u001b[0m     df[\u001b[39m\"\u001b[39m\u001b[39mid\u001b[39m\u001b[39m\"\u001b[39m] \u001b[39m=\u001b[39m i\n",
      "File \u001b[0;32m~/funman/src/funman/server/query.py:289\u001b[0m, in \u001b[0;36mFunmanResults.symbol_timeseries\u001b[0;34m(self, point, variables)\u001b[0m\n\u001b[1;32m    287\u001b[0m series \u001b[39m=\u001b[39m \u001b[39mself\u001b[39m\u001b[39m.\u001b[39msymbol_values(point, variables)\n\u001b[1;32m    288\u001b[0m a_series \u001b[39m=\u001b[39m {}  \u001b[39m# timeseries as array/list\u001b[39;00m\n\u001b[0;32m--> 289\u001b[0m max_t \u001b[39m=\u001b[39m \u001b[39mmax\u001b[39;49m(\n\u001b[1;32m    290\u001b[0m     [\n\u001b[1;32m    291\u001b[0m         \u001b[39mmax\u001b[39;49m([\u001b[39mint\u001b[39;49m(k) \u001b[39mfor\u001b[39;49;00m k \u001b[39min\u001b[39;49;00m tps\u001b[39m.\u001b[39;49mkeys() \u001b[39mif\u001b[39;49;00m k\u001b[39m.\u001b[39;49misdigit()] \u001b[39m+\u001b[39;49m [\u001b[39m0\u001b[39;49m])\n\u001b[1;32m    292\u001b[0m         \u001b[39mfor\u001b[39;49;00m _, tps \u001b[39min\u001b[39;49;00m series\u001b[39m.\u001b[39;49mitems()\n\u001b[1;32m    293\u001b[0m     ]\n\u001b[1;32m    294\u001b[0m )\n\u001b[1;32m    295\u001b[0m a_series[\u001b[39m\"\u001b[39m\u001b[39mindex\u001b[39m\u001b[39m\"\u001b[39m] \u001b[39m=\u001b[39m \u001b[39mlist\u001b[39m(\u001b[39mrange\u001b[39m(\u001b[39m0\u001b[39m, max_t \u001b[39m+\u001b[39m \u001b[39m1\u001b[39m))\n\u001b[1;32m    296\u001b[0m \u001b[39mfor\u001b[39;00m var, tps \u001b[39min\u001b[39;00m series\u001b[39m.\u001b[39mitems():\n",
      "\u001b[0;31mValueError\u001b[0m: max() arg is an empty sequence"
     ]
    }
   ],
   "source": [
    "results.plot()"
   ]
  },
  {
   "cell_type": "code",
   "execution_count": null,
   "metadata": {},
   "outputs": [
    {
     "data": {
      "text/plain": [
       "ParameterSpaceExplanation(true_explanations=[BoxExplanation(), BoxExplanation(), BoxExplanation(), BoxExplanation(), BoxExplanation()], false_explanations=[])"
      ]
     },
     "execution_count": 8,
     "metadata": {},
     "output_type": "execute_result"
    }
   ],
   "source": [
    "results.explain()"
   ]
  }
 ],
 "metadata": {
  "kernelspec": {
   "display_name": "funman_venv",
   "language": "python",
   "name": "python3"
  },
  "language_info": {
   "codemirror_mode": {
    "name": "ipython",
    "version": 3
   },
   "file_extension": ".py",
   "mimetype": "text/x-python",
   "name": "python",
   "nbconvert_exporter": "python",
   "pygments_lexer": "ipython3",
   "version": "3.8.10"
  },
  "orig_nbformat": 4
 },
 "nbformat": 4,
 "nbformat_minor": 2
}
