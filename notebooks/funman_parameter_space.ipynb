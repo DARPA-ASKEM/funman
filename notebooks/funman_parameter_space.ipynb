{
 "cells": [
  {
   "cell_type": "code",
   "execution_count": 2,
   "metadata": {},
   "outputs": [],
   "source": [
    "from pathlib import Path\n",
    "from funman.api.run import Runner\n",
    "\n",
    "%load_ext autoreload\n",
    "%autoreload 2"
   ]
  },
  {
   "cell_type": "code",
   "execution_count": 6,
   "metadata": {},
   "outputs": [
    {
     "name": "stdout",
     "output_type": "stream",
     "text": [
      "INFO:funman.server.worker:FunmanWorker running...\n",
      "INFO:funman.server.worker:Starting work on: c80764a4-0d6d-4af7-b601-c76292f839d6\n",
      "--- False(Box({'beta': {'lb': 2.6000000000000005e-07, 'ub': 2.8e-07}, 'gamma': {'lb': 0.1, 'ub': 0.18000000000000002}, 'S0': {'lb': 1000.0, 'ub': 1000.0}, 'I0': {'lb': 1.0, 'ub': 1.0}, 'R0': {'lb': 0.0, 'ub': 0.0}, 'num_steps': {'lb': 1.0, 'ub': 5.0}, 'step_size': {'lb': 1.0, 'ub': 1.0}}), width = 0.08000000000000001554312234475)\n",
      "INFO:funman.server.worker:Completed work on: c80764a4-0d6d-4af7-b601-c76292f839d6\n",
      "INFO:funman.server.worker:FunmanWorker exiting...\n"
     ]
    }
   ],
   "source": [
    "# Setup Paths\n",
    "RESOURCES = Path(\"../resources\").resolve()\n",
    "EXAMPLE_DIR = RESOURCES / \"amr\" / \"petrinet\" / \"amr-examples\"\n",
    "MODEL_PATH = EXAMPLE_DIR / \"sir.json\"\n",
    "REQUEST_PATH = EXAMPLE_DIR / \"sir_request1.json\"\n",
    "\n",
    "request_dict = {\n",
    "    # \"query\": {\n",
    "    #     \"variable\": \"I\",\n",
    "    #     \"ub\": 300\n",
    "    # },\n",
    "  \"constraints\": [\n",
    "      { \n",
    "        \"name\": \"I_bounds\",\n",
    "        \"variable\" : \"I\", \n",
    "        \"bounds\": {\"lb\":1, \"ub\":2},\n",
    "        \"timepoints\": {\"lb\":1, \"ub\":3}\n",
    "       }\n",
    "  ],\n",
    "  \"parameters\": [\n",
    "    {\n",
    "      \"name\": \"beta\",\n",
    "      \"lb\": 2.6e-7,\n",
    "      \"ub\": 2.8e-7,\n",
    "      \"label\": \"all\"\n",
    "    },\n",
    "    {\n",
    "      \"name\": \"gamma\",\n",
    "      \"lb\": 0.1,\n",
    "      \"ub\": 0.18,\n",
    "      \"label\": \"all\"\n",
    "    },\n",
    "    {\n",
    "      \"name\": \"S0\",\n",
    "      \"lb\": 1000,\n",
    "      \"ub\": 1000,\n",
    "      \"label\": \"any\"\n",
    "    },\n",
    "    {\n",
    "      \"name\": \"I0\",\n",
    "      \"lb\": 1,\n",
    "      \"ub\": 1,\n",
    "      \"label\": \"any\"\n",
    "    },\n",
    "    {\n",
    "      \"name\": \"R0\",\n",
    "      \"lb\": 0,\n",
    "      \"ub\": 0,\n",
    "      \"label\": \"any\"\n",
    "    }\n",
    "  ],\n",
    "  \"structure_parameters\": [\n",
    "    {\n",
    "      \"name\": \"num_steps\",\n",
    "      \"lb\": 1,\n",
    "      \"ub\": 5,\n",
    "      \"label\": \"all\"\n",
    "    },\n",
    "    {\n",
    "      \"name\": \"step_size\",\n",
    "      \"lb\": 1,\n",
    "      \"ub\": 1,\n",
    "      \"label\": \"all\"\n",
    "    }\n",
    "  ],\n",
    "  \"config\": {\n",
    "    \"normalization_constant\": 1001,\n",
    "    \"simplify_query\": False\n",
    "  }\n",
    "}\n",
    "    \n",
    "# Use request_dict\n",
    "results = Runner().run(MODEL_PATH, request_dict, description=\"Basic SIR with simple request\", case_out_dir=\"./out\")\n",
    "\n",
    "# Use request file\n",
    "# results = Runner().run(MODEL_PATH, REQUEST_PATH, description=\"Basic SIR with simple request\", case_out_dir=\"./out\")"
   ]
  },
  {
   "cell_type": "code",
   "execution_count": 7,
   "metadata": {},
   "outputs": [
    {
     "data": {
      "text/plain": [
       "{'box': {'beta': {'lb': 2.6000000000000005e-07, 'ub': 2.8e-07},\n",
       "  'gamma': {'lb': 0.1, 'ub': 0.18000000000000002},\n",
       "  'S0': {'lb': 1000.0, 'ub': 1000.0},\n",
       "  'I0': {'lb': 1.0, 'ub': 1.0},\n",
       "  'R0': {'lb': 0.0, 'ub': 0.0},\n",
       "  'num_steps': {'lb': 1.0, 'ub': 5.0},\n",
       "  'step_size': {'lb': 1.0, 'ub': 1.0}},\n",
       " 'description': 'The scenario implies that the constraints are unsatisfiable',\n",
       " 'unsat_constraints': [{'name': 'I_bounds',\n",
       "   'variable': 'I',\n",
       "   'bounds': {'lb': 1.0, 'ub': 2.0},\n",
       "   'timepoints': {'lb': 1.0, 'ub': 3.0}},\n",
       "  {'name': 'query', 'query': {'model': None}}],\n",
       " 'expression': '(((((((((((((assume_I_bounds_0 & disj33) & (gamma < 18000000000000003/100000000000000000)) & disj37) & disj39) & (I_1 = (99900099900099901/100000000000000000000 - (99900099900099901/100000000000000000000 * gamma)))) & (I_1 <= 1.0)) & ((assume_I_bounds | (! assume_I_bounds_0)) | (! disj33))) & ((((((gamma < 10000000000000001/100000000000000000) | (I_1 < 1.0)) | (! (gamma < 18000000000000003/100000000000000000))) | (! (I_1 < 2.0))) | (! (I_1 = (99900099900099901/100000000000000000000 - (99900099900099901/100000000000000000000 * gamma))))) | (! (I_1 <= 1.0)))) & ((assume_I_bounds_1 | (! assume_I_bounds)) | (! disj37))) & ((conj20 | (! assume_I_bounds_1)) | (! disj39))) & ((I_1 < 2.0) | (! conj20))) & ((! conj20) | (! (I_1 < 1.0)))) & (! (gamma < 10000000000000001/100000000000000000)))'}"
      ]
     },
     "execution_count": 7,
     "metadata": {},
     "output_type": "execute_result"
    }
   ],
   "source": [
    "results.parameter_space.false_boxes[0].explain()"
   ]
  },
  {
   "cell_type": "code",
   "execution_count": null,
   "metadata": {},
   "outputs": [],
   "source": [
    "(assume_I_bounds_0 & disj23 & ((gamma < 0.18000000000000003)) & disj27 & disj29 & ((I_1 = (0.00099900099900099901 - 0.00099900099900099901 * gamma))) & ((I_1 <= 1.0)) & (assume_I_bounds | !(assume_I_bounds_0) | !(disj23)) & (((gamma < 0.10000000000000001)) | ((I_1 < 1.0)) | !(((gamma < 0.18000000000000003))) | !(((I_1 < 2.0))) | !(((I_1 == (0.00099900099900099901 - 0.00099900099900099901 * gamma)))) | !(((I_1 <= 1.0)))) & (assume_I_bounds_1 | !(assume_I_bounds) | !(disj27)) & (conj14 | !(assume_I_bounds_1) | !(disj29)) & (((I_1 < 2.0)) | !(conj14)) & (!(conj14) | !(((I_1 < 1.0)))) & !(((gamma < 0.10000000000000001))))"
   ]
  },
  {
   "cell_type": "code",
   "execution_count": 4,
   "metadata": {},
   "outputs": [
    {
     "data": {
      "text/plain": [
       "[]"
      ]
     },
     "execution_count": 4,
     "metadata": {},
     "output_type": "execute_result"
    }
   ],
   "source": [
    "[ b.explanation for b in results.parameter_space.true_boxes]"
   ]
  }
 ],
 "metadata": {
  "kernelspec": {
   "display_name": "funman_venv",
   "language": "python",
   "name": "python3"
  },
  "language_info": {
   "codemirror_mode": {
    "name": "ipython",
    "version": 3
   },
   "file_extension": ".py",
   "mimetype": "text/x-python",
   "name": "python",
   "nbconvert_exporter": "python",
   "pygments_lexer": "ipython3",
   "version": "3.8.10"
  },
  "orig_nbformat": 4
 },
 "nbformat": 4,
 "nbformat_minor": 2
}
