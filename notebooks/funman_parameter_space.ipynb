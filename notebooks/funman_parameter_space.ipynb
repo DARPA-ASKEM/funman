{
 "cells": [
  {
   "cell_type": "code",
   "execution_count": null,
   "metadata": {},
   "outputs": [],
   "source": [
    "from pathlib import Path\n",
    "from funman.api.run import Runner\n",
    "\n",
    "# %load_ext autoreload\n",
    "# %autoreload 2"
   ]
  },
  {
   "cell_type": "code",
   "execution_count": null,
   "metadata": {},
   "outputs": [],
   "source": [
    "# This cell will run FUNMAN on the scenario described by the `request_dict` and plot the points generated during the parameter space generatation.\n",
    "\n",
    "# Setup Paths\n",
    "RESOURCES = Path(\"../resources\").resolve()\n",
    "EXAMPLE_DIR = RESOURCES / \"amr\" / \"petrinet\" / \"amr-examples\"\n",
    "MODEL_PATH = EXAMPLE_DIR / \"sir.json\"\n",
    "REQUEST_PATH = EXAMPLE_DIR / \"sir_request1.json\"\n",
    "\n",
    "request_dict = {\n",
    "    # \"query\": {\n",
    "    #     \"variable\": \"I\",\n",
    "    #     \"ub\": 300\n",
    "    # },\n",
    "  \"constraints\": [\n",
    "            {\n",
    "                \"name\": \"I_bounds_A\",\n",
    "                \"variable\": \"I\",\n",
    "                \"interval\": {\"lb\": 0, \"ub\": 200},\n",
    "                \"timepoints\": {\"lb\": 0, \"ub\": 40, \"closed_upper_bound\": True},\n",
    "            },\n",
    "            # {\n",
    "            #     \"name\": \"I_bounds_B\",\n",
    "            #     \"variable\": \"I\",\n",
    "            #     \"interval\": {\"lb\": 10},\n",
    "            #     \"timepoints\": {\"lb\": 40, \"ub\": 100, \"closed_upper_bound\": True},\n",
    "            # },\n",
    "  ],\n",
    "  \"parameters\": [\n",
    "   {\n",
    "                \"name\": \"beta\",\n",
    "                \"interval\": {\"lb\": 1e-8, \"ub\": 1e-2},\n",
    "                \"label\": \"all\",\n",
    "            },\n",
    "            {\n",
    "                \"name\": \"gamma\",\n",
    "                \"interval\": {\"lb\": 0.1, \"ub\": 0.18},\n",
    "                \"label\": \"all\",\n",
    "            },\n",
    "            {\n",
    "                \"name\": \"S0\",\n",
    "                \"interval\": {\"lb\": 1000, \"ub\": 1000},\n",
    "                \"label\": \"any\",\n",
    "            },\n",
    "            {\"name\": \"I0\", \"interval\": {\"lb\": 1, \"ub\": 1}, \"label\": \"any\"},\n",
    "            {\"name\": \"R0\", \"interval\": {\"lb\": 0, \"ub\": 0}, \"label\": \"any\"},\n",
    "  ],\n",
    "   \"structure_parameters\": [\n",
    "        {\n",
    "                \"name\": \"schedules\",\n",
    "                \"schedules\": [\n",
    "                    {\n",
    "                        \"timepoints\": [\n",
    "                            0,\n",
    "                            # 5,\n",
    "                            10,\n",
    "                            # 15,\n",
    "                            20,\n",
    "                            30,\n",
    "                            # 35,\n",
    "                            40,\n",
    "                            45,\n",
    "                            50,\n",
    "                            55,\n",
    "                            60,\n",
    "                            100,\n",
    "                        ]\n",
    "                    }\n",
    "                ],\n",
    "            }\n",
    "    ],\n",
    "\n",
    "    \"config\": {\n",
    "            \"normalization_constant\": 1001,\n",
    "            \"tolerance\": 1e-1,\n",
    "            \"use_compartmental_constraints\" : True,\n",
    "            # \"profile\": True\n",
    "    }\n",
    "}\n",
    "    \n",
    "# Use request_dict\n",
    "results = Runner().run(MODEL_PATH, request_dict, description=\"Basic SIR with simple request\", case_out_dir=\"./out\")\n",
    "\n",
    "# Use request file\n",
    "# results = Runner().run(MODEL_PATH, REQUEST_PATH, description=\"Basic SIR with simple request\", case_out_dir=\"./out\")\n",
    "\n",
    "results.plot(variables=[\"I\"], label_marker={\"true\":\",\", \"false\": \",\"})"
   ]
  },
  {
   "cell_type": "code",
   "execution_count": null,
   "metadata": {},
   "outputs": [],
   "source": [
    "# View profiling if present (must set `\"profiling\": True` in the config above)\n",
    "\n",
    "import os\n",
    "from IPython.core.display import Image\n",
    "from IPython.display import display\n",
    "profile_file = os.path.join(f\"./profile.stats\")\n",
    "if os.path.exists(profile_file):\n",
    "    os.system(f\"gprof2dot -f pstats {profile_file} | dot -Tpng -o profile.png\")\n",
    "    display(Image(filename='profile.png'))\n",
    "else:\n",
    "    print(f\"{profile_file} file not present\")"
   ]
  },
  {
   "cell_type": "code",
   "execution_count": null,
   "metadata": {},
   "outputs": [],
   "source": [
    "# Example uses the result object created by FUNMAN\n",
    "# - Get the points and boxes\n",
    "# - Get the parameters corresponding to a point\n",
    "# - Generate a dataframe with the point timeseries\n",
    "\n",
    "from funman import Point, Box, Parameter\n",
    "from typing import List, Dict\n",
    "\n",
    "points: List[Point] = results.points()\n",
    "boxes: List[Box] = results.parameter_space.boxes()\n",
    "\n",
    "print(\n",
    "    f\"{len(points)} Points (+:{len(results.parameter_space.true_points())}, -:{len(results.parameter_space.false_points())}), {len(boxes)} Boxes (+:{len(results.parameter_space.true_boxes)}, -:{len(results.parameter_space.false_boxes)})\"\n",
    ")\n",
    "if points and len(points) > 0:\n",
    "    point: Point = points[-1]\n",
    "    parameters: Dict[Parameter, float] = results.point_parameters(point)\n",
    "    print(parameters)\n",
    "    print(results.dataframe([point]))\n",
    "else:\n",
    "    # if there are no points, then we have a box that we found without needing points\n",
    "\n",
    "    box = boxes[0]\n",
    "    print(json.dumps(box.explain(), indent=4))"
   ]
  },
  {
   "cell_type": "code",
   "execution_count": null,
   "metadata": {},
   "outputs": [],
   "source": [
    "# Get the corner points of a box\n",
    "\n",
    "results.parameter_space.false_boxes[0].corner_points"
   ]
  },
  {
   "cell_type": "code",
   "execution_count": null,
   "metadata": {},
   "outputs": [],
   "source": [
    "# Get the state varibles and parameters from a point (used by the dataframe timeseries function above)\n",
    "\n",
    "results.parameter_space.true_points[0].values"
   ]
  },
  {
   "cell_type": "code",
   "execution_count": null,
   "metadata": {},
   "outputs": [],
   "source": [
    "# Plot the parameter space\n",
    "\n",
    "from funman_demo.parameter_space_plotter import ParameterSpacePlotter\n",
    "ParameterSpacePlotter(\n",
    "        results.parameter_space, plot_points=True, parameters=[\"beta\", \"gamma\", \"timestep\"]\n",
    "    ).plot(show=False)"
   ]
  },
  {
   "cell_type": "code",
   "execution_count": null,
   "metadata": {},
   "outputs": [],
   "source": [
    "# Plot the timeseries for each point in the parameter space for the selected variables\n",
    "\n",
    "results.plot(variables=[\"I\"], label_marker={\"true\":\",\", \"false\": \",\"})"
   ]
  },
  {
   "cell_type": "code",
   "execution_count": null,
   "metadata": {},
   "outputs": [],
   "source": [
    "# Plot the points from a saved result file.\n",
    "\n",
    "from funman.server.query import FunmanResults\n",
    "import json\n",
    "\n",
    "# %load_ext autoreload\n",
    "# %autoreload 2\n",
    "with open(\"out/f13f5edb-41ba-4a70-bcc6-0bb9881ce71c.json\", \"r\") as f:\n",
    "    results = FunmanResults.model_validate(json.load(f))\n",
    "    results.plot(variables=[\"I\"], label_marker={\"true\":\",\", \"false\": \",\"})"
   ]
  },
  {
   "cell_type": "code",
   "execution_count": null,
   "metadata": {},
   "outputs": [],
   "source": [
    "print(results.parameter_space.false_boxes[1].explain(  ))\n",
    "results.plot(points=results.parameter_space.false_boxes[1].corner_points, variables=[\"I\"], label_marker={\"true\":\",\", \"false\": \",\"})"
   ]
  }
 ],
 "metadata": {
  "kernelspec": {
   "display_name": "funman_venv",
   "language": "python",
   "name": "python3"
  },
  "language_info": {
   "codemirror_mode": {
    "name": "ipython",
    "version": 3
   },
   "file_extension": ".py",
   "mimetype": "text/x-python",
   "name": "python",
   "nbconvert_exporter": "python",
   "pygments_lexer": "ipython3",
   "version": "3.8.10"
  },
  "orig_nbformat": 4
 },
 "nbformat": 4,
 "nbformat_minor": 2
}
