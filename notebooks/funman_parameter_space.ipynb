{
 "cells": [
  {
   "cell_type": "code",
   "execution_count": null,
   "metadata": {},
   "outputs": [],
   "source": [
    "from pathlib import Path\n",
    "from funman.api.run import Runner\n",
    "\n",
    "%load_ext autoreload\n",
    "%autoreload 2"
   ]
  },
  {
   "cell_type": "code",
   "execution_count": null,
   "metadata": {},
   "outputs": [],
   "source": [
    "# Setup Paths\n",
    "\n",
    "\n",
    "RESOURCES = Path(\"../resources\").resolve()\n",
    "EXAMPLE_DIR = RESOURCES / \"amr\" / \"petrinet\" / \"amr-examples\"\n",
    "MODEL_PATH = EXAMPLE_DIR / \"sir.json\"\n",
    "REQUEST_PATH = EXAMPLE_DIR / \"sir_request1.json\"\n",
    "\n",
    "request_dict = {\n",
    "  \"constraints\": [\n",
    "      { \n",
    "          \"variable\" : \"I\", \n",
    "        \"bounds\": [10, 40],\n",
    "        \"timepoints\": [20, 30]\n",
    "       }\n",
    "  ],\n",
    "  \"parameters\": [\n",
    "    {\n",
    "      \"name\": \"beta\",\n",
    "      \"lb\": 2.6e-7,\n",
    "      \"ub\": 2.8e-7,\n",
    "      \"label\": \"all\"\n",
    "    },\n",
    "    {\n",
    "      \"name\": \"gamma\",\n",
    "      \"lb\": 0.1,\n",
    "      \"ub\": 0.18,\n",
    "      \"label\": \"all\"\n",
    "    },\n",
    "    {\n",
    "      \"name\": \"S0\",\n",
    "      \"lb\": 1000,\n",
    "      \"ub\": 1000,\n",
    "      \"label\": \"any\"\n",
    "    },\n",
    "    {\n",
    "      \"name\": \"I0\",\n",
    "      \"lb\": 1,\n",
    "      \"ub\": 1,\n",
    "      \"label\": \"any\"\n",
    "    },\n",
    "    {\n",
    "      \"name\": \"R0\",\n",
    "      \"lb\": 0,\n",
    "      \"ub\": 0,\n",
    "      \"label\": \"any\"\n",
    "    }\n",
    "  ],\n",
    "  \"structure_parameters\": [\n",
    "    {\n",
    "      \"name\": \"num_steps\",\n",
    "      \"lb\": 1,\n",
    "      \"ub\": 5,\n",
    "      \"label\": \"all\"\n",
    "    },\n",
    "    {\n",
    "      \"name\": \"step_size\",\n",
    "      \"lb\": 1,\n",
    "      \"ub\": 1,\n",
    "      \"label\": \"all\"\n",
    "    }\n",
    "  ],\n",
    "  \"config\": {\n",
    "    \"normalization_constant\": 1001\n",
    "  }\n",
    "}\n",
    "results = Runner().run(MODEL_PATH, request_dict, description=\"Basic SIR with simple request\", case_out_dir=\"./out\")\n",
    "# results = Runner().run(MODEL_PATH, REQUEST_PATH, description=\"Basic SIR with simple request\", case_out_dir=\"./out\")"
   ]
  },
  {
   "cell_type": "code",
   "execution_count": null,
   "metadata": {},
   "outputs": [],
   "source": [
    "results.plot()"
   ]
  },
  {
   "cell_type": "code",
   "execution_count": null,
   "metadata": {},
   "outputs": [],
   "source": [
    "results.explain()"
   ]
  }
 ],
 "metadata": {
  "kernelspec": {
   "display_name": "funman_venv",
   "language": "python",
   "name": "python3"
  },
  "language_info": {
   "codemirror_mode": {
    "name": "ipython",
    "version": 3
   },
   "file_extension": ".py",
   "mimetype": "text/x-python",
   "name": "python",
   "nbconvert_exporter": "python",
   "pygments_lexer": "ipython3",
   "version": "3.8.10"
  },
  "orig_nbformat": 4
 },
 "nbformat": 4,
 "nbformat_minor": 2
}
