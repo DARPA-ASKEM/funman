{
 "cells": [
  {
   "cell_type": "code",
   "execution_count": null,
   "metadata": {},
   "outputs": [],
   "source": [
    "from funman_api_client import Client\n",
    "from funman_api_client.models import (\n",
    "    ConsistencyScenario,\n",
    "    AnalysisScenarioResult,\n",
    "    Config,\n",
    "    Parameter,\n",
    ")\n",
    "from funman_api_client.api.default import solve_solve_put\n",
    "from funman_api_client.types import Response\n",
    "from funman_api_client.models import BodySolveSolvePut\n"
   ]
  },
  {
   "cell_type": "code",
   "execution_count": null,
   "metadata": {},
   "outputs": [],
   "source": [
    "funman_client = Client(\"http://localhost:8190\")\n",
    "my_data: AnalysisScenarioResult = solve_solve_put.sync_detailed(\n",
    "    client=funman_client,\n",
    "    json_body=BodySolveSolvePut(\n",
    "        ConsistencyScenario(\n",
    "            parameters=[Parameter(\"x\", lb=1, ub=2)], model=None, query=None\n",
    "        ),\n",
    "        config=Config(),\n",
    "    ),\n",
    ")\n",
    "my_data\n"
   ]
  }
 ],
 "metadata": {
  "kernelspec": {
   "display_name": "funman_venv",
   "language": "python",
   "name": "python3"
  },
  "language_info": {
   "codemirror_mode": {
    "name": "ipython",
    "version": 3
   },
   "file_extension": ".py",
   "mimetype": "text/x-python",
   "name": "python",
   "nbconvert_exporter": "python",
   "pygments_lexer": "ipython3",
   "version": "3.8.10"
  },
  "orig_nbformat": 4,
  "vscode": {
   "interpreter": {
    "hash": "c4119eda3b1833fe9fd8fbf30e1a97c798b493dbeda1893c2d82ebe0184730f9"
   }
  }
 },
 "nbformat": 4,
 "nbformat_minor": 2
}
