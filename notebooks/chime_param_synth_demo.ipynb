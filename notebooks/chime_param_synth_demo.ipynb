{
 "cells": [
  {
   "cell_type": "code",
   "execution_count": 1,
   "metadata": {},
   "outputs": [],
   "source": [
    "from funman.funman import Funman\n",
    "from funman.scenario import ParameterSynthesisScenario\n",
    "from funman.model import Parameter\n",
    "from funman.scenario import ParameterSynthesisScenarioResult\n",
    "from funman.parameter_space import ParameterSpace\n",
    "from funman.search_utils import SearchConfig\n",
    "\n",
    "# %load_ext autoreload\n",
    "# %autoreload 2"
   ]
  },
  {
   "cell_type": "markdown",
   "metadata": {},
   "source": [
    "## Todo\n",
    "\n",
    "- Jack: Caching of parameter space and reload\n",
    "- Jack: Disable or fix realtime plotting in Jupyter\n",
    "- Drisana: Merge notebook operations into classes\n",
    "- Drisana: Test Generate a 4x1"
   ]
  },
  {
   "cell_type": "code",
   "execution_count": 2,
   "metadata": {},
   "outputs": [
    {
     "name": "stderr",
     "output_type": "stream",
     "text": [
      "/opt/homebrew/Caskroom/miniforge/base/lib/python3.10/site-packages/numpy/core/function_base.py:151: RuntimeWarning: invalid value encountered in multiply\n",
      "  y *= step\n",
      "/opt/homebrew/Caskroom/miniforge/base/lib/python3.10/site-packages/numpy/core/function_base.py:151: RuntimeWarning: invalid value encountered in multiply\n",
      "  y *= step\n",
      "/opt/homebrew/Caskroom/miniforge/base/lib/python3.10/site-packages/numpy/core/function_base.py:161: RuntimeWarning: invalid value encountered in add\n",
      "  y += start\n"
     ]
    },
    {
     "data": {
      "image/png": "[encoded data removed]",
      "text/plain": [
       "<Figure size 640x480 with 1 Axes>"
      ]
     },
     "metadata": {},
     "output_type": "display_data"
    }
   ],
   "source": [
    "# The Funman module synthesizes the Parameter Space for a model, which encodes\n",
    "# feasible parameter settings (denoted \"true\"), and infeasible parameter\n",
    "# settings (denoted \"false\").  The code in this cell generates the Parameter\n",
    "# Space and plots it.\n",
    "#\n",
    "# Funman synthesizes parameters with a box search algorithm that encodes a\n",
    "# series of related Satisfiability Modulo Theories (SMT) encodings.  The box\n",
    "# search involves sub-dividing the space of possible parameter-value\n",
    "# combinations to identify boxes that either contain only feasible values or\n",
    "# infeasible values for the parameters.  If a box contains a feasible point, the\n",
    "# solver attempts to prove the absence of infeasible points.  If no infeasible\n",
    "# points are found, then the box is labeled feasible.  Similarly, if a box\n",
    "# contains an infeasible point and no feasible points, it is labeled infeasible.\n",
    "# If a box contains both a feasible and infeasible point, then the solver\n",
    "# subdivides the box.  The labeling and subdividing process continues until no\n",
    "# boxes above a given threshold size remain.\n",
    "#\n",
    "# Evaluate the extracted model to identify values for beta that:\n",
    "#  - Represent the intervention efficacy over two successive interventions\n",
    "#  - Occur over two time periods 0-20 days (beta_1), and 20-40 days (beta_2)\n",
    "#  - Prevent the number of infected I from exceeding 10% of the population\n",
    "#  - Use a linearized definition for the S and R state update equations\n",
    "#  - Fall within a specified range [0.0, 0.5]\n",
    "#\n",
    "# The Parameter Synthesis problem accepts two constants: \n",
    "#  - population_size: the number of individuals (S+I+R)\n",
    "#  - infectious_days: the number of infected days before recovery\n",
    "#\n",
    "#  The scenario configuration also supports use of:\n",
    "#  - epochs: the day index ranges corresponding to each beta\n",
    "#  - cached_parameter_space: a precomputed Parameter Space encoded as JSON\n",
    "#  - real_time_plotting: whether to render the solver's progress\n",
    "\n",
    "\n",
    "gromet_file1 = \"bar\"\n",
    "result1 : ParameterSynthesisScenarioResult = Funman().solve(\n",
    "    ParameterSynthesisScenario(\n",
    "        [Parameter(\"beta_0\", lb=0.0, ub=0.5), Parameter(\"beta_1\", lb=0.0, ub=0.5)], \n",
    "        gromet_file1,\n",
    "        config = {\n",
    "            \"epochs\": [(0, 20), (20, 40)],\n",
    "            \"population_size\": 1002,\n",
    "            \"infectious_days\": 14.0, \n",
    "            \"read_cache_parameter_space\" : \"example.json\",\n",
    "            \"real_time_plotting\": False\n",
    "        }\n",
    "    ))\n",
    "\n",
    "result1.parameter_space.plot()"
   ]
  },
  {
   "cell_type": "code",
   "execution_count": 3,
   "metadata": {},
   "outputs": [
    {
     "name": "stderr",
     "output_type": "stream",
     "text": [
      "/opt/homebrew/Caskroom/miniforge/base/lib/python3.10/site-packages/numpy/core/function_base.py:151: RuntimeWarning: invalid value encountered in multiply\n",
      "  y *= step\n",
      "/opt/homebrew/Caskroom/miniforge/base/lib/python3.10/site-packages/numpy/core/function_base.py:151: RuntimeWarning: invalid value encountered in multiply\n",
      "  y *= step\n",
      "/opt/homebrew/Caskroom/miniforge/base/lib/python3.10/site-packages/numpy/core/function_base.py:161: RuntimeWarning: invalid value encountered in add\n",
      "  y += start\n"
     ]
    },
    {
     "data": {
      "image/png": "[encoded data removed]",
      "text/plain": [
       "<Figure size 640x480 with 1 Axes>"
      ]
     },
     "metadata": {},
     "output_type": "display_data"
    }
   ],
   "source": [
    "# This second use of Funman evaluates the model after changing the population\n",
    "# size (10x) and infectious days (0.5x) constants.\n",
    "   \n",
    "gromet_file2 = \"baz\"\n",
    "result2 : ParameterSynthesisScenarioResult = Funman().solve(\n",
    "    ParameterSynthesisScenario(\n",
    "        [Parameter(\"beta_0\", lb=0.0, ub=0.5), Parameter(\"beta_1\", lb=0.0, ub=0.5)],\n",
    "        gromet_file2,\n",
    "        config = {\n",
    "            \"epochs\": [(0, 20), (20, 40)],\n",
    "            \"population_size\": 10002,\n",
    "            \"infectious_days\": 7.0, \n",
    "            \"read_cache_parameter_space\" : \"example.json\",\n",
    "            \"real_time_plotting\": False\n",
    "        }\n",
    "    ))\n",
    "\n",
    "result2.parameter_space.plot()"
   ]
  },
  {
   "cell_type": "code",
   "execution_count": 6,
   "metadata": {},
   "outputs": [
    {
     "ename": "TypeError",
     "evalue": "'Box' object is not subscriptable",
     "output_type": "error",
     "traceback": [
      "\u001b[0;31m---------------------------------------------------------------------------\u001b[0m",
      "\u001b[0;31mTypeError\u001b[0m                                 Traceback (most recent call last)",
      "Cell \u001b[0;32mIn [6], line 21\u001b[0m\n\u001b[1;32m      1\u001b[0m \u001b[39m# Funman produces two parameter spaces for beta_0 and beta_1.  The parameter\u001b[39;00m\n\u001b[1;32m      2\u001b[0m \u001b[39m# spaces overlap (i.e., have a non-empty intersection) and indicate values for\u001b[39;00m\n\u001b[1;32m      3\u001b[0m \u001b[39m# the betas that are robust to changes in the model constants.  Similarly, the\u001b[39;00m\n\u001b[0;32m   (...)\u001b[0m\n\u001b[1;32m     17\u001b[0m \u001b[39m# beta denote interventions that will not scale with population size and the\u001b[39;00m\n\u001b[1;32m     18\u001b[0m \u001b[39m# number of infectious days.  These values may be discarded by the analyst.\u001b[39;00m\n\u001b[1;32m     20\u001b[0m intersection \u001b[39m=\u001b[39m ParameterSpace\u001b[39m.\u001b[39mintersect(result1\u001b[39m.\u001b[39mparameter_space, result2\u001b[39m.\u001b[39mparameter_space)\n\u001b[0;32m---> 21\u001b[0m symmetric_difference \u001b[39m=\u001b[39m ParameterSpace\u001b[39m.\u001b[39msymmetric_difference(result1\u001b[39m.\u001b[39mparameter_space, result2\u001b[39m.\u001b[39mparameter_space)\n\u001b[1;32m     23\u001b[0m result1\u001b[39m.\u001b[39mparameter_space\u001b[39m.\u001b[39mplot()\n\u001b[1;32m     24\u001b[0m plt\u001b[39m.\u001b[39mshow() \u001b[39m## comment this line out to get result1 and result2 on same figure\u001b[39;00m\n",
      "File \u001b[0;32m~/Documents/sift/ASKEM/code/funman/src/funman/parameter_space.py:41\u001b[0m, in \u001b[0;36mParameterSpace.symmetric_difference\u001b[0;34m(ps1, ps2)\u001b[0m\n\u001b[1;32m     38\u001b[0m \u001b[39m@staticmethod\u001b[39m\n\u001b[1;32m     39\u001b[0m \u001b[39mdef\u001b[39;00m \u001b[39msymmetric_difference\u001b[39m(ps1, ps2):\n\u001b[1;32m     40\u001b[0m     \u001b[39mreturn\u001b[39;00m ParameterSpace(\n\u001b[0;32m---> 41\u001b[0m         ParameterSpace\u001b[39m.\u001b[39;49m_symmetric_difference(ps1\u001b[39m.\u001b[39;49mtrue_boxes, ps2\u001b[39m.\u001b[39;49mtrue_boxes), \n\u001b[1;32m     42\u001b[0m         ParameterSpace\u001b[39m.\u001b[39m_symmetric_difference(ps1\u001b[39m.\u001b[39mfalse_boxes, ps2\u001b[39m.\u001b[39mfalse_boxes) \n\u001b[1;32m     43\u001b[0m     )\n",
      "File \u001b[0;32m~/Documents/sift/ASKEM/code/funman/src/funman/parameter_space.py:51\u001b[0m, in \u001b[0;36mParameterSpace._symmetric_difference\u001b[0;34m(ps1, ps2)\u001b[0m\n\u001b[1;32m     49\u001b[0m box2_results \u001b[39m=\u001b[39m []\n\u001b[1;32m     50\u001b[0m \u001b[39mfor\u001b[39;00m box1 \u001b[39min\u001b[39;00m ps1:\n\u001b[0;32m---> 51\u001b[0m     subresult \u001b[39m=\u001b[39m Box\u001b[39m.\u001b[39;49msymmetric_difference_two_boxes(box2, box1)\n\u001b[1;32m     52\u001b[0m     \u001b[39mif\u001b[39;00m subresult \u001b[39m!=\u001b[39m \u001b[39mNone\u001b[39;00m:\n\u001b[1;32m     53\u001b[0m         box2_results\u001b[39m.\u001b[39mappend(subresult[\u001b[39m0\u001b[39m])\n",
      "File \u001b[0;32m~/Documents/sift/ASKEM/code/funman/src/funman/search_utils.py:320\u001b[0m, in \u001b[0;36mBox.symmetric_difference_two_boxes\u001b[0;34m(a, b)\u001b[0m\n\u001b[1;32m    318\u001b[0m     result \u001b[39m=\u001b[39m [a,b]\n\u001b[1;32m    319\u001b[0m \u001b[39melse\u001b[39;00m:\n\u001b[0;32m--> 320\u001b[0m     xbounds \u001b[39m=\u001b[39m Box\u001b[39m.\u001b[39msubtract_two_1d_boxes(a[\u001b[39m0\u001b[39;49m],b[\u001b[39m0\u001b[39m])\n\u001b[1;32m    321\u001b[0m     \u001b[39mif\u001b[39;00m xbounds \u001b[39m!=\u001b[39m \u001b[39mNone\u001b[39;00m:\n\u001b[1;32m    322\u001b[0m         result\u001b[39m.\u001b[39mappend([xbounds,a[\u001b[39m1\u001b[39m]])\n",
      "\u001b[0;31mTypeError\u001b[0m: 'Box' object is not subscriptable"
     ]
    }
   ],
   "source": [
    "# Funman produces two parameter spaces for beta_0 and beta_1.  The parameter\n",
    "# spaces overlap (i.e., have a non-empty intersection) and indicate values for\n",
    "# the betas that are robust to changes in the model constants.  Similarly, the\n",
    "# distinct regions (i.e., symmetric difference) denote parameter values where\n",
    "# the models behave differently.\n",
    "#\n",
    "# The plots below illustrate:\n",
    "# - The parameter space for the original model constants.\n",
    "# - The parameter space for the modified model constants.\n",
    "# - The intersection of the parameter spaces above.\n",
    "# - The symmetric difference of the parameter spaces above.\n",
    "#\n",
    "# The interpretation of the intersection is that the feasible values for beta\n",
    "# denote interventions that scale with population size and the number of\n",
    "# infectious days.  These values warrant further investigation by the analyst.\n",
    "# The interpretation of the symmetric difference is that the feasible values for\n",
    "# beta denote interventions that will not scale with population size and the\n",
    "# number of infectious days.  These values may be discarded by the analyst.\n",
    "\n",
    "intersection = ParameterSpace.intersect(result1.parameter_space, result2.parameter_space)\n",
    "symmetric_difference = ParameterSpace.symmetric_difference(result1.parameter_space, result2.parameter_space)\n",
    "\n",
    "result1.parameter_space.plot()\n",
    "plt.show() ## comment this line out to get result1 and result2 on same figure\n",
    "result2.parameter_space.plot()\n",
    "plt.show()\n",
    "intersection.plot()\n",
    "plt.show()\n",
    "symmetric_difference.plot()\n",
    "plt.show()"
   ]
  },
  {
   "cell_type": "code",
   "execution_count": null,
   "metadata": {},
   "outputs": [],
   "source": []
  },
  {
   "cell_type": "code",
   "execution_count": null,
   "metadata": {},
   "outputs": [],
   "source": []
  },
  {
   "cell_type": "code",
   "execution_count": null,
   "metadata": {},
   "outputs": [],
   "source": []
  },
  {
   "cell_type": "code",
   "execution_count": null,
   "metadata": {},
   "outputs": [],
   "source": []
  }
 ],
 "metadata": {
  "kernelspec": {
   "display_name": "Python 3 (ipykernel)",
   "language": "python",
   "name": "python3"
  },
  "language_info": {
   "codemirror_mode": {
    "name": "ipython",
    "version": 3
   },
   "file_extension": ".py",
   "mimetype": "text/x-python",
   "name": "python",
   "nbconvert_exporter": "python",
   "pygments_lexer": "ipython3",
   "version": "3.10.6"
  },
  "vscode": {
   "interpreter": {
    "hash": "b6f79c1f1542acd5e584bd916a89512af8178b24c2322603a3342a8f11c2598e"
   }
  }
 },
 "nbformat": 4,
 "nbformat_minor": 2
}
