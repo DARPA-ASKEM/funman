{
 "cells": [
  {
   "cell_type": "code",
   "execution_count": 1,
   "metadata": {},
   "outputs": [],
   "source": [
    "from funman.funman import Funman\n",
    "from funman.scenario import ParameterSynthesisScenario\n",
    "from funman.model import Parameter\n",
    "from funman.scenario import ParameterSynthesisScenarioResult\n",
    "from funman.parameter_space import ParameterSpace\n",
    "from funman.search_utils import SearchConfig\n",
    "\n",
    "# %load_ext autoreload\n",
    "# %autoreload 2"
   ]
  },
  {
   "cell_type": "markdown",
   "metadata": {},
   "source": [
    "## Todo\n",
    "\n",
    "- Dan: Configure scenario\n",
    "- Jack: Caching of parameter space and reload\n",
    "- Jack: Disable or fix realtime plotting in Jupyter\n",
    "- Drisana: Merge notebook operations into classes\n",
    "- Drisana: Test Generate a 4x1"
   ]
  },
  {
   "cell_type": "code",
   "execution_count": null,
   "metadata": {},
   "outputs": [],
   "source": [
    "# TODO add description of scenario and betas\n",
    "gromet_file1 = \"chime1\"\n",
    "result1 : ParameterSynthesisScenarioResult = Funman().solve(\n",
    "    ParameterSynthesisScenario(\n",
    "        [Parameter(\"beta_0\"), Parameter(\"beta_1\")], \n",
    "        gromet_file1,\n",
    "        config = {\n",
    "            \"epochs\": [(0, 20), (20, 60)],\n",
    "            \"population_size\": 1002,\n",
    "            \"infectious_days\": 14.0,\n",
    "            \"cached_parameter_space\" : \"ps1.json\",\n",
    "            \"real_time_plotting\": False\n",
    "        }))\n",
    "\n",
    "result1.parameter_space.plot()"
   ]
  },
  {
   "cell_type": "code",
   "execution_count": 2,
   "metadata": {},
   "outputs": [],
   "source": [
    "# Modify the model \n",
    "gromet_file2 = \"baz\"\n",
    "result2 : ParameterSynthesisScenarioResult = Funman().solve(\n",
    "    ParameterSynthesisScenario(\n",
    "        [Parameter(\"beta_1\"), Parameter(\"beta_2\")], \n",
    "        gromet_file2,\n",
    "        config = {\n",
    "            \"epochs\": [(0, 20), (20, 60)],\n",
    "            \"population_size\": 10002,\n",
    "            \"infectious_days\": 7.0, \n",
    "            \"cached_parameter_space\" : \"ps2.json\",\n",
    "            \"real_time_plotting\": False\n",
    "        }\n",
    "    ))\n",
    "\n",
    "result2.parameter_space.plot()"
   ]
  },
  {
   "cell_type": "code",
   "execution_count": null,
   "metadata": {},
   "outputs": [],
   "source": [
    "# Compare result1 and result2\n",
    "\n",
    "intersection = ParameterSpace.intersect(result1, result2)\n",
    "symmetric_difference = ParameterSpace.symmetric_difference(result1, result2)\n",
    "\n",
    "result1.parameter_space.plot()\n",
    "plt.show() ## comment this line out to get result1 and result2 on same figure\n",
    "result2.parameter_space.plot()\n",
    "plt.show()\n",
    "intersection.plot()\n",
    "plt.show()\n",
    "symmetric_difference.plot()\n",
    "plt.show()"
   ]
  },
  {
   "cell_type": "code",
   "execution_count": null,
   "metadata": {},
   "outputs": [],
   "source": []
  },
  {
   "cell_type": "code",
   "execution_count": null,
   "metadata": {},
   "outputs": [],
   "source": []
  },
  {
   "cell_type": "code",
   "execution_count": null,
   "metadata": {},
   "outputs": [],
   "source": []
  },
  {
   "cell_type": "code",
   "execution_count": null,
   "metadata": {},
   "outputs": [],
   "source": []
  }
 ],
 "metadata": {
  "kernelspec": {
   "display_name": "Python 3 (ipykernel)",
   "language": "python",
   "name": "python3"
  },
  "language_info": {
   "codemirror_mode": {
    "name": "ipython",
    "version": 3
   },
   "file_extension": ".py",
   "mimetype": "text/x-python",
   "name": "python",
   "nbconvert_exporter": "python",
   "pygments_lexer": "ipython3",
   "version": "3.9.12"
  },
  "vscode": {
   "interpreter": {
    "hash": "b6f79c1f1542acd5e584bd916a89512af8178b24c2322603a3342a8f11c2598e"
   }
  }
 },
 "nbformat": 4,
 "nbformat_minor": 2
}
