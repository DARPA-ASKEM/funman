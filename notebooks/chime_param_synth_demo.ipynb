{
 "cells": [
  {
   "cell_type": "code",
   "execution_count": 2,
   "metadata": {},
   "outputs": [],
   "source": [
    "from funman.funman import Funman\n",
    "from funman.scenario import ParameterSynthesisScenario\n",
    "from funman.model import Parameter\n",
    "from funman.scenario import ParameterSynthesisScenarioResult\n",
    "from funman.parameter_space import ParameterSpace\n",
    "from funman.search_utils import SearchConfig\n",
    "\n",
    "# %load_ext autoreload\n",
    "# %autoreload 2\n",
    "%matplotlib inline"
   ]
  },
  {
   "cell_type": "markdown",
   "metadata": {},
   "source": [
    "## Todo\n",
    "\n",
    "- Jack: Caching of parameter space and reload\n",
    "- Jack: Disable or fix realtime plotting in Jupyter\n",
    "- Drisana: Merge notebook operations into classes\n",
    "- Drisana: Test Generate a 4x1"
   ]
  },
  {
   "cell_type": "code",
   "execution_count": 3,
   "metadata": {},
   "outputs": [
    {
     "data": {
      "image/png": "[encoded data removed]",
      "text/plain": [
       "<Figure size 640x480 with 1 Axes>"
      ]
     },
     "metadata": {},
     "output_type": "display_data"
    }
   ],
   "source": [
    "# The Funman module synthesizes the Parameter Space for a model, which encodes\n",
    "# feasible parameter settings (denoted \"true\"), and infeasible parameter\n",
    "# settings (denoted \"false\").  The code in this cell generates the Parameter\n",
    "# Space and plots it.\n",
    "#\n",
    "# Funman synthesizes parameters with a box search algorithm that encodes a\n",
    "# series of related Satisfiability Modulo Theories (SMT) encodings.  The box\n",
    "# search involves sub-dividing the space of possible parameter-value\n",
    "# combinations to identify boxes that either contain only feasible values or\n",
    "# infeasible values for the parameters.  If a box contains a feasible point, the\n",
    "# solver attempts to prove the absence of infeasible points.  If no infeasible\n",
    "# points are found, then the box is labeled feasible.  Similarly, if a box\n",
    "# contains an infeasible point and no feasible points, it is labeled infeasible.\n",
    "# If a box contains both a feasible and infeasible point, then the solver\n",
    "# subdivides the box.  The labeling and subdividing process continues until no\n",
    "# boxes above a given threshold size remain.\n",
    "#\n",
    "# Evaluate the extracted model to identify values for beta that:\n",
    "#  - Represent the intervention efficacy over two successive interventions\n",
    "#  - Occur over two time periods 0-20 days (beta_1), and 20-40 days (beta_2)\n",
    "#  - Prevent the number of infected I from exceeding 10% of the population\n",
    "#  - Use a linearized definition for the S and R state update equations\n",
    "#  - Fall within a specified range [0.0, 0.5]\n",
    "#\n",
    "# The Parameter Synthesis problem accepts two constants: \n",
    "#  - population_size: the number of individuals (S+I+R)\n",
    "#  - infectious_days: the number of infected days before recovery\n",
    "#\n",
    "#  The scenario configuration also supports use of:\n",
    "#  - epochs: the day index ranges corresponding to each beta\n",
    "#  - read_cache_parameter_space: use a precomputed Parameter Space encoded as JSON\n",
    "#  - write_cache_parameter_space: write a precomputed Parameter Space encoded as JSON\n",
    "#  - real_time_plotting: whether to render the solver's progress\n",
    "\n",
    "\n",
    "gromet_file1 = \"bar\"\n",
    "result1 : ParameterSynthesisScenarioResult = Funman().solve(\n",
    "    ParameterSynthesisScenario(\n",
    "        [Parameter(\"beta_0\", lb=0.0, ub=0.5), Parameter(\"beta_1\", lb=0.0, ub=0.5)], \n",
    "        gromet_file1,\n",
    "        config = {\n",
    "            \"epochs\": [(0, 20), (20, 30)],\n",
    "            \"population_size\": 1002,\n",
    "            \"infectious_days\": 14.0, \n",
    "            \"read_cache_parameter_space\" : \"result1.json\",\n",
    "            # \"write_cache_parameter_space\": \"result1.json\",\n",
    "            \"real_time_plotting\": False\n",
    "        }\n",
    "    ))\n",
    "\n",
    "result1.parameter_space.plot()"
   ]
  },
  {
   "cell_type": "code",
   "execution_count": 4,
   "metadata": {},
   "outputs": [
    {
     "data": {
      "image/png": "[encoded data removed]",
      "text/plain": [
       "<Figure size 640x480 with 1 Axes>"
      ]
     },
     "metadata": {},
     "output_type": "display_data"
    }
   ],
   "source": [
    "# This second use of Funman evaluates the model after changing the population\n",
    "# size (10x) and infectious days (0.5x) constants.\n",
    "   \n",
    "gromet_file2 = \"baz\"\n",
    "result2 : ParameterSynthesisScenarioResult = Funman().solve(\n",
    "    ParameterSynthesisScenario(\n",
    "        [Parameter(\"beta_0\", lb=0.0, ub=0.5), Parameter(\"beta_1\", lb=0.0, ub=0.5)],\n",
    "        gromet_file2,\n",
    "        config = {\n",
    "            \"epochs\": [(0, 20), (20, 30)],\n",
    "            \"population_size\": 10020,\n",
    "            \"infectious_days\": 7.0, \n",
    "            \"read_cache_parameter_space\" : \"result2.json\",\n",
    "            # \"write_cache_parameter_space\": \"result2.json\",\n",
    "            \"real_time_plotting\": False\n",
    "        }\n",
    "    ))\n",
    "\n",
    "result2.parameter_space.plot()"
   ]
  },
  {
   "cell_type": "code",
   "execution_count": null,
   "metadata": {},
   "outputs": [],
   "source": [
    "# Funman produces two parameter spaces for beta_0 and beta_1.  The parameter\n",
    "# spaces overlap (i.e., have a non-empty intersection) and indicate values for\n",
    "# the betas that are robust to changes in the model constants.  Similarly, the\n",
    "# distinct regions (i.e., symmetric difference) denote parameter values where\n",
    "# the models behave differently.\n",
    "#\n",
    "# The plots below illustrate:\n",
    "# - The parameter space for the original model constants.\n",
    "# - The parameter space for the modified model constants.\n",
    "# - The intersection of the parameter spaces above.\n",
    "# - The symmetric difference of the parameter spaces above.\n",
    "#\n",
    "# The interpretation of the intersection is that the feasible values for beta\n",
    "# denote interventions that scale with population size and the number of\n",
    "# infectious days.  These values warrant further investigation by the analyst.\n",
    "# The interpretation of the symmetric difference is that the feasible values for\n",
    "# beta denote interventions that will not scale with population size and the\n",
    "# number of infectious days.  These values may be discarded by the analyst.\n",
    "\n",
    "intersection = ParameterSpace.intersect(result1.parameter_space, result2.parameter_space)\n",
    "symmetric_difference = ParameterSpace.symmetric_difference(result1.parameter_space, result2.parameter_space)\n",
    "\n",
    "result1.parameter_space.plot()\n",
    "plt.show() ## comment this line out to get result1 and result2 on same figure\n",
    "result2.parameter_space.plot()\n",
    "plt.show()\n",
    "intersection.plot()\n",
    "plt.show()\n",
    "symmetric_difference.plot()\n",
    "plt.show()"
   ]
  }
 ],
 "metadata": {
  "kernelspec": {
   "display_name": "Python 3 (ipykernel)",
   "language": "python",
   "name": "python3"
  },
  "language_info": {
   "codemirror_mode": {
    "name": "ipython",
    "version": 3
   },
   "file_extension": ".py",
   "mimetype": "text/x-python",
   "name": "python",
   "nbconvert_exporter": "python",
   "pygments_lexer": "ipython3",
   "version": "3.10.6"
  },
  "vscode": {
   "interpreter": {
    "hash": "b6f79c1f1542acd5e584bd916a89512af8178b24c2322603a3342a8f11c2598e"
   }
  }
 },
 "nbformat": 4,
 "nbformat_minor": 2
}
