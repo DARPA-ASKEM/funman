{
 "cells": [
  {
   "cell_type": "code",
   "execution_count": 1,
   "metadata": {},
   "outputs": [],
   "source": [
    "from funman.funman import Funman\n",
    "from funman.scenario import ParameterSynthesisScenario\n",
    "from funman.model import Parameter\n",
    "from funman.scenario import ParameterSynthesisScenarioResult\n",
    "from funman.parameter_space import ParameterSpace\n"
   ]
  },
  {
   "cell_type": "markdown",
   "metadata": {},
   "source": [
    "# Todo\n",
    "- Dan: Extend chime model with beta_2 and timesteps 20-60\n",
    "- Drisana: Plot results from a scenario result (in ParameterSpace.plot())\n",
    "- Drisana: box operations"
   ]
  },
  {
   "cell_type": "code",
   "execution_count": 2,
   "metadata": {},
   "outputs": [],
   "source": [
    "gromet_file1 = \"bar\""
   ]
  },
  {
   "cell_type": "code",
   "execution_count": 3,
   "metadata": {},
   "outputs": [
    {
     "ename": "TypeError",
     "evalue": "Parameter.__init__() missing 1 required positional argument: 'symbol'",
     "output_type": "error",
     "traceback": [
      "\u001b[0;31m---------------------------------------------------------------------------\u001b[0m",
      "\u001b[0;31mTypeError\u001b[0m                                 Traceback (most recent call last)",
      "Cell \u001b[0;32mIn [3], line 3\u001b[0m\n\u001b[1;32m      1\u001b[0m result \u001b[38;5;241m=\u001b[39m Funman()\u001b[38;5;241m.\u001b[39msolve(\n\u001b[1;32m      2\u001b[0m     ParameterSynthesisScenario(\n\u001b[0;32m----> 3\u001b[0m         [Parameter(\u001b[38;5;124m\"\u001b[39m\u001b[38;5;124mbeta_1\u001b[39m\u001b[38;5;124m\"\u001b[39m), Parameter(\u001b[38;5;124m\"\u001b[39m\u001b[38;5;124mbeta_2\u001b[39m\u001b[38;5;124m\"\u001b[39m)], \n\u001b[1;32m      4\u001b[0m         gromet_file1\n\u001b[1;32m      5\u001b[0m     ))\n\u001b[1;32m      7\u001b[0m result\u001b[38;5;241m.\u001b[39mplot()\n",
      "\u001b[0;31mTypeError\u001b[0m: Parameter.__init__() missing 1 required positional argument: 'symbol'"
     ]
    }
   ],
   "source": [
    "result1 : ParameterSynthesisScenarioResult = Funman().solve(\n",
    "    ParameterSynthesisScenario(\n",
    "        [Parameter(\"beta_1\"), Parameter(\"beta_2\")], \n",
    "        gromet_file1\n",
    "    ))\n",
    "\n",
    "result1.parameter_space.plot()"
   ]
  },
  {
   "cell_type": "code",
   "execution_count": null,
   "metadata": {},
   "outputs": [],
   "source": [
    "# Modify the model \n",
    "gromet_file2 = \"baz\""
   ]
  },
  {
   "cell_type": "code",
   "execution_count": null,
   "metadata": {},
   "outputs": [],
   "source": [
    "result2 : ParameterSynthesisScenarioResult = Funman().solve(\n",
    "    ParameterSynthesisScenario(\n",
    "        [Parameter(\"beta_1\"), Parameter(\"beta_2\")], \n",
    "        gromet_file2\n",
    "    ))\n",
    "\n",
    "result2.parameter_space.plot()"
   ]
  },
  {
   "cell_type": "code",
   "execution_count": null,
   "metadata": {},
   "outputs": [],
   "source": [
    "# Compare result1 and result2\n",
    "# FIXME Drisana\n",
    "intersection = ParameterSpace.intersect(result1, result2)\n",
    "intersection.plot()"
   ]
  },
  {
   "cell_type": "code",
   "execution_count": null,
   "metadata": {},
   "outputs": [],
   "source": [
    "# Compare result1 and result2\n",
    "# FIXME Drisana\n",
    "symmetric_difference = ParameterSpace.symmetric_difference(result1, result2)\n",
    "symmetric_difference.plot()"
   ]
  }
 ],
 "metadata": {
  "kernelspec": {
   "display_name": "Python 3.9.12 ('.venv': pipenv)",
   "language": "python",
   "name": "python3"
  },
  "language_info": {
   "codemirror_mode": {
    "name": "ipython",
    "version": 3
   },
   "file_extension": ".py",
   "mimetype": "text/x-python",
   "name": "python",
   "nbconvert_exporter": "python",
   "pygments_lexer": "ipython3",
   "version": "3.10.6"
  },
  "orig_nbformat": 4,
  "vscode": {
   "interpreter": {
    "hash": "b6f79c1f1542acd5e584bd916a89512af8178b24c2322603a3342a8f11c2598e"
   }
  }
 },
 "nbformat": 4,
 "nbformat_minor": 2
}
