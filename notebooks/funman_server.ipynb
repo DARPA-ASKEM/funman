{
 "cells": [
  {
   "cell_type": "code",
   "execution_count": 1,
   "id": "18ad842e",
   "metadata": {},
   "outputs": [],
   "source": [
    "import asyncio\n",
    "import nest_asyncio\n",
    "import os\n",
    "import json\n",
    "import unittest\n",
    "from pathlib import Path\n",
    "\n",
    "import funman.api.client as client\n",
    "from funman.api.api import app\n",
    "from funman.api.server import Server, ServerConfig\n",
    "\n",
    "API_BASE_PATH = os.path.join(os.getcwd(), \"..\")\n",
    "API_SERVER_HOST = \"0.0.0.0\"\n",
    "API_SERVER_PORT = 8190\n",
    "SERVER_URL = f\"http://{API_SERVER_HOST}:{API_SERVER_PORT}\"\n",
    "OPENAPI_URL = f\"{SERVER_URL}/openapi.json\"\n",
    "CLIENT_NAME = \"funman-api-client\""
   ]
  },
  {
   "cell_type": "code",
   "execution_count": null,
   "id": "1026004e",
   "metadata": {},
   "outputs": [],
   "source": [
    "# Start API Server\n",
    "server = Server(\n",
    "            config=ServerConfig(\n",
    "                app,\n",
    "                host=API_SERVER_HOST,\n",
    "                port=API_SERVER_PORT,\n",
    "                log_level=\"info\",\n",
    "            )\n",
    "        )\n",
    "nest_asyncio.apply()\n",
    "thread = server.start_in_thread()"
   ]
  },
  {
   "cell_type": "code",
   "execution_count": null,
   "id": "8f8b5e65",
   "metadata": {},
   "outputs": [
    {
     "name": "stderr",
     "output_type": "stream",
     "text": [
      "INFO:     Shutting down\n",
      "INFO:     Waiting for application shutdown.\n"
     ]
    },
    {
     "name": "stdout",
     "output_type": "stream",
     "text": [
      "Split(Box({'beta': {'lb': 3.7500000000000003e-05, 'ub': 3.9375e-05}}), width = 1.8749999999999981e-06)\n",
      "Split(Box({'beta': {'lb': 3.5625e-05, 'ub': 3.7500000000000003e-05}}), width = 1.875000000000005e-06)\n",
      "Split(Box({'beta': {'lb': 3.375e-05, 'ub': 3.5625e-05}}), width = 1.8749999999999981e-06)\n"
     ]
    },
    {
     "name": "stderr",
     "output_type": "stream",
     "text": [
      "Point: Point({'type': 'point', 'label': 'unknown', 'values': {'beta': 3.2819063812762554e-05}}) is marked false, but already marked true.\n"
     ]
    },
    {
     "name": "stdout",
     "output_type": "stream",
     "text": [
      "Split(Box({'beta': {'lb': 3.1875e-05, 'ub': 3.375e-05}}), width = 1.8749999999999981e-06)\n",
      "Split(Box({'beta': {'lb': 3e-05, 'ub': 3.1875e-05}}), width = 1.8750000000000015e-06)\n",
      "Split(Box({'beta': {'lb': 8.90625e-05, 'ub': 9e-05}}), width = 9.375000000000025e-07)\n",
      "Split(Box({'beta': {'lb': 8.812500000000001e-05, 'ub': 8.90625e-05}}), width = 9.374999999999889e-07)\n"
     ]
    },
    {
     "name": "stderr",
     "output_type": "stream",
     "text": [
      "Point: Point({'type': 'point', 'label': 'unknown', 'values': {'beta': 8.751750350070014e-05}}) is marked true, but already marked false.\n"
     ]
    },
    {
     "name": "stdout",
     "output_type": "stream",
     "text": [
      "Split(Box({'beta': {'lb': 8.718750000000001e-05, 'ub': 8.812500000000001e-05}}), width = 9.375000000000025e-07)\n",
      "Split(Box({'beta': {'lb': 8.625000000000001e-05, 'ub': 8.718750000000001e-05}}), width = 9.375000000000025e-07)\n"
     ]
    },
    {
     "name": "stderr",
     "output_type": "stream",
     "text": [
      "Point: Point({'type': 'point', 'label': 'unknown', 'values': {'beta': 8.595469093818764e-05}}) is marked false, but already marked true.\n"
     ]
    },
    {
     "name": "stdout",
     "output_type": "stream",
     "text": [
      "Split(Box({'beta': {'lb': 8.531250000000001e-05, 'ub': 8.625000000000001e-05}}), width = 9.375000000000025e-07)\n",
      "Split(Box({'beta': {'lb': 8.4375e-05, 'ub': 8.531250000000001e-05}}), width = 9.375000000000025e-07)\n",
      "Split(Box({'beta': {'lb': 8.34375e-05, 'ub': 8.4375e-05}}), width = 9.375000000000025e-07)\n",
      "Split(Box({'beta': {'lb': 8.25e-05, 'ub': 8.34375e-05}}), width = 9.375000000000025e-07)\n"
     ]
    }
   ],
   "source": [
    "# Close out server\n",
    "server.should_exit = True\n",
    "thread.join()"
   ]
  },
  {
   "cell_type": "code",
   "execution_count": null,
   "id": "4cf1dd9f",
   "metadata": {},
   "outputs": [],
   "source": []
  }
 ],
 "metadata": {
  "kernelspec": {
   "display_name": "Python 3 (ipykernel)",
   "language": "python",
   "name": "python3"
  },
  "language_info": {
   "codemirror_mode": {
    "name": "ipython",
    "version": 3
   },
   "file_extension": ".py",
   "mimetype": "text/x-python",
   "name": "python",
   "nbconvert_exporter": "python",
   "pygments_lexer": "ipython3",
   "version": "3.8.10"
  }
 },
 "nbformat": 4,
 "nbformat_minor": 5
}
