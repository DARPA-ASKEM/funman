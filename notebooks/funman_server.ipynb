{
 "cells": [
  {
   "cell_type": "code",
   "execution_count": 1,
   "id": "18ad842e",
   "metadata": {},
   "outputs": [],
   "source": [
    "import asyncio\n",
    "import nest_asyncio\n",
    "import os\n",
    "import json\n",
    "import unittest\n",
    "from pathlib import Path\n",
    "\n",
    "import funman.api.client as client\n",
    "from funman.api.api import app\n",
    "from funman.api.server import Server, ServerConfig\n",
    "\n",
    "API_BASE_PATH = os.path.join(os.getcwd(), \"..\")\n",
    "API_SERVER_HOST = \"0.0.0.0\"\n",
    "API_SERVER_PORT = 8190\n",
    "SERVER_URL = f\"http://{API_SERVER_HOST}:{API_SERVER_PORT}\"\n",
    "OPENAPI_URL = f\"{SERVER_URL}/openapi.json\"\n",
    "CLIENT_NAME = \"funman-api-client\""
   ]
  },
  {
   "cell_type": "code",
   "execution_count": 2,
   "id": "1026004e",
   "metadata": {},
   "outputs": [
    {
     "name": "stderr",
     "output_type": "stream",
     "text": [
      "INFO:     Started server process [2004]\n",
      "INFO:     Waiting for application startup.\n",
      "INFO:     Application startup complete.\n",
      "INFO:     Uvicorn running on http://0.0.0.0:8190 (Press CTRL+C to quit)\n"
     ]
    },
    {
     "name": "stdout",
     "output_type": "stream",
     "text": [
      "FunmanWorker starting...\n",
      "INFO:     127.0.0.1:43012 - \"GET /openapi.json HTTP/1.1\" 200 OK\n",
      "WARNING: Running without API token\n",
      "INFO:     127.0.0.1:43022 - \"POST /queries HTTP/1.1\" 200 OK\n",
      "Starting work on: 6fac1fa4-c625-4872-bb76-1e33c2354613\n",
      "Starting initializing dynamics of model\n",
      "Initialized dynamics of model\n",
      "Split(Box({'beta': {'lb': 3e-05, 'ub': 9e-05}}), width = 6.000000000000001e-05)\n",
      "Split(Box({'beta': {'lb': 6.000000000000001e-05, 'ub': 9e-05}}), width = 2.9999999999999997e-05)\n",
      "Split(Box({'beta': {'lb': 3e-05, 'ub': 6.000000000000001e-05}}), width = 3.0000000000000008e-05)\n",
      "Split(Box({'beta': {'lb': 7.500000000000001e-05, 'ub': 9e-05}}), width = 1.4999999999999999e-05)\n"
     ]
    },
    {
     "name": "stderr",
     "output_type": "stream",
     "text": [
      "Point: Point({'type': 'point', 'label': 'unknown', 'values': {'beta': 6.000000000000001e-05}}) is marked false, but already marked true.\n"
     ]
    },
    {
     "name": "stdout",
     "output_type": "stream",
     "text": [
      "Split(Box({'beta': {'lb': 6.000000000000001e-05, 'ub': 7.500000000000001e-05}}), width = 1.4999999999999999e-05)\n",
      "Split(Box({'beta': {'lb': 4.5e-05, 'ub': 6.000000000000001e-05}}), width = 1.5000000000000005e-05)\n",
      "Split(Box({'beta': {'lb': 3e-05, 'ub': 4.5e-05}}), width = 1.5000000000000002e-05)\n",
      "Split(Box({'beta': {'lb': 8.25e-05, 'ub': 9e-05}}), width = 7.500000000000006e-06)\n",
      "Split(Box({'beta': {'lb': 7.500000000000001e-05, 'ub': 8.25e-05}}), width = 7.4999999999999926e-06)\n",
      "Split(Box({'beta': {'lb': 6.750000000000001e-05, 'ub': 7.500000000000001e-05}}), width = 7.4999999999999926e-06)\n",
      "Split(Box({'beta': {'lb': 6.000000000000001e-05, 'ub': 6.750000000000001e-05}}), width = 7.500000000000006e-06)\n",
      "Split(Box({'beta': {'lb': 5.25e-05, 'ub': 6.000000000000001e-05}}), width = 7.500000000000006e-06)\n",
      "Split(Box({'beta': {'lb': 4.5e-05, 'ub': 5.25e-05}}), width = 7.499999999999999e-06)\n",
      "Split(Box({'beta': {'lb': 3.7500000000000003e-05, 'ub': 4.5e-05}}), width = 7.499999999999999e-06)\n",
      "Split(Box({'beta': {'lb': 3e-05, 'ub': 3.7500000000000003e-05}}), width = 7.500000000000003e-06)\n",
      "Split(Box({'beta': {'lb': 8.625000000000001e-05, 'ub': 9e-05}}), width = 3.7499999999999963e-06)\n",
      "Split(Box({'beta': {'lb': 8.25e-05, 'ub': 8.625000000000001e-05}}), width = 3.75000000000001e-06)\n",
      "Split(Box({'beta': {'lb': 7.875e-05, 'ub': 8.25e-05}}), width = 3.7499999999999963e-06)\n",
      "Split(Box({'beta': {'lb': 7.500000000000001e-05, 'ub': 7.875e-05}}), width = 3.7499999999999963e-06)\n",
      "Split(Box({'beta': {'lb': 7.125000000000001e-05, 'ub': 7.500000000000001e-05}}), width = 3.7499999999999963e-06)\n"
     ]
    },
    {
     "name": "stderr",
     "output_type": "stream",
     "text": [
      "Point: Point({'type': 'point', 'label': 'unknown', 'values': {'beta': 6.87637527505501e-05}}) is marked true, but already marked false.\n"
     ]
    },
    {
     "name": "stdout",
     "output_type": "stream",
     "text": [
      "Split(Box({'beta': {'lb': 6.750000000000001e-05, 'ub': 7.125000000000001e-05}}), width = 3.7499999999999963e-06)\n",
      "WARNING: Running without API token\n",
      "INFO:     172.17.0.1:39266 - \"GET /queries/6fac1fa4-c625-4872-bb76-1e33c2354613 HTTP/1.1\" 200 OK\n",
      "Split(Box({'beta': {'lb': 6.375e-05, 'ub': 6.750000000000001e-05}}), width = 3.75000000000001e-06)\n",
      "Split(Box({'beta': {'lb': 6.000000000000001e-05, 'ub': 6.375e-05}}), width = 3.7499999999999963e-06)\n",
      "Split(Box({'beta': {'lb': 5.6250000000000005e-05, 'ub': 6.000000000000001e-05}}), width = 3.750000000000003e-06)\n",
      "WARNING: Running without API token\n",
      "INFO:     172.17.0.1:39270 - \"GET /queries/6fac1fa4-c625-4872-bb76-1e33c2354613 HTTP/1.1\" 200 OK\n",
      "Split(Box({'beta': {'lb': 5.25e-05, 'ub': 5.6250000000000005e-05}}), width = 3.750000000000003e-06)\n",
      "Split(Box({'beta': {'lb': 4.8750000000000006e-05, 'ub': 5.25e-05}}), width = 3.7499999999999963e-06)\n",
      "Split(Box({'beta': {'lb': 4.5e-05, 'ub': 4.8750000000000006e-05}}), width = 3.750000000000003e-06)\n",
      "WARNING: Running without API token\n",
      "INFO:     172.17.0.1:39274 - \"GET /queries/6fac1fa4-c625-4872-bb76-1e33c2354613 HTTP/1.1\" 200 OK\n"
     ]
    },
    {
     "name": "stderr",
     "output_type": "stream",
     "text": [
      "Point: Point({'type': 'point', 'label': 'unknown', 'values': {'beta': 4.375875175035007e-05}}) is marked false, but already marked true.\n"
     ]
    },
    {
     "name": "stdout",
     "output_type": "stream",
     "text": [
      "Split(Box({'beta': {'lb': 4.125e-05, 'ub': 4.5e-05}}), width = 3.750000000000003e-06)\n",
      "Split(Box({'beta': {'lb': 3.7500000000000003e-05, 'ub': 4.125e-05}}), width = 3.7499999999999963e-06)\n"
     ]
    },
    {
     "name": "stderr",
     "output_type": "stream",
     "text": [
      "Point: Point({'type': 'point', 'label': 'unknown', 'values': {'beta': 3.438187637527505e-05}}) is marked false, but already marked true.\n"
     ]
    },
    {
     "name": "stdout",
     "output_type": "stream",
     "text": [
      "Split(Box({'beta': {'lb': 3.375e-05, 'ub': 3.7500000000000003e-05}}), width = 3.750000000000003e-06)\n",
      "Split(Box({'beta': {'lb': 3e-05, 'ub': 3.375e-05}}), width = 3.7499999999999997e-06)\n",
      "Split(Box({'beta': {'lb': 8.812500000000001e-05, 'ub': 9e-05}}), width = 1.8749999999999914e-06)\n",
      "Split(Box({'beta': {'lb': 8.625000000000001e-05, 'ub': 8.812500000000001e-05}}), width = 1.875000000000005e-06)\n"
     ]
    },
    {
     "name": "stderr",
     "output_type": "stream",
     "text": [
      "Point: Point({'type': 'point', 'label': 'unknown', 'values': {'beta': 8.439187837567513e-05}}) is marked true, but already marked false.\n"
     ]
    },
    {
     "name": "stdout",
     "output_type": "stream",
     "text": [
      "Split(Box({'beta': {'lb': 8.4375e-05, 'ub': 8.625000000000001e-05}}), width = 1.875000000000005e-06)\n",
      "WARNING: Running without API token\n",
      "INFO:     172.17.0.1:39626 - \"GET /queries/6fac1fa4-c625-4872-bb76-1e33c2354613 HTTP/1.1\" 200 OK\n",
      "Split(Box({'beta': {'lb': 8.25e-05, 'ub': 8.4375e-05}}), width = 1.875000000000005e-06)\n",
      "Split(Box({'beta': {'lb': 8.0625e-05, 'ub': 8.25e-05}}), width = 1.875000000000005e-06)\n",
      "Split(Box({'beta': {'lb': 7.875e-05, 'ub': 8.0625e-05}}), width = 1.8749999999999914e-06)\n"
     ]
    },
    {
     "name": "stderr",
     "output_type": "stream",
     "text": [
      "Point: Point({'type': 'point', 'label': 'unknown', 'values': {'beta': 7.814062812562513e-05}}) is marked false, but already marked true.\n"
     ]
    },
    {
     "name": "stdout",
     "output_type": "stream",
     "text": [
      "Split(Box({'beta': {'lb': 7.687500000000001e-05, 'ub': 7.875e-05}}), width = 1.8749999999999914e-06)\n",
      "Split(Box({'beta': {'lb': 7.500000000000001e-05, 'ub': 7.687500000000001e-05}}), width = 1.875000000000005e-06)\n",
      "Split(Box({'beta': {'lb': 7.3125e-05, 'ub': 7.500000000000001e-05}}), width = 1.875000000000005e-06)\n",
      "Split(Box({'beta': {'lb': 7.125000000000001e-05, 'ub': 7.3125e-05}}), width = 1.8749999999999914e-06)\n"
     ]
    },
    {
     "name": "stderr",
     "output_type": "stream",
     "text": [
      "Point: Point({'type': 'point', 'label': 'unknown', 'values': {'beta': 7.032656531306261e-05}}) is marked false, but already marked true.\n"
     ]
    },
    {
     "name": "stdout",
     "output_type": "stream",
     "text": [
      "Split(Box({'beta': {'lb': 6.937500000000002e-05, 'ub': 7.125000000000001e-05}}), width = 1.8749999999999914e-06)\n",
      "Split(Box({'beta': {'lb': 6.750000000000001e-05, 'ub': 6.937500000000002e-05}}), width = 1.875000000000005e-06)\n"
     ]
    },
    {
     "name": "stderr",
     "output_type": "stream",
     "text": [
      "Point: Point({'type': 'point', 'label': 'unknown', 'values': {'beta': 6.563812762552511e-05}}) is marked false, but already marked true.\n"
     ]
    },
    {
     "name": "stdout",
     "output_type": "stream",
     "text": [
      "Split(Box({'beta': {'lb': 6.562500000000001e-05, 'ub': 6.750000000000001e-05}}), width = 1.875000000000005e-06)\n",
      "Split(Box({'beta': {'lb': 6.375e-05, 'ub': 6.562500000000001e-05}}), width = 1.875000000000005e-06)\n"
     ]
    },
    {
     "name": "stderr",
     "output_type": "stream",
     "text": [
      "Point: Point({'type': 'point', 'label': 'unknown', 'values': {'beta': 6.25125025005001e-05}}) is marked false, but already marked true.\n"
     ]
    },
    {
     "name": "stdout",
     "output_type": "stream",
     "text": [
      "Split(Box({'beta': {'lb': 6.1875e-05, 'ub': 6.375e-05}}), width = 1.875000000000005e-06)\n",
      "Split(Box({'beta': {'lb': 6.000000000000001e-05, 'ub': 6.1875e-05}}), width = 1.8749999999999914e-06)\n",
      "Split(Box({'beta': {'lb': 5.8125e-05, 'ub': 6.000000000000001e-05}}), width = 1.875000000000005e-06)\n",
      "Split(Box({'beta': {'lb': 5.6250000000000005e-05, 'ub': 5.8125e-05}}), width = 1.8749999999999981e-06)\n",
      "Split(Box({'beta': {'lb': 5.437500000000001e-05, 'ub': 5.6250000000000005e-05}}), width = 1.8749999999999981e-06)\n",
      "WARNING: Running without API token\n",
      "Halting 6fac1fa4-c625-4872-bb76-1e33c2354613\n",
      "INFO:     172.17.0.1:41670 - \"GET /queries/6fac1fa4-c625-4872-bb76-1e33c2354613/halt HTTP/1.1\" 200 OK\n",
      "Completed work on: 6fac1fa4-c625-4872-bb76-1e33c2354613\n",
      "INFO:     127.0.0.1:50034 - \"GET /openapi.json HTTP/1.1\" 200 OK\n",
      "WARNING: Running without API token\n",
      "INFO:     127.0.0.1:50042 - \"POST /queries HTTP/1.1\" 200 OK\n",
      "Starting work on: 8ceb1ec5-ffe4-41e9-b9b3-00a66dcf075a\n",
      "Starting initializing dynamics of model\n",
      "Initialized dynamics of model\n",
      "Split(Box({'beta': {'lb': 3e-05, 'ub': 9e-05}}), width = 6.000000000000001e-05)\n",
      "Split(Box({'beta': {'lb': 6.000000000000001e-05, 'ub': 9e-05}}), width = 2.9999999999999997e-05)\n",
      "WARNING: Running without API token\n",
      "INFO:     127.0.0.1:57730 - \"GET /queries/8ceb1ec5-ffe4-41e9-b9b3-00a66dcf075a HTTP/1.1\" 200 OK\n",
      "Split(Box({'beta': {'lb': 3e-05, 'ub': 6.000000000000001e-05}}), width = 3.0000000000000008e-05)\n",
      "Split(Box({'beta': {'lb': 7.500000000000001e-05, 'ub': 9e-05}}), width = 1.4999999999999999e-05)\n"
     ]
    },
    {
     "name": "stderr",
     "output_type": "stream",
     "text": [
      "Point: Point({'type': 'point', 'label': 'unknown', 'values': {'beta': 6.25125025005001e-05}}) is marked false, but already marked true.\n"
     ]
    },
    {
     "name": "stdout",
     "output_type": "stream",
     "text": [
      "Split(Box({'beta': {'lb': 6.000000000000001e-05, 'ub': 7.500000000000001e-05}}), width = 1.4999999999999999e-05)\n"
     ]
    },
    {
     "name": "stderr",
     "output_type": "stream",
     "text": [
      "Point: Point({'type': 'point', 'label': 'unknown', 'values': {'beta': 5.001000200040008e-05}}) is marked true, but already marked false.\n"
     ]
    },
    {
     "name": "stdout",
     "output_type": "stream",
     "text": [
      "Split(Box({'beta': {'lb': 4.5e-05, 'ub': 6.000000000000001e-05}}), width = 1.5000000000000005e-05)\n",
      "Split(Box({'beta': {'lb': 3e-05, 'ub': 4.5e-05}}), width = 1.5000000000000002e-05)\n"
     ]
    },
    {
     "name": "stderr",
     "output_type": "stream",
     "text": [
      "Point: Point({'type': 'point', 'label': 'unknown', 'values': {'beta': 8.751750350070014e-05}}) is marked false, but already marked true.\n"
     ]
    },
    {
     "name": "stdout",
     "output_type": "stream",
     "text": [
      "Split(Box({'beta': {'lb': 8.25e-05, 'ub': 9e-05}}), width = 7.500000000000006e-06)\n"
     ]
    },
    {
     "name": "stderr",
     "output_type": "stream",
     "text": [
      "Point: Point({'type': 'point', 'label': 'unknown', 'values': {'beta': 7.501500300060012e-05}}) is marked true, but already marked false.\n"
     ]
    },
    {
     "name": "stdout",
     "output_type": "stream",
     "text": [
      "Split(Box({'beta': {'lb': 7.500000000000001e-05, 'ub': 8.25e-05}}), width = 7.4999999999999926e-06)\n",
      "WARNING: Running without API token\n",
      "INFO:     127.0.0.1:57742 - \"GET /queries/8ceb1ec5-ffe4-41e9-b9b3-00a66dcf075a HTTP/1.1\" 200 OK\n"
     ]
    },
    {
     "name": "stderr",
     "output_type": "stream",
     "text": [
      "Point: Point({'type': 'point', 'label': 'unknown', 'values': {'beta': 6.87637527505501e-05}}) is marked false, but already marked true.\n"
     ]
    },
    {
     "name": "stdout",
     "output_type": "stream",
     "text": [
      "Split(Box({'beta': {'lb': 6.750000000000001e-05, 'ub': 7.500000000000001e-05}}), width = 7.4999999999999926e-06)\n",
      "Split(Box({'beta': {'lb': 6.000000000000001e-05, 'ub': 6.750000000000001e-05}}), width = 7.500000000000006e-06)\n"
     ]
    },
    {
     "name": "stderr",
     "output_type": "stream",
     "text": [
      "Point: Point({'type': 'point', 'label': 'unknown', 'values': {'beta': 5.626125225045009e-05}}) is marked false, but already marked true.\n"
     ]
    },
    {
     "name": "stdout",
     "output_type": "stream",
     "text": [
      "Split(Box({'beta': {'lb': 5.25e-05, 'ub': 6.000000000000001e-05}}), width = 7.500000000000006e-06)\n",
      "Split(Box({'beta': {'lb': 4.5e-05, 'ub': 5.25e-05}}), width = 7.499999999999999e-06)\n"
     ]
    },
    {
     "name": "stderr",
     "output_type": "stream",
     "text": [
      "Point: Point({'type': 'point', 'label': 'unknown', 'values': {'beta': 3.750750150030006e-05}}) is marked true, but already marked false.\n"
     ]
    },
    {
     "name": "stdout",
     "output_type": "stream",
     "text": [
      "Split(Box({'beta': {'lb': 3.7500000000000003e-05, 'ub': 4.5e-05}}), width = 7.499999999999999e-06)\n",
      "Split(Box({'beta': {'lb': 3e-05, 'ub': 3.7500000000000003e-05}}), width = 7.500000000000003e-06)\n",
      "Split(Box({'beta': {'lb': 8.625000000000001e-05, 'ub': 9e-05}}), width = 3.7499999999999963e-06)\n"
     ]
    },
    {
     "name": "stderr",
     "output_type": "stream",
     "text": [
      "Point: Point({'type': 'point', 'label': 'unknown', 'values': {'beta': 8.439187837567513e-05}}) is marked false, but already marked true.\n"
     ]
    },
    {
     "name": "stdout",
     "output_type": "stream",
     "text": [
      "Split(Box({'beta': {'lb': 8.25e-05, 'ub': 8.625000000000001e-05}}), width = 3.75000000000001e-06)\n"
     ]
    },
    {
     "name": "stderr",
     "output_type": "stream",
     "text": [
      "Point: Point({'type': 'point', 'label': 'unknown', 'values': {'beta': 8.126625325065012e-05}}) is marked false, but already marked true.\n"
     ]
    },
    {
     "name": "stdout",
     "output_type": "stream",
     "text": [
      "Split(Box({'beta': {'lb': 7.875e-05, 'ub': 8.25e-05}}), width = 3.7499999999999963e-06)\n",
      "Split(Box({'beta': {'lb': 7.500000000000001e-05, 'ub': 7.875e-05}}), width = 3.7499999999999963e-06)\n"
     ]
    },
    {
     "name": "stderr",
     "output_type": "stream",
     "text": [
      "Point: Point({'type': 'point', 'label': 'unknown', 'values': {'beta': 7.188937787557511e-05}}) is marked false, but already marked true.\n"
     ]
    },
    {
     "name": "stdout",
     "output_type": "stream",
     "text": [
      "Split(Box({'beta': {'lb': 7.125000000000001e-05, 'ub': 7.500000000000001e-05}}), width = 3.7499999999999963e-06)\n",
      "Split(Box({'beta': {'lb': 6.750000000000001e-05, 'ub': 7.125000000000001e-05}}), width = 3.7499999999999963e-06)\n"
     ]
    },
    {
     "name": "stderr",
     "output_type": "stream",
     "text": [
      "Point: Point({'type': 'point', 'label': 'unknown', 'values': {'beta': 6.563812762552511e-05}}) is marked false, but already marked true.\n"
     ]
    },
    {
     "name": "stdout",
     "output_type": "stream",
     "text": [
      "Split(Box({'beta': {'lb': 6.375e-05, 'ub': 6.750000000000001e-05}}), width = 3.75000000000001e-06)\n",
      "Split(Box({'beta': {'lb': 6.000000000000001e-05, 'ub': 6.375e-05}}), width = 3.7499999999999963e-06)\n",
      "Split(Box({'beta': {'lb': 5.6250000000000005e-05, 'ub': 6.000000000000001e-05}}), width = 3.750000000000003e-06)\n"
     ]
    },
    {
     "name": "stderr",
     "output_type": "stream",
     "text": [
      "Point: Point({'type': 'point', 'label': 'unknown', 'values': {'beta': 5.313562712542508e-05}}) is marked false, but already marked true.\n"
     ]
    },
    {
     "name": "stdout",
     "output_type": "stream",
     "text": [
      "Split(Box({'beta': {'lb': 5.25e-05, 'ub': 5.6250000000000005e-05}}), width = 3.750000000000003e-06)\n",
      "Split(Box({'beta': {'lb': 4.8750000000000006e-05, 'ub': 5.25e-05}}), width = 3.7499999999999963e-06)\n"
     ]
    },
    {
     "name": "stderr",
     "output_type": "stream",
     "text": [
      "Point: Point({'type': 'point', 'label': 'unknown', 'values': {'beta': 4.688437687537507e-05}}) is marked false, but already marked true.\n"
     ]
    },
    {
     "name": "stdout",
     "output_type": "stream",
     "text": [
      "Split(Box({'beta': {'lb': 4.5e-05, 'ub': 4.8750000000000006e-05}}), width = 3.750000000000003e-06)\n"
     ]
    },
    {
     "name": "stderr",
     "output_type": "stream",
     "text": [
      "Point: Point({'type': 'point', 'label': 'unknown', 'values': {'beta': 4.375875175035007e-05}}) is marked false, but already marked true.\n"
     ]
    },
    {
     "name": "stdout",
     "output_type": "stream",
     "text": [
      "Split(Box({'beta': {'lb': 4.125e-05, 'ub': 4.5e-05}}), width = 3.750000000000003e-06)\n",
      "Split(Box({'beta': {'lb': 3.7500000000000003e-05, 'ub': 4.125e-05}}), width = 3.7499999999999963e-06)\n"
     ]
    },
    {
     "name": "stderr",
     "output_type": "stream",
     "text": [
      "Point: Point({'type': 'point', 'label': 'unknown', 'values': {'beta': 3.438187637527505e-05}}) is marked false, but already marked true.\n"
     ]
    },
    {
     "name": "stdout",
     "output_type": "stream",
     "text": [
      "Split(Box({'beta': {'lb': 3.375e-05, 'ub': 3.7500000000000003e-05}}), width = 3.750000000000003e-06)\n",
      "Split(Box({'beta': {'lb': 3e-05, 'ub': 3.375e-05}}), width = 3.7499999999999997e-06)\n"
     ]
    },
    {
     "name": "stderr",
     "output_type": "stream",
     "text": [
      "Point: Point({'type': 'point', 'label': 'unknown', 'values': {'beta': 8.908031606321264e-05}}) is marked false, but already marked true.\n"
     ]
    },
    {
     "name": "stdout",
     "output_type": "stream",
     "text": [
      "Split(Box({'beta': {'lb': 8.812500000000001e-05, 'ub': 9e-05}}), width = 1.8749999999999914e-06)\n",
      "Split(Box({'beta': {'lb': 8.625000000000001e-05, 'ub': 8.812500000000001e-05}}), width = 1.875000000000005e-06)\n",
      "Split(Box({'beta': {'lb': 8.4375e-05, 'ub': 8.625000000000001e-05}}), width = 1.875000000000005e-06)\n"
     ]
    },
    {
     "name": "stderr",
     "output_type": "stream",
     "text": [
      "Point: Point({'type': 'point', 'label': 'unknown', 'values': {'beta': 8.282906581316263e-05}}) is marked false, but already marked true.\n"
     ]
    },
    {
     "name": "stdout",
     "output_type": "stream",
     "text": [
      "Split(Box({'beta': {'lb': 8.25e-05, 'ub': 8.4375e-05}}), width = 1.875000000000005e-06)\n",
      "Split(Box({'beta': {'lb': 8.0625e-05, 'ub': 8.25e-05}}), width = 1.875000000000005e-06)\n"
     ]
    },
    {
     "name": "stderr",
     "output_type": "stream",
     "text": [
      "Point: Point({'type': 'point', 'label': 'unknown', 'values': {'beta': 7.970344068813763e-05}}) is marked false, but already marked true.\n"
     ]
    },
    {
     "name": "stdout",
     "output_type": "stream",
     "text": [
      "Split(Box({'beta': {'lb': 7.875e-05, 'ub': 8.0625e-05}}), width = 1.8749999999999914e-06)\n"
     ]
    },
    {
     "name": "stderr",
     "output_type": "stream",
     "text": [
      "Point: Point({'type': 'point', 'label': 'unknown', 'values': {'beta': 7.814062812562513e-05}}) is marked false, but already marked true.\n"
     ]
    },
    {
     "name": "stdout",
     "output_type": "stream",
     "text": [
      "Split(Box({'beta': {'lb': 7.687500000000001e-05, 'ub': 7.875e-05}}), width = 1.8749999999999914e-06)\n",
      "Split(Box({'beta': {'lb': 7.500000000000001e-05, 'ub': 7.687500000000001e-05}}), width = 1.875000000000005e-06)\n"
     ]
    },
    {
     "name": "stderr",
     "output_type": "stream",
     "text": [
      "Point: Point({'type': 'point', 'label': 'unknown', 'values': {'beta': 7.345219043808762e-05}}) is marked false, but already marked true.\n"
     ]
    },
    {
     "name": "stdout",
     "output_type": "stream",
     "text": [
      "Split(Box({'beta': {'lb': 7.3125e-05, 'ub': 7.500000000000001e-05}}), width = 1.875000000000005e-06)\n",
      "Split(Box({'beta': {'lb': 7.125000000000001e-05, 'ub': 7.3125e-05}}), width = 1.8749999999999914e-06)\n"
     ]
    },
    {
     "name": "stderr",
     "output_type": "stream",
     "text": [
      "Point: Point({'type': 'point', 'label': 'unknown', 'values': {'beta': 7.032656531306261e-05}}) is marked false, but already marked true.\n"
     ]
    },
    {
     "name": "stdout",
     "output_type": "stream",
     "text": [
      "Split(Box({'beta': {'lb': 6.937500000000002e-05, 'ub': 7.125000000000001e-05}}), width = 1.8749999999999914e-06)\n",
      "Split(Box({'beta': {'lb': 6.750000000000001e-05, 'ub': 6.937500000000002e-05}}), width = 1.875000000000005e-06)\n",
      "Split(Box({'beta': {'lb': 6.562500000000001e-05, 'ub': 6.750000000000001e-05}}), width = 1.875000000000005e-06)\n"
     ]
    },
    {
     "name": "stderr",
     "output_type": "stream",
     "text": [
      "Point: Point({'type': 'point', 'label': 'unknown', 'values': {'beta': 6.40753150630126e-05}}) is marked false, but already marked true.\n"
     ]
    },
    {
     "name": "stdout",
     "output_type": "stream",
     "text": [
      "Split(Box({'beta': {'lb': 6.375e-05, 'ub': 6.562500000000001e-05}}), width = 1.875000000000005e-06)\n",
      "Split(Box({'beta': {'lb': 6.1875e-05, 'ub': 6.375e-05}}), width = 1.875000000000005e-06)\n"
     ]
    },
    {
     "name": "stderr",
     "output_type": "stream",
     "text": [
      "Point: Point({'type': 'point', 'label': 'unknown', 'values': {'beta': 6.0949689937987596e-05}}) is marked false, but already marked true.\n"
     ]
    },
    {
     "name": "stdout",
     "output_type": "stream",
     "text": [
      "Split(Box({'beta': {'lb': 6.000000000000001e-05, 'ub': 6.1875e-05}}), width = 1.8749999999999914e-06)\n"
     ]
    },
    {
     "name": "stderr",
     "output_type": "stream",
     "text": [
      "Point: Point({'type': 'point', 'label': 'unknown', 'values': {'beta': 5.938687737547509e-05}}) is marked false, but already marked true.\n"
     ]
    },
    {
     "name": "stdout",
     "output_type": "stream",
     "text": [
      "Split(Box({'beta': {'lb': 5.8125e-05, 'ub': 6.000000000000001e-05}}), width = 1.875000000000005e-06)\n",
      "Split(Box({'beta': {'lb': 5.6250000000000005e-05, 'ub': 5.8125e-05}}), width = 1.8749999999999981e-06)\n"
     ]
    },
    {
     "name": "stderr",
     "output_type": "stream",
     "text": [
      "Point: Point({'type': 'point', 'label': 'unknown', 'values': {'beta': 5.4698439687937586e-05}}) is marked false, but already marked true.\n"
     ]
    },
    {
     "name": "stdout",
     "output_type": "stream",
     "text": [
      "Split(Box({'beta': {'lb': 5.437500000000001e-05, 'ub': 5.6250000000000005e-05}}), width = 1.8749999999999981e-06)\n",
      "Split(Box({'beta': {'lb': 5.25e-05, 'ub': 5.437500000000001e-05}}), width = 1.875000000000005e-06)\n"
     ]
    },
    {
     "name": "stderr",
     "output_type": "stream",
     "text": [
      "Point: Point({'type': 'point', 'label': 'unknown', 'values': {'beta': 5.1572814562912584e-05}}) is marked false, but already marked true.\n"
     ]
    },
    {
     "name": "stdout",
     "output_type": "stream",
     "text": [
      "Split(Box({'beta': {'lb': 5.0625000000000004e-05, 'ub': 5.25e-05}}), width = 1.8749999999999981e-06)\n",
      "Split(Box({'beta': {'lb': 4.8750000000000006e-05, 'ub': 5.0625000000000004e-05}}), width = 1.8749999999999981e-06)\n",
      "Split(Box({'beta': {'lb': 4.6875e-05, 'ub': 4.8750000000000006e-05}}), width = 1.875000000000005e-06)\n"
     ]
    },
    {
     "name": "stderr",
     "output_type": "stream",
     "text": [
      "Point: Point({'type': 'point', 'label': 'unknown', 'values': {'beta': 4.5321564312862574e-05}}) is marked false, but already marked true.\n"
     ]
    },
    {
     "name": "stdout",
     "output_type": "stream",
     "text": [
      "Split(Box({'beta': {'lb': 4.5e-05, 'ub': 4.6875e-05}}), width = 1.8749999999999981e-06)\n",
      "Split(Box({'beta': {'lb': 4.3125000000000005e-05, 'ub': 4.5e-05}}), width = 1.8749999999999981e-06)\n"
     ]
    },
    {
     "name": "stderr",
     "output_type": "stream",
     "text": [
      "Point: Point({'type': 'point', 'label': 'unknown', 'values': {'beta': 4.2195939187837566e-05}}) is marked false, but already marked true.\n"
     ]
    },
    {
     "name": "stdout",
     "output_type": "stream",
     "text": [
      "Split(Box({'beta': {'lb': 4.125e-05, 'ub': 4.3125000000000005e-05}}), width = 1.875000000000005e-06)\n"
     ]
    },
    {
     "name": "stderr",
     "output_type": "stream",
     "text": [
      "Point: Point({'type': 'point', 'label': 'unknown', 'values': {'beta': 4.063312662532506e-05}}) is marked false, but already marked true.\n"
     ]
    },
    {
     "name": "stdout",
     "output_type": "stream",
     "text": [
      "Split(Box({'beta': {'lb': 3.9375e-05, 'ub': 4.125e-05}}), width = 1.8749999999999981e-06)\n",
      "Split(Box({'beta': {'lb': 3.7500000000000003e-05, 'ub': 3.9375e-05}}), width = 1.8749999999999981e-06)\n"
     ]
    },
    {
     "name": "stderr",
     "output_type": "stream",
     "text": [
      "Point: Point({'type': 'point', 'label': 'unknown', 'values': {'beta': 3.5944688937787556e-05}}) is marked false, but already marked true.\n"
     ]
    },
    {
     "name": "stdout",
     "output_type": "stream",
     "text": [
      "Split(Box({'beta': {'lb': 3.5625e-05, 'ub': 3.7500000000000003e-05}}), width = 1.875000000000005e-06)\n",
      "Split(Box({'beta': {'lb': 3.375e-05, 'ub': 3.5625e-05}}), width = 1.8749999999999981e-06)\n"
     ]
    },
    {
     "name": "stderr",
     "output_type": "stream",
     "text": [
      "Point: Point({'type': 'point', 'label': 'unknown', 'values': {'beta': 3.2819063812762554e-05}}) is marked false, but already marked true.\n"
     ]
    },
    {
     "name": "stdout",
     "output_type": "stream",
     "text": [
      "Split(Box({'beta': {'lb': 3.1875e-05, 'ub': 3.375e-05}}), width = 1.8749999999999981e-06)\n",
      "Split(Box({'beta': {'lb': 3e-05, 'ub': 3.1875e-05}}), width = 1.8750000000000015e-06)\n",
      "Split(Box({'beta': {'lb': 8.90625e-05, 'ub': 9e-05}}), width = 9.375000000000025e-07)\n"
     ]
    },
    {
     "name": "stderr",
     "output_type": "stream",
     "text": [
      "Point: Point({'type': 'point', 'label': 'unknown', 'values': {'beta': 8.82989097819564e-05}}) is marked false, but already marked true.\n"
     ]
    },
    {
     "name": "stdout",
     "output_type": "stream",
     "text": [
      "Split(Box({'beta': {'lb': 8.812500000000001e-05, 'ub': 8.90625e-05}}), width = 9.374999999999889e-07)\n",
      "Split(Box({'beta': {'lb': 8.718750000000001e-05, 'ub': 8.812500000000001e-05}}), width = 9.375000000000025e-07)\n"
     ]
    },
    {
     "name": "stderr",
     "output_type": "stream",
     "text": [
      "Point: Point({'type': 'point', 'label': 'unknown', 'values': {'beta': 8.673609721944388e-05}}) is marked false, but already marked true.\n"
     ]
    },
    {
     "name": "stdout",
     "output_type": "stream",
     "text": [
      "Split(Box({'beta': {'lb': 8.625000000000001e-05, 'ub': 8.718750000000001e-05}}), width = 9.375000000000025e-07)\n"
     ]
    },
    {
     "name": "stderr",
     "output_type": "stream",
     "text": [
      "Point: Point({'type': 'point', 'label': 'unknown', 'values': {'beta': 8.595469093818764e-05}}) is marked false, but already marked true.\n"
     ]
    },
    {
     "name": "stdout",
     "output_type": "stream",
     "text": [
      "Split(Box({'beta': {'lb': 8.531250000000001e-05, 'ub': 8.625000000000001e-05}}), width = 9.375000000000025e-07)\n",
      "Split(Box({'beta': {'lb': 8.4375e-05, 'ub': 8.531250000000001e-05}}), width = 9.375000000000025e-07)\n"
     ]
    },
    {
     "name": "stderr",
     "output_type": "stream",
     "text": [
      "Point: Point({'type': 'point', 'label': 'unknown', 'values': {'beta': 8.361047209441889e-05}}) is marked false, but already marked true.\n"
     ]
    },
    {
     "name": "stdout",
     "output_type": "stream",
     "text": [
      "Split(Box({'beta': {'lb': 8.34375e-05, 'ub': 8.4375e-05}}), width = 9.375000000000025e-07)\n",
      "Split(Box({'beta': {'lb': 8.25e-05, 'ub': 8.34375e-05}}), width = 9.375000000000025e-07)\n"
     ]
    },
    {
     "name": "stderr",
     "output_type": "stream",
     "text": [
      "Point: Point({'type': 'point', 'label': 'unknown', 'values': {'beta': 8.204765953190638e-05}}) is marked false, but already marked true.\n"
     ]
    },
    {
     "name": "stdout",
     "output_type": "stream",
     "text": [
      "Split(Box({'beta': {'lb': 8.15625e-05, 'ub': 8.25e-05}}), width = 9.375000000000025e-07)\n",
      "Split(Box({'beta': {'lb': 8.0625e-05, 'ub': 8.15625e-05}}), width = 9.375000000000025e-07)\n",
      "Split(Box({'beta': {'lb': 7.96875e-05, 'ub': 8.0625e-05}}), width = 9.374999999999889e-07)\n"
     ]
    },
    {
     "name": "stderr",
     "output_type": "stream",
     "text": [
      "Point: Point({'type': 'point', 'label': 'unknown', 'values': {'beta': 7.892203440688137e-05}}) is marked false, but already marked true.\n"
     ]
    },
    {
     "name": "stdout",
     "output_type": "stream",
     "text": [
      "Split(Box({'beta': {'lb': 7.875e-05, 'ub': 7.96875e-05}}), width = 9.375000000000025e-07)\n",
      "Split(Box({'beta': {'lb': 7.78125e-05, 'ub': 7.875e-05}}), width = 9.375000000000025e-07)\n"
     ]
    },
    {
     "name": "stderr",
     "output_type": "stream",
     "text": [
      "Point: Point({'type': 'point', 'label': 'unknown', 'values': {'beta': 7.735922184436887e-05}}) is marked false, but already marked true.\n"
     ]
    },
    {
     "name": "stdout",
     "output_type": "stream",
     "text": [
      "Split(Box({'beta': {'lb': 7.687500000000001e-05, 'ub': 7.78125e-05}}), width = 9.374999999999889e-07)\n"
     ]
    },
    {
     "name": "stderr",
     "output_type": "stream",
     "text": [
      "Point: Point({'type': 'point', 'label': 'unknown', 'values': {'beta': 7.657781556311262e-05}}) is marked false, but already marked true.\n"
     ]
    },
    {
     "name": "stdout",
     "output_type": "stream",
     "text": [
      "Split(Box({'beta': {'lb': 7.593750000000001e-05, 'ub': 7.687500000000001e-05}}), width = 9.375000000000025e-07)\n",
      "Split(Box({'beta': {'lb': 7.500000000000001e-05, 'ub': 7.593750000000001e-05}}), width = 9.375000000000025e-07)\n"
     ]
    },
    {
     "name": "stderr",
     "output_type": "stream",
     "text": [
      "Point: Point({'type': 'point', 'label': 'unknown', 'values': {'beta': 7.423359671934386e-05}}) is marked false, but already marked true.\n"
     ]
    },
    {
     "name": "stdout",
     "output_type": "stream",
     "text": [
      "Split(Box({'beta': {'lb': 7.40625e-05, 'ub': 7.500000000000001e-05}}), width = 9.375000000000025e-07)\n",
      "Split(Box({'beta': {'lb': 7.3125e-05, 'ub': 7.40625e-05}}), width = 9.375000000000025e-07)\n"
     ]
    },
    {
     "name": "stderr",
     "output_type": "stream",
     "text": [
      "Point: Point({'type': 'point', 'label': 'unknown', 'values': {'beta': 7.267078415683137e-05}}) is marked false, but already marked true.\n"
     ]
    },
    {
     "name": "stdout",
     "output_type": "stream",
     "text": [
      "Split(Box({'beta': {'lb': 7.218750000000001e-05, 'ub': 7.3125e-05}}), width = 9.374999999999889e-07)\n",
      "Split(Box({'beta': {'lb': 7.125000000000001e-05, 'ub': 7.218750000000001e-05}}), width = 9.375000000000025e-07)\n",
      "Split(Box({'beta': {'lb': 7.031250000000001e-05, 'ub': 7.125000000000001e-05}}), width = 9.375000000000025e-07)\n"
     ]
    },
    {
     "name": "stderr",
     "output_type": "stream",
     "text": [
      "Point: Point({'type': 'point', 'label': 'unknown', 'values': {'beta': 6.954515903180636e-05}}) is marked false, but already marked true.\n"
     ]
    },
    {
     "name": "stdout",
     "output_type": "stream",
     "text": [
      "Split(Box({'beta': {'lb': 6.937500000000002e-05, 'ub': 7.031250000000001e-05}}), width = 9.374999999999889e-07)\n",
      "Split(Box({'beta': {'lb': 6.843750000000002e-05, 'ub': 6.937500000000002e-05}}), width = 9.375000000000025e-07)\n"
     ]
    },
    {
     "name": "stderr",
     "output_type": "stream",
     "text": [
      "Point: Point({'type': 'point', 'label': 'unknown', 'values': {'beta': 6.798234646929386e-05}}) is marked false, but already marked true.\n"
     ]
    },
    {
     "name": "stdout",
     "output_type": "stream",
     "text": [
      "Split(Box({'beta': {'lb': 6.750000000000001e-05, 'ub': 6.843750000000002e-05}}), width = 9.375000000000025e-07)\n"
     ]
    },
    {
     "name": "stderr",
     "output_type": "stream",
     "text": [
      "Point: Point({'type': 'point', 'label': 'unknown', 'values': {'beta': 6.72009401880376e-05}}) is marked false, but already marked true.\n"
     ]
    },
    {
     "name": "stdout",
     "output_type": "stream",
     "text": [
      "Split(Box({'beta': {'lb': 6.656250000000001e-05, 'ub': 6.750000000000001e-05}}), width = 9.375000000000025e-07)\n",
      "Split(Box({'beta': {'lb': 6.562500000000001e-05, 'ub': 6.656250000000001e-05}}), width = 9.375000000000025e-07)\n"
     ]
    },
    {
     "name": "stderr",
     "output_type": "stream",
     "text": [
      "Point: Point({'type': 'point', 'label': 'unknown', 'values': {'beta': 6.485672134426885e-05}}) is marked false, but already marked true.\n"
     ]
    },
    {
     "name": "stdout",
     "output_type": "stream",
     "text": [
      "Split(Box({'beta': {'lb': 6.468750000000001e-05, 'ub': 6.562500000000001e-05}}), width = 9.375000000000025e-07)\n",
      "Split(Box({'beta': {'lb': 6.375e-05, 'ub': 6.468750000000001e-05}}), width = 9.375000000000025e-07)\n"
     ]
    },
    {
     "name": "stderr",
     "output_type": "stream",
     "text": [
      "Point: Point({'type': 'point', 'label': 'unknown', 'values': {'beta': 6.329390878175636e-05}}) is marked false, but already marked true.\n"
     ]
    },
    {
     "name": "stdout",
     "output_type": "stream",
     "text": [
      "Split(Box({'beta': {'lb': 6.28125e-05, 'ub': 6.375e-05}}), width = 9.375000000000025e-07)\n",
      "Split(Box({'beta': {'lb': 6.1875e-05, 'ub': 6.28125e-05}}), width = 9.375000000000025e-07)\n",
      "Split(Box({'beta': {'lb': 6.0937500000000004e-05, 'ub': 6.1875e-05}}), width = 9.374999999999957e-07)\n"
     ]
    },
    {
     "name": "stderr",
     "output_type": "stream",
     "text": [
      "Point: Point({'type': 'point', 'label': 'unknown', 'values': {'beta': 6.016828365673135e-05}}) is marked false, but already marked true.\n"
     ]
    },
    {
     "name": "stdout",
     "output_type": "stream",
     "text": [
      "Split(Box({'beta': {'lb': 6.000000000000001e-05, 'ub': 6.0937500000000004e-05}}), width = 9.374999999999957e-07)\n",
      "Split(Box({'beta': {'lb': 5.9062500000000006e-05, 'ub': 6.000000000000001e-05}}), width = 9.375000000000025e-07)\n"
     ]
    },
    {
     "name": "stderr",
     "output_type": "stream",
     "text": [
      "Point: Point({'type': 'point', 'label': 'unknown', 'values': {'beta': 5.860547109421884e-05}}) is marked false, but already marked true.\n"
     ]
    },
    {
     "name": "stdout",
     "output_type": "stream",
     "text": [
      "Split(Box({'beta': {'lb': 5.8125e-05, 'ub': 5.9062500000000006e-05}}), width = 9.375000000000025e-07)\n"
     ]
    },
    {
     "name": "stderr",
     "output_type": "stream",
     "text": [
      "Point: Point({'type': 'point', 'label': 'unknown', 'values': {'beta': 5.7824064812962594e-05}}) is marked false, but already marked true.\n"
     ]
    },
    {
     "name": "stdout",
     "output_type": "stream",
     "text": [
      "Split(Box({'beta': {'lb': 5.71875e-05, 'ub': 5.8125e-05}}), width = 9.375000000000025e-07)\n",
      "Split(Box({'beta': {'lb': 5.6250000000000005e-05, 'ub': 5.71875e-05}}), width = 9.374999999999957e-07)\n"
     ]
    },
    {
     "name": "stderr",
     "output_type": "stream",
     "text": [
      "Point: Point({'type': 'point', 'label': 'unknown', 'values': {'beta': 5.547984596919384e-05}}) is marked false, but already marked true.\n"
     ]
    },
    {
     "name": "stdout",
     "output_type": "stream",
     "text": [
      "Split(Box({'beta': {'lb': 5.531250000000001e-05, 'ub': 5.6250000000000005e-05}}), width = 9.374999999999957e-07)\n",
      "Split(Box({'beta': {'lb': 5.437500000000001e-05, 'ub': 5.531250000000001e-05}}), width = 9.375000000000025e-07)\n"
     ]
    },
    {
     "name": "stderr",
     "output_type": "stream",
     "text": [
      "Point: Point({'type': 'point', 'label': 'unknown', 'values': {'beta': 5.391703340668134e-05}}) is marked false, but already marked true.\n"
     ]
    },
    {
     "name": "stdout",
     "output_type": "stream",
     "text": [
      "Split(Box({'beta': {'lb': 5.3437500000000005e-05, 'ub': 5.437500000000001e-05}}), width = 9.375000000000025e-07)\n",
      "Split(Box({'beta': {'lb': 5.25e-05, 'ub': 5.3437500000000005e-05}}), width = 9.375000000000025e-07)\n",
      "Split(Box({'beta': {'lb': 5.15625e-05, 'ub': 5.25e-05}}), width = 9.375000000000025e-07)\n"
     ]
    },
    {
     "name": "stderr",
     "output_type": "stream",
     "text": [
      "Point: Point({'type': 'point', 'label': 'unknown', 'values': {'beta': 5.079140828165633e-05}}) is marked false, but already marked true.\n"
     ]
    },
    {
     "name": "stdout",
     "output_type": "stream",
     "text": [
      "Split(Box({'beta': {'lb': 5.0625000000000004e-05, 'ub': 5.15625e-05}}), width = 9.374999999999957e-07)\n",
      "Split(Box({'beta': {'lb': 4.968750000000001e-05, 'ub': 5.0625000000000004e-05}}), width = 9.374999999999957e-07)\n"
     ]
    },
    {
     "name": "stderr",
     "output_type": "stream",
     "text": [
      "Point: Point({'type': 'point', 'label': 'unknown', 'values': {'beta': 4.922859571914383e-05}}) is marked false, but already marked true.\n"
     ]
    },
    {
     "name": "stdout",
     "output_type": "stream",
     "text": [
      "Split(Box({'beta': {'lb': 4.8750000000000006e-05, 'ub': 4.968750000000001e-05}}), width = 9.375000000000025e-07)\n"
     ]
    },
    {
     "name": "stderr",
     "output_type": "stream",
     "text": [
      "Point: Point({'type': 'point', 'label': 'unknown', 'values': {'beta': 4.8447189437887576e-05}}) is marked false, but already marked true.\n"
     ]
    },
    {
     "name": "stdout",
     "output_type": "stream",
     "text": [
      "Split(Box({'beta': {'lb': 4.7812500000000003e-05, 'ub': 4.8750000000000006e-05}}), width = 9.375000000000025e-07)\n",
      "Split(Box({'beta': {'lb': 4.6875e-05, 'ub': 4.7812500000000003e-05}}), width = 9.375000000000025e-07)\n"
     ]
    },
    {
     "name": "stderr",
     "output_type": "stream",
     "text": [
      "Point: Point({'type': 'point', 'label': 'unknown', 'values': {'beta': 4.610297059411882e-05}}) is marked false, but already marked true.\n"
     ]
    },
    {
     "name": "stdout",
     "output_type": "stream",
     "text": [
      "Split(Box({'beta': {'lb': 4.59375e-05, 'ub': 4.6875e-05}}), width = 9.375000000000025e-07)\n",
      "Split(Box({'beta': {'lb': 4.5e-05, 'ub': 4.59375e-05}}), width = 9.374999999999957e-07)\n"
     ]
    },
    {
     "name": "stderr",
     "output_type": "stream",
     "text": [
      "Point: Point({'type': 'point', 'label': 'unknown', 'values': {'beta': 4.454015803160632e-05}}) is marked false, but already marked true.\n"
     ]
    },
    {
     "name": "stdout",
     "output_type": "stream",
     "text": [
      "Split(Box({'beta': {'lb': 4.406250000000001e-05, 'ub': 4.5e-05}}), width = 9.374999999999957e-07)\n",
      "Split(Box({'beta': {'lb': 4.3125000000000005e-05, 'ub': 4.406250000000001e-05}}), width = 9.375000000000025e-07)\n",
      "Split(Box({'beta': {'lb': 4.21875e-05, 'ub': 4.3125000000000005e-05}}), width = 9.375000000000025e-07)\n"
     ]
    },
    {
     "name": "stderr",
     "output_type": "stream",
     "text": [
      "Point: Point({'type': 'point', 'label': 'unknown', 'values': {'beta': 4.141453290658132e-05}}) is marked false, but already marked true.\n"
     ]
    },
    {
     "name": "stdout",
     "output_type": "stream",
     "text": [
      "Split(Box({'beta': {'lb': 4.125e-05, 'ub': 4.21875e-05}}), width = 9.375000000000025e-07)\n",
      "Split(Box({'beta': {'lb': 4.03125e-05, 'ub': 4.125e-05}}), width = 9.375000000000025e-07)\n"
     ]
    },
    {
     "name": "stderr",
     "output_type": "stream",
     "text": [
      "Point: Point({'type': 'point', 'label': 'unknown', 'values': {'beta': 3.985172034406881e-05}}) is marked false, but already marked true.\n"
     ]
    },
    {
     "name": "stdout",
     "output_type": "stream",
     "text": [
      "Split(Box({'beta': {'lb': 3.9375e-05, 'ub': 4.03125e-05}}), width = 9.374999999999957e-07)\n"
     ]
    },
    {
     "name": "stderr",
     "output_type": "stream",
     "text": [
      "Point: Point({'type': 'point', 'label': 'unknown', 'values': {'beta': 3.9070314062812564e-05}}) is marked false, but already marked true.\n"
     ]
    },
    {
     "name": "stdout",
     "output_type": "stream",
     "text": [
      "Split(Box({'beta': {'lb': 3.8437500000000006e-05, 'ub': 3.9375e-05}}), width = 9.374999999999957e-07)\n",
      "Split(Box({'beta': {'lb': 3.7500000000000003e-05, 'ub': 3.8437500000000006e-05}}), width = 9.375000000000025e-07)\n"
     ]
    },
    {
     "name": "stderr",
     "output_type": "stream",
     "text": [
      "Point: Point({'type': 'point', 'label': 'unknown', 'values': {'beta': 3.672609521904381e-05}}) is marked false, but already marked true.\n"
     ]
    },
    {
     "name": "stdout",
     "output_type": "stream",
     "text": [
      "Split(Box({'beta': {'lb': 3.65625e-05, 'ub': 3.7500000000000003e-05}}), width = 9.375000000000025e-07)\n",
      "Split(Box({'beta': {'lb': 3.5625e-05, 'ub': 3.65625e-05}}), width = 9.375000000000025e-07)\n"
     ]
    },
    {
     "name": "stderr",
     "output_type": "stream",
     "text": [
      "Point: Point({'type': 'point', 'label': 'unknown', 'values': {'beta': 3.516328265653131e-05}}) is marked false, but already marked true.\n"
     ]
    },
    {
     "name": "stdout",
     "output_type": "stream",
     "text": [
      "Split(Box({'beta': {'lb': 3.4687499999999996e-05, 'ub': 3.5625e-05}}), width = 9.375000000000025e-07)\n",
      "Split(Box({'beta': {'lb': 3.375e-05, 'ub': 3.4687499999999996e-05}}), width = 9.374999999999957e-07)\n",
      "Split(Box({'beta': {'lb': 3.2812500000000005e-05, 'ub': 3.375e-05}}), width = 9.374999999999957e-07)\n"
     ]
    },
    {
     "name": "stderr",
     "output_type": "stream",
     "text": [
      "Point: Point({'type': 'point', 'label': 'unknown', 'values': {'beta': 3.20376575315063e-05}}) is marked false, but already marked true.\n"
     ]
    },
    {
     "name": "stdout",
     "output_type": "stream",
     "text": [
      "Split(Box({'beta': {'lb': 3.1875e-05, 'ub': 3.2812500000000005e-05}}), width = 9.375000000000025e-07)\n"
     ]
    },
    {
     "name": "stderr",
     "output_type": "stream",
     "text": [
      "Point: Point({'type': 'point', 'label': 'unknown', 'values': {'beta': 3.125625125025005e-05}}) is marked true, but already marked false.\n"
     ]
    },
    {
     "name": "stdout",
     "output_type": "stream",
     "text": [
      "Split(Box({'beta': {'lb': 3.09375e-05, 'ub': 3.1875e-05}}), width = 9.375000000000025e-07)\n",
      "Split(Box({'beta': {'lb': 3e-05, 'ub': 3.09375e-05}}), width = 9.374999999999991e-07)\n"
     ]
    },
    {
     "name": "stderr",
     "output_type": "stream",
     "text": [
      "Point: Point({'type': 'point', 'label': 'unknown', 'values': {'beta': 8.986172234446889e-05}}) is marked false, but already marked true.\n"
     ]
    },
    {
     "name": "stdout",
     "output_type": "stream",
     "text": [
      "Split(Box({'beta': {'lb': 8.953125000000001e-05, 'ub': 9e-05}}), width = 4.6874999999999445e-07)\n",
      "Split(Box({'beta': {'lb': 8.90625e-05, 'ub': 8.953125000000001e-05}}), width = 4.68750000000008e-07)\n"
     ]
    },
    {
     "name": "stderr",
     "output_type": "stream",
     "text": [
      "Point: Point({'type': 'point', 'label': 'unknown', 'values': {'beta': 8.868961292258452e-05}}) is marked false, but already marked true.\n"
     ]
    },
    {
     "name": "stdout",
     "output_type": "stream",
     "text": [
      "Split(Box({'beta': {'lb': 8.859375000000001e-05, 'ub': 8.90625e-05}}), width = 4.6874999999999445e-07)\n",
      "Split(Box({'beta': {'lb': 8.812500000000001e-05, 'ub': 8.859375000000001e-05}}), width = 4.6874999999999445e-07)\n"
     ]
    },
    {
     "name": "stderr",
     "output_type": "stream",
     "text": [
      "Point: Point({'type': 'point', 'label': 'unknown', 'values': {'beta': 8.790820664132826e-05}}) is marked false, but already marked true.\n"
     ]
    },
    {
     "name": "stdout",
     "output_type": "stream",
     "text": [
      "Split(Box({'beta': {'lb': 8.765625e-05, 'ub': 8.812500000000001e-05}}), width = 4.68750000000008e-07)\n",
      "Split(Box({'beta': {'lb': 8.718750000000001e-05, 'ub': 8.765625e-05}}), width = 4.6874999999999445e-07)\n",
      "Split(Box({'beta': {'lb': 8.671875000000002e-05, 'ub': 8.718750000000001e-05}}), width = 4.6874999999999445e-07)\n"
     ]
    },
    {
     "name": "stderr",
     "output_type": "stream",
     "text": [
      "Point: Point({'type': 'point', 'label': 'unknown', 'values': {'beta': 8.634539407881576e-05}}) is marked false, but already marked true.\n"
     ]
    },
    {
     "name": "stdout",
     "output_type": "stream",
     "text": [
      "Split(Box({'beta': {'lb': 8.625000000000001e-05, 'ub': 8.671875000000002e-05}}), width = 4.68750000000008e-07)\n",
      "Split(Box({'beta': {'lb': 8.578125e-05, 'ub': 8.625000000000001e-05}}), width = 4.68750000000008e-07)\n"
     ]
    },
    {
     "name": "stderr",
     "output_type": "stream",
     "text": [
      "Point: Point({'type': 'point', 'label': 'unknown', 'values': {'beta': 8.556398779755951e-05}}) is marked false, but already marked true.\n"
     ]
    },
    {
     "name": "stdout",
     "output_type": "stream",
     "text": [
      "Split(Box({'beta': {'lb': 8.531250000000001e-05, 'ub': 8.578125e-05}}), width = 4.6874999999999445e-07)\n"
     ]
    },
    {
     "name": "stderr",
     "output_type": "stream",
     "text": [
      "Point: Point({'type': 'point', 'label': 'unknown', 'values': {'beta': 8.517328465693139e-05}}) is marked false, but already marked true.\n"
     ]
    },
    {
     "name": "stdout",
     "output_type": "stream",
     "text": [
      "Split(Box({'beta': {'lb': 8.484375000000001e-05, 'ub': 8.531250000000001e-05}}), width = 4.6874999999999445e-07)\n",
      "Split(Box({'beta': {'lb': 8.4375e-05, 'ub': 8.484375000000001e-05}}), width = 4.68750000000008e-07)\n"
     ]
    },
    {
     "name": "stderr",
     "output_type": "stream",
     "text": [
      "Point: Point({'type': 'point', 'label': 'unknown', 'values': {'beta': 8.400117523504701e-05}}) is marked false, but already marked true.\n"
     ]
    },
    {
     "name": "stdout",
     "output_type": "stream",
     "text": [
      "Split(Box({'beta': {'lb': 8.390625e-05, 'ub': 8.4375e-05}}), width = 4.68750000000008e-07)\n",
      "Split(Box({'beta': {'lb': 8.34375e-05, 'ub': 8.390625e-05}}), width = 4.6874999999999445e-07)\n"
     ]
    },
    {
     "name": "stderr",
     "output_type": "stream",
     "text": [
      "Point: Point({'type': 'point', 'label': 'unknown', 'values': {'beta': 8.321976895379076e-05}}) is marked false, but already marked true.\n"
     ]
    },
    {
     "name": "stdout",
     "output_type": "stream",
     "text": [
      "Split(Box({'beta': {'lb': 8.296875000000001e-05, 'ub': 8.34375e-05}}), width = 4.6874999999999445e-07)\n",
      "Split(Box({'beta': {'lb': 8.25e-05, 'ub': 8.296875000000001e-05}}), width = 4.68750000000008e-07)\n",
      "Split(Box({'beta': {'lb': 8.203124999999999e-05, 'ub': 8.25e-05}}), width = 4.68750000000008e-07)\n"
     ]
    },
    {
     "name": "stderr",
     "output_type": "stream",
     "text": [
      "Point: Point({'type': 'point', 'label': 'unknown', 'values': {'beta': 8.165695639127826e-05}}) is marked false, but already marked true.\n"
     ]
    },
    {
     "name": "stdout",
     "output_type": "stream",
     "text": [
      "Split(Box({'beta': {'lb': 8.15625e-05, 'ub': 8.203124999999999e-05}}), width = 4.6874999999999445e-07)\n",
      "Split(Box({'beta': {'lb': 8.109375e-05, 'ub': 8.15625e-05}}), width = 4.6874999999999445e-07)\n"
     ]
    },
    {
     "name": "stderr",
     "output_type": "stream",
     "text": [
      "Point: Point({'type': 'point', 'label': 'unknown', 'values': {'beta': 8.0875550110022e-05}}) is marked false, but already marked true.\n"
     ]
    },
    {
     "name": "stdout",
     "output_type": "stream",
     "text": [
      "Split(Box({'beta': {'lb': 8.0625e-05, 'ub': 8.109375e-05}}), width = 4.68750000000008e-07)\n"
     ]
    },
    {
     "name": "stderr",
     "output_type": "stream",
     "text": [
      "Point: Point({'type': 'point', 'label': 'unknown', 'values': {'beta': 8.048484696939388e-05}}) is marked false, but already marked true.\n"
     ]
    },
    {
     "name": "stdout",
     "output_type": "stream",
     "text": [
      "Split(Box({'beta': {'lb': 8.015625e-05, 'ub': 8.0625e-05}}), width = 4.6874999999999445e-07)\n",
      "Split(Box({'beta': {'lb': 7.96875e-05, 'ub': 8.015625e-05}}), width = 4.6874999999999445e-07)\n"
     ]
    },
    {
     "name": "stderr",
     "output_type": "stream",
     "text": [
      "Point: Point({'type': 'point', 'label': 'unknown', 'values': {'beta': 7.93127375475095e-05}}) is marked false, but already marked true.\n"
     ]
    },
    {
     "name": "stdout",
     "output_type": "stream",
     "text": [
      "Split(Box({'beta': {'lb': 7.921875e-05, 'ub': 7.96875e-05}}), width = 4.68750000000008e-07)\n",
      "Split(Box({'beta': {'lb': 7.875e-05, 'ub': 7.921875e-05}}), width = 4.6874999999999445e-07)\n"
     ]
    },
    {
     "name": "stderr",
     "output_type": "stream",
     "text": [
      "Point: Point({'type': 'point', 'label': 'unknown', 'values': {'beta': 7.853133126625325e-05}}) is marked false, but already marked true.\n"
     ]
    },
    {
     "name": "stdout",
     "output_type": "stream",
     "text": [
      "Split(Box({'beta': {'lb': 7.828125000000001e-05, 'ub': 7.875e-05}}), width = 4.6874999999999445e-07)\n",
      "Split(Box({'beta': {'lb': 7.78125e-05, 'ub': 7.828125000000001e-05}}), width = 4.68750000000008e-07)\n",
      "Split(Box({'beta': {'lb': 7.734375e-05, 'ub': 7.78125e-05}}), width = 4.6874999999999445e-07)\n"
     ]
    },
    {
     "name": "stderr",
     "output_type": "stream",
     "text": [
      "Point: Point({'type': 'point', 'label': 'unknown', 'values': {'beta': 7.696851870374075e-05}}) is marked false, but already marked true.\n"
     ]
    },
    {
     "name": "stdout",
     "output_type": "stream",
     "text": [
      "Split(Box({'beta': {'lb': 7.687500000000001e-05, 'ub': 7.734375e-05}}), width = 4.6874999999999445e-07)\n",
      "Split(Box({'beta': {'lb': 7.640625e-05, 'ub': 7.687500000000001e-05}}), width = 4.68750000000008e-07)\n"
     ]
    },
    {
     "name": "stderr",
     "output_type": "stream",
     "text": [
      "Point: Point({'type': 'point', 'label': 'unknown', 'values': {'beta': 7.61871124224845e-05}}) is marked false, but already marked true.\n"
     ]
    },
    {
     "name": "stdout",
     "output_type": "stream",
     "text": [
      "Split(Box({'beta': {'lb': 7.593750000000001e-05, 'ub': 7.640625e-05}}), width = 4.6874999999999445e-07)\n"
     ]
    },
    {
     "name": "stderr",
     "output_type": "stream",
     "text": [
      "Point: Point({'type': 'point', 'label': 'unknown', 'values': {'beta': 7.579640928185638e-05}}) is marked false, but already marked true.\n"
     ]
    },
    {
     "name": "stdout",
     "output_type": "stream",
     "text": [
      "Split(Box({'beta': {'lb': 7.546875000000001e-05, 'ub': 7.593750000000001e-05}}), width = 4.6874999999999445e-07)\n",
      "Split(Box({'beta': {'lb': 7.500000000000001e-05, 'ub': 7.546875000000001e-05}}), width = 4.68750000000008e-07)\n"
     ]
    },
    {
     "name": "stderr",
     "output_type": "stream",
     "text": [
      "Point: Point({'type': 'point', 'label': 'unknown', 'values': {'beta': 7.4624299859972e-05}}) is marked false, but already marked true.\n"
     ]
    },
    {
     "name": "stdout",
     "output_type": "stream",
     "text": [
      "Split(Box({'beta': {'lb': 7.453125e-05, 'ub': 7.500000000000001e-05}}), width = 4.68750000000008e-07)\n",
      "Split(Box({'beta': {'lb': 7.40625e-05, 'ub': 7.453125e-05}}), width = 4.6874999999999445e-07)\n"
     ]
    },
    {
     "name": "stderr",
     "output_type": "stream",
     "text": [
      "Point: Point({'type': 'point', 'label': 'unknown', 'values': {'beta': 7.384289357871574e-05}}) is marked false, but already marked true.\n"
     ]
    },
    {
     "name": "stdout",
     "output_type": "stream",
     "text": [
      "Split(Box({'beta': {'lb': 7.359375000000001e-05, 'ub': 7.40625e-05}}), width = 4.6874999999999445e-07)\n",
      "Split(Box({'beta': {'lb': 7.3125e-05, 'ub': 7.359375000000001e-05}}), width = 4.68750000000008e-07)\n",
      "Split(Box({'beta': {'lb': 7.265625000000001e-05, 'ub': 7.3125e-05}}), width = 4.6874999999999445e-07)\n"
     ]
    },
    {
     "name": "stderr",
     "output_type": "stream",
     "text": [
      "Point: Point({'type': 'point', 'label': 'unknown', 'values': {'beta': 7.228008101620325e-05}}) is marked false, but already marked true.\n"
     ]
    },
    {
     "name": "stdout",
     "output_type": "stream",
     "text": [
      "Split(Box({'beta': {'lb': 7.218750000000001e-05, 'ub': 7.265625000000001e-05}}), width = 4.6874999999999445e-07)\n",
      "Split(Box({'beta': {'lb': 7.171875e-05, 'ub': 7.218750000000001e-05}}), width = 4.68750000000008e-07)\n"
     ]
    },
    {
     "name": "stderr",
     "output_type": "stream",
     "text": [
      "Point: Point({'type': 'point', 'label': 'unknown', 'values': {'beta': 7.149867473494699e-05}}) is marked false, but already marked true.\n"
     ]
    },
    {
     "name": "stdout",
     "output_type": "stream",
     "text": [
      "Split(Box({'beta': {'lb': 7.125000000000001e-05, 'ub': 7.171875e-05}}), width = 4.6874999999999445e-07)\n"
     ]
    },
    {
     "name": "stderr",
     "output_type": "stream",
     "text": [
      "Point: Point({'type': 'point', 'label': 'unknown', 'values': {'beta': 7.110797159431887e-05}}) is marked false, but already marked true.\n"
     ]
    },
    {
     "name": "stdout",
     "output_type": "stream",
     "text": [
      "Split(Box({'beta': {'lb': 7.078125000000002e-05, 'ub': 7.125000000000001e-05}}), width = 4.6874999999999445e-07)\n",
      "Split(Box({'beta': {'lb': 7.031250000000001e-05, 'ub': 7.078125000000002e-05}}), width = 4.68750000000008e-07)\n"
     ]
    },
    {
     "name": "stderr",
     "output_type": "stream",
     "text": [
      "Point: Point({'type': 'point', 'label': 'unknown', 'values': {'beta': 6.99358621724345e-05}}) is marked false, but already marked true.\n"
     ]
    },
    {
     "name": "stdout",
     "output_type": "stream",
     "text": [
      "Split(Box({'beta': {'lb': 6.984375000000001e-05, 'ub': 7.031250000000001e-05}}), width = 4.6874999999999445e-07)\n",
      "Split(Box({'beta': {'lb': 6.937500000000002e-05, 'ub': 6.984375000000001e-05}}), width = 4.6874999999999445e-07)\n"
     ]
    },
    {
     "name": "stderr",
     "output_type": "stream",
     "text": [
      "Point: Point({'type': 'point', 'label': 'unknown', 'values': {'beta': 6.915445589117824e-05}}) is marked false, but already marked true.\n"
     ]
    },
    {
     "name": "stdout",
     "output_type": "stream",
     "text": [
      "Split(Box({'beta': {'lb': 6.890625000000001e-05, 'ub': 6.937500000000002e-05}}), width = 4.68750000000008e-07)\n",
      "Split(Box({'beta': {'lb': 6.843750000000002e-05, 'ub': 6.890625000000001e-05}}), width = 4.6874999999999445e-07)\n",
      "Split(Box({'beta': {'lb': 6.796875000000002e-05, 'ub': 6.843750000000002e-05}}), width = 4.6874999999999445e-07)\n"
     ]
    },
    {
     "name": "stderr",
     "output_type": "stream",
     "text": [
      "Point: Point({'type': 'point', 'label': 'unknown', 'values': {'beta': 6.759164332866573e-05}}) is marked false, but already marked true.\n"
     ]
    },
    {
     "name": "stdout",
     "output_type": "stream",
     "text": [
      "Split(Box({'beta': {'lb': 6.750000000000001e-05, 'ub': 6.796875000000002e-05}}), width = 4.68750000000008e-07)\n",
      "Split(Box({'beta': {'lb': 6.703125e-05, 'ub': 6.750000000000001e-05}}), width = 4.68750000000008e-07)\n"
     ]
    },
    {
     "name": "stderr",
     "output_type": "stream",
     "text": [
      "Point: Point({'type': 'point', 'label': 'unknown', 'values': {'beta': 6.681023704740949e-05}}) is marked false, but already marked true.\n"
     ]
    },
    {
     "name": "stdout",
     "output_type": "stream",
     "text": [
      "Split(Box({'beta': {'lb': 6.656250000000001e-05, 'ub': 6.703125e-05}}), width = 4.6874999999999445e-07)\n"
     ]
    },
    {
     "name": "stderr",
     "output_type": "stream",
     "text": [
      "Point: Point({'type': 'point', 'label': 'unknown', 'values': {'beta': 6.641953390678135e-05}}) is marked false, but already marked true.\n"
     ]
    },
    {
     "name": "stdout",
     "output_type": "stream",
     "text": [
      "Split(Box({'beta': {'lb': 6.609375000000002e-05, 'ub': 6.656250000000001e-05}}), width = 4.6874999999999445e-07)\n",
      "Split(Box({'beta': {'lb': 6.562500000000001e-05, 'ub': 6.609375000000002e-05}}), width = 4.68750000000008e-07)\n"
     ]
    },
    {
     "name": "stderr",
     "output_type": "stream",
     "text": [
      "Point: Point({'type': 'point', 'label': 'unknown', 'values': {'beta': 6.524742448489697e-05}}) is marked false, but already marked true.\n"
     ]
    },
    {
     "name": "stdout",
     "output_type": "stream",
     "text": [
      "Split(Box({'beta': {'lb': 6.515625e-05, 'ub': 6.562500000000001e-05}}), width = 4.68750000000008e-07)\n",
      "Split(Box({'beta': {'lb': 6.468750000000001e-05, 'ub': 6.515625e-05}}), width = 4.6874999999999445e-07)\n"
     ]
    },
    {
     "name": "stderr",
     "output_type": "stream",
     "text": [
      "Point: Point({'type': 'point', 'label': 'unknown', 'values': {'beta': 6.446601820364073e-05}}) is marked false, but already marked true.\n"
     ]
    },
    {
     "name": "stdout",
     "output_type": "stream",
     "text": [
      "Split(Box({'beta': {'lb': 6.421875000000001e-05, 'ub': 6.468750000000001e-05}}), width = 4.6874999999999445e-07)\n",
      "Split(Box({'beta': {'lb': 6.375e-05, 'ub': 6.421875000000001e-05}}), width = 4.68750000000008e-07)\n",
      "Split(Box({'beta': {'lb': 6.328125e-05, 'ub': 6.375e-05}}), width = 4.68750000000008e-07)\n"
     ]
    },
    {
     "name": "stderr",
     "output_type": "stream",
     "text": [
      "Point: Point({'type': 'point', 'label': 'unknown', 'values': {'beta': 6.290320564112822e-05}}) is marked false, but already marked true.\n"
     ]
    },
    {
     "name": "stdout",
     "output_type": "stream",
     "text": [
      "Split(Box({'beta': {'lb': 6.28125e-05, 'ub': 6.328125e-05}}), width = 4.6874999999999445e-07)\n",
      "Split(Box({'beta': {'lb': 6.234375000000001e-05, 'ub': 6.28125e-05}}), width = 4.6874999999999445e-07)\n"
     ]
    },
    {
     "name": "stderr",
     "output_type": "stream",
     "text": [
      "Point: Point({'type': 'point', 'label': 'unknown', 'values': {'beta': 6.212179935987198e-05}}) is marked false, but already marked true.\n"
     ]
    },
    {
     "name": "stdout",
     "output_type": "stream",
     "text": [
      "Split(Box({'beta': {'lb': 6.1875e-05, 'ub': 6.234375000000001e-05}}), width = 4.68750000000008e-07)\n"
     ]
    },
    {
     "name": "stderr",
     "output_type": "stream",
     "text": [
      "Point: Point({'type': 'point', 'label': 'unknown', 'values': {'beta': 6.173109621924384e-05}}) is marked false, but already marked true.\n"
     ]
    },
    {
     "name": "stdout",
     "output_type": "stream",
     "text": [
      "Split(Box({'beta': {'lb': 6.140625e-05, 'ub': 6.1875e-05}}), width = 4.6874999999999445e-07)\n",
      "Split(Box({'beta': {'lb': 6.0937500000000004e-05, 'ub': 6.140625e-05}}), width = 4.6875000000000123e-07)\n"
     ]
    },
    {
     "name": "stderr",
     "output_type": "stream",
     "text": [
      "Point: Point({'type': 'point', 'label': 'unknown', 'values': {'beta': 6.0558986797359475e-05}}) is marked false, but already marked true.\n"
     ]
    },
    {
     "name": "stdout",
     "output_type": "stream",
     "text": [
      "Split(Box({'beta': {'lb': 6.046875e-05, 'ub': 6.0937500000000004e-05}}), width = 4.6875000000000123e-07)\n",
      "Split(Box({'beta': {'lb': 6.000000000000001e-05, 'ub': 6.046875e-05}}), width = 4.6874999999999445e-07)\n"
     ]
    },
    {
     "name": "stderr",
     "output_type": "stream",
     "text": [
      "Point: Point({'type': 'point', 'label': 'unknown', 'values': {'beta': 5.977758051610322e-05}}) is marked false, but already marked true.\n"
     ]
    },
    {
     "name": "stdout",
     "output_type": "stream",
     "text": [
      "Split(Box({'beta': {'lb': 5.953125000000001e-05, 'ub': 6.000000000000001e-05}}), width = 4.6875000000000123e-07)\n",
      "Split(Box({'beta': {'lb': 5.9062500000000006e-05, 'ub': 5.953125000000001e-05}}), width = 4.6875000000000123e-07)\n",
      "Split(Box({'beta': {'lb': 5.8593750000000005e-05, 'ub': 5.9062500000000006e-05}}), width = 4.6875000000000123e-07)\n"
     ]
    },
    {
     "name": "stderr",
     "output_type": "stream",
     "text": [
      "Point: Point({'type': 'point', 'label': 'unknown', 'values': {'beta': 5.8214767953590715e-05}}) is marked false, but already marked true.\n"
     ]
    },
    {
     "name": "stdout",
     "output_type": "stream",
     "text": [
      "Split(Box({'beta': {'lb': 5.8125e-05, 'ub': 5.8593750000000005e-05}}), width = 4.6875000000000123e-07)\n",
      "Split(Box({'beta': {'lb': 5.765625e-05, 'ub': 5.8125e-05}}), width = 4.6875000000000123e-07)\n"
     ]
    },
    {
     "name": "stderr",
     "output_type": "stream",
     "text": [
      "Point: Point({'type': 'point', 'label': 'unknown', 'values': {'beta': 5.743336167233447e-05}}) is marked false, but already marked true.\n"
     ]
    },
    {
     "name": "stdout",
     "output_type": "stream",
     "text": [
      "Split(Box({'beta': {'lb': 5.71875e-05, 'ub': 5.765625e-05}}), width = 4.6875000000000123e-07)\n"
     ]
    },
    {
     "name": "stderr",
     "output_type": "stream",
     "text": [
      "Point: Point({'type': 'point', 'label': 'unknown', 'values': {'beta': 5.704265853170634e-05}}) is marked false, but already marked true.\n"
     ]
    },
    {
     "name": "stdout",
     "output_type": "stream",
     "text": [
      "Split(Box({'beta': {'lb': 5.6718750000000006e-05, 'ub': 5.71875e-05}}), width = 4.6874999999999445e-07)\n",
      "Split(Box({'beta': {'lb': 5.6250000000000005e-05, 'ub': 5.6718750000000006e-05}}), width = 4.6875000000000123e-07)\n"
     ]
    },
    {
     "name": "stderr",
     "output_type": "stream",
     "text": [
      "Point: Point({'type': 'point', 'label': 'unknown', 'values': {'beta': 5.587054910982196e-05}}) is marked false, but already marked true.\n"
     ]
    },
    {
     "name": "stdout",
     "output_type": "stream",
     "text": [
      "Split(Box({'beta': {'lb': 5.5781250000000004e-05, 'ub': 5.6250000000000005e-05}}), width = 4.6875000000000123e-07)\n",
      "Split(Box({'beta': {'lb': 5.531250000000001e-05, 'ub': 5.5781250000000004e-05}}), width = 4.6874999999999445e-07)\n"
     ]
    },
    {
     "name": "stderr",
     "output_type": "stream",
     "text": [
      "Point: Point({'type': 'point', 'label': 'unknown', 'values': {'beta': 5.5089142828565714e-05}}) is marked false, but already marked true.\n"
     ]
    },
    {
     "name": "stdout",
     "output_type": "stream",
     "text": [
      "Split(Box({'beta': {'lb': 5.484375000000001e-05, 'ub': 5.531250000000001e-05}}), width = 4.6875000000000123e-07)\n",
      "Split(Box({'beta': {'lb': 5.437500000000001e-05, 'ub': 5.484375000000001e-05}}), width = 4.6875000000000123e-07)\n",
      "Split(Box({'beta': {'lb': 5.3906250000000006e-05, 'ub': 5.437500000000001e-05}}), width = 4.6875000000000123e-07)\n"
     ]
    },
    {
     "name": "stderr",
     "output_type": "stream",
     "text": [
      "Point: Point({'type': 'point', 'label': 'unknown', 'values': {'beta': 5.352633026605321e-05}}) is marked false, but already marked true.\n"
     ]
    },
    {
     "name": "stdout",
     "output_type": "stream",
     "text": [
      "Split(Box({'beta': {'lb': 5.3437500000000005e-05, 'ub': 5.3906250000000006e-05}}), width = 4.6875000000000123e-07)\n",
      "Split(Box({'beta': {'lb': 5.2968750000000003e-05, 'ub': 5.3437500000000005e-05}}), width = 4.6875000000000123e-07)\n"
     ]
    },
    {
     "name": "stderr",
     "output_type": "stream",
     "text": [
      "Point: Point({'type': 'point', 'label': 'unknown', 'values': {'beta': 5.274492398479696e-05}}) is marked false, but already marked true.\n"
     ]
    },
    {
     "name": "stdout",
     "output_type": "stream",
     "text": [
      "Split(Box({'beta': {'lb': 5.25e-05, 'ub': 5.2968750000000003e-05}}), width = 4.6875000000000123e-07)\n"
     ]
    },
    {
     "name": "stderr",
     "output_type": "stream",
     "text": [
      "Point: Point({'type': 'point', 'label': 'unknown', 'values': {'beta': 5.235422084416883e-05}}) is marked false, but already marked true.\n"
     ]
    },
    {
     "name": "stdout",
     "output_type": "stream",
     "text": [
      "Split(Box({'beta': {'lb': 5.203125e-05, 'ub': 5.25e-05}}), width = 4.6875000000000123e-07)\n",
      "Split(Box({'beta': {'lb': 5.15625e-05, 'ub': 5.203125e-05}}), width = 4.6875000000000123e-07)\n"
     ]
    },
    {
     "name": "stderr",
     "output_type": "stream",
     "text": [
      "Point: Point({'type': 'point', 'label': 'unknown', 'values': {'beta': 5.118211142228446e-05}}) is marked false, but already marked true.\n"
     ]
    },
    {
     "name": "stdout",
     "output_type": "stream",
     "text": [
      "Split(Box({'beta': {'lb': 5.1093750000000005e-05, 'ub': 5.15625e-05}}), width = 4.6874999999999445e-07)\n",
      "Split(Box({'beta': {'lb': 5.0625000000000004e-05, 'ub': 5.1093750000000005e-05}}), width = 4.6875000000000123e-07)\n"
     ]
    },
    {
     "name": "stderr",
     "output_type": "stream",
     "text": [
      "Point: Point({'type': 'point', 'label': 'unknown', 'values': {'beta': 5.040070514102821e-05}}) is marked false, but already marked true.\n"
     ]
    },
    {
     "name": "stdout",
     "output_type": "stream",
     "text": [
      "Split(Box({'beta': {'lb': 5.015625e-05, 'ub': 5.0625000000000004e-05}}), width = 4.6875000000000123e-07)\n",
      "Split(Box({'beta': {'lb': 4.968750000000001e-05, 'ub': 5.015625e-05}}), width = 4.6874999999999445e-07)\n",
      "Split(Box({'beta': {'lb': 4.921875000000001e-05, 'ub': 4.968750000000001e-05}}), width = 4.6875000000000123e-07)\n"
     ]
    },
    {
     "name": "stderr",
     "output_type": "stream",
     "text": [
      "Point: Point({'type': 'point', 'label': 'unknown', 'values': {'beta': 4.8837892578515704e-05}}) is marked false, but already marked true.\n"
     ]
    },
    {
     "name": "stdout",
     "output_type": "stream",
     "text": [
      "Split(Box({'beta': {'lb': 4.8750000000000006e-05, 'ub': 4.921875000000001e-05}}), width = 4.6875000000000123e-07)\n",
      "Split(Box({'beta': {'lb': 4.8281250000000005e-05, 'ub': 4.8750000000000006e-05}}), width = 4.6875000000000123e-07)\n"
     ]
    },
    {
     "name": "stderr",
     "output_type": "stream",
     "text": [
      "Point: Point({'type': 'point', 'label': 'unknown', 'values': {'beta': 4.8056486297259455e-05}}) is marked false, but already marked true.\n"
     ]
    },
    {
     "name": "stdout",
     "output_type": "stream",
     "text": [
      "Split(Box({'beta': {'lb': 4.7812500000000003e-05, 'ub': 4.8281250000000005e-05}}), width = 4.6875000000000123e-07)\n"
     ]
    },
    {
     "name": "stderr",
     "output_type": "stream",
     "text": [
      "Point: Point({'type': 'point', 'label': 'unknown', 'values': {'beta': 4.766578315663133e-05}}) is marked false, but already marked true.\n"
     ]
    },
    {
     "name": "stdout",
     "output_type": "stream",
     "text": [
      "Split(Box({'beta': {'lb': 4.734375e-05, 'ub': 4.7812500000000003e-05}}), width = 4.6875000000000123e-07)\n",
      "WARNING: Running without API token\n",
      "INFO:     127.0.0.1:57848 - \"GET /queries/8ceb1ec5-ffe4-41e9-b9b3-00a66dcf075a HTTP/1.1\" 200 OK\n",
      "Split(Box({'beta': {'lb': 4.6875e-05, 'ub': 4.734375e-05}}), width = 4.6875000000000123e-07)\n"
     ]
    },
    {
     "name": "stderr",
     "output_type": "stream",
     "text": [
      "Point: Point({'type': 'point', 'label': 'unknown', 'values': {'beta': 4.649367373474695e-05}}) is marked false, but already marked true.\n"
     ]
    },
    {
     "name": "stdout",
     "output_type": "stream",
     "text": [
      "Split(Box({'beta': {'lb': 4.640625e-05, 'ub': 4.6875e-05}}), width = 4.6875000000000123e-07)\n",
      "Split(Box({'beta': {'lb': 4.59375e-05, 'ub': 4.640625e-05}}), width = 4.6875000000000123e-07)\n"
     ]
    },
    {
     "name": "stderr",
     "output_type": "stream",
     "text": [
      "Point: Point({'type': 'point', 'label': 'unknown', 'values': {'beta': 4.5712267453490695e-05}}) is marked false, but already marked true.\n"
     ]
    },
    {
     "name": "stdout",
     "output_type": "stream",
     "text": [
      "Split(Box({'beta': {'lb': 4.5468750000000004e-05, 'ub': 4.59375e-05}}), width = 4.6874999999999445e-07)\n",
      "Split(Box({'beta': {'lb': 4.5e-05, 'ub': 4.5468750000000004e-05}}), width = 4.6875000000000123e-07)\n",
      "Split(Box({'beta': {'lb': 4.453125e-05, 'ub': 4.5e-05}}), width = 4.6875000000000123e-07)\n"
     ]
    },
    {
     "name": "stderr",
     "output_type": "stream",
     "text": [
      "Point: Point({'type': 'point', 'label': 'unknown', 'values': {'beta': 4.41494548909782e-05}}) is marked false, but already marked true.\n"
     ]
    },
    {
     "name": "stdout",
     "output_type": "stream",
     "text": [
      "Split(Box({'beta': {'lb': 4.406250000000001e-05, 'ub': 4.453125e-05}}), width = 4.6874999999999445e-07)\n",
      "Split(Box({'beta': {'lb': 4.3593750000000006e-05, 'ub': 4.406250000000001e-05}}), width = 4.6875000000000123e-07)\n"
     ]
    },
    {
     "name": "stderr",
     "output_type": "stream",
     "text": [
      "Point: Point({'type': 'point', 'label': 'unknown', 'values': {'beta': 4.336804860972194e-05}}) is marked false, but already marked true.\n"
     ]
    },
    {
     "name": "stdout",
     "output_type": "stream",
     "text": [
      "Split(Box({'beta': {'lb': 4.3125000000000005e-05, 'ub': 4.3593750000000006e-05}}), width = 4.6875000000000123e-07)\n"
     ]
    },
    {
     "name": "stderr",
     "output_type": "stream",
     "text": [
      "Point: Point({'type': 'point', 'label': 'unknown', 'values': {'beta': 4.297734546909382e-05}}) is marked false, but already marked true.\n"
     ]
    },
    {
     "name": "stdout",
     "output_type": "stream",
     "text": [
      "Split(Box({'beta': {'lb': 4.2656250000000003e-05, 'ub': 4.3125000000000005e-05}}), width = 4.6875000000000123e-07)\n",
      "Split(Box({'beta': {'lb': 4.21875e-05, 'ub': 4.2656250000000003e-05}}), width = 4.6875000000000123e-07)\n"
     ]
    },
    {
     "name": "stderr",
     "output_type": "stream",
     "text": [
      "Point: Point({'type': 'point', 'label': 'unknown', 'values': {'beta': 4.1805236047209445e-05}}) is marked false, but already marked true.\n"
     ]
    },
    {
     "name": "stdout",
     "output_type": "stream",
     "text": [
      "Split(Box({'beta': {'lb': 4.171875e-05, 'ub': 4.21875e-05}}), width = 4.6875000000000123e-07)\n",
      "Split(Box({'beta': {'lb': 4.125e-05, 'ub': 4.171875e-05}}), width = 4.6875000000000123e-07)\n"
     ]
    },
    {
     "name": "stderr",
     "output_type": "stream",
     "text": [
      "Point: Point({'type': 'point', 'label': 'unknown', 'values': {'beta': 4.102382976595319e-05}}) is marked false, but already marked true.\n"
     ]
    },
    {
     "name": "stdout",
     "output_type": "stream",
     "text": [
      "Split(Box({'beta': {'lb': 4.078125e-05, 'ub': 4.125e-05}}), width = 4.6875000000000123e-07)\n",
      "Split(Box({'beta': {'lb': 4.03125e-05, 'ub': 4.078125e-05}}), width = 4.6875000000000123e-07)\n",
      "Split(Box({'beta': {'lb': 3.984375e-05, 'ub': 4.03125e-05}}), width = 4.6874999999999445e-07)\n"
     ]
    },
    {
     "name": "stderr",
     "output_type": "stream",
     "text": [
      "Point: Point({'type': 'point', 'label': 'unknown', 'values': {'beta': 3.9461017203440685e-05}}) is marked false, but already marked true.\n"
     ]
    },
    {
     "name": "stdout",
     "output_type": "stream",
     "text": [
      "Split(Box({'beta': {'lb': 3.9375e-05, 'ub': 3.984375e-05}}), width = 4.6875000000000123e-07)\n",
      "Split(Box({'beta': {'lb': 3.890625e-05, 'ub': 3.9375e-05}}), width = 4.6875000000000123e-07)\n"
     ]
    },
    {
     "name": "stderr",
     "output_type": "stream",
     "text": [
      "Point: Point({'type': 'point', 'label': 'unknown', 'values': {'beta': 3.8679610922184437e-05}}) is marked false, but already marked true.\n"
     ]
    },
    {
     "name": "stdout",
     "output_type": "stream",
     "text": [
      "Split(Box({'beta': {'lb': 3.8437500000000006e-05, 'ub': 3.890625e-05}}), width = 4.6874999999999445e-07)\n"
     ]
    },
    {
     "name": "stderr",
     "output_type": "stream",
     "text": [
      "Point: Point({'type': 'point', 'label': 'unknown', 'values': {'beta': 3.828890778155631e-05}}) is marked false, but already marked true.\n"
     ]
    },
    {
     "name": "stdout",
     "output_type": "stream",
     "text": [
      "Split(Box({'beta': {'lb': 3.7968750000000005e-05, 'ub': 3.8437500000000006e-05}}), width = 4.6875000000000123e-07)\n",
      "Split(Box({'beta': {'lb': 3.7500000000000003e-05, 'ub': 3.7968750000000005e-05}}), width = 4.6875000000000123e-07)\n"
     ]
    },
    {
     "name": "stderr",
     "output_type": "stream",
     "text": [
      "Point: Point({'type': 'point', 'label': 'unknown', 'values': {'beta': 3.711679835967193e-05}}) is marked false, but already marked true.\n"
     ]
    },
    {
     "name": "stdout",
     "output_type": "stream",
     "text": [
      "Split(Box({'beta': {'lb': 3.703125e-05, 'ub': 3.7500000000000003e-05}}), width = 4.6875000000000123e-07)\n",
      "Split(Box({'beta': {'lb': 3.65625e-05, 'ub': 3.703125e-05}}), width = 4.6875000000000123e-07)\n"
     ]
    },
    {
     "name": "stderr",
     "output_type": "stream",
     "text": [
      "Point: Point({'type': 'point', 'label': 'unknown', 'values': {'beta': 3.6335392078415684e-05}}) is marked false, but already marked true.\n"
     ]
    },
    {
     "name": "stdout",
     "output_type": "stream",
     "text": [
      "Split(Box({'beta': {'lb': 3.609375e-05, 'ub': 3.65625e-05}}), width = 4.6875000000000123e-07)\n",
      "Split(Box({'beta': {'lb': 3.5625e-05, 'ub': 3.609375e-05}}), width = 4.6875000000000123e-07)\n",
      "Split(Box({'beta': {'lb': 3.515625e-05, 'ub': 3.5625e-05}}), width = 4.6875000000000123e-07)\n"
     ]
    },
    {
     "name": "stderr",
     "output_type": "stream",
     "text": [
      "Point: Point({'type': 'point', 'label': 'unknown', 'values': {'beta': 3.477257951590318e-05}}) is marked false, but already marked true.\n"
     ]
    },
    {
     "name": "stdout",
     "output_type": "stream",
     "text": [
      "Split(Box({'beta': {'lb': 3.4687499999999996e-05, 'ub': 3.515625e-05}}), width = 4.6875000000000123e-07)\n",
      "Split(Box({'beta': {'lb': 3.421875e-05, 'ub': 3.4687499999999996e-05}}), width = 4.6874999999999445e-07)\n"
     ]
    },
    {
     "name": "stderr",
     "output_type": "stream",
     "text": [
      "Point: Point({'type': 'point', 'label': 'unknown', 'values': {'beta': 3.399117323464693e-05}}) is marked false, but already marked true.\n"
     ]
    },
    {
     "name": "stdout",
     "output_type": "stream",
     "text": [
      "Split(Box({'beta': {'lb': 3.375e-05, 'ub': 3.421875e-05}}), width = 4.6875000000000123e-07)\n"
     ]
    },
    {
     "name": "stderr",
     "output_type": "stream",
     "text": [
      "Point: Point({'type': 'point', 'label': 'unknown', 'values': {'beta': 3.36004700940188e-05}}) is marked false, but already marked true.\n"
     ]
    },
    {
     "name": "stdout",
     "output_type": "stream",
     "text": [
      "Split(Box({'beta': {'lb': 3.328125e-05, 'ub': 3.375e-05}}), width = 4.6875000000000123e-07)\n",
      "Split(Box({'beta': {'lb': 3.2812500000000005e-05, 'ub': 3.328125e-05}}), width = 4.6874999999999445e-07)\n"
     ]
    },
    {
     "name": "stderr",
     "output_type": "stream",
     "text": [
      "Point: Point({'type': 'point', 'label': 'unknown', 'values': {'beta': 3.2428360672134427e-05}}) is marked false, but already marked true.\n"
     ]
    },
    {
     "name": "stdout",
     "output_type": "stream",
     "text": [
      "Split(Box({'beta': {'lb': 3.2343750000000004e-05, 'ub': 3.2812500000000005e-05}}), width = 4.6875000000000123e-07)\n",
      "Split(Box({'beta': {'lb': 3.1875e-05, 'ub': 3.2343750000000004e-05}}), width = 4.6875000000000123e-07)\n"
     ]
    },
    {
     "name": "stderr",
     "output_type": "stream",
     "text": [
      "Point: Point({'type': 'point', 'label': 'unknown', 'values': {'beta': 3.164695439087818e-05}}) is marked false, but already marked true.\n"
     ]
    },
    {
     "name": "stdout",
     "output_type": "stream",
     "text": [
      "Split(Box({'beta': {'lb': 3.140625e-05, 'ub': 3.1875e-05}}), width = 4.6875000000000123e-07)\n",
      "Split(Box({'beta': {'lb': 3.09375e-05, 'ub': 3.140625e-05}}), width = 4.6875000000000123e-07)\n"
     ]
    },
    {
     "name": "stderr",
     "output_type": "stream",
     "text": [
      "Point: Point({'type': 'point', 'label': 'unknown', 'values': {'beta': 3.0474844968993798e-05}}) is marked true, but already marked false.\n"
     ]
    },
    {
     "name": "stdout",
     "output_type": "stream",
     "text": [
      "Split(Box({'beta': {'lb': 3.046875e-05, 'ub': 3.09375e-05}}), width = 4.6875000000000123e-07)\n",
      "Split(Box({'beta': {'lb': 3e-05, 'ub': 3.046875e-05}}), width = 4.6874999999999784e-07)\n",
      "Split(Box({'beta': {'lb': 8.9765625e-05, 'ub': 9e-05}}), width = 2.34375000000004e-07)\n"
     ]
    },
    {
     "name": "stderr",
     "output_type": "stream",
     "text": [
      "Point: Point({'type': 'point', 'label': 'unknown', 'values': {'beta': 8.966637077415483e-05}}) is marked false, but already marked true.\n"
     ]
    },
    {
     "name": "stdout",
     "output_type": "stream",
     "text": [
      "Split(Box({'beta': {'lb': 8.953125000000001e-05, 'ub': 8.9765625e-05}}), width = 2.3437499999999045e-07)\n"
     ]
    },
    {
     "name": "stderr",
     "output_type": "stream",
     "text": [
      "Point: Point({'type': 'point', 'label': 'unknown', 'values': {'beta': 8.947101920384077e-05}}) is marked false, but already marked true.\n"
     ]
    },
    {
     "name": "stdout",
     "output_type": "stream",
     "text": [
      "Split(Box({'beta': {'lb': 8.929687500000001e-05, 'ub': 8.953125000000001e-05}}), width = 2.34375000000004e-07)\n",
      "Split(Box({'beta': {'lb': 8.90625e-05, 'ub': 8.929687500000001e-05}}), width = 2.34375000000004e-07)\n"
     ]
    },
    {
     "name": "stderr",
     "output_type": "stream",
     "text": [
      "Point: Point({'type': 'point', 'label': 'unknown', 'values': {'beta': 8.888496449289858e-05}}) is marked false, but already marked true.\n"
     ]
    },
    {
     "name": "stdout",
     "output_type": "stream",
     "text": [
      "Split(Box({'beta': {'lb': 8.882812500000001e-05, 'ub': 8.90625e-05}}), width = 2.3437499999999045e-07)\n",
      "Split(Box({'beta': {'lb': 8.859375000000001e-05, 'ub': 8.882812500000001e-05}}), width = 2.34375000000004e-07)\n"
     ]
    },
    {
     "name": "stderr",
     "output_type": "stream",
     "text": [
      "Point: Point({'type': 'point', 'label': 'unknown', 'values': {'beta': 8.849426135227046e-05}}) is marked false, but already marked true.\n"
     ]
    },
    {
     "name": "stdout",
     "output_type": "stream",
     "text": [
      "Split(Box({'beta': {'lb': 8.8359375e-05, 'ub': 8.859375000000001e-05}}), width = 2.34375000000004e-07)\n",
      "Split(Box({'beta': {'lb': 8.812500000000001e-05, 'ub': 8.8359375e-05}}), width = 2.3437499999999045e-07)\n",
      "Split(Box({'beta': {'lb': 8.789062500000001e-05, 'ub': 8.812500000000001e-05}}), width = 2.34375000000004e-07)\n"
     ]
    },
    {
     "name": "stderr",
     "output_type": "stream",
     "text": [
      "Point: Point({'type': 'point', 'label': 'unknown', 'values': {'beta': 8.77128550710142e-05}}) is marked false, but already marked true.\n"
     ]
    },
    {
     "name": "stdout",
     "output_type": "stream",
     "text": [
      "Split(Box({'beta': {'lb': 8.765625e-05, 'ub': 8.789062500000001e-05}}), width = 2.34375000000004e-07)\n",
      "Split(Box({'beta': {'lb': 8.742187500000002e-05, 'ub': 8.765625e-05}}), width = 2.3437499999999045e-07)\n"
     ]
    },
    {
     "name": "stderr",
     "output_type": "stream",
     "text": [
      "Point: Point({'type': 'point', 'label': 'unknown', 'values': {'beta': 8.732215193038608e-05}}) is marked false, but already marked true.\n"
     ]
    },
    {
     "name": "stdout",
     "output_type": "stream",
     "text": [
      "Split(Box({'beta': {'lb': 8.718750000000001e-05, 'ub': 8.742187500000002e-05}}), width = 2.34375000000004e-07)\n"
     ]
    },
    {
     "name": "stderr",
     "output_type": "stream",
     "text": [
      "Point: Point({'type': 'point', 'label': 'unknown', 'values': {'beta': 8.712680036007202e-05}}) is marked false, but already marked true.\n"
     ]
    },
    {
     "name": "stdout",
     "output_type": "stream",
     "text": [
      "Split(Box({'beta': {'lb': 8.695312500000001e-05, 'ub': 8.718750000000001e-05}}), width = 2.34375000000004e-07)\n",
      "Split(Box({'beta': {'lb': 8.671875000000002e-05, 'ub': 8.695312500000001e-05}}), width = 2.3437499999999045e-07)\n"
     ]
    },
    {
     "name": "stderr",
     "output_type": "stream",
     "text": [
      "Point: Point({'type': 'point', 'label': 'unknown', 'values': {'beta': 8.654074564912982e-05}}) is marked false, but already marked true.\n"
     ]
    },
    {
     "name": "stdout",
     "output_type": "stream",
     "text": [
      "Split(Box({'beta': {'lb': 8.648437500000001e-05, 'ub': 8.671875000000002e-05}}), width = 2.34375000000004e-07)\n",
      "Split(Box({'beta': {'lb': 8.625000000000001e-05, 'ub': 8.648437500000001e-05}}), width = 2.34375000000004e-07)\n"
     ]
    },
    {
     "name": "stderr",
     "output_type": "stream",
     "text": [
      "Point: Point({'type': 'point', 'label': 'unknown', 'values': {'beta': 8.61500425085017e-05}}) is marked false, but already marked true.\n"
     ]
    },
    {
     "name": "stdout",
     "output_type": "stream",
     "text": [
      "Split(Box({'beta': {'lb': 8.6015625e-05, 'ub': 8.625000000000001e-05}}), width = 2.34375000000004e-07)\n",
      "Split(Box({'beta': {'lb': 8.578125e-05, 'ub': 8.6015625e-05}}), width = 2.34375000000004e-07)\n",
      "Split(Box({'beta': {'lb': 8.554687500000001e-05, 'ub': 8.578125e-05}}), width = 2.3437499999999045e-07)\n"
     ]
    },
    {
     "name": "stderr",
     "output_type": "stream",
     "text": [
      "Point: Point({'type': 'point', 'label': 'unknown', 'values': {'beta': 8.536863622724545e-05}}) is marked false, but already marked true.\n"
     ]
    },
    {
     "name": "stdout",
     "output_type": "stream",
     "text": [
      "Split(Box({'beta': {'lb': 8.531250000000001e-05, 'ub': 8.554687500000001e-05}}), width = 2.34375000000004e-07)\n",
      "Split(Box({'beta': {'lb': 8.5078125e-05, 'ub': 8.531250000000001e-05}}), width = 2.34375000000004e-07)\n"
     ]
    },
    {
     "name": "stderr",
     "output_type": "stream",
     "text": [
      "Point: Point({'type': 'point', 'label': 'unknown', 'values': {'beta': 8.497793308661733e-05}}) is marked false, but already marked true.\n"
     ]
    },
    {
     "name": "stdout",
     "output_type": "stream",
     "text": [
      "Split(Box({'beta': {'lb': 8.484375000000001e-05, 'ub': 8.5078125e-05}}), width = 2.3437499999999045e-07)\n"
     ]
    },
    {
     "name": "stderr",
     "output_type": "stream",
     "text": [
      "Point: Point({'type': 'point', 'label': 'unknown', 'values': {'beta': 8.478258151630327e-05}}) is marked false, but already marked true.\n"
     ]
    },
    {
     "name": "stdout",
     "output_type": "stream",
     "text": [
      "Split(Box({'beta': {'lb': 8.460937500000001e-05, 'ub': 8.484375000000001e-05}}), width = 2.34375000000004e-07)\n",
      "Split(Box({'beta': {'lb': 8.4375e-05, 'ub': 8.460937500000001e-05}}), width = 2.34375000000004e-07)\n"
     ]
    },
    {
     "name": "stderr",
     "output_type": "stream",
     "text": [
      "Point: Point({'type': 'point', 'label': 'unknown', 'values': {'beta': 8.419652680536107e-05}}) is marked false, but already marked true.\n"
     ]
    },
    {
     "name": "stdout",
     "output_type": "stream",
     "text": [
      "Split(Box({'beta': {'lb': 8.4140625e-05, 'ub': 8.4375e-05}}), width = 2.34375000000004e-07)\n",
      "Split(Box({'beta': {'lb': 8.390625e-05, 'ub': 8.4140625e-05}}), width = 2.34375000000004e-07)\n"
     ]
    },
    {
     "name": "stderr",
     "output_type": "stream",
     "text": [
      "Point: Point({'type': 'point', 'label': 'unknown', 'values': {'beta': 8.380582366473295e-05}}) is marked false, but already marked true.\n"
     ]
    },
    {
     "name": "stdout",
     "output_type": "stream",
     "text": [
      "Split(Box({'beta': {'lb': 8.3671875e-05, 'ub': 8.390625e-05}}), width = 2.3437499999999045e-07)\n",
      "Split(Box({'beta': {'lb': 8.34375e-05, 'ub': 8.3671875e-05}}), width = 2.34375000000004e-07)\n",
      "Split(Box({'beta': {'lb': 8.3203125e-05, 'ub': 8.34375e-05}}), width = 2.34375000000004e-07)\n"
     ]
    },
    {
     "name": "stderr",
     "output_type": "stream",
     "text": [
      "Point: Point({'type': 'point', 'label': 'unknown', 'values': {'beta': 8.30244173834767e-05}}) is marked false, but already marked true.\n"
     ]
    },
    {
     "name": "stdout",
     "output_type": "stream",
     "text": [
      "Split(Box({'beta': {'lb': 8.296875000000001e-05, 'ub': 8.3203125e-05}}), width = 2.3437499999999045e-07)\n",
      "Split(Box({'beta': {'lb': 8.2734375e-05, 'ub': 8.296875000000001e-05}}), width = 2.34375000000004e-07)\n"
     ]
    },
    {
     "name": "stderr",
     "output_type": "stream",
     "text": [
      "Point: Point({'type': 'point', 'label': 'unknown', 'values': {'beta': 8.263371424284857e-05}}) is marked false, but already marked true.\n"
     ]
    },
    {
     "name": "stdout",
     "output_type": "stream",
     "text": [
      "Split(Box({'beta': {'lb': 8.25e-05, 'ub': 8.2734375e-05}}), width = 2.34375000000004e-07)\n"
     ]
    },
    {
     "name": "stderr",
     "output_type": "stream",
     "text": [
      "Point: Point({'type': 'point', 'label': 'unknown', 'values': {'beta': 8.243836267253451e-05}}) is marked false, but already marked true.\n"
     ]
    },
    {
     "name": "stdout",
     "output_type": "stream",
     "text": [
      "Split(Box({'beta': {'lb': 8.2265625e-05, 'ub': 8.25e-05}}), width = 2.34375000000004e-07)\n",
      "Split(Box({'beta': {'lb': 8.203124999999999e-05, 'ub': 8.2265625e-05}}), width = 2.34375000000004e-07)\n"
     ]
    },
    {
     "name": "stderr",
     "output_type": "stream",
     "text": [
      "Point: Point({'type': 'point', 'label': 'unknown', 'values': {'beta': 8.185230796159232e-05}}) is marked false, but already marked true.\n"
     ]
    },
    {
     "name": "stdout",
     "output_type": "stream",
     "text": [
      "Split(Box({'beta': {'lb': 8.1796875e-05, 'ub': 8.203124999999999e-05}}), width = 2.3437499999999045e-07)\n",
      "Split(Box({'beta': {'lb': 8.15625e-05, 'ub': 8.1796875e-05}}), width = 2.34375000000004e-07)\n"
     ]
    },
    {
     "name": "stderr",
     "output_type": "stream",
     "text": [
      "Point: Point({'type': 'point', 'label': 'unknown', 'values': {'beta': 8.14616048209642e-05}}) is marked false, but already marked true.\n"
     ]
    },
    {
     "name": "stdout",
     "output_type": "stream",
     "text": [
      "Split(Box({'beta': {'lb': 8.132812499999999e-05, 'ub': 8.15625e-05}}), width = 2.34375000000004e-07)\n",
      "Split(Box({'beta': {'lb': 8.109375e-05, 'ub': 8.132812499999999e-05}}), width = 2.3437499999999045e-07)\n",
      "Split(Box({'beta': {'lb': 8.0859375e-05, 'ub': 8.109375e-05}}), width = 2.34375000000004e-07)\n"
     ]
    },
    {
     "name": "stderr",
     "output_type": "stream",
     "text": [
      "Point: Point({'type': 'point', 'label': 'unknown', 'values': {'beta': 8.068019853970794e-05}}) is marked false, but already marked true.\n"
     ]
    },
    {
     "name": "stdout",
     "output_type": "stream",
     "text": [
      "Split(Box({'beta': {'lb': 8.0625e-05, 'ub': 8.0859375e-05}}), width = 2.34375000000004e-07)\n",
      "Split(Box({'beta': {'lb': 8.0390625e-05, 'ub': 8.0625e-05}}), width = 2.3437499999999045e-07)\n"
     ]
    },
    {
     "name": "stderr",
     "output_type": "stream",
     "text": [
      "Point: Point({'type': 'point', 'label': 'unknown', 'values': {'beta': 8.028949539907982e-05}}) is marked false, but already marked true.\n"
     ]
    },
    {
     "name": "stdout",
     "output_type": "stream",
     "text": [
      "Split(Box({'beta': {'lb': 8.015625e-05, 'ub': 8.0390625e-05}}), width = 2.34375000000004e-07)\n"
     ]
    },
    {
     "name": "stderr",
     "output_type": "stream",
     "text": [
      "Point: Point({'type': 'point', 'label': 'unknown', 'values': {'beta': 8.009414382876575e-05}}) is marked false, but already marked true.\n"
     ]
    },
    {
     "name": "stdout",
     "output_type": "stream",
     "text": [
      "Split(Box({'beta': {'lb': 7.9921875e-05, 'ub': 8.015625e-05}}), width = 2.34375000000004e-07)\n",
      "Split(Box({'beta': {'lb': 7.96875e-05, 'ub': 7.9921875e-05}}), width = 2.3437499999999045e-07)\n"
     ]
    },
    {
     "name": "stderr",
     "output_type": "stream",
     "text": [
      "Point: Point({'type': 'point', 'label': 'unknown', 'values': {'beta': 7.950808911782357e-05}}) is marked false, but already marked true.\n"
     ]
    },
    {
     "name": "stdout",
     "output_type": "stream",
     "text": [
      "Split(Box({'beta': {'lb': 7.9453125e-05, 'ub': 7.96875e-05}}), width = 2.34375000000004e-07)\n",
      "Split(Box({'beta': {'lb': 7.921875e-05, 'ub': 7.9453125e-05}}), width = 2.34375000000004e-07)\n"
     ]
    },
    {
     "name": "stderr",
     "output_type": "stream",
     "text": [
      "Point: Point({'type': 'point', 'label': 'unknown', 'values': {'beta': 7.911738597719544e-05}}) is marked false, but already marked true.\n"
     ]
    },
    {
     "name": "stdout",
     "output_type": "stream",
     "text": [
      "Split(Box({'beta': {'lb': 7.898437500000001e-05, 'ub': 7.921875e-05}}), width = 2.3437499999999045e-07)\n",
      "Split(Box({'beta': {'lb': 7.875e-05, 'ub': 7.898437500000001e-05}}), width = 2.34375000000004e-07)\n",
      "Split(Box({'beta': {'lb': 7.8515625e-05, 'ub': 7.875e-05}}), width = 2.34375000000004e-07)\n"
     ]
    },
    {
     "name": "stderr",
     "output_type": "stream",
     "text": [
      "Point: Point({'type': 'point', 'label': 'unknown', 'values': {'beta': 7.833597969593919e-05}}) is marked false, but already marked true.\n"
     ]
    },
    {
     "name": "stdout",
     "output_type": "stream",
     "text": [
      "Split(Box({'beta': {'lb': 7.828125000000001e-05, 'ub': 7.8515625e-05}}), width = 2.3437499999999045e-07)\n",
      "Split(Box({'beta': {'lb': 7.8046875e-05, 'ub': 7.828125000000001e-05}}), width = 2.34375000000004e-07)\n"
     ]
    },
    {
     "name": "stderr",
     "output_type": "stream",
     "text": [
      "Point: Point({'type': 'point', 'label': 'unknown', 'values': {'beta': 7.794527655531107e-05}}) is marked false, but already marked true.\n"
     ]
    },
    {
     "name": "stdout",
     "output_type": "stream",
     "text": [
      "Split(Box({'beta': {'lb': 7.78125e-05, 'ub': 7.8046875e-05}}), width = 2.34375000000004e-07)\n"
     ]
    },
    {
     "name": "stderr",
     "output_type": "stream",
     "text": [
      "Point: Point({'type': 'point', 'label': 'unknown', 'values': {'beta': 7.7749924984997e-05}}) is marked false, but already marked true.\n"
     ]
    },
    {
     "name": "stdout",
     "output_type": "stream",
     "text": [
      "Split(Box({'beta': {'lb': 7.757812500000001e-05, 'ub': 7.78125e-05}}), width = 2.3437499999999045e-07)\n",
      "Split(Box({'beta': {'lb': 7.734375e-05, 'ub': 7.757812500000001e-05}}), width = 2.34375000000004e-07)\n"
     ]
    },
    {
     "name": "stderr",
     "output_type": "stream",
     "text": [
      "Point: Point({'type': 'point', 'label': 'unknown', 'values': {'beta': 7.716387027405481e-05}}) is marked false, but already marked true.\n"
     ]
    },
    {
     "name": "stdout",
     "output_type": "stream",
     "text": [
      "Split(Box({'beta': {'lb': 7.7109375e-05, 'ub': 7.734375e-05}}), width = 2.34375000000004e-07)\n",
      "Split(Box({'beta': {'lb': 7.687500000000001e-05, 'ub': 7.7109375e-05}}), width = 2.3437499999999045e-07)\n"
     ]
    },
    {
     "name": "stderr",
     "output_type": "stream",
     "text": [
      "Point: Point({'type': 'point', 'label': 'unknown', 'values': {'beta': 7.677316713342669e-05}}) is marked false, but already marked true.\n"
     ]
    },
    {
     "name": "stdout",
     "output_type": "stream",
     "text": [
      "Split(Box({'beta': {'lb': 7.664062500000001e-05, 'ub': 7.687500000000001e-05}}), width = 2.34375000000004e-07)\n",
      "Split(Box({'beta': {'lb': 7.640625e-05, 'ub': 7.664062500000001e-05}}), width = 2.34375000000004e-07)\n",
      "Split(Box({'beta': {'lb': 7.617187500000001e-05, 'ub': 7.640625e-05}}), width = 2.3437499999999045e-07)\n"
     ]
    },
    {
     "name": "stderr",
     "output_type": "stream",
     "text": [
      "Point: Point({'type': 'point', 'label': 'unknown', 'values': {'beta': 7.599176085217044e-05}}) is marked false, but already marked true.\n"
     ]
    },
    {
     "name": "stdout",
     "output_type": "stream",
     "text": [
      "Split(Box({'beta': {'lb': 7.593750000000001e-05, 'ub': 7.617187500000001e-05}}), width = 2.34375000000004e-07)\n",
      "Split(Box({'beta': {'lb': 7.5703125e-05, 'ub': 7.593750000000001e-05}}), width = 2.34375000000004e-07)\n"
     ]
    },
    {
     "name": "stderr",
     "output_type": "stream",
     "text": [
      "Point: Point({'type': 'point', 'label': 'unknown', 'values': {'beta': 7.56010577115423e-05}}) is marked false, but already marked true.\n"
     ]
    },
    {
     "name": "stdout",
     "output_type": "stream",
     "text": [
      "Split(Box({'beta': {'lb': 7.546875000000001e-05, 'ub': 7.5703125e-05}}), width = 2.3437499999999045e-07)\n"
     ]
    },
    {
     "name": "stderr",
     "output_type": "stream",
     "text": [
      "Point: Point({'type': 'point', 'label': 'unknown', 'values': {'beta': 7.540570614122824e-05}}) is marked false, but already marked true.\n"
     ]
    },
    {
     "name": "stdout",
     "output_type": "stream",
     "text": [
      "Split(Box({'beta': {'lb': 7.523437500000001e-05, 'ub': 7.546875000000001e-05}}), width = 2.34375000000004e-07)\n",
      "Split(Box({'beta': {'lb': 7.500000000000001e-05, 'ub': 7.523437500000001e-05}}), width = 2.34375000000004e-07)\n"
     ]
    },
    {
     "name": "stderr",
     "output_type": "stream",
     "text": [
      "Point: Point({'type': 'point', 'label': 'unknown', 'values': {'beta': 7.481965143028606e-05}}) is marked false, but already marked true.\n"
     ]
    },
    {
     "name": "stdout",
     "output_type": "stream",
     "text": [
      "Split(Box({'beta': {'lb': 7.4765625e-05, 'ub': 7.500000000000001e-05}}), width = 2.34375000000004e-07)\n",
      "Split(Box({'beta': {'lb': 7.453125e-05, 'ub': 7.4765625e-05}}), width = 2.34375000000004e-07)\n"
     ]
    },
    {
     "name": "stderr",
     "output_type": "stream",
     "text": [
      "Point: Point({'type': 'point', 'label': 'unknown', 'values': {'beta': 7.442894828965793e-05}}) is marked false, but already marked true.\n"
     ]
    },
    {
     "name": "stdout",
     "output_type": "stream",
     "text": [
      "Split(Box({'beta': {'lb': 7.429687500000001e-05, 'ub': 7.453125e-05}}), width = 2.3437499999999045e-07)\n",
      "Split(Box({'beta': {'lb': 7.40625e-05, 'ub': 7.429687500000001e-05}}), width = 2.34375000000004e-07)\n",
      "Split(Box({'beta': {'lb': 7.3828125e-05, 'ub': 7.40625e-05}}), width = 2.34375000000004e-07)\n"
     ]
    },
    {
     "name": "stderr",
     "output_type": "stream",
     "text": [
      "Point: Point({'type': 'point', 'label': 'unknown', 'values': {'beta': 7.364754200840168e-05}}) is marked false, but already marked true.\n"
     ]
    },
    {
     "name": "stdout",
     "output_type": "stream",
     "text": [
      "Split(Box({'beta': {'lb': 7.359375000000001e-05, 'ub': 7.3828125e-05}}), width = 2.3437499999999045e-07)\n",
      "Split(Box({'beta': {'lb': 7.3359375e-05, 'ub': 7.359375000000001e-05}}), width = 2.34375000000004e-07)\n"
     ]
    },
    {
     "name": "stderr",
     "output_type": "stream",
     "text": [
      "Point: Point({'type': 'point', 'label': 'unknown', 'values': {'beta': 7.325683886777355e-05}}) is marked false, but already marked true.\n"
     ]
    },
    {
     "name": "stdout",
     "output_type": "stream",
     "text": [
      "Split(Box({'beta': {'lb': 7.3125e-05, 'ub': 7.3359375e-05}}), width = 2.34375000000004e-07)\n"
     ]
    },
    {
     "name": "stderr",
     "output_type": "stream",
     "text": [
      "Point: Point({'type': 'point', 'label': 'unknown', 'values': {'beta': 7.306148729745949e-05}}) is marked false, but already marked true.\n"
     ]
    },
    {
     "name": "stdout",
     "output_type": "stream",
     "text": [
      "Split(Box({'beta': {'lb': 7.289062500000001e-05, 'ub': 7.3125e-05}}), width = 2.3437499999999045e-07)\n",
      "Split(Box({'beta': {'lb': 7.265625000000001e-05, 'ub': 7.289062500000001e-05}}), width = 2.34375000000004e-07)\n"
     ]
    },
    {
     "name": "stderr",
     "output_type": "stream",
     "text": [
      "Point: Point({'type': 'point', 'label': 'unknown', 'values': {'beta': 7.247543258651731e-05}}) is marked false, but already marked true.\n"
     ]
    },
    {
     "name": "stdout",
     "output_type": "stream",
     "text": [
      "Split(Box({'beta': {'lb': 7.2421875e-05, 'ub': 7.265625000000001e-05}}), width = 2.34375000000004e-07)\n",
      "Split(Box({'beta': {'lb': 7.218750000000001e-05, 'ub': 7.2421875e-05}}), width = 2.3437499999999045e-07)\n"
     ]
    },
    {
     "name": "stderr",
     "output_type": "stream",
     "text": [
      "Point: Point({'type': 'point', 'label': 'unknown', 'values': {'beta': 7.208472944588917e-05}}) is marked false, but already marked true.\n"
     ]
    },
    {
     "name": "stdout",
     "output_type": "stream",
     "text": [
      "Split(Box({'beta': {'lb': 7.195312500000001e-05, 'ub': 7.218750000000001e-05}}), width = 2.34375000000004e-07)\n",
      "Split(Box({'beta': {'lb': 7.171875e-05, 'ub': 7.195312500000001e-05}}), width = 2.34375000000004e-07)\n",
      "Split(Box({'beta': {'lb': 7.148437500000001e-05, 'ub': 7.171875e-05}}), width = 2.3437499999999045e-07)\n"
     ]
    },
    {
     "name": "stderr",
     "output_type": "stream",
     "text": [
      "Point: Point({'type': 'point', 'label': 'unknown', 'values': {'beta': 7.130332316463293e-05}}) is marked false, but already marked true.\n"
     ]
    },
    {
     "name": "stdout",
     "output_type": "stream",
     "text": [
      "Split(Box({'beta': {'lb': 7.125000000000001e-05, 'ub': 7.148437500000001e-05}}), width = 2.34375000000004e-07)\n",
      "Split(Box({'beta': {'lb': 7.1015625e-05, 'ub': 7.125000000000001e-05}}), width = 2.34375000000004e-07)\n"
     ]
    },
    {
     "name": "stderr",
     "output_type": "stream",
     "text": [
      "Point: Point({'type': 'point', 'label': 'unknown', 'values': {'beta': 7.09126200240048e-05}}) is marked false, but already marked true.\n"
     ]
    },
    {
     "name": "stdout",
     "output_type": "stream",
     "text": [
      "Split(Box({'beta': {'lb': 7.078125000000002e-05, 'ub': 7.1015625e-05}}), width = 2.3437499999999045e-07)\n"
     ]
    },
    {
     "name": "stderr",
     "output_type": "stream",
     "text": [
      "Point: Point({'type': 'point', 'label': 'unknown', 'values': {'beta': 7.071726845369074e-05}}) is marked false, but already marked true.\n"
     ]
    },
    {
     "name": "stdout",
     "output_type": "stream",
     "text": [
      "Split(Box({'beta': {'lb': 7.054687500000001e-05, 'ub': 7.078125000000002e-05}}), width = 2.34375000000004e-07)\n",
      "Split(Box({'beta': {'lb': 7.031250000000001e-05, 'ub': 7.054687500000001e-05}}), width = 2.34375000000004e-07)\n"
     ]
    },
    {
     "name": "stderr",
     "output_type": "stream",
     "text": [
      "Point: Point({'type': 'point', 'label': 'unknown', 'values': {'beta': 7.013121374274855e-05}}) is marked false, but already marked true.\n"
     ]
    },
    {
     "name": "stdout",
     "output_type": "stream",
     "text": [
      "Split(Box({'beta': {'lb': 7.007812500000002e-05, 'ub': 7.031250000000001e-05}}), width = 2.3437499999999045e-07)\n",
      "Split(Box({'beta': {'lb': 6.984375000000001e-05, 'ub': 7.007812500000002e-05}}), width = 2.34375000000004e-07)\n"
     ]
    },
    {
     "name": "stderr",
     "output_type": "stream",
     "text": [
      "Point: Point({'type': 'point', 'label': 'unknown', 'values': {'beta': 6.974051060212042e-05}}) is marked false, but already marked true.\n"
     ]
    },
    {
     "name": "stdout",
     "output_type": "stream",
     "text": [
      "Split(Box({'beta': {'lb': 6.960937500000001e-05, 'ub': 6.984375000000001e-05}}), width = 2.34375000000004e-07)\n",
      "Split(Box({'beta': {'lb': 6.937500000000002e-05, 'ub': 6.960937500000001e-05}}), width = 2.3437499999999045e-07)\n",
      "Split(Box({'beta': {'lb': 6.914062500000002e-05, 'ub': 6.937500000000002e-05}}), width = 2.34375000000004e-07)\n"
     ]
    },
    {
     "name": "stderr",
     "output_type": "stream",
     "text": [
      "Point: Point({'type': 'point', 'label': 'unknown', 'values': {'beta': 6.895910432086418e-05}}) is marked false, but already marked true.\n"
     ]
    },
    {
     "name": "stdout",
     "output_type": "stream",
     "text": [
      "Split(Box({'beta': {'lb': 6.890625000000001e-05, 'ub': 6.914062500000002e-05}}), width = 2.34375000000004e-07)\n",
      "Split(Box({'beta': {'lb': 6.867187500000002e-05, 'ub': 6.890625000000001e-05}}), width = 2.3437499999999045e-07)\n"
     ]
    },
    {
     "name": "stderr",
     "output_type": "stream",
     "text": [
      "Point: Point({'type': 'point', 'label': 'unknown', 'values': {'beta': 6.856840118023604e-05}}) is marked false, but already marked true.\n"
     ]
    },
    {
     "name": "stdout",
     "output_type": "stream",
     "text": [
      "Split(Box({'beta': {'lb': 6.843750000000002e-05, 'ub': 6.867187500000002e-05}}), width = 2.34375000000004e-07)\n"
     ]
    },
    {
     "name": "stderr",
     "output_type": "stream",
     "text": [
      "Point: Point({'type': 'point', 'label': 'unknown', 'values': {'beta': 6.837304960992198e-05}}) is marked false, but already marked true.\n"
     ]
    },
    {
     "name": "stdout",
     "output_type": "stream",
     "text": [
      "Split(Box({'beta': {'lb': 6.820312500000001e-05, 'ub': 6.843750000000002e-05}}), width = 2.34375000000004e-07)\n",
      "Split(Box({'beta': {'lb': 6.796875000000002e-05, 'ub': 6.820312500000001e-05}}), width = 2.3437499999999045e-07)\n"
     ]
    },
    {
     "name": "stderr",
     "output_type": "stream",
     "text": [
      "Point: Point({'type': 'point', 'label': 'unknown', 'values': {'beta': 6.77869948989798e-05}}) is marked false, but already marked true.\n"
     ]
    },
    {
     "name": "stdout",
     "output_type": "stream",
     "text": [
      "Split(Box({'beta': {'lb': 6.773437500000002e-05, 'ub': 6.796875000000002e-05}}), width = 2.34375000000004e-07)\n",
      "Split(Box({'beta': {'lb': 6.750000000000001e-05, 'ub': 6.773437500000002e-05}}), width = 2.34375000000004e-07)\n"
     ]
    },
    {
     "name": "stderr",
     "output_type": "stream",
     "text": [
      "Point: Point({'type': 'point', 'label': 'unknown', 'values': {'beta': 6.739629175835167e-05}}) is marked false, but already marked true.\n"
     ]
    },
    {
     "name": "stdout",
     "output_type": "stream",
     "text": [
      "Split(Box({'beta': {'lb': 6.726562500000001e-05, 'ub': 6.750000000000001e-05}}), width = 2.34375000000004e-07)\n",
      "Split(Box({'beta': {'lb': 6.703125e-05, 'ub': 6.726562500000001e-05}}), width = 2.34375000000004e-07)\n",
      "Split(Box({'beta': {'lb': 6.679687500000002e-05, 'ub': 6.703125e-05}}), width = 2.3437499999999045e-07)\n"
     ]
    },
    {
     "name": "stderr",
     "output_type": "stream",
     "text": [
      "Point: Point({'type': 'point', 'label': 'unknown', 'values': {'beta': 6.661488547709542e-05}}) is marked false, but already marked true.\n"
     ]
    },
    {
     "name": "stdout",
     "output_type": "stream",
     "text": [
      "Split(Box({'beta': {'lb': 6.656250000000001e-05, 'ub': 6.679687500000002e-05}}), width = 2.34375000000004e-07)\n",
      "Split(Box({'beta': {'lb': 6.632812500000001e-05, 'ub': 6.656250000000001e-05}}), width = 2.34375000000004e-07)\n"
     ]
    },
    {
     "name": "stderr",
     "output_type": "stream",
     "text": [
      "Point: Point({'type': 'point', 'label': 'unknown', 'values': {'beta': 6.622418233646729e-05}}) is marked false, but already marked true.\n"
     ]
    },
    {
     "name": "stdout",
     "output_type": "stream",
     "text": [
      "Split(Box({'beta': {'lb': 6.609375000000002e-05, 'ub': 6.632812500000001e-05}}), width = 2.3437499999999045e-07)\n"
     ]
    },
    {
     "name": "stderr",
     "output_type": "stream",
     "text": [
      "Point: Point({'type': 'point', 'label': 'unknown', 'values': {'beta': 6.602883076615323e-05}}) is marked false, but already marked true.\n"
     ]
    },
    {
     "name": "stdout",
     "output_type": "stream",
     "text": [
      "Split(Box({'beta': {'lb': 6.585937500000001e-05, 'ub': 6.609375000000002e-05}}), width = 2.34375000000004e-07)\n",
      "Split(Box({'beta': {'lb': 6.562500000000001e-05, 'ub': 6.585937500000001e-05}}), width = 2.34375000000004e-07)\n"
     ]
    },
    {
     "name": "stderr",
     "output_type": "stream",
     "text": [
      "Point: Point({'type': 'point', 'label': 'unknown', 'values': {'beta': 6.544277605521105e-05}}) is marked false, but already marked true.\n"
     ]
    },
    {
     "name": "stdout",
     "output_type": "stream",
     "text": [
      "Split(Box({'beta': {'lb': 6.5390625e-05, 'ub': 6.562500000000001e-05}}), width = 2.34375000000004e-07)\n",
      "Split(Box({'beta': {'lb': 6.515625e-05, 'ub': 6.5390625e-05}}), width = 2.34375000000004e-07)\n"
     ]
    },
    {
     "name": "stderr",
     "output_type": "stream",
     "text": [
      "Point: Point({'type': 'point', 'label': 'unknown', 'values': {'beta': 6.505207291458291e-05}}) is marked false, but already marked true.\n"
     ]
    },
    {
     "name": "stdout",
     "output_type": "stream",
     "text": [
      "Split(Box({'beta': {'lb': 6.492187500000001e-05, 'ub': 6.515625e-05}}), width = 2.3437499999999045e-07)\n",
      "Split(Box({'beta': {'lb': 6.468750000000001e-05, 'ub': 6.492187500000001e-05}}), width = 2.34375000000004e-07)\n",
      "Split(Box({'beta': {'lb': 6.4453125e-05, 'ub': 6.468750000000001e-05}}), width = 2.34375000000004e-07)\n"
     ]
    },
    {
     "name": "stderr",
     "output_type": "stream",
     "text": [
      "Point: Point({'type': 'point', 'label': 'unknown', 'values': {'beta': 6.427066663332667e-05}}) is marked false, but already marked true.\n"
     ]
    },
    {
     "name": "stdout",
     "output_type": "stream",
     "text": [
      "Split(Box({'beta': {'lb': 6.421875000000001e-05, 'ub': 6.4453125e-05}}), width = 2.3437499999999045e-07)\n",
      "Split(Box({'beta': {'lb': 6.398437500000001e-05, 'ub': 6.421875000000001e-05}}), width = 2.34375000000004e-07)\n"
     ]
    },
    {
     "name": "stderr",
     "output_type": "stream",
     "text": [
      "Point: Point({'type': 'point', 'label': 'unknown', 'values': {'beta': 6.387996349269854e-05}}) is marked false, but already marked true.\n"
     ]
    },
    {
     "name": "stdout",
     "output_type": "stream",
     "text": [
      "Split(Box({'beta': {'lb': 6.375e-05, 'ub': 6.398437500000001e-05}}), width = 2.34375000000004e-07)\n"
     ]
    },
    {
     "name": "stderr",
     "output_type": "stream",
     "text": [
      "Point: Point({'type': 'point', 'label': 'unknown', 'values': {'beta': 6.368461192238448e-05}}) is marked false, but already marked true.\n"
     ]
    },
    {
     "name": "stdout",
     "output_type": "stream",
     "text": [
      "Split(Box({'beta': {'lb': 6.3515625e-05, 'ub': 6.375e-05}}), width = 2.34375000000004e-07)\n",
      "Split(Box({'beta': {'lb': 6.328125e-05, 'ub': 6.3515625e-05}}), width = 2.34375000000004e-07)\n"
     ]
    },
    {
     "name": "stderr",
     "output_type": "stream",
     "text": [
      "Point: Point({'type': 'point', 'label': 'unknown', 'values': {'beta': 6.30985572114423e-05}}) is marked false, but already marked true.\n"
     ]
    },
    {
     "name": "stdout",
     "output_type": "stream",
     "text": [
      "Split(Box({'beta': {'lb': 6.3046875e-05, 'ub': 6.328125e-05}}), width = 2.3437499999999045e-07)\n",
      "Split(Box({'beta': {'lb': 6.28125e-05, 'ub': 6.3046875e-05}}), width = 2.34375000000004e-07)\n"
     ]
    },
    {
     "name": "stderr",
     "output_type": "stream",
     "text": [
      "Point: Point({'type': 'point', 'label': 'unknown', 'values': {'beta': 6.270785407081416e-05}}) is marked false, but already marked true.\n"
     ]
    },
    {
     "name": "stdout",
     "output_type": "stream",
     "text": [
      "Split(Box({'beta': {'lb': 6.2578125e-05, 'ub': 6.28125e-05}}), width = 2.34375000000004e-07)\n",
      "Split(Box({'beta': {'lb': 6.234375000000001e-05, 'ub': 6.2578125e-05}}), width = 2.3437499999999045e-07)\n",
      "Split(Box({'beta': {'lb': 6.2109375e-05, 'ub': 6.234375000000001e-05}}), width = 2.34375000000004e-07)\n"
     ]
    },
    {
     "name": "stderr",
     "output_type": "stream",
     "text": [
      "Point: Point({'type': 'point', 'label': 'unknown', 'values': {'beta': 6.19264477895579e-05}}) is marked false, but already marked true.\n"
     ]
    },
    {
     "name": "stdout",
     "output_type": "stream",
     "text": [
      "Split(Box({'beta': {'lb': 6.1875e-05, 'ub': 6.2109375e-05}}), width = 2.34375000000004e-07)\n",
      "Split(Box({'beta': {'lb': 6.164062500000001e-05, 'ub': 6.1875e-05}}), width = 2.3437499999999045e-07)\n"
     ]
    },
    {
     "name": "stderr",
     "output_type": "stream",
     "text": [
      "Point: Point({'type': 'point', 'label': 'unknown', 'values': {'beta': 6.153574464892978e-05}}) is marked false, but already marked true.\n"
     ]
    },
    {
     "name": "stdout",
     "output_type": "stream",
     "text": [
      "Split(Box({'beta': {'lb': 6.140625e-05, 'ub': 6.164062500000001e-05}}), width = 2.34375000000004e-07)\n"
     ]
    },
    {
     "name": "stderr",
     "output_type": "stream",
     "text": [
      "Point: Point({'type': 'point', 'label': 'unknown', 'values': {'beta': 6.134039307861572e-05}}) is marked false, but already marked true.\n"
     ]
    },
    {
     "name": "stdout",
     "output_type": "stream",
     "text": [
      "Split(Box({'beta': {'lb': 6.1171875e-05, 'ub': 6.140625e-05}}), width = 2.34375000000004e-07)\n",
      "Split(Box({'beta': {'lb': 6.0937500000000004e-05, 'ub': 6.1171875e-05}}), width = 2.3437499999999723e-07)\n"
     ]
    },
    {
     "name": "stderr",
     "output_type": "stream",
     "text": [
      "Point: Point({'type': 'point', 'label': 'unknown', 'values': {'beta': 6.0754338367673536e-05}}) is marked false, but already marked true.\n"
     ]
    },
    {
     "name": "stdout",
     "output_type": "stream",
     "text": [
      "Split(Box({'beta': {'lb': 6.070312500000001e-05, 'ub': 6.0937500000000004e-05}}), width = 2.3437499999999723e-07)\n",
      "Split(Box({'beta': {'lb': 6.046875e-05, 'ub': 6.070312500000001e-05}}), width = 2.34375000000004e-07)\n"
     ]
    },
    {
     "name": "stderr",
     "output_type": "stream",
     "text": [
      "Point: Point({'type': 'point', 'label': 'unknown', 'values': {'beta': 6.036363522704541e-05}}) is marked false, but already marked true.\n"
     ]
    },
    {
     "name": "stdout",
     "output_type": "stream",
     "text": [
      "Split(Box({'beta': {'lb': 6.0234375000000006e-05, 'ub': 6.046875e-05}}), width = 2.3437499999999723e-07)\n",
      "Split(Box({'beta': {'lb': 6.000000000000001e-05, 'ub': 6.0234375000000006e-05}}), width = 2.3437499999999723e-07)\n",
      "Split(Box({'beta': {'lb': 5.9765625000000004e-05, 'ub': 6.000000000000001e-05}}), width = 2.34375000000004e-07)\n"
     ]
    },
    {
     "name": "stderr",
     "output_type": "stream",
     "text": [
      "Point: Point({'type': 'point', 'label': 'unknown', 'values': {'beta': 5.958222894578916e-05}}) is marked false, but already marked true.\n"
     ]
    },
    {
     "name": "stdout",
     "output_type": "stream",
     "text": [
      "Split(Box({'beta': {'lb': 5.953125000000001e-05, 'ub': 5.9765625000000004e-05}}), width = 2.3437499999999723e-07)\n",
      "Split(Box({'beta': {'lb': 5.929687500000001e-05, 'ub': 5.953125000000001e-05}}), width = 2.3437499999999723e-07)\n"
     ]
    },
    {
     "name": "stderr",
     "output_type": "stream",
     "text": [
      "Point: Point({'type': 'point', 'label': 'unknown', 'values': {'beta': 5.919152580516103e-05}}) is marked false, but already marked true.\n"
     ]
    },
    {
     "name": "stdout",
     "output_type": "stream",
     "text": [
      "Split(Box({'beta': {'lb': 5.9062500000000006e-05, 'ub': 5.929687500000001e-05}}), width = 2.34375000000004e-07)\n"
     ]
    },
    {
     "name": "stderr",
     "output_type": "stream",
     "text": [
      "Point: Point({'type': 'point', 'label': 'unknown', 'values': {'beta': 5.899617423484697e-05}}) is marked false, but already marked true.\n"
     ]
    },
    {
     "name": "stdout",
     "output_type": "stream",
     "text": [
      "Split(Box({'beta': {'lb': 5.8828125e-05, 'ub': 5.9062500000000006e-05}}), width = 2.34375000000004e-07)\n",
      "Split(Box({'beta': {'lb': 5.8593750000000005e-05, 'ub': 5.8828125e-05}}), width = 2.3437499999999723e-07)\n"
     ]
    },
    {
     "name": "stderr",
     "output_type": "stream",
     "text": [
      "Point: Point({'type': 'point', 'label': 'unknown', 'values': {'beta': 5.841011952390478e-05}}) is marked false, but already marked true.\n"
     ]
    },
    {
     "name": "stdout",
     "output_type": "stream",
     "text": [
      "Split(Box({'beta': {'lb': 5.835937500000001e-05, 'ub': 5.8593750000000005e-05}}), width = 2.3437499999999723e-07)\n",
      "Split(Box({'beta': {'lb': 5.8125e-05, 'ub': 5.835937500000001e-05}}), width = 2.34375000000004e-07)\n"
     ]
    },
    {
     "name": "stderr",
     "output_type": "stream",
     "text": [
      "Point: Point({'type': 'point', 'label': 'unknown', 'values': {'beta': 5.8019416383276655e-05}}) is marked false, but already marked true.\n"
     ]
    },
    {
     "name": "stdout",
     "output_type": "stream",
     "text": [
      "Split(Box({'beta': {'lb': 5.7890625e-05, 'ub': 5.8125e-05}}), width = 2.34375000000004e-07)\n",
      "Split(Box({'beta': {'lb': 5.765625e-05, 'ub': 5.7890625e-05}}), width = 2.3437499999999723e-07)\n",
      "Split(Box({'beta': {'lb': 5.7421875000000005e-05, 'ub': 5.765625e-05}}), width = 2.3437499999999723e-07)\n"
     ]
    },
    {
     "name": "stderr",
     "output_type": "stream",
     "text": [
      "Point: Point({'type': 'point', 'label': 'unknown', 'values': {'beta': 5.7238010102020406e-05}}) is marked false, but already marked true.\n"
     ]
    },
    {
     "name": "stdout",
     "output_type": "stream",
     "text": [
      "Split(Box({'beta': {'lb': 5.71875e-05, 'ub': 5.7421875000000005e-05}}), width = 2.34375000000004e-07)\n",
      "Split(Box({'beta': {'lb': 5.6953125000000004e-05, 'ub': 5.71875e-05}}), width = 2.3437499999999723e-07)\n"
     ]
    },
    {
     "name": "stderr",
     "output_type": "stream",
     "text": [
      "Point: Point({'type': 'point', 'label': 'unknown', 'values': {'beta': 5.684730696139228e-05}}) is marked false, but already marked true.\n"
     ]
    },
    {
     "name": "stdout",
     "output_type": "stream",
     "text": [
      "Split(Box({'beta': {'lb': 5.6718750000000006e-05, 'ub': 5.6953125000000004e-05}}), width = 2.3437499999999723e-07)\n"
     ]
    },
    {
     "name": "stderr",
     "output_type": "stream",
     "text": [
      "Point: Point({'type': 'point', 'label': 'unknown', 'values': {'beta': 5.665195539107822e-05}}) is marked false, but already marked true.\n"
     ]
    },
    {
     "name": "stdout",
     "output_type": "stream",
     "text": [
      "Split(Box({'beta': {'lb': 5.6484375e-05, 'ub': 5.6718750000000006e-05}}), width = 2.34375000000004e-07)\n",
      "Split(Box({'beta': {'lb': 5.6250000000000005e-05, 'ub': 5.6484375e-05}}), width = 2.3437499999999723e-07)\n"
     ]
    },
    {
     "name": "stderr",
     "output_type": "stream",
     "text": [
      "Point: Point({'type': 'point', 'label': 'unknown', 'values': {'beta': 5.606590068013603e-05}}) is marked false, but already marked true.\n"
     ]
    },
    {
     "name": "stdout",
     "output_type": "stream",
     "text": [
      "Split(Box({'beta': {'lb': 5.601562500000001e-05, 'ub': 5.6250000000000005e-05}}), width = 2.3437499999999723e-07)\n",
      "Split(Box({'beta': {'lb': 5.5781250000000004e-05, 'ub': 5.601562500000001e-05}}), width = 2.34375000000004e-07)\n"
     ]
    },
    {
     "name": "stderr",
     "output_type": "stream",
     "text": [
      "Point: Point({'type': 'point', 'label': 'unknown', 'values': {'beta': 5.56751975395079e-05}}) is marked false, but already marked true.\n"
     ]
    },
    {
     "name": "stdout",
     "output_type": "stream",
     "text": [
      "Split(Box({'beta': {'lb': 5.554687500000001e-05, 'ub': 5.5781250000000004e-05}}), width = 2.3437499999999723e-07)\n",
      "Split(Box({'beta': {'lb': 5.531250000000001e-05, 'ub': 5.554687500000001e-05}}), width = 2.3437499999999723e-07)\n",
      "Split(Box({'beta': {'lb': 5.5078125000000006e-05, 'ub': 5.531250000000001e-05}}), width = 2.34375000000004e-07)\n"
     ]
    },
    {
     "name": "stderr",
     "output_type": "stream",
     "text": [
      "Point: Point({'type': 'point', 'label': 'unknown', 'values': {'beta': 5.489379125825165e-05}}) is marked false, but already marked true.\n"
     ]
    },
    {
     "name": "stdout",
     "output_type": "stream",
     "text": [
      "Split(Box({'beta': {'lb': 5.484375000000001e-05, 'ub': 5.5078125000000006e-05}}), width = 2.3437499999999723e-07)\n",
      "Split(Box({'beta': {'lb': 5.460937500000001e-05, 'ub': 5.484375000000001e-05}}), width = 2.3437499999999723e-07)\n"
     ]
    },
    {
     "name": "stderr",
     "output_type": "stream",
     "text": [
      "Point: Point({'type': 'point', 'label': 'unknown', 'values': {'beta': 5.4503088117623525e-05}}) is marked false, but already marked true.\n"
     ]
    },
    {
     "name": "stdout",
     "output_type": "stream",
     "text": [
      "Split(Box({'beta': {'lb': 5.437500000000001e-05, 'ub': 5.460937500000001e-05}}), width = 2.34375000000004e-07)\n"
     ]
    },
    {
     "name": "stderr",
     "output_type": "stream",
     "text": [
      "Point: Point({'type': 'point', 'label': 'unknown', 'values': {'beta': 5.4307736547309465e-05}}) is marked false, but already marked true.\n"
     ]
    },
    {
     "name": "stdout",
     "output_type": "stream",
     "text": [
      "Split(Box({'beta': {'lb': 5.4140625e-05, 'ub': 5.437500000000001e-05}}), width = 2.34375000000004e-07)\n",
      "Split(Box({'beta': {'lb': 5.3906250000000006e-05, 'ub': 5.4140625e-05}}), width = 2.3437499999999723e-07)\n"
     ]
    },
    {
     "name": "stderr",
     "output_type": "stream",
     "text": [
      "Point: Point({'type': 'point', 'label': 'unknown', 'values': {'beta': 5.372168183636728e-05}}) is marked false, but already marked true.\n"
     ]
    },
    {
     "name": "stdout",
     "output_type": "stream",
     "text": [
      "Split(Box({'beta': {'lb': 5.367187500000001e-05, 'ub': 5.3906250000000006e-05}}), width = 2.3437499999999723e-07)\n",
      "Split(Box({'beta': {'lb': 5.3437500000000005e-05, 'ub': 5.367187500000001e-05}}), width = 2.34375000000004e-07)\n"
     ]
    },
    {
     "name": "stderr",
     "output_type": "stream",
     "text": [
      "Point: Point({'type': 'point', 'label': 'unknown', 'values': {'beta': 5.333097869573915e-05}}) is marked false, but already marked true.\n"
     ]
    },
    {
     "name": "stdout",
     "output_type": "stream",
     "text": [
      "Split(Box({'beta': {'lb': 5.3203125e-05, 'ub': 5.3437500000000005e-05}}), width = 2.34375000000004e-07)\n",
      "Split(Box({'beta': {'lb': 5.2968750000000003e-05, 'ub': 5.3203125e-05}}), width = 2.3437499999999723e-07)\n",
      "Split(Box({'beta': {'lb': 5.2734375000000006e-05, 'ub': 5.2968750000000003e-05}}), width = 2.3437499999999723e-07)\n"
     ]
    },
    {
     "name": "stderr",
     "output_type": "stream",
     "text": [
      "Point: Point({'type': 'point', 'label': 'unknown', 'values': {'beta': 5.2549572414482894e-05}}) is marked false, but already marked true.\n"
     ]
    },
    {
     "name": "stdout",
     "output_type": "stream",
     "text": [
      "Split(Box({'beta': {'lb': 5.25e-05, 'ub': 5.2734375000000006e-05}}), width = 2.34375000000004e-07)\n",
      "Split(Box({'beta': {'lb': 5.2265625e-05, 'ub': 5.25e-05}}), width = 2.34375000000004e-07)\n"
     ]
    },
    {
     "name": "stderr",
     "output_type": "stream",
     "text": [
      "Point: Point({'type': 'point', 'label': 'unknown', 'values': {'beta': 5.215886927385477e-05}}) is marked false, but already marked true.\n"
     ]
    },
    {
     "name": "stdout",
     "output_type": "stream",
     "text": [
      "Split(Box({'beta': {'lb': 5.203125e-05, 'ub': 5.2265625e-05}}), width = 2.3437499999999723e-07)\n"
     ]
    },
    {
     "name": "stderr",
     "output_type": "stream",
     "text": [
      "Point: Point({'type': 'point', 'label': 'unknown', 'values': {'beta': 5.1963517703540705e-05}}) is marked false, but already marked true.\n"
     ]
    },
    {
     "name": "stdout",
     "output_type": "stream",
     "text": [
      "Split(Box({'beta': {'lb': 5.1796875000000004e-05, 'ub': 5.203125e-05}}), width = 2.3437499999999723e-07)\n",
      "Split(Box({'beta': {'lb': 5.15625e-05, 'ub': 5.1796875000000004e-05}}), width = 2.34375000000004e-07)\n"
     ]
    },
    {
     "name": "stderr",
     "output_type": "stream",
     "text": [
      "Point: Point({'type': 'point', 'label': 'unknown', 'values': {'beta': 5.137746299259852e-05}}) is marked false, but already marked true.\n"
     ]
    },
    {
     "name": "stdout",
     "output_type": "stream",
     "text": [
      "Split(Box({'beta': {'lb': 5.1328125e-05, 'ub': 5.15625e-05}}), width = 2.3437499999999723e-07)\n",
      "Split(Box({'beta': {'lb': 5.1093750000000005e-05, 'ub': 5.1328125e-05}}), width = 2.3437499999999723e-07)\n"
     ]
    },
    {
     "name": "stderr",
     "output_type": "stream",
     "text": [
      "Point: Point({'type': 'point', 'label': 'unknown', 'values': {'beta': 5.0986759851970396e-05}}) is marked false, but already marked true.\n"
     ]
    },
    {
     "name": "stdout",
     "output_type": "stream",
     "text": [
      "Split(Box({'beta': {'lb': 5.0859375e-05, 'ub': 5.1093750000000005e-05}}), width = 2.34375000000004e-07)\n",
      "Split(Box({'beta': {'lb': 5.0625000000000004e-05, 'ub': 5.0859375e-05}}), width = 2.3437499999999723e-07)\n",
      "Split(Box({'beta': {'lb': 5.039062500000001e-05, 'ub': 5.0625000000000004e-05}}), width = 2.3437499999999723e-07)\n"
     ]
    },
    {
     "name": "stderr",
     "output_type": "stream",
     "text": [
      "Point: Point({'type': 'point', 'label': 'unknown', 'values': {'beta': 5.020535357071414e-05}}) is marked false, but already marked true.\n"
     ]
    },
    {
     "name": "stdout",
     "output_type": "stream",
     "text": [
      "Split(Box({'beta': {'lb': 5.015625e-05, 'ub': 5.039062500000001e-05}}), width = 2.34375000000004e-07)\n",
      "Split(Box({'beta': {'lb': 4.9921875000000006e-05, 'ub': 5.015625e-05}}), width = 2.3437499999999723e-07)\n"
     ]
    },
    {
     "name": "stderr",
     "output_type": "stream",
     "text": [
      "Point: Point({'type': 'point', 'label': 'unknown', 'values': {'beta': 4.981465043008602e-05}}) is marked false, but already marked true.\n"
     ]
    },
    {
     "name": "stdout",
     "output_type": "stream",
     "text": [
      "Split(Box({'beta': {'lb': 4.968750000000001e-05, 'ub': 4.9921875000000006e-05}}), width = 2.3437499999999723e-07)\n"
     ]
    },
    {
     "name": "stderr",
     "output_type": "stream",
     "text": [
      "Point: Point({'type': 'point', 'label': 'unknown', 'values': {'beta': 4.961929885977195e-05}}) is marked false, but already marked true.\n"
     ]
    },
    {
     "name": "stdout",
     "output_type": "stream",
     "text": [
      "Split(Box({'beta': {'lb': 4.9453125000000004e-05, 'ub': 4.968750000000001e-05}}), width = 2.34375000000004e-07)\n",
      "Split(Box({'beta': {'lb': 4.921875000000001e-05, 'ub': 4.9453125000000004e-05}}), width = 2.3437499999999723e-07)\n"
     ]
    },
    {
     "name": "stderr",
     "output_type": "stream",
     "text": [
      "Point: Point({'type': 'point', 'label': 'unknown', 'values': {'beta': 4.9033244148829764e-05}}) is marked false, but already marked true.\n"
     ]
    },
    {
     "name": "stdout",
     "output_type": "stream",
     "text": [
      "Split(Box({'beta': {'lb': 4.898437500000001e-05, 'ub': 4.921875000000001e-05}}), width = 2.3437499999999723e-07)\n",
      "Split(Box({'beta': {'lb': 4.8750000000000006e-05, 'ub': 4.898437500000001e-05}}), width = 2.34375000000004e-07)\n"
     ]
    },
    {
     "name": "stderr",
     "output_type": "stream",
     "text": [
      "Point: Point({'type': 'point', 'label': 'unknown', 'values': {'beta': 4.864254100820164e-05}}) is marked false, but already marked true.\n"
     ]
    },
    {
     "name": "stdout",
     "output_type": "stream",
     "text": [
      "Split(Box({'beta': {'lb': 4.8515625e-05, 'ub': 4.8750000000000006e-05}}), width = 2.34375000000004e-07)\n",
      "Split(Box({'beta': {'lb': 4.8281250000000005e-05, 'ub': 4.8515625e-05}}), width = 2.3437499999999723e-07)\n",
      "Split(Box({'beta': {'lb': 4.804687500000001e-05, 'ub': 4.8281250000000005e-05}}), width = 2.3437499999999723e-07)\n"
     ]
    },
    {
     "name": "stderr",
     "output_type": "stream",
     "text": [
      "Point: Point({'type': 'point', 'label': 'unknown', 'values': {'beta': 4.786113472694539e-05}}) is marked false, but already marked true.\n"
     ]
    },
    {
     "name": "stdout",
     "output_type": "stream",
     "text": [
      "Split(Box({'beta': {'lb': 4.7812500000000003e-05, 'ub': 4.804687500000001e-05}}), width = 2.34375000000004e-07)\n",
      "Split(Box({'beta': {'lb': 4.7578125e-05, 'ub': 4.7812500000000003e-05}}), width = 2.34375000000004e-07)\n"
     ]
    },
    {
     "name": "stderr",
     "output_type": "stream",
     "text": [
      "Point: Point({'type': 'point', 'label': 'unknown', 'values': {'beta': 4.747043158631727e-05}}) is marked false, but already marked true.\n"
     ]
    },
    {
     "name": "stdout",
     "output_type": "stream",
     "text": [
      "Split(Box({'beta': {'lb': 4.734375e-05, 'ub': 4.7578125e-05}}), width = 2.3437499999999723e-07)\n"
     ]
    },
    {
     "name": "stderr",
     "output_type": "stream",
     "text": [
      "Point: Point({'type': 'point', 'label': 'unknown', 'values': {'beta': 4.72750800160032e-05}}) is marked false, but already marked true.\n"
     ]
    },
    {
     "name": "stdout",
     "output_type": "stream",
     "text": [
      "Split(Box({'beta': {'lb': 4.7109375000000005e-05, 'ub': 4.734375e-05}}), width = 2.3437499999999723e-07)\n",
      "Split(Box({'beta': {'lb': 4.6875e-05, 'ub': 4.7109375000000005e-05}}), width = 2.34375000000004e-07)\n"
     ]
    },
    {
     "name": "stderr",
     "output_type": "stream",
     "text": [
      "Point: Point({'type': 'point', 'label': 'unknown', 'values': {'beta': 4.668902530506101e-05}}) is marked false, but already marked true.\n"
     ]
    },
    {
     "name": "stdout",
     "output_type": "stream",
     "text": [
      "Split(Box({'beta': {'lb': 4.6640625e-05, 'ub': 4.6875e-05}}), width = 2.34375000000004e-07)\n",
      "Split(Box({'beta': {'lb': 4.640625e-05, 'ub': 4.6640625e-05}}), width = 2.3437499999999723e-07)\n"
     ]
    },
    {
     "name": "stderr",
     "output_type": "stream",
     "text": [
      "Point: Point({'type': 'point', 'label': 'unknown', 'values': {'beta': 4.6298322164432884e-05}}) is marked false, but already marked true.\n"
     ]
    },
    {
     "name": "stdout",
     "output_type": "stream",
     "text": [
      "Split(Box({'beta': {'lb': 4.6171875e-05, 'ub': 4.640625e-05}}), width = 2.3437499999999723e-07)\n",
      "Split(Box({'beta': {'lb': 4.59375e-05, 'ub': 4.6171875e-05}}), width = 2.34375000000004e-07)\n",
      "Split(Box({'beta': {'lb': 4.5703125e-05, 'ub': 4.59375e-05}}), width = 2.3437499999999723e-07)\n"
     ]
    },
    {
     "name": "stderr",
     "output_type": "stream",
     "text": [
      "Point: Point({'type': 'point', 'label': 'unknown', 'values': {'beta': 4.5516915883176635e-05}}) is marked false, but already marked true.\n"
     ]
    },
    {
     "name": "stdout",
     "output_type": "stream",
     "text": [
      "Split(Box({'beta': {'lb': 4.5468750000000004e-05, 'ub': 4.5703125e-05}}), width = 2.3437499999999723e-07)\n",
      "Split(Box({'beta': {'lb': 4.5234375e-05, 'ub': 4.5468750000000004e-05}}), width = 2.34375000000004e-07)\n"
     ]
    },
    {
     "name": "stderr",
     "output_type": "stream",
     "text": [
      "Point: Point({'type': 'point', 'label': 'unknown', 'values': {'beta': 4.512621274254851e-05}}) is marked false, but already marked true.\n"
     ]
    },
    {
     "name": "stdout",
     "output_type": "stream",
     "text": [
      "Split(Box({'beta': {'lb': 4.5e-05, 'ub': 4.5234375e-05}}), width = 2.3437499999999723e-07)\n"
     ]
    },
    {
     "name": "stderr",
     "output_type": "stream",
     "text": [
      "Point: Point({'type': 'point', 'label': 'unknown', 'values': {'beta': 4.4930861172234447e-05}}) is marked false, but already marked true.\n"
     ]
    },
    {
     "name": "stdout",
     "output_type": "stream",
     "text": [
      "Split(Box({'beta': {'lb': 4.4765625000000006e-05, 'ub': 4.5e-05}}), width = 2.3437499999999723e-07)\n",
      "Split(Box({'beta': {'lb': 4.453125e-05, 'ub': 4.4765625000000006e-05}}), width = 2.34375000000004e-07)\n"
     ]
    },
    {
     "name": "stderr",
     "output_type": "stream",
     "text": [
      "Point: Point({'type': 'point', 'label': 'unknown', 'values': {'beta': 4.434480646129226e-05}}) is marked false, but already marked true.\n"
     ]
    },
    {
     "name": "stdout",
     "output_type": "stream",
     "text": [
      "Split(Box({'beta': {'lb': 4.4296875000000004e-05, 'ub': 4.453125e-05}}), width = 2.3437499999999723e-07)\n",
      "Split(Box({'beta': {'lb': 4.406250000000001e-05, 'ub': 4.4296875000000004e-05}}), width = 2.3437499999999723e-07)\n"
     ]
    },
    {
     "name": "stderr",
     "output_type": "stream",
     "text": [
      "Point: Point({'type': 'point', 'label': 'unknown', 'values': {'beta': 4.395410332066413e-05}}) is marked false, but already marked true.\n"
     ]
    },
    {
     "name": "stdout",
     "output_type": "stream",
     "text": [
      "Split(Box({'beta': {'lb': 4.3828125e-05, 'ub': 4.406250000000001e-05}}), width = 2.34375000000004e-07)\n",
      "Split(Box({'beta': {'lb': 4.3593750000000006e-05, 'ub': 4.3828125e-05}}), width = 2.3437499999999723e-07)\n",
      "Split(Box({'beta': {'lb': 4.335937500000001e-05, 'ub': 4.3593750000000006e-05}}), width = 2.3437499999999723e-07)\n"
     ]
    },
    {
     "name": "stderr",
     "output_type": "stream",
     "text": [
      "Point: Point({'type': 'point', 'label': 'unknown', 'values': {'beta': 4.317269703940788e-05}}) is marked false, but already marked true.\n"
     ]
    },
    {
     "name": "stdout",
     "output_type": "stream",
     "text": [
      "Split(Box({'beta': {'lb': 4.3125000000000005e-05, 'ub': 4.335937500000001e-05}}), width = 2.34375000000004e-07)\n",
      "Split(Box({'beta': {'lb': 4.2890625e-05, 'ub': 4.3125000000000005e-05}}), width = 2.34375000000004e-07)\n"
     ]
    },
    {
     "name": "stderr",
     "output_type": "stream",
     "text": [
      "Point: Point({'type': 'point', 'label': 'unknown', 'values': {'beta': 4.2781993898779754e-05}}) is marked false, but already marked true.\n"
     ]
    },
    {
     "name": "stdout",
     "output_type": "stream",
     "text": [
      "Split(Box({'beta': {'lb': 4.2656250000000003e-05, 'ub': 4.2890625e-05}}), width = 2.3437499999999723e-07)\n"
     ]
    },
    {
     "name": "stderr",
     "output_type": "stream",
     "text": [
      "Point: Point({'type': 'point', 'label': 'unknown', 'values': {'beta': 4.2586642328465694e-05}}) is marked false, but already marked true.\n"
     ]
    },
    {
     "name": "stdout",
     "output_type": "stream",
     "text": [
      "Split(Box({'beta': {'lb': 4.2421875000000006e-05, 'ub': 4.2656250000000003e-05}}), width = 2.3437499999999723e-07)\n",
      "Split(Box({'beta': {'lb': 4.21875e-05, 'ub': 4.2421875000000006e-05}}), width = 2.34375000000004e-07)\n"
     ]
    },
    {
     "name": "stderr",
     "output_type": "stream",
     "text": [
      "Point: Point({'type': 'point', 'label': 'unknown', 'values': {'beta': 4.2000587617523505e-05}}) is marked false, but already marked true.\n"
     ]
    },
    {
     "name": "stdout",
     "output_type": "stream",
     "text": [
      "Split(Box({'beta': {'lb': 4.1953125e-05, 'ub': 4.21875e-05}}), width = 2.34375000000004e-07)\n",
      "Split(Box({'beta': {'lb': 4.171875e-05, 'ub': 4.1953125e-05}}), width = 2.3437499999999723e-07)\n"
     ]
    },
    {
     "name": "stderr",
     "output_type": "stream",
     "text": [
      "Point: Point({'type': 'point', 'label': 'unknown', 'values': {'beta': 4.160988447689538e-05}}) is marked false, but already marked true.\n"
     ]
    },
    {
     "name": "stdout",
     "output_type": "stream",
     "text": [
      "Split(Box({'beta': {'lb': 4.1484375000000004e-05, 'ub': 4.171875e-05}}), width = 2.3437499999999723e-07)\n",
      "Split(Box({'beta': {'lb': 4.125e-05, 'ub': 4.1484375000000004e-05}}), width = 2.34375000000004e-07)\n",
      "Split(Box({'beta': {'lb': 4.1015624999999996e-05, 'ub': 4.125e-05}}), width = 2.34375000000004e-07)\n"
     ]
    },
    {
     "name": "stderr",
     "output_type": "stream",
     "text": [
      "Point: Point({'type': 'point', 'label': 'unknown', 'values': {'beta': 4.082847819563913e-05}}) is marked false, but already marked true.\n"
     ]
    },
    {
     "name": "stdout",
     "output_type": "stream",
     "text": [
      "Split(Box({'beta': {'lb': 4.078125e-05, 'ub': 4.1015624999999996e-05}}), width = 2.3437499999999723e-07)\n",
      "Split(Box({'beta': {'lb': 4.0546875e-05, 'ub': 4.078125e-05}}), width = 2.3437499999999723e-07)\n"
     ]
    },
    {
     "name": "stderr",
     "output_type": "stream",
     "text": [
      "Point: Point({'type': 'point', 'label': 'unknown', 'values': {'beta': 4.0437775055011e-05}}) is marked false, but already marked true.\n"
     ]
    },
    {
     "name": "stdout",
     "output_type": "stream",
     "text": [
      "Split(Box({'beta': {'lb': 4.03125e-05, 'ub': 4.0546875e-05}}), width = 2.34375000000004e-07)\n"
     ]
    },
    {
     "name": "stderr",
     "output_type": "stream",
     "text": [
      "Point: Point({'type': 'point', 'label': 'unknown', 'values': {'beta': 4.024242348469694e-05}}) is marked false, but already marked true.\n"
     ]
    },
    {
     "name": "stdout",
     "output_type": "stream",
     "text": [
      "Split(Box({'beta': {'lb': 4.0078125e-05, 'ub': 4.03125e-05}}), width = 2.3437499999999723e-07)\n",
      "Split(Box({'beta': {'lb': 3.984375e-05, 'ub': 4.0078125e-05}}), width = 2.3437499999999723e-07)\n"
     ]
    },
    {
     "name": "stderr",
     "output_type": "stream",
     "text": [
      "Point: Point({'type': 'point', 'label': 'unknown', 'values': {'beta': 3.965636877375475e-05}}) is marked false, but already marked true.\n"
     ]
    },
    {
     "name": "stdout",
     "output_type": "stream",
     "text": [
      "Split(Box({'beta': {'lb': 3.9609375e-05, 'ub': 3.984375e-05}}), width = 2.34375000000004e-07)\n",
      "Split(Box({'beta': {'lb': 3.9375e-05, 'ub': 3.9609375e-05}}), width = 2.3437499999999723e-07)\n"
     ]
    },
    {
     "name": "stderr",
     "output_type": "stream",
     "text": [
      "Point: Point({'type': 'point', 'label': 'unknown', 'values': {'beta': 3.9265665633126625e-05}}) is marked false, but already marked true.\n"
     ]
    },
    {
     "name": "stdout",
     "output_type": "stream",
     "text": [
      "Split(Box({'beta': {'lb': 3.9140625000000004e-05, 'ub': 3.9375e-05}}), width = 2.3437499999999723e-07)\n",
      "Split(Box({'beta': {'lb': 3.890625e-05, 'ub': 3.9140625000000004e-05}}), width = 2.34375000000004e-07)\n",
      "Split(Box({'beta': {'lb': 3.8671875e-05, 'ub': 3.890625e-05}}), width = 2.3437499999999723e-07)\n"
     ]
    },
    {
     "name": "stderr",
     "output_type": "stream",
     "text": [
      "Point: Point({'type': 'point', 'label': 'unknown', 'values': {'beta': 3.8484259351870376e-05}}) is marked false, but already marked true.\n"
     ]
    },
    {
     "name": "stdout",
     "output_type": "stream",
     "text": [
      "Split(Box({'beta': {'lb': 3.8437500000000006e-05, 'ub': 3.8671875e-05}}), width = 2.3437499999999723e-07)\n",
      "Split(Box({'beta': {'lb': 3.8203125e-05, 'ub': 3.8437500000000006e-05}}), width = 2.34375000000004e-07)\n"
     ]
    },
    {
     "name": "stderr",
     "output_type": "stream",
     "text": [
      "Point: Point({'type': 'point', 'label': 'unknown', 'values': {'beta': 3.809355621124225e-05}}) is marked false, but already marked true.\n"
     ]
    },
    {
     "name": "stdout",
     "output_type": "stream",
     "text": [
      "Split(Box({'beta': {'lb': 3.7968750000000005e-05, 'ub': 3.8203125e-05}}), width = 2.3437499999999723e-07)\n"
     ]
    },
    {
     "name": "stderr",
     "output_type": "stream",
     "text": [
      "Point: Point({'type': 'point', 'label': 'unknown', 'values': {'beta': 3.789820464092819e-05}}) is marked false, but already marked true.\n"
     ]
    },
    {
     "name": "stdout",
     "output_type": "stream",
     "text": [
      "Split(Box({'beta': {'lb': 3.773437500000001e-05, 'ub': 3.7968750000000005e-05}}), width = 2.3437499999999723e-07)\n",
      "Split(Box({'beta': {'lb': 3.7500000000000003e-05, 'ub': 3.773437500000001e-05}}), width = 2.34375000000004e-07)\n"
     ]
    },
    {
     "name": "stderr",
     "output_type": "stream",
     "text": [
      "Point: Point({'type': 'point', 'label': 'unknown', 'values': {'beta': 3.7312149929986e-05}}) is marked false, but already marked true.\n"
     ]
    },
    {
     "name": "stdout",
     "output_type": "stream",
     "text": [
      "Split(Box({'beta': {'lb': 3.7265625e-05, 'ub': 3.7500000000000003e-05}}), width = 2.34375000000004e-07)\n",
      "Split(Box({'beta': {'lb': 3.703125e-05, 'ub': 3.7265625e-05}}), width = 2.3437499999999723e-07)\n"
     ]
    },
    {
     "name": "stderr",
     "output_type": "stream",
     "text": [
      "Point: Point({'type': 'point', 'label': 'unknown', 'values': {'beta': 3.692144678935787e-05}}) is marked false, but already marked true.\n"
     ]
    },
    {
     "name": "stdout",
     "output_type": "stream",
     "text": [
      "Split(Box({'beta': {'lb': 3.6796875000000005e-05, 'ub': 3.703125e-05}}), width = 2.3437499999999723e-07)\n",
      "Split(Box({'beta': {'lb': 3.65625e-05, 'ub': 3.6796875000000005e-05}}), width = 2.34375000000004e-07)\n",
      "Split(Box({'beta': {'lb': 3.6328125e-05, 'ub': 3.65625e-05}}), width = 2.34375000000004e-07)\n"
     ]
    },
    {
     "name": "stderr",
     "output_type": "stream",
     "text": [
      "Point: Point({'type': 'point', 'label': 'unknown', 'values': {'beta': 3.614004050810162e-05}}) is marked false, but already marked true.\n"
     ]
    },
    {
     "name": "stdout",
     "output_type": "stream",
     "text": [
      "Split(Box({'beta': {'lb': 3.609375e-05, 'ub': 3.6328125e-05}}), width = 2.3437499999999723e-07)\n",
      "Split(Box({'beta': {'lb': 3.5859375e-05, 'ub': 3.609375e-05}}), width = 2.3437499999999723e-07)\n"
     ]
    },
    {
     "name": "stderr",
     "output_type": "stream",
     "text": [
      "Point: Point({'type': 'point', 'label': 'unknown', 'values': {'beta': 3.5749337367473495e-05}}) is marked false, but already marked true.\n"
     ]
    },
    {
     "name": "stdout",
     "output_type": "stream",
     "text": [
      "Split(Box({'beta': {'lb': 3.5625e-05, 'ub': 3.5859375e-05}}), width = 2.34375000000004e-07)\n"
     ]
    },
    {
     "name": "stderr",
     "output_type": "stream",
     "text": [
      "Point: Point({'type': 'point', 'label': 'unknown', 'values': {'beta': 3.5553985797159435e-05}}) is marked false, but already marked true.\n"
     ]
    },
    {
     "name": "stdout",
     "output_type": "stream",
     "text": [
      "Split(Box({'beta': {'lb': 3.5390624999999995e-05, 'ub': 3.5625e-05}}), width = 2.34375000000004e-07)\n",
      "Split(Box({'beta': {'lb': 3.515625e-05, 'ub': 3.5390624999999995e-05}}), width = 2.3437499999999723e-07)\n"
     ]
    },
    {
     "name": "stderr",
     "output_type": "stream",
     "text": [
      "Point: Point({'type': 'point', 'label': 'unknown', 'values': {'beta': 3.496793108621725e-05}}) is marked false, but already marked true.\n"
     ]
    },
    {
     "name": "stdout",
     "output_type": "stream",
     "text": [
      "Split(Box({'beta': {'lb': 3.4921875e-05, 'ub': 3.515625e-05}}), width = 2.3437499999999723e-07)\n",
      "Split(Box({'beta': {'lb': 3.4687499999999996e-05, 'ub': 3.4921875e-05}}), width = 2.34375000000004e-07)\n"
     ]
    },
    {
     "name": "stderr",
     "output_type": "stream",
     "text": [
      "Point: Point({'type': 'point', 'label': 'unknown', 'values': {'beta': 3.457722794558912e-05}}) is marked false, but already marked true.\n"
     ]
    },
    {
     "name": "stdout",
     "output_type": "stream",
     "text": [
      "Split(Box({'beta': {'lb': 3.4453125e-05, 'ub': 3.4687499999999996e-05}}), width = 2.3437499999999723e-07)\n",
      "Split(Box({'beta': {'lb': 3.421875e-05, 'ub': 3.4453125e-05}}), width = 2.3437499999999723e-07)\n",
      "Split(Box({'beta': {'lb': 3.3984375e-05, 'ub': 3.421875e-05}}), width = 2.34375000000004e-07)\n"
     ]
    },
    {
     "name": "stderr",
     "output_type": "stream",
     "text": [
      "Point: Point({'type': 'point', 'label': 'unknown', 'values': {'beta': 3.3795821664332863e-05}}) is marked false, but already marked true.\n"
     ]
    },
    {
     "name": "stdout",
     "output_type": "stream",
     "text": [
      "Split(Box({'beta': {'lb': 3.375e-05, 'ub': 3.3984375e-05}}), width = 2.3437499999999723e-07)\n",
      "Split(Box({'beta': {'lb': 3.3515625e-05, 'ub': 3.375e-05}}), width = 2.3437499999999723e-07)\n"
     ]
    },
    {
     "name": "stderr",
     "output_type": "stream",
     "text": [
      "Point: Point({'type': 'point', 'label': 'unknown', 'values': {'beta': 3.340511852370474e-05}}) is marked false, but already marked true.\n"
     ]
    },
    {
     "name": "stdout",
     "output_type": "stream",
     "text": [
      "Split(Box({'beta': {'lb': 3.328125e-05, 'ub': 3.3515625e-05}}), width = 2.34375000000004e-07)\n"
     ]
    },
    {
     "name": "stderr",
     "output_type": "stream",
     "text": [
      "Point: Point({'type': 'point', 'label': 'unknown', 'values': {'beta': 3.3209766953390675e-05}}) is marked false, but already marked true.\n"
     ]
    },
    {
     "name": "stdout",
     "output_type": "stream",
     "text": [
      "Split(Box({'beta': {'lb': 3.3046875e-05, 'ub': 3.328125e-05}}), width = 2.3437499999999723e-07)\n",
      "Split(Box({'beta': {'lb': 3.2812500000000005e-05, 'ub': 3.3046875e-05}}), width = 2.3437499999999723e-07)\n"
     ]
    },
    {
     "name": "stderr",
     "output_type": "stream",
     "text": [
      "Point: Point({'type': 'point', 'label': 'unknown', 'values': {'beta': 3.262371224244849e-05}}) is marked false, but already marked true.\n"
     ]
    },
    {
     "name": "stdout",
     "output_type": "stream",
     "text": [
      "Split(Box({'beta': {'lb': 3.2578125e-05, 'ub': 3.2812500000000005e-05}}), width = 2.34375000000004e-07)\n",
      "Split(Box({'beta': {'lb': 3.2343750000000004e-05, 'ub': 3.2578125e-05}}), width = 2.3437499999999723e-07)\n"
     ]
    },
    {
     "name": "stderr",
     "output_type": "stream",
     "text": [
      "Point: Point({'type': 'point', 'label': 'unknown', 'values': {'beta': 3.2233009101820366e-05}}) is marked false, but already marked true.\n"
     ]
    },
    {
     "name": "stdout",
     "output_type": "stream",
     "text": [
      "Split(Box({'beta': {'lb': 3.2109375000000006e-05, 'ub': 3.2343750000000004e-05}}), width = 2.3437499999999723e-07)\n",
      "Split(Box({'beta': {'lb': 3.1875e-05, 'ub': 3.2109375000000006e-05}}), width = 2.34375000000004e-07)\n",
      "Split(Box({'beta': {'lb': 3.1640625e-05, 'ub': 3.1875e-05}}), width = 2.34375000000004e-07)\n"
     ]
    },
    {
     "name": "stderr",
     "output_type": "stream",
     "text": [
      "Point: Point({'type': 'point', 'label': 'unknown', 'values': {'beta': 3.145160282056411e-05}}) is marked false, but already marked true.\n"
     ]
    },
    {
     "name": "stdout",
     "output_type": "stream",
     "text": [
      "Split(Box({'beta': {'lb': 3.140625e-05, 'ub': 3.1640625e-05}}), width = 2.3437499999999723e-07)\n",
      "Split(Box({'beta': {'lb': 3.1171875000000004e-05, 'ub': 3.140625e-05}}), width = 2.3437499999999723e-07)\n"
     ]
    },
    {
     "name": "stderr",
     "output_type": "stream",
     "text": [
      "Point: Point({'type': 'point', 'label': 'unknown', 'values': {'beta': 3.106089967993599e-05}}) is marked false, but already marked true.\n"
     ]
    },
    {
     "name": "stdout",
     "output_type": "stream",
     "text": [
      "Split(Box({'beta': {'lb': 3.09375e-05, 'ub': 3.1171875000000004e-05}}), width = 2.34375000000004e-07)\n"
     ]
    },
    {
     "name": "stderr",
     "output_type": "stream",
     "text": [
      "Point: Point({'type': 'point', 'label': 'unknown', 'values': {'beta': 3.086554810962192e-05}}) is marked false, but already marked true.\n"
     ]
    },
    {
     "name": "stdout",
     "output_type": "stream",
     "text": [
      "Split(Box({'beta': {'lb': 3.0703124999999996e-05, 'ub': 3.09375e-05}}), width = 2.34375000000004e-07)\n",
      "Split(Box({'beta': {'lb': 3.046875e-05, 'ub': 3.0703124999999996e-05}}), width = 2.3437499999999723e-07)\n"
     ]
    },
    {
     "name": "stderr",
     "output_type": "stream",
     "text": [
      "Point: Point({'type': 'point', 'label': 'unknown', 'values': {'beta': 3.0279493398679738e-05}}) is marked false, but already marked true.\n"
     ]
    },
    {
     "name": "stdout",
     "output_type": "stream",
     "text": [
      "Split(Box({'beta': {'lb': 3.0234375e-05, 'ub': 3.046875e-05}}), width = 2.3437499999999723e-07)\n",
      "Split(Box({'beta': {'lb': 3e-05, 'ub': 3.0234375e-05}}), width = 2.3437500000000061e-07)\n"
     ]
    },
    {
     "name": "stderr",
     "output_type": "stream",
     "text": [
      "Point: Point({'type': 'point', 'label': 'unknown', 'values': {'beta': 8.995939812962593e-05}}) is marked false, but already marked true.\n"
     ]
    },
    {
     "name": "stdout",
     "output_type": "stream",
     "text": [
      "Split(Box({'beta': {'lb': 8.988281250000001e-05, 'ub': 9e-05}}), width = 1.1718749999999523e-07)\n",
      "Split(Box({'beta': {'lb': 8.9765625e-05, 'ub': 8.988281250000001e-05}}), width = 1.1718750000000878e-07)\n",
      "Split(Box({'beta': {'lb': 8.96484375e-05, 'ub': 8.9765625e-05}}), width = 1.1718749999999523e-07)\n"
     ]
    },
    {
     "name": "stderr",
     "output_type": "stream",
     "text": [
      "Point: Point({'type': 'point', 'label': 'unknown', 'values': {'beta': 8.95686949889978e-05}}) is marked false, but already marked true.\n"
     ]
    },
    {
     "name": "stdout",
     "output_type": "stream",
     "text": [
      "Split(Box({'beta': {'lb': 8.953125000000001e-05, 'ub': 8.96484375e-05}}), width = 1.1718749999999523e-07)\n",
      "Split(Box({'beta': {'lb': 8.94140625e-05, 'ub': 8.953125000000001e-05}}), width = 1.1718750000000878e-07)\n"
     ]
    },
    {
     "name": "stderr",
     "output_type": "stream",
     "text": [
      "Point: Point({'type': 'point', 'label': 'unknown', 'values': {'beta': 8.937334341868374e-05}}) is marked false, but already marked true.\n"
     ]
    },
    {
     "name": "stdout",
     "output_type": "stream",
     "text": [
      "Split(Box({'beta': {'lb': 8.929687500000001e-05, 'ub': 8.94140625e-05}}), width = 1.1718749999999523e-07)\n"
     ]
    },
    {
     "name": "stderr",
     "output_type": "stream",
     "text": [
      "Point: Point({'type': 'point', 'label': 'unknown', 'values': {'beta': 8.927566763352671e-05}}) is marked false, but already marked true.\n"
     ]
    },
    {
     "name": "stdout",
     "output_type": "stream",
     "text": [
      "Split(Box({'beta': {'lb': 8.917968750000001e-05, 'ub': 8.929687500000001e-05}}), width = 1.1718749999999523e-07)\n",
      "Split(Box({'beta': {'lb': 8.90625e-05, 'ub': 8.917968750000001e-05}}), width = 1.1718750000000878e-07)\n"
     ]
    },
    {
     "name": "stderr",
     "output_type": "stream",
     "text": [
      "Point: Point({'type': 'point', 'label': 'unknown', 'values': {'beta': 8.898264027805561e-05}}) is marked false, but already marked true.\n"
     ]
    },
    {
     "name": "stdout",
     "output_type": "stream",
     "text": [
      "Split(Box({'beta': {'lb': 8.894531250000001e-05, 'ub': 8.90625e-05}}), width = 1.1718749999999523e-07)\n",
      "Split(Box({'beta': {'lb': 8.882812500000001e-05, 'ub': 8.894531250000001e-05}}), width = 1.1718749999999523e-07)\n"
     ]
    },
    {
     "name": "stderr",
     "output_type": "stream",
     "text": [
      "Point: Point({'type': 'point', 'label': 'unknown', 'values': {'beta': 8.878728870774155e-05}}) is marked false, but already marked true.\n"
     ]
    },
    {
     "name": "stdout",
     "output_type": "stream",
     "text": [
      "Split(Box({'beta': {'lb': 8.87109375e-05, 'ub': 8.882812500000001e-05}}), width = 1.1718750000000878e-07)\n",
      "Split(Box({'beta': {'lb': 8.859375000000001e-05, 'ub': 8.87109375e-05}}), width = 1.1718749999999523e-07)\n",
      "Split(Box({'beta': {'lb': 8.847656250000001e-05, 'ub': 8.859375000000001e-05}}), width = 1.1718749999999523e-07)\n"
     ]
    },
    {
     "name": "stderr",
     "output_type": "stream",
     "text": [
      "Point: Point({'type': 'point', 'label': 'unknown', 'values': {'beta': 8.839658556711342e-05}}) is marked false, but already marked true.\n"
     ]
    },
    {
     "name": "stdout",
     "output_type": "stream",
     "text": [
      "Split(Box({'beta': {'lb': 8.8359375e-05, 'ub': 8.847656250000001e-05}}), width = 1.1718750000000878e-07)\n",
      "Split(Box({'beta': {'lb': 8.824218750000001e-05, 'ub': 8.8359375e-05}}), width = 1.1718749999999523e-07)\n"
     ]
    },
    {
     "name": "stderr",
     "output_type": "stream",
     "text": [
      "Point: Point({'type': 'point', 'label': 'unknown', 'values': {'beta': 8.820123399679936e-05}}) is marked false, but already marked true.\n"
     ]
    },
    {
     "name": "stdout",
     "output_type": "stream",
     "text": [
      "Split(Box({'beta': {'lb': 8.812500000000001e-05, 'ub': 8.824218750000001e-05}}), width = 1.1718749999999523e-07)\n"
     ]
    },
    {
     "name": "stderr",
     "output_type": "stream",
     "text": [
      "Point: Point({'type': 'point', 'label': 'unknown', 'values': {'beta': 8.810355821164232e-05}}) is marked false, but already marked true.\n"
     ]
    },
    {
     "name": "stdout",
     "output_type": "stream",
     "text": [
      "Split(Box({'beta': {'lb': 8.80078125e-05, 'ub': 8.812500000000001e-05}}), width = 1.1718750000000878e-07)\n",
      "Split(Box({'beta': {'lb': 8.789062500000001e-05, 'ub': 8.80078125e-05}}), width = 1.1718749999999523e-07)\n"
     ]
    },
    {
     "name": "stderr",
     "output_type": "stream",
     "text": [
      "Point: Point({'type': 'point', 'label': 'unknown', 'values': {'beta': 8.781053085617124e-05}}) is marked false, but already marked true.\n"
     ]
    },
    {
     "name": "stdout",
     "output_type": "stream",
     "text": [
      "Split(Box({'beta': {'lb': 8.777343750000002e-05, 'ub': 8.789062500000001e-05}}), width = 1.1718749999999523e-07)\n",
      "Split(Box({'beta': {'lb': 8.765625e-05, 'ub': 8.777343750000002e-05}}), width = 1.1718750000000878e-07)\n"
     ]
    },
    {
     "name": "stderr",
     "output_type": "stream",
     "text": [
      "Point: Point({'type': 'point', 'label': 'unknown', 'values': {'beta': 8.761517928585718e-05}}) is marked false, but already marked true.\n"
     ]
    },
    {
     "name": "stdout",
     "output_type": "stream",
     "text": [
      "Split(Box({'beta': {'lb': 8.753906250000001e-05, 'ub': 8.765625e-05}}), width = 1.1718749999999523e-07)\n",
      "Split(Box({'beta': {'lb': 8.742187500000002e-05, 'ub': 8.753906250000001e-05}}), width = 1.1718749999999523e-07)\n",
      "Split(Box({'beta': {'lb': 8.730468750000001e-05, 'ub': 8.742187500000002e-05}}), width = 1.1718750000000878e-07)\n"
     ]
    },
    {
     "name": "stderr",
     "output_type": "stream",
     "text": [
      "Point: Point({'type': 'point', 'label': 'unknown', 'values': {'beta': 8.722447614522904e-05}}) is marked false, but already marked true.\n"
     ]
    },
    {
     "name": "stdout",
     "output_type": "stream",
     "text": [
      "Split(Box({'beta': {'lb': 8.718750000000001e-05, 'ub': 8.730468750000001e-05}}), width = 1.1718749999999523e-07)\n",
      "Split(Box({'beta': {'lb': 8.707031250000002e-05, 'ub': 8.718750000000001e-05}}), width = 1.1718749999999523e-07)\n"
     ]
    },
    {
     "name": "stderr",
     "output_type": "stream",
     "text": [
      "Point: Point({'type': 'point', 'label': 'unknown', 'values': {'beta': 8.702912457491498e-05}}) is marked false, but already marked true.\n"
     ]
    },
    {
     "name": "stdout",
     "output_type": "stream",
     "text": [
      "Split(Box({'beta': {'lb': 8.695312500000001e-05, 'ub': 8.707031250000002e-05}}), width = 1.1718750000000878e-07)\n"
     ]
    },
    {
     "name": "stderr",
     "output_type": "stream",
     "text": [
      "Point: Point({'type': 'point', 'label': 'unknown', 'values': {'beta': 8.693144878975795e-05}}) is marked false, but already marked true.\n"
     ]
    },
    {
     "name": "stdout",
     "output_type": "stream",
     "text": [
      "Split(Box({'beta': {'lb': 8.683593750000001e-05, 'ub': 8.695312500000001e-05}}), width = 1.1718749999999523e-07)\n",
      "Split(Box({'beta': {'lb': 8.671875000000002e-05, 'ub': 8.683593750000001e-05}}), width = 1.1718749999999523e-07)\n"
     ]
    },
    {
     "name": "stderr",
     "output_type": "stream",
     "text": [
      "Point: Point({'type': 'point', 'label': 'unknown', 'values': {'beta': 8.663842143428686e-05}}) is marked false, but already marked true.\n"
     ]
    },
    {
     "name": "stdout",
     "output_type": "stream",
     "text": [
      "Split(Box({'beta': {'lb': 8.660156250000001e-05, 'ub': 8.671875000000002e-05}}), width = 1.1718750000000878e-07)\n",
      "Split(Box({'beta': {'lb': 8.648437500000001e-05, 'ub': 8.660156250000001e-05}}), width = 1.1718749999999523e-07)\n"
     ]
    },
    {
     "name": "stderr",
     "output_type": "stream",
     "text": [
      "Point: Point({'type': 'point', 'label': 'unknown', 'values': {'beta': 8.64430698639728e-05}}) is marked false, but already marked true.\n"
     ]
    },
    {
     "name": "stdout",
     "output_type": "stream",
     "text": [
      "Split(Box({'beta': {'lb': 8.636718750000002e-05, 'ub': 8.648437500000001e-05}}), width = 1.1718749999999523e-07)\n",
      "Split(Box({'beta': {'lb': 8.625000000000001e-05, 'ub': 8.636718750000002e-05}}), width = 1.1718750000000878e-07)\n",
      "Split(Box({'beta': {'lb': 8.61328125e-05, 'ub': 8.625000000000001e-05}}), width = 1.1718750000000878e-07)\n"
     ]
    },
    {
     "name": "stderr",
     "output_type": "stream",
     "text": [
      "Point: Point({'type': 'point', 'label': 'unknown', 'values': {'beta': 8.605236672334467e-05}}) is marked false, but already marked true.\n"
     ]
    },
    {
     "name": "stdout",
     "output_type": "stream",
     "text": [
      "Split(Box({'beta': {'lb': 8.6015625e-05, 'ub': 8.61328125e-05}}), width = 1.1718749999999523e-07)\n",
      "Split(Box({'beta': {'lb': 8.589843750000001e-05, 'ub': 8.6015625e-05}}), width = 1.1718749999999523e-07)\n"
     ]
    },
    {
     "name": "stderr",
     "output_type": "stream",
     "text": [
      "Point: Point({'type': 'point', 'label': 'unknown', 'values': {'beta': 8.58570151530306e-05}}) is marked false, but already marked true.\n"
     ]
    },
    {
     "name": "stdout",
     "output_type": "stream",
     "text": [
      "Split(Box({'beta': {'lb': 8.578125e-05, 'ub': 8.589843750000001e-05}}), width = 1.1718750000000878e-07)\n"
     ]
    },
    {
     "name": "stderr",
     "output_type": "stream",
     "text": [
      "Point: Point({'type': 'point', 'label': 'unknown', 'values': {'beta': 8.575933936787357e-05}}) is marked false, but already marked true.\n"
     ]
    },
    {
     "name": "stdout",
     "output_type": "stream",
     "text": [
      "Split(Box({'beta': {'lb': 8.56640625e-05, 'ub': 8.578125e-05}}), width = 1.1718749999999523e-07)\n",
      "Split(Box({'beta': {'lb': 8.554687500000001e-05, 'ub': 8.56640625e-05}}), width = 1.1718749999999523e-07)\n"
     ]
    },
    {
     "name": "stderr",
     "output_type": "stream",
     "text": [
      "Point: Point({'type': 'point', 'label': 'unknown', 'values': {'beta': 8.546631201240248e-05}}) is marked false, but already marked true.\n"
     ]
    },
    {
     "name": "stdout",
     "output_type": "stream",
     "text": [
      "Split(Box({'beta': {'lb': 8.54296875e-05, 'ub': 8.554687500000001e-05}}), width = 1.1718750000000878e-07)\n",
      "Split(Box({'beta': {'lb': 8.531250000000001e-05, 'ub': 8.54296875e-05}}), width = 1.1718749999999523e-07)\n"
     ]
    },
    {
     "name": "stderr",
     "output_type": "stream",
     "text": [
      "Point: Point({'type': 'point', 'label': 'unknown', 'values': {'beta': 8.527096044208842e-05}}) is marked false, but already marked true.\n"
     ]
    },
    {
     "name": "stdout",
     "output_type": "stream",
     "text": [
      "Split(Box({'beta': {'lb': 8.519531250000001e-05, 'ub': 8.531250000000001e-05}}), width = 1.1718749999999523e-07)\n",
      "Split(Box({'beta': {'lb': 8.5078125e-05, 'ub': 8.519531250000001e-05}}), width = 1.1718750000000878e-07)\n",
      "Split(Box({'beta': {'lb': 8.496093750000001e-05, 'ub': 8.5078125e-05}}), width = 1.1718749999999523e-07)\n"
     ]
    },
    {
     "name": "stderr",
     "output_type": "stream",
     "text": [
      "Point: Point({'type': 'point', 'label': 'unknown', 'values': {'beta': 8.488025730146029e-05}}) is marked false, but already marked true.\n"
     ]
    },
    {
     "name": "stdout",
     "output_type": "stream",
     "text": [
      "Split(Box({'beta': {'lb': 8.484375000000001e-05, 'ub': 8.496093750000001e-05}}), width = 1.1718749999999523e-07)\n",
      "Split(Box({'beta': {'lb': 8.47265625e-05, 'ub': 8.484375000000001e-05}}), width = 1.1718750000000878e-07)\n"
     ]
    },
    {
     "name": "stderr",
     "output_type": "stream",
     "text": [
      "Point: Point({'type': 'point', 'label': 'unknown', 'values': {'beta': 8.468490573114623e-05}}) is marked false, but already marked true.\n"
     ]
    },
    {
     "name": "stdout",
     "output_type": "stream",
     "text": [
      "Split(Box({'beta': {'lb': 8.460937500000001e-05, 'ub': 8.47265625e-05}}), width = 1.1718749999999523e-07)\n"
     ]
    },
    {
     "name": "stderr",
     "output_type": "stream",
     "text": [
      "Point: Point({'type': 'point', 'label': 'unknown', 'values': {'beta': 8.458722994598919e-05}}) is marked false, but already marked true.\n"
     ]
    },
    {
     "name": "stdout",
     "output_type": "stream",
     "text": [
      "Split(Box({'beta': {'lb': 8.449218750000001e-05, 'ub': 8.460937500000001e-05}}), width = 1.1718749999999523e-07)\n",
      "Split(Box({'beta': {'lb': 8.4375e-05, 'ub': 8.449218750000001e-05}}), width = 1.1718750000000878e-07)\n"
     ]
    },
    {
     "name": "stderr",
     "output_type": "stream",
     "text": [
      "Point: Point({'type': 'point', 'label': 'unknown', 'values': {'beta': 8.429420259051811e-05}}) is marked false, but already marked true.\n"
     ]
    },
    {
     "name": "stdout",
     "output_type": "stream",
     "text": [
      "Split(Box({'beta': {'lb': 8.42578125e-05, 'ub': 8.4375e-05}}), width = 1.1718750000000878e-07)\n",
      "Split(Box({'beta': {'lb': 8.4140625e-05, 'ub': 8.42578125e-05}}), width = 1.1718749999999523e-07)\n"
     ]
    },
    {
     "name": "stderr",
     "output_type": "stream",
     "text": [
      "Point: Point({'type': 'point', 'label': 'unknown', 'values': {'beta': 8.409885102020403e-05}}) is marked false, but already marked true.\n"
     ]
    },
    {
     "name": "stdout",
     "output_type": "stream",
     "text": [
      "Split(Box({'beta': {'lb': 8.40234375e-05, 'ub': 8.4140625e-05}}), width = 1.1718749999999523e-07)\n",
      "Split(Box({'beta': {'lb': 8.390625e-05, 'ub': 8.40234375e-05}}), width = 1.1718750000000878e-07)\n",
      "Split(Box({'beta': {'lb': 8.37890625e-05, 'ub': 8.390625e-05}}), width = 1.1718749999999523e-07)\n"
     ]
    },
    {
     "name": "stderr",
     "output_type": "stream",
     "text": [
      "Point: Point({'type': 'point', 'label': 'unknown', 'values': {'beta': 8.370814787957591e-05}}) is marked false, but already marked true.\n"
     ]
    },
    {
     "name": "stdout",
     "output_type": "stream",
     "text": [
      "Split(Box({'beta': {'lb': 8.3671875e-05, 'ub': 8.37890625e-05}}), width = 1.1718749999999523e-07)\n",
      "Split(Box({'beta': {'lb': 8.35546875e-05, 'ub': 8.3671875e-05}}), width = 1.1718750000000878e-07)\n"
     ]
    },
    {
     "name": "stderr",
     "output_type": "stream",
     "text": [
      "Point: Point({'type': 'point', 'label': 'unknown', 'values': {'beta': 8.351279630926185e-05}}) is marked false, but already marked true.\n"
     ]
    },
    {
     "name": "stdout",
     "output_type": "stream",
     "text": [
      "Split(Box({'beta': {'lb': 8.34375e-05, 'ub': 8.35546875e-05}}), width = 1.1718749999999523e-07)\n"
     ]
    },
    {
     "name": "stderr",
     "output_type": "stream",
     "text": [
      "Point: Point({'type': 'point', 'label': 'unknown', 'values': {'beta': 8.341512052410482e-05}}) is marked false, but already marked true.\n"
     ]
    },
    {
     "name": "stdout",
     "output_type": "stream",
     "text": [
      "Split(Box({'beta': {'lb': 8.332031250000001e-05, 'ub': 8.34375e-05}}), width = 1.1718749999999523e-07)\n",
      "Split(Box({'beta': {'lb': 8.3203125e-05, 'ub': 8.332031250000001e-05}}), width = 1.1718750000000878e-07)\n"
     ]
    },
    {
     "name": "stderr",
     "output_type": "stream",
     "text": [
      "Point: Point({'type': 'point', 'label': 'unknown', 'values': {'beta': 8.312209316863373e-05}}) is marked false, but already marked true.\n"
     ]
    },
    {
     "name": "stdout",
     "output_type": "stream",
     "text": [
      "Split(Box({'beta': {'lb': 8.30859375e-05, 'ub': 8.3203125e-05}}), width = 1.1718749999999523e-07)\n",
      "Split(Box({'beta': {'lb': 8.296875000000001e-05, 'ub': 8.30859375e-05}}), width = 1.1718749999999523e-07)\n"
     ]
    },
    {
     "name": "stderr",
     "output_type": "stream",
     "text": [
      "Point: Point({'type': 'point', 'label': 'unknown', 'values': {'beta': 8.292674159831966e-05}}) is marked false, but already marked true.\n"
     ]
    },
    {
     "name": "stdout",
     "output_type": "stream",
     "text": [
      "Split(Box({'beta': {'lb': 8.28515625e-05, 'ub': 8.296875000000001e-05}}), width = 1.1718750000000878e-07)\n",
      "Split(Box({'beta': {'lb': 8.2734375e-05, 'ub': 8.28515625e-05}}), width = 1.1718749999999523e-07)\n",
      "Split(Box({'beta': {'lb': 8.261718750000001e-05, 'ub': 8.2734375e-05}}), width = 1.1718749999999523e-07)\n"
     ]
    },
    {
     "name": "stderr",
     "output_type": "stream",
     "text": [
      "Point: Point({'type': 'point', 'label': 'unknown', 'values': {'beta': 8.253603845769154e-05}}) is marked false, but already marked true.\n"
     ]
    },
    {
     "name": "stdout",
     "output_type": "stream",
     "text": [
      "Split(Box({'beta': {'lb': 8.25e-05, 'ub': 8.261718750000001e-05}}), width = 1.1718750000000878e-07)\n",
      "Split(Box({'beta': {'lb': 8.238281249999999e-05, 'ub': 8.25e-05}}), width = 1.1718750000000878e-07)\n"
     ]
    },
    {
     "name": "stderr",
     "output_type": "stream",
     "text": [
      "Point: Point({'type': 'point', 'label': 'unknown', 'values': {'beta': 8.234068688737748e-05}}) is marked false, but already marked true.\n"
     ]
    },
    {
     "name": "stdout",
     "output_type": "stream",
     "text": [
      "Split(Box({'beta': {'lb': 8.2265625e-05, 'ub': 8.238281249999999e-05}}), width = 1.1718749999999523e-07)\n"
     ]
    },
    {
     "name": "stderr",
     "output_type": "stream",
     "text": [
      "Point: Point({'type': 'point', 'label': 'unknown', 'values': {'beta': 8.224301110222044e-05}}) is marked false, but already marked true.\n"
     ]
    },
    {
     "name": "stdout",
     "output_type": "stream",
     "text": [
      "Split(Box({'beta': {'lb': 8.21484375e-05, 'ub': 8.2265625e-05}}), width = 1.1718749999999523e-07)\n",
      "Split(Box({'beta': {'lb': 8.203124999999999e-05, 'ub': 8.21484375e-05}}), width = 1.1718750000000878e-07)\n"
     ]
    },
    {
     "name": "stderr",
     "output_type": "stream",
     "text": [
      "Point: Point({'type': 'point', 'label': 'unknown', 'values': {'beta': 8.194998374674936e-05}}) is marked false, but already marked true.\n"
     ]
    },
    {
     "name": "stdout",
     "output_type": "stream",
     "text": [
      "Split(Box({'beta': {'lb': 8.19140625e-05, 'ub': 8.203124999999999e-05}}), width = 1.1718749999999523e-07)\n",
      "Split(Box({'beta': {'lb': 8.1796875e-05, 'ub': 8.19140625e-05}}), width = 1.1718749999999523e-07)\n"
     ]
    },
    {
     "name": "stderr",
     "output_type": "stream",
     "text": [
      "Point: Point({'type': 'point', 'label': 'unknown', 'values': {'beta': 8.175463217643528e-05}}) is marked false, but already marked true.\n"
     ]
    },
    {
     "name": "stdout",
     "output_type": "stream",
     "text": [
      "Split(Box({'beta': {'lb': 8.167968749999999e-05, 'ub': 8.1796875e-05}}), width = 1.1718750000000878e-07)\n",
      "Split(Box({'beta': {'lb': 8.15625e-05, 'ub': 8.167968749999999e-05}}), width = 1.1718749999999523e-07)\n",
      "Split(Box({'beta': {'lb': 8.14453125e-05, 'ub': 8.15625e-05}}), width = 1.1718749999999523e-07)\n"
     ]
    },
    {
     "name": "stderr",
     "output_type": "stream",
     "text": [
      "Point: Point({'type': 'point', 'label': 'unknown', 'values': {'beta': 8.136392903580716e-05}}) is marked false, but already marked true.\n"
     ]
    },
    {
     "name": "stdout",
     "output_type": "stream",
     "text": [
      "Split(Box({'beta': {'lb': 8.132812499999999e-05, 'ub': 8.14453125e-05}}), width = 1.1718750000000878e-07)\n",
      "Split(Box({'beta': {'lb': 8.12109375e-05, 'ub': 8.132812499999999e-05}}), width = 1.1718749999999523e-07)\n"
     ]
    },
    {
     "name": "stderr",
     "output_type": "stream",
     "text": [
      "Point: Point({'type': 'point', 'label': 'unknown', 'values': {'beta': 8.11685774654931e-05}}) is marked false, but already marked true.\n"
     ]
    },
    {
     "name": "stdout",
     "output_type": "stream",
     "text": [
      "Split(Box({'beta': {'lb': 8.109375e-05, 'ub': 8.12109375e-05}}), width = 1.1718749999999523e-07)\n"
     ]
    },
    {
     "name": "stderr",
     "output_type": "stream",
     "text": [
      "Point: Point({'type': 'point', 'label': 'unknown', 'values': {'beta': 8.107090168033606e-05}}) is marked false, but already marked true.\n"
     ]
    },
    {
     "name": "stdout",
     "output_type": "stream",
     "text": [
      "Split(Box({'beta': {'lb': 8.09765625e-05, 'ub': 8.109375e-05}}), width = 1.1718750000000878e-07)\n",
      "Split(Box({'beta': {'lb': 8.0859375e-05, 'ub': 8.09765625e-05}}), width = 1.1718749999999523e-07)\n"
     ]
    },
    {
     "name": "stderr",
     "output_type": "stream",
     "text": [
      "Point: Point({'type': 'point', 'label': 'unknown', 'values': {'beta': 8.077787432486498e-05}}) is marked false, but already marked true.\n"
     ]
    },
    {
     "name": "stdout",
     "output_type": "stream",
     "text": [
      "Split(Box({'beta': {'lb': 8.07421875e-05, 'ub': 8.0859375e-05}}), width = 1.1718749999999523e-07)\n",
      "Split(Box({'beta': {'lb': 8.0625e-05, 'ub': 8.07421875e-05}}), width = 1.1718750000000878e-07)\n"
     ]
    },
    {
     "name": "stderr",
     "output_type": "stream",
     "text": [
      "Point: Point({'type': 'point', 'label': 'unknown', 'values': {'beta': 8.05825227545509e-05}}) is marked false, but already marked true.\n"
     ]
    },
    {
     "name": "stdout",
     "output_type": "stream",
     "text": [
      "Split(Box({'beta': {'lb': 8.05078125e-05, 'ub': 8.0625e-05}}), width = 1.1718749999999523e-07)\n",
      "Split(Box({'beta': {'lb': 8.0390625e-05, 'ub': 8.05078125e-05}}), width = 1.1718749999999523e-07)\n",
      "Split(Box({'beta': {'lb': 8.02734375e-05, 'ub': 8.0390625e-05}}), width = 1.1718750000000878e-07)\n"
     ]
    },
    {
     "name": "stderr",
     "output_type": "stream",
     "text": [
      "Point: Point({'type': 'point', 'label': 'unknown', 'values': {'beta': 8.019181961392278e-05}}) is marked false, but already marked true.\n"
     ]
    },
    {
     "name": "stdout",
     "output_type": "stream",
     "text": [
      "Split(Box({'beta': {'lb': 8.015625e-05, 'ub': 8.02734375e-05}}), width = 1.1718749999999523e-07)\n",
      "Split(Box({'beta': {'lb': 8.00390625e-05, 'ub': 8.015625e-05}}), width = 1.1718749999999523e-07)\n"
     ]
    },
    {
     "name": "stderr",
     "output_type": "stream",
     "text": [
      "Point: Point({'type': 'point', 'label': 'unknown', 'values': {'beta': 7.999646804360872e-05}}) is marked false, but already marked true.\n"
     ]
    },
    {
     "name": "stdout",
     "output_type": "stream",
     "text": [
      "Split(Box({'beta': {'lb': 7.9921875e-05, 'ub': 8.00390625e-05}}), width = 1.1718750000000878e-07)\n"
     ]
    },
    {
     "name": "stderr",
     "output_type": "stream",
     "text": [
      "Point: Point({'type': 'point', 'label': 'unknown', 'values': {'beta': 7.989879225845169e-05}}) is marked false, but already marked true.\n"
     ]
    },
    {
     "name": "stdout",
     "output_type": "stream",
     "text": [
      "Split(Box({'beta': {'lb': 7.98046875e-05, 'ub': 7.9921875e-05}}), width = 1.1718749999999523e-07)\n",
      "Split(Box({'beta': {'lb': 7.96875e-05, 'ub': 7.98046875e-05}}), width = 1.1718749999999523e-07)\n"
     ]
    },
    {
     "name": "stderr",
     "output_type": "stream",
     "text": [
      "Point: Point({'type': 'point', 'label': 'unknown', 'values': {'beta': 7.96057649029806e-05}}) is marked false, but already marked true.\n"
     ]
    },
    {
     "name": "stdout",
     "output_type": "stream",
     "text": [
      "Split(Box({'beta': {'lb': 7.95703125e-05, 'ub': 7.96875e-05}}), width = 1.1718750000000878e-07)\n",
      "Split(Box({'beta': {'lb': 7.9453125e-05, 'ub': 7.95703125e-05}}), width = 1.1718749999999523e-07)\n"
     ]
    },
    {
     "name": "stderr",
     "output_type": "stream",
     "text": [
      "Point: Point({'type': 'point', 'label': 'unknown', 'values': {'beta': 7.941041333266653e-05}}) is marked false, but already marked true.\n"
     ]
    },
    {
     "name": "stdout",
     "output_type": "stream",
     "text": [
      "Split(Box({'beta': {'lb': 7.93359375e-05, 'ub': 7.9453125e-05}}), width = 1.1718749999999523e-07)\n",
      "Split(Box({'beta': {'lb': 7.921875e-05, 'ub': 7.93359375e-05}}), width = 1.1718750000000878e-07)\n",
      "Split(Box({'beta': {'lb': 7.91015625e-05, 'ub': 7.921875e-05}}), width = 1.1718749999999523e-07)\n"
     ]
    },
    {
     "name": "stderr",
     "output_type": "stream",
     "text": [
      "Point: Point({'type': 'point', 'label': 'unknown', 'values': {'beta': 7.901971019203841e-05}}) is marked false, but already marked true.\n"
     ]
    },
    {
     "name": "stdout",
     "output_type": "stream",
     "text": [
      "Split(Box({'beta': {'lb': 7.898437500000001e-05, 'ub': 7.91015625e-05}}), width = 1.1718749999999523e-07)\n",
      "Split(Box({'beta': {'lb': 7.88671875e-05, 'ub': 7.898437500000001e-05}}), width = 1.1718750000000878e-07)\n"
     ]
    },
    {
     "name": "stderr",
     "output_type": "stream",
     "text": [
      "Point: Point({'type': 'point', 'label': 'unknown', 'values': {'beta': 7.882435862172435e-05}}) is marked false, but already marked true.\n"
     ]
    },
    {
     "name": "stdout",
     "output_type": "stream",
     "text": [
      "Split(Box({'beta': {'lb': 7.875e-05, 'ub': 7.88671875e-05}}), width = 1.1718749999999523e-07)\n"
     ]
    },
    {
     "name": "stderr",
     "output_type": "stream",
     "text": [
      "Point: Point({'type': 'point', 'label': 'unknown', 'values': {'beta': 7.872668283656731e-05}}) is marked false, but already marked true.\n"
     ]
    },
    {
     "name": "stdout",
     "output_type": "stream",
     "text": [
      "Split(Box({'beta': {'lb': 7.863281250000001e-05, 'ub': 7.875e-05}}), width = 1.1718749999999523e-07)\n",
      "Split(Box({'beta': {'lb': 7.8515625e-05, 'ub': 7.863281250000001e-05}}), width = 1.1718750000000878e-07)\n"
     ]
    },
    {
     "name": "stderr",
     "output_type": "stream",
     "text": [
      "Point: Point({'type': 'point', 'label': 'unknown', 'values': {'beta': 7.843365548109621e-05}}) is marked false, but already marked true.\n"
     ]
    },
    {
     "name": "stdout",
     "output_type": "stream",
     "text": [
      "Split(Box({'beta': {'lb': 7.83984375e-05, 'ub': 7.8515625e-05}}), width = 1.1718749999999523e-07)\n",
      "Split(Box({'beta': {'lb': 7.828125000000001e-05, 'ub': 7.83984375e-05}}), width = 1.1718749999999523e-07)\n"
     ]
    },
    {
     "name": "stderr",
     "output_type": "stream",
     "text": [
      "Point: Point({'type': 'point', 'label': 'unknown', 'values': {'beta': 7.823830391078215e-05}}) is marked false, but already marked true.\n"
     ]
    },
    {
     "name": "stdout",
     "output_type": "stream",
     "text": [
      "Split(Box({'beta': {'lb': 7.81640625e-05, 'ub': 7.828125000000001e-05}}), width = 1.1718750000000878e-07)\n",
      "Split(Box({'beta': {'lb': 7.8046875e-05, 'ub': 7.81640625e-05}}), width = 1.1718749999999523e-07)\n",
      "Split(Box({'beta': {'lb': 7.792968750000001e-05, 'ub': 7.8046875e-05}}), width = 1.1718749999999523e-07)\n"
     ]
    },
    {
     "name": "stderr",
     "output_type": "stream",
     "text": [
      "Point: Point({'type': 'point', 'label': 'unknown', 'values': {'beta': 7.784760077015403e-05}}) is marked false, but already marked true.\n"
     ]
    },
    {
     "name": "stdout",
     "output_type": "stream",
     "text": [
      "Split(Box({'beta': {'lb': 7.78125e-05, 'ub': 7.792968750000001e-05}}), width = 1.1718750000000878e-07)\n",
      "Split(Box({'beta': {'lb': 7.76953125e-05, 'ub': 7.78125e-05}}), width = 1.1718749999999523e-07)\n"
     ]
    },
    {
     "name": "stderr",
     "output_type": "stream",
     "text": [
      "Point: Point({'type': 'point', 'label': 'unknown', 'values': {'beta': 7.765224919983997e-05}}) is marked false, but already marked true.\n"
     ]
    },
    {
     "name": "stdout",
     "output_type": "stream",
     "text": [
      "Split(Box({'beta': {'lb': 7.757812500000001e-05, 'ub': 7.76953125e-05}}), width = 1.1718749999999523e-07)\n"
     ]
    },
    {
     "name": "stderr",
     "output_type": "stream",
     "text": [
      "Point: Point({'type': 'point', 'label': 'unknown', 'values': {'beta': 7.755457341468293e-05}}) is marked false, but already marked true.\n"
     ]
    },
    {
     "name": "stdout",
     "output_type": "stream",
     "text": [
      "Split(Box({'beta': {'lb': 7.74609375e-05, 'ub': 7.757812500000001e-05}}), width = 1.1718750000000878e-07)\n",
      "Split(Box({'beta': {'lb': 7.734375e-05, 'ub': 7.74609375e-05}}), width = 1.1718749999999523e-07)\n"
     ]
    },
    {
     "name": "stderr",
     "output_type": "stream",
     "text": [
      "Point: Point({'type': 'point', 'label': 'unknown', 'values': {'beta': 7.726154605921184e-05}}) is marked false, but already marked true.\n"
     ]
    },
    {
     "name": "stdout",
     "output_type": "stream",
     "text": [
      "Split(Box({'beta': {'lb': 7.722656250000001e-05, 'ub': 7.734375e-05}}), width = 1.1718749999999523e-07)\n",
      "Split(Box({'beta': {'lb': 7.7109375e-05, 'ub': 7.722656250000001e-05}}), width = 1.1718750000000878e-07)\n"
     ]
    },
    {
     "name": "stderr",
     "output_type": "stream",
     "text": [
      "Point: Point({'type': 'point', 'label': 'unknown', 'values': {'beta': 7.706619448889778e-05}}) is marked false, but already marked true.\n"
     ]
    },
    {
     "name": "stdout",
     "output_type": "stream",
     "text": [
      "Split(Box({'beta': {'lb': 7.699218750000001e-05, 'ub': 7.7109375e-05}}), width = 1.1718749999999523e-07)\n",
      "Split(Box({'beta': {'lb': 7.687500000000001e-05, 'ub': 7.699218750000001e-05}}), width = 1.1718749999999523e-07)\n",
      "Split(Box({'beta': {'lb': 7.67578125e-05, 'ub': 7.687500000000001e-05}}), width = 1.1718750000000878e-07)\n"
     ]
    },
    {
     "name": "stderr",
     "output_type": "stream",
     "text": [
      "Point: Point({'type': 'point', 'label': 'unknown', 'values': {'beta': 7.667549134826965e-05}}) is marked false, but already marked true.\n"
     ]
    },
    {
     "name": "stdout",
     "output_type": "stream",
     "text": [
      "Split(Box({'beta': {'lb': 7.664062500000001e-05, 'ub': 7.67578125e-05}}), width = 1.1718749999999523e-07)\n",
      "Split(Box({'beta': {'lb': 7.652343750000001e-05, 'ub': 7.664062500000001e-05}}), width = 1.1718749999999523e-07)\n"
     ]
    },
    {
     "name": "stderr",
     "output_type": "stream",
     "text": [
      "Point: Point({'type': 'point', 'label': 'unknown', 'values': {'beta': 7.64801397779556e-05}}) is marked false, but already marked true.\n"
     ]
    },
    {
     "name": "stdout",
     "output_type": "stream",
     "text": [
      "Split(Box({'beta': {'lb': 7.640625e-05, 'ub': 7.652343750000001e-05}}), width = 1.1718750000000878e-07)\n"
     ]
    },
    {
     "name": "stderr",
     "output_type": "stream",
     "text": [
      "Point: Point({'type': 'point', 'label': 'unknown', 'values': {'beta': 7.638246399279856e-05}}) is marked false, but already marked true.\n"
     ]
    },
    {
     "name": "stdout",
     "output_type": "stream",
     "text": [
      "Split(Box({'beta': {'lb': 7.628906250000001e-05, 'ub': 7.640625e-05}}), width = 1.1718749999999523e-07)\n",
      "Split(Box({'beta': {'lb': 7.617187500000001e-05, 'ub': 7.628906250000001e-05}}), width = 1.1718749999999523e-07)\n"
     ]
    },
    {
     "name": "stderr",
     "output_type": "stream",
     "text": [
      "Point: Point({'type': 'point', 'label': 'unknown', 'values': {'beta': 7.608943663732746e-05}}) is marked false, but already marked true.\n"
     ]
    },
    {
     "name": "stdout",
     "output_type": "stream",
     "text": [
      "Split(Box({'beta': {'lb': 7.60546875e-05, 'ub': 7.617187500000001e-05}}), width = 1.1718750000000878e-07)\n",
      "Split(Box({'beta': {'lb': 7.593750000000001e-05, 'ub': 7.60546875e-05}}), width = 1.1718749999999523e-07)\n"
     ]
    },
    {
     "name": "stderr",
     "output_type": "stream",
     "text": [
      "Point: Point({'type': 'point', 'label': 'unknown', 'values': {'beta': 7.58940850670134e-05}}) is marked false, but already marked true.\n"
     ]
    },
    {
     "name": "stdout",
     "output_type": "stream",
     "text": [
      "Split(Box({'beta': {'lb': 7.582031250000001e-05, 'ub': 7.593750000000001e-05}}), width = 1.1718749999999523e-07)\n",
      "Split(Box({'beta': {'lb': 7.5703125e-05, 'ub': 7.582031250000001e-05}}), width = 1.1718750000000878e-07)\n",
      "Split(Box({'beta': {'lb': 7.558593750000001e-05, 'ub': 7.5703125e-05}}), width = 1.1718749999999523e-07)\n"
     ]
    },
    {
     "name": "stderr",
     "output_type": "stream",
     "text": [
      "Point: Point({'type': 'point', 'label': 'unknown', 'values': {'beta': 7.550338192638528e-05}}) is marked false, but already marked true.\n"
     ]
    },
    {
     "name": "stdout",
     "output_type": "stream",
     "text": [
      "Split(Box({'beta': {'lb': 7.546875000000001e-05, 'ub': 7.558593750000001e-05}}), width = 1.1718749999999523e-07)\n",
      "Split(Box({'beta': {'lb': 7.53515625e-05, 'ub': 7.546875000000001e-05}}), width = 1.1718750000000878e-07)\n"
     ]
    },
    {
     "name": "stderr",
     "output_type": "stream",
     "text": [
      "Point: Point({'type': 'point', 'label': 'unknown', 'values': {'beta': 7.530803035607122e-05}}) is marked false, but already marked true.\n"
     ]
    },
    {
     "name": "stdout",
     "output_type": "stream",
     "text": [
      "Split(Box({'beta': {'lb': 7.523437500000001e-05, 'ub': 7.53515625e-05}}), width = 1.1718749999999523e-07)\n"
     ]
    },
    {
     "name": "stderr",
     "output_type": "stream",
     "text": [
      "Point: Point({'type': 'point', 'label': 'unknown', 'values': {'beta': 7.521035457091418e-05}}) is marked false, but already marked true.\n"
     ]
    },
    {
     "name": "stdout",
     "output_type": "stream",
     "text": [
      "Split(Box({'beta': {'lb': 7.511718750000002e-05, 'ub': 7.523437500000001e-05}}), width = 1.1718749999999523e-07)\n",
      "Split(Box({'beta': {'lb': 7.500000000000001e-05, 'ub': 7.511718750000002e-05}}), width = 1.1718750000000878e-07)\n"
     ]
    },
    {
     "name": "stderr",
     "output_type": "stream",
     "text": [
      "Point: Point({'type': 'point', 'label': 'unknown', 'values': {'beta': 7.491732721544308e-05}}) is marked false, but already marked true.\n"
     ]
    },
    {
     "name": "stdout",
     "output_type": "stream",
     "text": [
      "Split(Box({'beta': {'lb': 7.48828125e-05, 'ub': 7.500000000000001e-05}}), width = 1.1718750000000878e-07)\n",
      "Split(Box({'beta': {'lb': 7.4765625e-05, 'ub': 7.48828125e-05}}), width = 1.1718749999999523e-07)\n"
     ]
    },
    {
     "name": "stderr",
     "output_type": "stream",
     "text": [
      "Point: Point({'type': 'point', 'label': 'unknown', 'values': {'beta': 7.472197564512902e-05}}) is marked false, but already marked true.\n"
     ]
    },
    {
     "name": "stdout",
     "output_type": "stream",
     "text": [
      "Split(Box({'beta': {'lb': 7.464843750000001e-05, 'ub': 7.4765625e-05}}), width = 1.1718749999999523e-07)\n",
      "Split(Box({'beta': {'lb': 7.453125e-05, 'ub': 7.464843750000001e-05}}), width = 1.1718750000000878e-07)\n",
      "Split(Box({'beta': {'lb': 7.44140625e-05, 'ub': 7.453125e-05}}), width = 1.1718749999999523e-07)\n"
     ]
    },
    {
     "name": "stderr",
     "output_type": "stream",
     "text": [
      "Point: Point({'type': 'point', 'label': 'unknown', 'values': {'beta': 7.43312725045009e-05}}) is marked false, but already marked true.\n"
     ]
    },
    {
     "name": "stdout",
     "output_type": "stream",
     "text": [
      "Split(Box({'beta': {'lb': 7.429687500000001e-05, 'ub': 7.44140625e-05}}), width = 1.1718749999999523e-07)\n",
      "Split(Box({'beta': {'lb': 7.41796875e-05, 'ub': 7.429687500000001e-05}}), width = 1.1718750000000878e-07)\n"
     ]
    },
    {
     "name": "stderr",
     "output_type": "stream",
     "text": [
      "Point: Point({'type': 'point', 'label': 'unknown', 'values': {'beta': 7.413592093418684e-05}}) is marked false, but already marked true.\n"
     ]
    },
    {
     "name": "stdout",
     "output_type": "stream",
     "text": [
      "Split(Box({'beta': {'lb': 7.40625e-05, 'ub': 7.41796875e-05}}), width = 1.1718749999999523e-07)\n"
     ]
    },
    {
     "name": "stderr",
     "output_type": "stream",
     "text": [
      "Point: Point({'type': 'point', 'label': 'unknown', 'values': {'beta': 7.40382451490298e-05}}) is marked false, but already marked true.\n"
     ]
    },
    {
     "name": "stdout",
     "output_type": "stream",
     "text": [
      "Split(Box({'beta': {'lb': 7.394531250000001e-05, 'ub': 7.40625e-05}}), width = 1.1718749999999523e-07)\n",
      "Split(Box({'beta': {'lb': 7.3828125e-05, 'ub': 7.394531250000001e-05}}), width = 1.1718750000000878e-07)\n"
     ]
    },
    {
     "name": "stderr",
     "output_type": "stream",
     "text": [
      "Point: Point({'type': 'point', 'label': 'unknown', 'values': {'beta': 7.37452177935587e-05}}) is marked false, but already marked true.\n"
     ]
    },
    {
     "name": "stdout",
     "output_type": "stream",
     "text": [
      "Split(Box({'beta': {'lb': 7.37109375e-05, 'ub': 7.3828125e-05}}), width = 1.1718749999999523e-07)\n",
      "Split(Box({'beta': {'lb': 7.359375000000001e-05, 'ub': 7.37109375e-05}}), width = 1.1718749999999523e-07)\n"
     ]
    },
    {
     "name": "stderr",
     "output_type": "stream",
     "text": [
      "Point: Point({'type': 'point', 'label': 'unknown', 'values': {'beta': 7.354986622324465e-05}}) is marked false, but already marked true.\n"
     ]
    },
    {
     "name": "stdout",
     "output_type": "stream",
     "text": [
      "Split(Box({'beta': {'lb': 7.34765625e-05, 'ub': 7.359375000000001e-05}}), width = 1.1718750000000878e-07)\n",
      "Split(Box({'beta': {'lb': 7.3359375e-05, 'ub': 7.34765625e-05}}), width = 1.1718749999999523e-07)\n",
      "Split(Box({'beta': {'lb': 7.324218750000001e-05, 'ub': 7.3359375e-05}}), width = 1.1718749999999523e-07)\n"
     ]
    },
    {
     "name": "stderr",
     "output_type": "stream",
     "text": [
      "Point: Point({'type': 'point', 'label': 'unknown', 'values': {'beta': 7.315916308261653e-05}}) is marked false, but already marked true.\n"
     ]
    },
    {
     "name": "stdout",
     "output_type": "stream",
     "text": [
      "Split(Box({'beta': {'lb': 7.3125e-05, 'ub': 7.324218750000001e-05}}), width = 1.1718750000000878e-07)\n",
      "Split(Box({'beta': {'lb': 7.300781250000001e-05, 'ub': 7.3125e-05}}), width = 1.1718749999999523e-07)\n"
     ]
    },
    {
     "name": "stderr",
     "output_type": "stream",
     "text": [
      "Point: Point({'type': 'point', 'label': 'unknown', 'values': {'beta': 7.296381151230246e-05}}) is marked false, but already marked true.\n"
     ]
    },
    {
     "name": "stdout",
     "output_type": "stream",
     "text": [
      "Split(Box({'beta': {'lb': 7.289062500000001e-05, 'ub': 7.300781250000001e-05}}), width = 1.1718749999999523e-07)\n"
     ]
    },
    {
     "name": "stderr",
     "output_type": "stream",
     "text": [
      "Point: Point({'type': 'point', 'label': 'unknown', 'values': {'beta': 7.286613572714543e-05}}) is marked false, but already marked true.\n"
     ]
    },
    {
     "name": "stdout",
     "output_type": "stream",
     "text": [
      "Split(Box({'beta': {'lb': 7.27734375e-05, 'ub': 7.289062500000001e-05}}), width = 1.1718750000000878e-07)\n",
      "Split(Box({'beta': {'lb': 7.265625000000001e-05, 'ub': 7.27734375e-05}}), width = 1.1718749999999523e-07)\n"
     ]
    },
    {
     "name": "stderr",
     "output_type": "stream",
     "text": [
      "Point: Point({'type': 'point', 'label': 'unknown', 'values': {'beta': 7.257310837167433e-05}}) is marked false, but already marked true.\n"
     ]
    },
    {
     "name": "stdout",
     "output_type": "stream",
     "text": [
      "Split(Box({'beta': {'lb': 7.253906250000001e-05, 'ub': 7.265625000000001e-05}}), width = 1.1718749999999523e-07)\n",
      "Split(Box({'beta': {'lb': 7.2421875e-05, 'ub': 7.253906250000001e-05}}), width = 1.1718750000000878e-07)\n"
     ]
    },
    {
     "name": "stderr",
     "output_type": "stream",
     "text": [
      "Point: Point({'type': 'point', 'label': 'unknown', 'values': {'beta': 7.237775680136027e-05}}) is marked false, but already marked true.\n"
     ]
    },
    {
     "name": "stdout",
     "output_type": "stream",
     "text": [
      "Split(Box({'beta': {'lb': 7.230468750000001e-05, 'ub': 7.2421875e-05}}), width = 1.1718749999999523e-07)\n",
      "Split(Box({'beta': {'lb': 7.218750000000001e-05, 'ub': 7.230468750000001e-05}}), width = 1.1718749999999523e-07)\n",
      "Split(Box({'beta': {'lb': 7.20703125e-05, 'ub': 7.218750000000001e-05}}), width = 1.1718750000000878e-07)\n"
     ]
    },
    {
     "name": "stderr",
     "output_type": "stream",
     "text": [
      "Point: Point({'type': 'point', 'label': 'unknown', 'values': {'beta': 7.198705366073215e-05}}) is marked false, but already marked true.\n"
     ]
    },
    {
     "name": "stdout",
     "output_type": "stream",
     "text": [
      "Split(Box({'beta': {'lb': 7.195312500000001e-05, 'ub': 7.20703125e-05}}), width = 1.1718749999999523e-07)\n",
      "Split(Box({'beta': {'lb': 7.183593750000001e-05, 'ub': 7.195312500000001e-05}}), width = 1.1718749999999523e-07)\n"
     ]
    },
    {
     "name": "stderr",
     "output_type": "stream",
     "text": [
      "Point: Point({'type': 'point', 'label': 'unknown', 'values': {'beta': 7.179170209041809e-05}}) is marked false, but already marked true.\n"
     ]
    },
    {
     "name": "stdout",
     "output_type": "stream",
     "text": [
      "Split(Box({'beta': {'lb': 7.171875e-05, 'ub': 7.183593750000001e-05}}), width = 1.1718750000000878e-07)\n"
     ]
    },
    {
     "name": "stderr",
     "output_type": "stream",
     "text": [
      "Point: Point({'type': 'point', 'label': 'unknown', 'values': {'beta': 7.169402630526105e-05}}) is marked false, but already marked true.\n"
     ]
    },
    {
     "name": "stdout",
     "output_type": "stream",
     "text": [
      "Split(Box({'beta': {'lb': 7.160156250000001e-05, 'ub': 7.171875e-05}}), width = 1.1718749999999523e-07)\n",
      "Split(Box({'beta': {'lb': 7.148437500000001e-05, 'ub': 7.160156250000001e-05}}), width = 1.1718749999999523e-07)\n"
     ]
    },
    {
     "name": "stderr",
     "output_type": "stream",
     "text": [
      "Point: Point({'type': 'point', 'label': 'unknown', 'values': {'beta': 7.140099894978995e-05}}) is marked false, but already marked true.\n"
     ]
    },
    {
     "name": "stdout",
     "output_type": "stream",
     "text": [
      "Split(Box({'beta': {'lb': 7.13671875e-05, 'ub': 7.148437500000001e-05}}), width = 1.1718750000000878e-07)\n",
      "Split(Box({'beta': {'lb': 7.125000000000001e-05, 'ub': 7.13671875e-05}}), width = 1.1718749999999523e-07)\n"
     ]
    },
    {
     "name": "stderr",
     "output_type": "stream",
     "text": [
      "Point: Point({'type': 'point', 'label': 'unknown', 'values': {'beta': 7.12056473794759e-05}}) is marked false, but already marked true.\n"
     ]
    },
    {
     "name": "stdout",
     "output_type": "stream",
     "text": [
      "Split(Box({'beta': {'lb': 7.113281250000002e-05, 'ub': 7.125000000000001e-05}}), width = 1.1718749999999523e-07)\n",
      "Split(Box({'beta': {'lb': 7.1015625e-05, 'ub': 7.113281250000002e-05}}), width = 1.1718750000000878e-07)\n",
      "Split(Box({'beta': {'lb': 7.089843750000001e-05, 'ub': 7.1015625e-05}}), width = 1.1718749999999523e-07)\n"
     ]
    },
    {
     "name": "stderr",
     "output_type": "stream",
     "text": [
      "Point: Point({'type': 'point', 'label': 'unknown', 'values': {'beta': 7.081494423884777e-05}}) is marked false, but already marked true.\n"
     ]
    },
    {
     "name": "stdout",
     "output_type": "stream",
     "text": [
      "Split(Box({'beta': {'lb': 7.078125000000002e-05, 'ub': 7.089843750000001e-05}}), width = 1.1718749999999523e-07)\n",
      "Split(Box({'beta': {'lb': 7.066406250000001e-05, 'ub': 7.078125000000002e-05}}), width = 1.1718750000000878e-07)\n"
     ]
    },
    {
     "name": "stderr",
     "output_type": "stream",
     "text": [
      "Point: Point({'type': 'point', 'label': 'unknown', 'values': {'beta': 7.061959266853371e-05}}) is marked false, but already marked true.\n"
     ]
    },
    {
     "name": "stdout",
     "output_type": "stream",
     "text": [
      "Split(Box({'beta': {'lb': 7.054687500000001e-05, 'ub': 7.066406250000001e-05}}), width = 1.1718749999999523e-07)\n"
     ]
    },
    {
     "name": "stderr",
     "output_type": "stream",
     "text": [
      "Point: Point({'type': 'point', 'label': 'unknown', 'values': {'beta': 7.052191688337667e-05}}) is marked false, but already marked true.\n"
     ]
    },
    {
     "name": "stdout",
     "output_type": "stream",
     "text": [
      "Split(Box({'beta': {'lb': 7.042968750000002e-05, 'ub': 7.054687500000001e-05}}), width = 1.1718749999999523e-07)\n",
      "Split(Box({'beta': {'lb': 7.031250000000001e-05, 'ub': 7.042968750000002e-05}}), width = 1.1718750000000878e-07)\n"
     ]
    },
    {
     "name": "stderr",
     "output_type": "stream",
     "text": [
      "Point: Point({'type': 'point', 'label': 'unknown', 'values': {'beta': 7.022888952790558e-05}}) is marked false, but already marked true.\n"
     ]
    },
    {
     "name": "stdout",
     "output_type": "stream",
     "text": [
      "Split(Box({'beta': {'lb': 7.019531250000001e-05, 'ub': 7.031250000000001e-05}}), width = 1.1718749999999523e-07)\n",
      "Split(Box({'beta': {'lb': 7.007812500000002e-05, 'ub': 7.019531250000001e-05}}), width = 1.1718749999999523e-07)\n"
     ]
    },
    {
     "name": "stderr",
     "output_type": "stream",
     "text": [
      "Point: Point({'type': 'point', 'label': 'unknown', 'values': {'beta': 7.003353795759152e-05}}) is marked false, but already marked true.\n"
     ]
    },
    {
     "name": "stdout",
     "output_type": "stream",
     "text": [
      "Split(Box({'beta': {'lb': 6.996093750000001e-05, 'ub': 7.007812500000002e-05}}), width = 1.1718750000000878e-07)\n",
      "Split(Box({'beta': {'lb': 6.984375000000001e-05, 'ub': 6.996093750000001e-05}}), width = 1.1718749999999523e-07)\n",
      "Split(Box({'beta': {'lb': 6.972656250000002e-05, 'ub': 6.984375000000001e-05}}), width = 1.1718749999999523e-07)\n"
     ]
    },
    {
     "name": "stderr",
     "output_type": "stream",
     "text": [
      "Point: Point({'type': 'point', 'label': 'unknown', 'values': {'beta': 6.96428348169634e-05}}) is marked false, but already marked true.\n"
     ]
    },
    {
     "name": "stdout",
     "output_type": "stream",
     "text": [
      "Split(Box({'beta': {'lb': 6.960937500000001e-05, 'ub': 6.972656250000002e-05}}), width = 1.1718750000000878e-07)\n",
      "Split(Box({'beta': {'lb': 6.949218750000001e-05, 'ub': 6.960937500000001e-05}}), width = 1.1718749999999523e-07)\n"
     ]
    },
    {
     "name": "stderr",
     "output_type": "stream",
     "text": [
      "Point: Point({'type': 'point', 'label': 'unknown', 'values': {'beta': 6.944748324664934e-05}}) is marked false, but already marked true.\n"
     ]
    },
    {
     "name": "stdout",
     "output_type": "stream",
     "text": [
      "Split(Box({'beta': {'lb': 6.937500000000002e-05, 'ub': 6.949218750000001e-05}}), width = 1.1718749999999523e-07)\n"
     ]
    },
    {
     "name": "stderr",
     "output_type": "stream",
     "text": [
      "Point: Point({'type': 'point', 'label': 'unknown', 'values': {'beta': 6.93498074614923e-05}}) is marked false, but already marked true.\n"
     ]
    },
    {
     "name": "stdout",
     "output_type": "stream",
     "text": [
      "Split(Box({'beta': {'lb': 6.925781250000001e-05, 'ub': 6.937500000000002e-05}}), width = 1.1718750000000878e-07)\n",
      "Split(Box({'beta': {'lb': 6.914062500000002e-05, 'ub': 6.925781250000001e-05}}), width = 1.1718749999999523e-07)\n"
     ]
    },
    {
     "name": "stderr",
     "output_type": "stream",
     "text": [
      "Point: Point({'type': 'point', 'label': 'unknown', 'values': {'beta': 6.90567801060212e-05}}) is marked false, but already marked true.\n"
     ]
    },
    {
     "name": "stdout",
     "output_type": "stream",
     "text": [
      "Split(Box({'beta': {'lb': 6.902343750000002e-05, 'ub': 6.914062500000002e-05}}), width = 1.1718749999999523e-07)\n",
      "Split(Box({'beta': {'lb': 6.890625000000001e-05, 'ub': 6.902343750000002e-05}}), width = 1.1718750000000878e-07)\n"
     ]
    },
    {
     "name": "stderr",
     "output_type": "stream",
     "text": [
      "Point: Point({'type': 'point', 'label': 'unknown', 'values': {'beta': 6.886142853570714e-05}}) is marked false, but already marked true.\n"
     ]
    },
    {
     "name": "stdout",
     "output_type": "stream",
     "text": [
      "Split(Box({'beta': {'lb': 6.878906250000002e-05, 'ub': 6.890625000000001e-05}}), width = 1.1718749999999523e-07)\n",
      "Split(Box({'beta': {'lb': 6.867187500000002e-05, 'ub': 6.878906250000002e-05}}), width = 1.1718749999999523e-07)\n",
      "Split(Box({'beta': {'lb': 6.855468750000001e-05, 'ub': 6.867187500000002e-05}}), width = 1.1718750000000878e-07)\n"
     ]
    },
    {
     "name": "stderr",
     "output_type": "stream",
     "text": [
      "Point: Point({'type': 'point', 'label': 'unknown', 'values': {'beta': 6.847072539507902e-05}}) is marked false, but already marked true.\n"
     ]
    },
    {
     "name": "stdout",
     "output_type": "stream",
     "text": [
      "Split(Box({'beta': {'lb': 6.843750000000002e-05, 'ub': 6.855468750000001e-05}}), width = 1.1718749999999523e-07)\n",
      "Split(Box({'beta': {'lb': 6.832031250000002e-05, 'ub': 6.843750000000002e-05}}), width = 1.1718749999999523e-07)\n"
     ]
    },
    {
     "name": "stderr",
     "output_type": "stream",
     "text": [
      "Point: Point({'type': 'point', 'label': 'unknown', 'values': {'beta': 6.827537382476496e-05}}) is marked false, but already marked true.\n"
     ]
    },
    {
     "name": "stdout",
     "output_type": "stream",
     "text": [
      "Split(Box({'beta': {'lb': 6.820312500000001e-05, 'ub': 6.832031250000002e-05}}), width = 1.1718750000000878e-07)\n"
     ]
    },
    {
     "name": "stderr",
     "output_type": "stream",
     "text": [
      "Point: Point({'type': 'point', 'label': 'unknown', 'values': {'beta': 6.817769803960792e-05}}) is marked false, but already marked true.\n"
     ]
    },
    {
     "name": "stdout",
     "output_type": "stream",
     "text": [
      "Split(Box({'beta': {'lb': 6.808593750000002e-05, 'ub': 6.820312500000001e-05}}), width = 1.1718749999999523e-07)\n",
      "Split(Box({'beta': {'lb': 6.796875000000002e-05, 'ub': 6.808593750000002e-05}}), width = 1.1718749999999523e-07)\n"
     ]
    },
    {
     "name": "stderr",
     "output_type": "stream",
     "text": [
      "Point: Point({'type': 'point', 'label': 'unknown', 'values': {'beta': 6.788467068413682e-05}}) is marked false, but already marked true.\n"
     ]
    },
    {
     "name": "stdout",
     "output_type": "stream",
     "text": [
      "Split(Box({'beta': {'lb': 6.785156250000001e-05, 'ub': 6.796875000000002e-05}}), width = 1.1718750000000878e-07)\n",
      "Split(Box({'beta': {'lb': 6.773437500000002e-05, 'ub': 6.785156250000001e-05}}), width = 1.1718749999999523e-07)\n"
     ]
    },
    {
     "name": "stderr",
     "output_type": "stream",
     "text": [
      "Point: Point({'type': 'point', 'label': 'unknown', 'values': {'beta': 6.768931911382276e-05}}) is marked false, but already marked true.\n"
     ]
    },
    {
     "name": "stdout",
     "output_type": "stream",
     "text": [
      "Split(Box({'beta': {'lb': 6.761718750000002e-05, 'ub': 6.773437500000002e-05}}), width = 1.1718749999999523e-07)\n",
      "Split(Box({'beta': {'lb': 6.750000000000001e-05, 'ub': 6.761718750000002e-05}}), width = 1.1718750000000878e-07)\n",
      "Split(Box({'beta': {'lb': 6.73828125e-05, 'ub': 6.750000000000001e-05}}), width = 1.1718750000000878e-07)\n"
     ]
    },
    {
     "name": "stderr",
     "output_type": "stream",
     "text": [
      "Point: Point({'type': 'point', 'label': 'unknown', 'values': {'beta': 6.729861597319464e-05}}) is marked false, but already marked true.\n"
     ]
    },
    {
     "name": "stdout",
     "output_type": "stream",
     "text": [
      "Split(Box({'beta': {'lb': 6.726562500000001e-05, 'ub': 6.73828125e-05}}), width = 1.1718749999999523e-07)\n",
      "Split(Box({'beta': {'lb': 6.714843750000002e-05, 'ub': 6.726562500000001e-05}}), width = 1.1718749999999523e-07)\n"
     ]
    },
    {
     "name": "stderr",
     "output_type": "stream",
     "text": [
      "Point: Point({'type': 'point', 'label': 'unknown', 'values': {'beta': 6.710326440288058e-05}}) is marked false, but already marked true.\n"
     ]
    },
    {
     "name": "stdout",
     "output_type": "stream",
     "text": [
      "Split(Box({'beta': {'lb': 6.703125e-05, 'ub': 6.714843750000002e-05}}), width = 1.1718750000000878e-07)\n"
     ]
    },
    {
     "name": "stderr",
     "output_type": "stream",
     "text": [
      "Point: Point({'type': 'point', 'label': 'unknown', 'values': {'beta': 6.700558861772355e-05}}) is marked false, but already marked true.\n"
     ]
    },
    {
     "name": "stdout",
     "output_type": "stream",
     "text": [
      "Split(Box({'beta': {'lb': 6.691406250000001e-05, 'ub': 6.703125e-05}}), width = 1.1718749999999523e-07)\n",
      "Split(Box({'beta': {'lb': 6.679687500000002e-05, 'ub': 6.691406250000001e-05}}), width = 1.1718749999999523e-07)\n"
     ]
    },
    {
     "name": "stderr",
     "output_type": "stream",
     "text": [
      "Point: Point({'type': 'point', 'label': 'unknown', 'values': {'beta': 6.671256126225245e-05}}) is marked false, but already marked true.\n"
     ]
    },
    {
     "name": "stdout",
     "output_type": "stream",
     "text": [
      "Split(Box({'beta': {'lb': 6.667968750000001e-05, 'ub': 6.679687500000002e-05}}), width = 1.1718750000000878e-07)\n",
      "Split(Box({'beta': {'lb': 6.656250000000001e-05, 'ub': 6.667968750000001e-05}}), width = 1.1718749999999523e-07)\n"
     ]
    },
    {
     "name": "stderr",
     "output_type": "stream",
     "text": [
      "Point: Point({'type': 'point', 'label': 'unknown', 'values': {'beta': 6.651720969193839e-05}}) is marked false, but already marked true.\n"
     ]
    },
    {
     "name": "stdout",
     "output_type": "stream",
     "text": [
      "Split(Box({'beta': {'lb': 6.644531250000002e-05, 'ub': 6.656250000000001e-05}}), width = 1.1718749999999523e-07)\n",
      "Split(Box({'beta': {'lb': 6.632812500000001e-05, 'ub': 6.644531250000002e-05}}), width = 1.1718750000000878e-07)\n",
      "Split(Box({'beta': {'lb': 6.621093750000001e-05, 'ub': 6.632812500000001e-05}}), width = 1.1718749999999523e-07)\n"
     ]
    },
    {
     "name": "stderr",
     "output_type": "stream",
     "text": [
      "Point: Point({'type': 'point', 'label': 'unknown', 'values': {'beta': 6.612650655131027e-05}}) is marked false, but already marked true.\n"
     ]
    },
    {
     "name": "stdout",
     "output_type": "stream",
     "text": [
      "Split(Box({'beta': {'lb': 6.609375000000002e-05, 'ub': 6.621093750000001e-05}}), width = 1.1718749999999523e-07)\n",
      "Split(Box({'beta': {'lb': 6.597656250000001e-05, 'ub': 6.609375000000002e-05}}), width = 1.1718750000000878e-07)\n"
     ]
    },
    {
     "name": "stderr",
     "output_type": "stream",
     "text": [
      "Point: Point({'type': 'point', 'label': 'unknown', 'values': {'beta': 6.593115498099619e-05}}) is marked false, but already marked true.\n"
     ]
    },
    {
     "name": "stdout",
     "output_type": "stream",
     "text": [
      "Split(Box({'beta': {'lb': 6.585937500000001e-05, 'ub': 6.597656250000001e-05}}), width = 1.1718749999999523e-07)\n"
     ]
    },
    {
     "name": "stderr",
     "output_type": "stream",
     "text": [
      "Point: Point({'type': 'point', 'label': 'unknown', 'values': {'beta': 6.583347919583917e-05}}) is marked false, but already marked true.\n"
     ]
    },
    {
     "name": "stdout",
     "output_type": "stream",
     "text": [
      "Split(Box({'beta': {'lb': 6.574218750000002e-05, 'ub': 6.585937500000001e-05}}), width = 1.1718749999999523e-07)\n",
      "Split(Box({'beta': {'lb': 6.562500000000001e-05, 'ub': 6.574218750000002e-05}}), width = 1.1718750000000878e-07)\n"
     ]
    },
    {
     "name": "stderr",
     "output_type": "stream",
     "text": [
      "Point: Point({'type': 'point', 'label': 'unknown', 'values': {'beta': 6.554045184036807e-05}}) is marked false, but already marked true.\n"
     ]
    },
    {
     "name": "stdout",
     "output_type": "stream",
     "text": [
      "Split(Box({'beta': {'lb': 6.55078125e-05, 'ub': 6.562500000000001e-05}}), width = 1.1718750000000878e-07)\n",
      "Split(Box({'beta': {'lb': 6.5390625e-05, 'ub': 6.55078125e-05}}), width = 1.1718749999999523e-07)\n"
     ]
    },
    {
     "name": "stderr",
     "output_type": "stream",
     "text": [
      "Point: Point({'type': 'point', 'label': 'unknown', 'values': {'beta': 6.534510027005401e-05}}) is marked false, but already marked true.\n"
     ]
    },
    {
     "name": "stdout",
     "output_type": "stream",
     "text": [
      "Split(Box({'beta': {'lb': 6.527343750000001e-05, 'ub': 6.5390625e-05}}), width = 1.1718749999999523e-07)\n",
      "Split(Box({'beta': {'lb': 6.515625e-05, 'ub': 6.527343750000001e-05}}), width = 1.1718750000000878e-07)\n",
      "Split(Box({'beta': {'lb': 6.50390625e-05, 'ub': 6.515625e-05}}), width = 1.1718749999999523e-07)\n"
     ]
    },
    {
     "name": "stderr",
     "output_type": "stream",
     "text": [
      "Point: Point({'type': 'point', 'label': 'unknown', 'values': {'beta': 6.495439712942589e-05}}) is marked false, but already marked true.\n"
     ]
    },
    {
     "name": "stdout",
     "output_type": "stream",
     "text": [
      "Split(Box({'beta': {'lb': 6.492187500000001e-05, 'ub': 6.50390625e-05}}), width = 1.1718749999999523e-07)\n",
      "Split(Box({'beta': {'lb': 6.48046875e-05, 'ub': 6.492187500000001e-05}}), width = 1.1718750000000878e-07)\n"
     ]
    },
    {
     "name": "stderr",
     "output_type": "stream",
     "text": [
      "Point: Point({'type': 'point', 'label': 'unknown', 'values': {'beta': 6.475904555911182e-05}}) is marked false, but already marked true.\n"
     ]
    },
    {
     "name": "stdout",
     "output_type": "stream",
     "text": [
      "Split(Box({'beta': {'lb': 6.468750000000001e-05, 'ub': 6.48046875e-05}}), width = 1.1718749999999523e-07)\n"
     ]
    },
    {
     "name": "stderr",
     "output_type": "stream",
     "text": [
      "Point: Point({'type': 'point', 'label': 'unknown', 'values': {'beta': 6.466136977395479e-05}}) is marked false, but already marked true.\n"
     ]
    },
    {
     "name": "stdout",
     "output_type": "stream",
     "text": [
      "Split(Box({'beta': {'lb': 6.457031250000001e-05, 'ub': 6.468750000000001e-05}}), width = 1.1718749999999523e-07)\n",
      "Split(Box({'beta': {'lb': 6.4453125e-05, 'ub': 6.457031250000001e-05}}), width = 1.1718750000000878e-07)\n"
     ]
    },
    {
     "name": "stderr",
     "output_type": "stream",
     "text": [
      "Point: Point({'type': 'point', 'label': 'unknown', 'values': {'beta': 6.43683424184837e-05}}) is marked false, but already marked true.\n"
     ]
    },
    {
     "name": "stdout",
     "output_type": "stream",
     "text": [
      "Split(Box({'beta': {'lb': 6.433593750000001e-05, 'ub': 6.4453125e-05}}), width = 1.1718749999999523e-07)\n",
      "Split(Box({'beta': {'lb': 6.421875000000001e-05, 'ub': 6.433593750000001e-05}}), width = 1.1718749999999523e-07)\n"
     ]
    },
    {
     "name": "stderr",
     "output_type": "stream",
     "text": [
      "Point: Point({'type': 'point', 'label': 'unknown', 'values': {'beta': 6.417299084816963e-05}}) is marked false, but already marked true.\n"
     ]
    },
    {
     "name": "stdout",
     "output_type": "stream",
     "text": [
      "Split(Box({'beta': {'lb': 6.41015625e-05, 'ub': 6.421875000000001e-05}}), width = 1.1718750000000878e-07)\n",
      "Split(Box({'beta': {'lb': 6.398437500000001e-05, 'ub': 6.41015625e-05}}), width = 1.1718749999999523e-07)\n",
      "Split(Box({'beta': {'lb': 6.386718750000001e-05, 'ub': 6.398437500000001e-05}}), width = 1.1718749999999523e-07)\n"
     ]
    },
    {
     "name": "stderr",
     "output_type": "stream",
     "text": [
      "Point: Point({'type': 'point', 'label': 'unknown', 'values': {'beta': 6.378228770754151e-05}}) is marked false, but already marked true.\n"
     ]
    },
    {
     "name": "stdout",
     "output_type": "stream",
     "text": [
      "Split(Box({'beta': {'lb': 6.375e-05, 'ub': 6.386718750000001e-05}}), width = 1.1718750000000878e-07)\n",
      "Split(Box({'beta': {'lb': 6.36328125e-05, 'ub': 6.375e-05}}), width = 1.1718750000000878e-07)\n"
     ]
    },
    {
     "name": "stderr",
     "output_type": "stream",
     "text": [
      "Point: Point({'type': 'point', 'label': 'unknown', 'values': {'beta': 6.358693613722744e-05}}) is marked false, but already marked true.\n"
     ]
    },
    {
     "name": "stdout",
     "output_type": "stream",
     "text": [
      "Split(Box({'beta': {'lb': 6.3515625e-05, 'ub': 6.36328125e-05}}), width = 1.1718749999999523e-07)\n"
     ]
    },
    {
     "name": "stderr",
     "output_type": "stream",
     "text": [
      "Point: Point({'type': 'point', 'label': 'unknown', 'values': {'beta': 6.348926035207042e-05}}) is marked false, but already marked true.\n"
     ]
    },
    {
     "name": "stdout",
     "output_type": "stream",
     "text": [
      "Split(Box({'beta': {'lb': 6.33984375e-05, 'ub': 6.3515625e-05}}), width = 1.1718749999999523e-07)\n",
      "Split(Box({'beta': {'lb': 6.328125e-05, 'ub': 6.33984375e-05}}), width = 1.1718750000000878e-07)\n"
     ]
    },
    {
     "name": "stderr",
     "output_type": "stream",
     "text": [
      "Point: Point({'type': 'point', 'label': 'unknown', 'values': {'beta': 6.319623299659932e-05}}) is marked false, but already marked true.\n"
     ]
    },
    {
     "name": "stdout",
     "output_type": "stream",
     "text": [
      "Split(Box({'beta': {'lb': 6.31640625e-05, 'ub': 6.328125e-05}}), width = 1.1718749999999523e-07)\n",
      "Split(Box({'beta': {'lb': 6.3046875e-05, 'ub': 6.31640625e-05}}), width = 1.1718749999999523e-07)\n"
     ]
    },
    {
     "name": "stderr",
     "output_type": "stream",
     "text": [
      "Point: Point({'type': 'point', 'label': 'unknown', 'values': {'beta': 6.300088142628526e-05}}) is marked false, but already marked true.\n"
     ]
    },
    {
     "name": "stdout",
     "output_type": "stream",
     "text": [
      "Split(Box({'beta': {'lb': 6.29296875e-05, 'ub': 6.3046875e-05}}), width = 1.1718750000000878e-07)\n",
      "Split(Box({'beta': {'lb': 6.28125e-05, 'ub': 6.29296875e-05}}), width = 1.1718749999999523e-07)\n",
      "Split(Box({'beta': {'lb': 6.269531250000001e-05, 'ub': 6.28125e-05}}), width = 1.1718749999999523e-07)\n"
     ]
    },
    {
     "name": "stderr",
     "output_type": "stream",
     "text": [
      "Point: Point({'type': 'point', 'label': 'unknown', 'values': {'beta': 6.261017828565714e-05}}) is marked false, but already marked true.\n"
     ]
    },
    {
     "name": "stdout",
     "output_type": "stream",
     "text": [
      "Split(Box({'beta': {'lb': 6.2578125e-05, 'ub': 6.269531250000001e-05}}), width = 1.1718750000000878e-07)\n",
      "Split(Box({'beta': {'lb': 6.24609375e-05, 'ub': 6.2578125e-05}}), width = 1.1718749999999523e-07)\n"
     ]
    },
    {
     "name": "stderr",
     "output_type": "stream",
     "text": [
      "Point: Point({'type': 'point', 'label': 'unknown', 'values': {'beta': 6.241482671534306e-05}}) is marked false, but already marked true.\n"
     ]
    },
    {
     "name": "stdout",
     "output_type": "stream",
     "text": [
      "Split(Box({'beta': {'lb': 6.234375000000001e-05, 'ub': 6.24609375e-05}}), width = 1.1718749999999523e-07)\n"
     ]
    },
    {
     "name": "stderr",
     "output_type": "stream",
     "text": [
      "Point: Point({'type': 'point', 'label': 'unknown', 'values': {'beta': 6.231715093018604e-05}}) is marked false, but already marked true.\n"
     ]
    },
    {
     "name": "stdout",
     "output_type": "stream",
     "text": [
      "Split(Box({'beta': {'lb': 6.22265625e-05, 'ub': 6.234375000000001e-05}}), width = 1.1718750000000878e-07)\n",
      "Split(Box({'beta': {'lb': 6.2109375e-05, 'ub': 6.22265625e-05}}), width = 1.1718749999999523e-07)\n"
     ]
    },
    {
     "name": "stderr",
     "output_type": "stream",
     "text": [
      "Point: Point({'type': 'point', 'label': 'unknown', 'values': {'beta': 6.202412357471494e-05}}) is marked false, but already marked true.\n"
     ]
    },
    {
     "name": "stdout",
     "output_type": "stream",
     "text": [
      "Split(Box({'beta': {'lb': 6.199218750000001e-05, 'ub': 6.2109375e-05}}), width = 1.1718749999999523e-07)\n",
      "Split(Box({'beta': {'lb': 6.1875e-05, 'ub': 6.199218750000001e-05}}), width = 1.1718750000000878e-07)\n"
     ]
    },
    {
     "name": "stderr",
     "output_type": "stream",
     "text": [
      "Point: Point({'type': 'point', 'label': 'unknown', 'values': {'beta': 6.182877200440088e-05}}) is marked false, but already marked true.\n"
     ]
    },
    {
     "name": "stdout",
     "output_type": "stream",
     "text": [
      "Split(Box({'beta': {'lb': 6.17578125e-05, 'ub': 6.1875e-05}}), width = 1.1718749999999523e-07)\n",
      "Split(Box({'beta': {'lb': 6.164062500000001e-05, 'ub': 6.17578125e-05}}), width = 1.1718749999999523e-07)\n",
      "Split(Box({'beta': {'lb': 6.15234375e-05, 'ub': 6.164062500000001e-05}}), width = 1.1718750000000878e-07)\n"
     ]
    },
    {
     "name": "stderr",
     "output_type": "stream",
     "text": [
      "Point: Point({'type': 'point', 'label': 'unknown', 'values': {'beta': 6.143806886377276e-05}}) is marked false, but already marked true.\n"
     ]
    },
    {
     "name": "stdout",
     "output_type": "stream",
     "text": [
      "Split(Box({'beta': {'lb': 6.140625e-05, 'ub': 6.15234375e-05}}), width = 1.1718749999999523e-07)\n",
      "Split(Box({'beta': {'lb': 6.128906250000001e-05, 'ub': 6.140625e-05}}), width = 1.1718749999999523e-07)\n"
     ]
    },
    {
     "name": "stderr",
     "output_type": "stream",
     "text": [
      "Point: Point({'type': 'point', 'label': 'unknown', 'values': {'beta': 6.124271729345869e-05}}) is marked false, but already marked true.\n"
     ]
    },
    {
     "name": "stdout",
     "output_type": "stream",
     "text": [
      "Split(Box({'beta': {'lb': 6.1171875e-05, 'ub': 6.128906250000001e-05}}), width = 1.1718750000000878e-07)\n"
     ]
    },
    {
     "name": "stderr",
     "output_type": "stream",
     "text": [
      "Point: Point({'type': 'point', 'label': 'unknown', 'values': {'beta': 6.114504150830166e-05}}) is marked false, but already marked true.\n"
     ]
    },
    {
     "name": "stdout",
     "output_type": "stream",
     "text": [
      "Split(Box({'beta': {'lb': 6.10546875e-05, 'ub': 6.1171875e-05}}), width = 1.1718749999999523e-07)\n",
      "Split(Box({'beta': {'lb': 6.0937500000000004e-05, 'ub': 6.10546875e-05}}), width = 1.17187500000002e-07)\n"
     ]
    },
    {
     "name": "stderr",
     "output_type": "stream",
     "text": [
      "Point: Point({'type': 'point', 'label': 'unknown', 'values': {'beta': 6.0852014152830566e-05}}) is marked false, but already marked true.\n"
     ]
    },
    {
     "name": "stdout",
     "output_type": "stream",
     "text": [
      "Split(Box({'beta': {'lb': 6.08203125e-05, 'ub': 6.0937500000000004e-05}}), width = 1.17187500000002e-07)\n",
      "Split(Box({'beta': {'lb': 6.070312500000001e-05, 'ub': 6.08203125e-05}}), width = 1.1718749999999523e-07)\n"
     ]
    },
    {
     "name": "stderr",
     "output_type": "stream",
     "text": [
      "Point: Point({'type': 'point', 'label': 'unknown', 'values': {'beta': 6.0656662582516505e-05}}) is marked false, but already marked true.\n"
     ]
    },
    {
     "name": "stdout",
     "output_type": "stream",
     "text": [
      "Split(Box({'beta': {'lb': 6.0585937500000005e-05, 'ub': 6.070312500000001e-05}}), width = 1.17187500000002e-07)\n",
      "WARNING: Running without API token\n",
      "INFO:     127.0.0.1:57832 - \"GET /queries/8ceb1ec5-ffe4-41e9-b9b3-00a66dcf075a HTTP/1.1\" 200 OK\n",
      "Split(Box({'beta': {'lb': 6.046875e-05, 'ub': 6.0585937500000005e-05}}), width = 1.17187500000002e-07)\n",
      "Split(Box({'beta': {'lb': 6.035156250000001e-05, 'ub': 6.046875e-05}}), width = 1.1718749999999523e-07)\n"
     ]
    },
    {
     "name": "stderr",
     "output_type": "stream",
     "text": [
      "Point: Point({'type': 'point', 'label': 'unknown', 'values': {'beta': 6.026595944188838e-05}}) is marked false, but already marked true.\n"
     ]
    },
    {
     "name": "stdout",
     "output_type": "stream",
     "text": [
      "Split(Box({'beta': {'lb': 6.0234375000000006e-05, 'ub': 6.035156250000001e-05}}), width = 1.17187500000002e-07)\n",
      "Split(Box({'beta': {'lb': 6.0117187500000004e-05, 'ub': 6.0234375000000006e-05}}), width = 1.17187500000002e-07)\n"
     ]
    },
    {
     "name": "stderr",
     "output_type": "stream",
     "text": [
      "Point: Point({'type': 'point', 'label': 'unknown', 'values': {'beta': 6.007060787157432e-05}}) is marked false, but already marked true.\n"
     ]
    },
    {
     "name": "stdout",
     "output_type": "stream",
     "text": [
      "Split(Box({'beta': {'lb': 6.000000000000001e-05, 'ub': 6.0117187500000004e-05}}), width = 1.1718749999999523e-07)\n"
     ]
    },
    {
     "name": "stderr",
     "output_type": "stream",
     "text": [
      "Point: Point({'type': 'point', 'label': 'unknown', 'values': {'beta': 5.997293208641729e-05}}) is marked false, but already marked true.\n"
     ]
    },
    {
     "name": "stdout",
     "output_type": "stream",
     "text": [
      "Split(Box({'beta': {'lb': 5.9882812500000006e-05, 'ub': 6.000000000000001e-05}}), width = 1.17187500000002e-07)\n",
      "Split(Box({'beta': {'lb': 5.9765625000000004e-05, 'ub': 5.9882812500000006e-05}}), width = 1.17187500000002e-07)\n"
     ]
    },
    {
     "name": "stderr",
     "output_type": "stream",
     "text": [
      "Point: Point({'type': 'point', 'label': 'unknown', 'values': {'beta': 5.967990473094619e-05}}) is marked false, but already marked true.\n"
     ]
    },
    {
     "name": "stdout",
     "output_type": "stream",
     "text": [
      "Split(Box({'beta': {'lb': 5.964843750000001e-05, 'ub': 5.9765625000000004e-05}}), width = 1.1718749999999523e-07)\n",
      "WARNING: Running without API token\n",
      "INFO:     172.17.0.1:42492 - \"GET /queries/6fac1fa4-c625-4872-bb76-1e33c2354613/halt HTTP/1.1\" 200 OK\n",
      "Split(Box({'beta': {'lb': 5.953125000000001e-05, 'ub': 5.964843750000001e-05}}), width = 1.17187500000002e-07)\n"
     ]
    },
    {
     "name": "stderr",
     "output_type": "stream",
     "text": [
      "Point: Point({'type': 'point', 'label': 'unknown', 'values': {'beta': 5.948455316063213e-05}}) is marked false, but already marked true.\n"
     ]
    },
    {
     "name": "stdout",
     "output_type": "stream",
     "text": [
      "Split(Box({'beta': {'lb': 5.9414062500000005e-05, 'ub': 5.953125000000001e-05}}), width = 1.17187500000002e-07)\n",
      "Split(Box({'beta': {'lb': 5.929687500000001e-05, 'ub': 5.9414062500000005e-05}}), width = 1.1718749999999523e-07)\n",
      "Split(Box({'beta': {'lb': 5.917968750000001e-05, 'ub': 5.929687500000001e-05}}), width = 1.17187500000002e-07)\n",
      "WARNING: Running without API token\n",
      "INFO:     172.17.0.1:42500 - \"GET /queries/6fac1fa4-c625-4872-bb76-1e33c2354613 HTTP/1.1\" 200 OK\n"
     ]
    },
    {
     "name": "stderr",
     "output_type": "stream",
     "text": [
      "Point: Point({'type': 'point', 'label': 'unknown', 'values': {'beta': 5.9093850020004e-05}}) is marked false, but already marked true.\n"
     ]
    },
    {
     "name": "stdout",
     "output_type": "stream",
     "text": [
      "Split(Box({'beta': {'lb': 5.9062500000000006e-05, 'ub': 5.917968750000001e-05}}), width = 1.17187500000002e-07)\n",
      "Split(Box({'beta': {'lb': 5.8945312500000004e-05, 'ub': 5.9062500000000006e-05}}), width = 1.17187500000002e-07)\n"
     ]
    },
    {
     "name": "stderr",
     "output_type": "stream",
     "text": [
      "Point: Point({'type': 'point', 'label': 'unknown', 'values': {'beta': 5.889849844968994e-05}}) is marked false, but already marked true.\n"
     ]
    },
    {
     "name": "stdout",
     "output_type": "stream",
     "text": [
      "Split(Box({'beta': {'lb': 5.8828125e-05, 'ub': 5.8945312500000004e-05}}), width = 1.17187500000002e-07)\n"
     ]
    },
    {
     "name": "stderr",
     "output_type": "stream",
     "text": [
      "Point: Point({'type': 'point', 'label': 'unknown', 'values': {'beta': 5.8800822664532904e-05}}) is marked false, but already marked true.\n"
     ]
    },
    {
     "name": "stdout",
     "output_type": "stream",
     "text": [
      "Split(Box({'beta': {'lb': 5.8710937500000007e-05, 'ub': 5.8828125e-05}}), width = 1.1718749999999523e-07)\n",
      "Split(Box({'beta': {'lb': 5.8593750000000005e-05, 'ub': 5.8710937500000007e-05}}), width = 1.17187500000002e-07)\n"
     ]
    },
    {
     "name": "stderr",
     "output_type": "stream",
     "text": [
      "Point: Point({'type': 'point', 'label': 'unknown', 'values': {'beta': 5.850779530906181e-05}}) is marked false, but already marked true.\n"
     ]
    },
    {
     "name": "stdout",
     "output_type": "stream",
     "text": [
      "Split(Box({'beta': {'lb': 5.84765625e-05, 'ub': 5.8593750000000005e-05}}), width = 1.17187500000002e-07)\n",
      "Split(Box({'beta': {'lb': 5.835937500000001e-05, 'ub': 5.84765625e-05}}), width = 1.1718749999999523e-07)\n"
     ]
    },
    {
     "name": "stderr",
     "output_type": "stream",
     "text": [
      "Point: Point({'type': 'point', 'label': 'unknown', 'values': {'beta': 5.831244373874775e-05}}) is marked false, but already marked true.\n"
     ]
    },
    {
     "name": "stdout",
     "output_type": "stream",
     "text": [
      "Split(Box({'beta': {'lb': 5.8242187500000005e-05, 'ub': 5.835937500000001e-05}}), width = 1.17187500000002e-07)\n",
      "Split(Box({'beta': {'lb': 5.8125e-05, 'ub': 5.8242187500000005e-05}}), width = 1.17187500000002e-07)\n",
      "Split(Box({'beta': {'lb': 5.80078125e-05, 'ub': 5.8125e-05}}), width = 1.17187500000002e-07)\n"
     ]
    },
    {
     "name": "stderr",
     "output_type": "stream",
     "text": [
      "Point: Point({'type': 'point', 'label': 'unknown', 'values': {'beta': 5.7921740598119625e-05}}) is marked false, but already marked true.\n"
     ]
    },
    {
     "name": "stdout",
     "output_type": "stream",
     "text": [
      "Split(Box({'beta': {'lb': 5.7890625e-05, 'ub': 5.80078125e-05}}), width = 1.17187500000002e-07)\n",
      "Split(Box({'beta': {'lb': 5.7773437500000004e-05, 'ub': 5.7890625e-05}}), width = 1.1718749999999523e-07)\n"
     ]
    },
    {
     "name": "stderr",
     "output_type": "stream",
     "text": [
      "Point: Point({'type': 'point', 'label': 'unknown', 'values': {'beta': 5.7726389027805564e-05}}) is marked false, but already marked true.\n"
     ]
    },
    {
     "name": "stdout",
     "output_type": "stream",
     "text": [
      "Split(Box({'beta': {'lb': 5.765625e-05, 'ub': 5.7773437500000004e-05}}), width = 1.17187500000002e-07)\n"
     ]
    },
    {
     "name": "stderr",
     "output_type": "stream",
     "text": [
      "Point: Point({'type': 'point', 'label': 'unknown', 'values': {'beta': 5.762871324264853e-05}}) is marked false, but already marked true.\n"
     ]
    },
    {
     "name": "stdout",
     "output_type": "stream",
     "text": [
      "Split(Box({'beta': {'lb': 5.75390625e-05, 'ub': 5.765625e-05}}), width = 1.17187500000002e-07)\n",
      "Split(Box({'beta': {'lb': 5.7421875000000005e-05, 'ub': 5.75390625e-05}}), width = 1.1718749999999523e-07)\n"
     ]
    },
    {
     "name": "stderr",
     "output_type": "stream",
     "text": [
      "Point: Point({'type': 'point', 'label': 'unknown', 'values': {'beta': 5.7335685887177436e-05}}) is marked false, but already marked true.\n"
     ]
    },
    {
     "name": "stdout",
     "output_type": "stream",
     "text": [
      "Split(Box({'beta': {'lb': 5.73046875e-05, 'ub': 5.7421875000000005e-05}}), width = 1.17187500000002e-07)\n",
      "Split(Box({'beta': {'lb': 5.71875e-05, 'ub': 5.73046875e-05}}), width = 1.17187500000002e-07)\n"
     ]
    },
    {
     "name": "stderr",
     "output_type": "stream",
     "text": [
      "Point: Point({'type': 'point', 'label': 'unknown', 'values': {'beta': 5.7140334316863376e-05}}) is marked false, but already marked true.\n"
     ]
    },
    {
     "name": "stdout",
     "output_type": "stream",
     "text": [
      "Split(Box({'beta': {'lb': 5.7070312500000006e-05, 'ub': 5.71875e-05}}), width = 1.1718749999999523e-07)\n",
      "Split(Box({'beta': {'lb': 5.6953125000000004e-05, 'ub': 5.7070312500000006e-05}}), width = 1.17187500000002e-07)\n",
      "Split(Box({'beta': {'lb': 5.68359375e-05, 'ub': 5.6953125000000004e-05}}), width = 1.17187500000002e-07)\n"
     ]
    },
    {
     "name": "stderr",
     "output_type": "stream",
     "text": [
      "Point: Point({'type': 'point', 'label': 'unknown', 'values': {'beta': 5.674963117623525e-05}}) is marked false, but already marked true.\n"
     ]
    },
    {
     "name": "stdout",
     "output_type": "stream",
     "text": [
      "Split(Box({'beta': {'lb': 5.6718750000000006e-05, 'ub': 5.68359375e-05}}), width = 1.1718749999999523e-07)\n",
      "Split(Box({'beta': {'lb': 5.6601562500000004e-05, 'ub': 5.6718750000000006e-05}}), width = 1.17187500000002e-07)\n",
      "WARNING: Running without API token\n",
      "INFO:     172.17.0.1:42456 - \"GET /queries/current HTTP/1.1\" 200 OK\n"
     ]
    },
    {
     "name": "stderr",
     "output_type": "stream",
     "text": [
      "Point: Point({'type': 'point', 'label': 'unknown', 'values': {'beta': 5.655427960592118e-05}}) is marked false, but already marked true.\n"
     ]
    },
    {
     "name": "stdout",
     "output_type": "stream",
     "text": [
      "Split(Box({'beta': {'lb': 5.6484375e-05, 'ub': 5.6601562500000004e-05}}), width = 1.17187500000002e-07)\n"
     ]
    },
    {
     "name": "stderr",
     "output_type": "stream",
     "text": [
      "Point: Point({'type': 'point', 'label': 'unknown', 'values': {'beta': 5.645660382076415e-05}}) is marked false, but already marked true.\n"
     ]
    },
    {
     "name": "stdout",
     "output_type": "stream",
     "text": [
      "Split(Box({'beta': {'lb': 5.636718750000001e-05, 'ub': 5.6484375e-05}}), width = 1.1718749999999523e-07)\n",
      "Split(Box({'beta': {'lb': 5.6250000000000005e-05, 'ub': 5.636718750000001e-05}}), width = 1.17187500000002e-07)\n"
     ]
    },
    {
     "name": "stderr",
     "output_type": "stream",
     "text": [
      "Point: Point({'type': 'point', 'label': 'unknown', 'values': {'beta': 5.616357646529306e-05}}) is marked false, but already marked true.\n"
     ]
    },
    {
     "name": "stdout",
     "output_type": "stream",
     "text": [
      "Split(Box({'beta': {'lb': 5.61328125e-05, 'ub': 5.6250000000000005e-05}}), width = 1.17187500000002e-07)\n",
      "Split(Box({'beta': {'lb': 5.601562500000001e-05, 'ub': 5.61328125e-05}}), width = 1.1718749999999523e-07)\n"
     ]
    },
    {
     "name": "stderr",
     "output_type": "stream",
     "text": [
      "Point: Point({'type': 'point', 'label': 'unknown', 'values': {'beta': 5.596822489497899e-05}}) is marked false, but already marked true.\n"
     ]
    },
    {
     "name": "stdout",
     "output_type": "stream",
     "text": [
      "Split(Box({'beta': {'lb': 5.5898437500000006e-05, 'ub': 5.601562500000001e-05}}), width = 1.17187500000002e-07)\n",
      "Split(Box({'beta': {'lb': 5.5781250000000004e-05, 'ub': 5.5898437500000006e-05}}), width = 1.17187500000002e-07)\n",
      "Split(Box({'beta': {'lb': 5.566406250000001e-05, 'ub': 5.5781250000000004e-05}}), width = 1.1718749999999523e-07)\n",
      "WARNING: Running without API token\n",
      "INFO:     172.17.0.1:38616 - \"GET /queries/8ceb1ec5-ffe4-41e9-b9b3-00a66dcf075a HTTP/1.1\" 200 OK\n"
     ]
    },
    {
     "name": "stderr",
     "output_type": "stream",
     "text": [
      "Point: Point({'type': 'point', 'label': 'unknown', 'values': {'beta': 5.557752175435087e-05}}) is marked false, but already marked true.\n"
     ]
    },
    {
     "name": "stdout",
     "output_type": "stream",
     "text": [
      "Split(Box({'beta': {'lb': 5.554687500000001e-05, 'ub': 5.566406250000001e-05}}), width = 1.17187500000002e-07)\n",
      "Split(Box({'beta': {'lb': 5.5429687500000005e-05, 'ub': 5.554687500000001e-05}}), width = 1.17187500000002e-07)\n"
     ]
    },
    {
     "name": "stderr",
     "output_type": "stream",
     "text": [
      "Point: Point({'type': 'point', 'label': 'unknown', 'values': {'beta': 5.5382170184036804e-05}}) is marked false, but already marked true.\n"
     ]
    },
    {
     "name": "stdout",
     "output_type": "stream",
     "text": [
      "Split(Box({'beta': {'lb': 5.531250000000001e-05, 'ub': 5.5429687500000005e-05}}), width = 1.1718749999999523e-07)\n"
     ]
    },
    {
     "name": "stderr",
     "output_type": "stream",
     "text": [
      "Point: Point({'type': 'point', 'label': 'unknown', 'values': {'beta': 5.5284494398879774e-05}}) is marked false, but already marked true.\n"
     ]
    },
    {
     "name": "stdout",
     "output_type": "stream",
     "text": [
      "Split(Box({'beta': {'lb': 5.519531250000001e-05, 'ub': 5.531250000000001e-05}}), width = 1.17187500000002e-07)\n",
      "Split(Box({'beta': {'lb': 5.5078125000000006e-05, 'ub': 5.519531250000001e-05}}), width = 1.17187500000002e-07)\n"
     ]
    },
    {
     "name": "stderr",
     "output_type": "stream",
     "text": [
      "Point: Point({'type': 'point', 'label': 'unknown', 'values': {'beta': 5.4991467043408683e-05}}) is marked false, but already marked true.\n"
     ]
    },
    {
     "name": "stdout",
     "output_type": "stream",
     "text": [
      "Split(Box({'beta': {'lb': 5.496093750000001e-05, 'ub': 5.5078125000000006e-05}}), width = 1.1718749999999523e-07)\n",
      "Split(Box({'beta': {'lb': 5.484375000000001e-05, 'ub': 5.496093750000001e-05}}), width = 1.17187500000002e-07)\n"
     ]
    },
    {
     "name": "stderr",
     "output_type": "stream",
     "text": [
      "Point: Point({'type': 'point', 'label': 'unknown', 'values': {'beta': 5.4796115473094616e-05}}) is marked false, but already marked true.\n"
     ]
    },
    {
     "name": "stdout",
     "output_type": "stream",
     "text": [
      "Split(Box({'beta': {'lb': 5.4726562500000006e-05, 'ub': 5.484375000000001e-05}}), width = 1.17187500000002e-07)\n",
      "Split(Box({'beta': {'lb': 5.460937500000001e-05, 'ub': 5.4726562500000006e-05}}), width = 1.1718749999999523e-07)\n",
      "Split(Box({'beta': {'lb': 5.449218750000001e-05, 'ub': 5.460937500000001e-05}}), width = 1.17187500000002e-07)\n"
     ]
    },
    {
     "name": "stderr",
     "output_type": "stream",
     "text": [
      "Point: Point({'type': 'point', 'label': 'unknown', 'values': {'beta': 5.4405412332466495e-05}}) is marked false, but already marked true.\n"
     ]
    },
    {
     "name": "stdout",
     "output_type": "stream",
     "text": [
      "Split(Box({'beta': {'lb': 5.437500000000001e-05, 'ub': 5.449218750000001e-05}}), width = 1.17187500000002e-07)\n",
      "Split(Box({'beta': {'lb': 5.4257812500000005e-05, 'ub': 5.437500000000001e-05}}), width = 1.17187500000002e-07)\n"
     ]
    },
    {
     "name": "stderr",
     "output_type": "stream",
     "text": [
      "Point: Point({'type': 'point', 'label': 'unknown', 'values': {'beta': 5.421006076215243e-05}}) is marked false, but already marked true.\n"
     ]
    },
    {
     "name": "stdout",
     "output_type": "stream",
     "text": [
      "Split(Box({'beta': {'lb': 5.4140625e-05, 'ub': 5.4257812500000005e-05}}), width = 1.17187500000002e-07)\n"
     ]
    },
    {
     "name": "stderr",
     "output_type": "stream",
     "text": [
      "Point: Point({'type': 'point', 'label': 'unknown', 'values': {'beta': 5.41123849769954e-05}}) is marked false, but already marked true.\n"
     ]
    },
    {
     "name": "stdout",
     "output_type": "stream",
     "text": [
      "Split(Box({'beta': {'lb': 5.402343750000001e-05, 'ub': 5.4140625e-05}}), width = 1.1718749999999523e-07)\n",
      "Split(Box({'beta': {'lb': 5.3906250000000006e-05, 'ub': 5.402343750000001e-05}}), width = 1.17187500000002e-07)\n"
     ]
    },
    {
     "name": "stderr",
     "output_type": "stream",
     "text": [
      "Point: Point({'type': 'point', 'label': 'unknown', 'values': {'beta': 5.381935762152431e-05}}) is marked false, but already marked true.\n"
     ]
    },
    {
     "name": "stdout",
     "output_type": "stream",
     "text": [
      "Split(Box({'beta': {'lb': 5.3789062500000004e-05, 'ub': 5.3906250000000006e-05}}), width = 1.17187500000002e-07)\n",
      "Split(Box({'beta': {'lb': 5.367187500000001e-05, 'ub': 5.3789062500000004e-05}}), width = 1.1718749999999523e-07)\n"
     ]
    },
    {
     "name": "stderr",
     "output_type": "stream",
     "text": [
      "Point: Point({'type': 'point', 'label': 'unknown', 'values': {'beta': 5.362400605121024e-05}}) is marked false, but already marked true.\n"
     ]
    },
    {
     "name": "stdout",
     "output_type": "stream",
     "text": [
      "Split(Box({'beta': {'lb': 5.355468750000001e-05, 'ub': 5.367187500000001e-05}}), width = 1.17187500000002e-07)\n",
      "Split(Box({'beta': {'lb': 5.3437500000000005e-05, 'ub': 5.355468750000001e-05}}), width = 1.17187500000002e-07)\n",
      "Split(Box({'beta': {'lb': 5.33203125e-05, 'ub': 5.3437500000000005e-05}}), width = 1.17187500000002e-07)\n"
     ]
    },
    {
     "name": "stderr",
     "output_type": "stream",
     "text": [
      "Point: Point({'type': 'point', 'label': 'unknown', 'values': {'beta': 5.323330291058212e-05}}) is marked false, but already marked true.\n"
     ]
    },
    {
     "name": "stdout",
     "output_type": "stream",
     "text": [
      "Split(Box({'beta': {'lb': 5.3203125e-05, 'ub': 5.33203125e-05}}), width = 1.17187500000002e-07)\n",
      "Split(Box({'beta': {'lb': 5.3085937500000005e-05, 'ub': 5.3203125e-05}}), width = 1.1718749999999523e-07)\n"
     ]
    },
    {
     "name": "stderr",
     "output_type": "stream",
     "text": [
      "Point: Point({'type': 'point', 'label': 'unknown', 'values': {'beta': 5.303795134026805e-05}}) is marked false, but already marked true.\n"
     ]
    },
    {
     "name": "stdout",
     "output_type": "stream",
     "text": [
      "Split(Box({'beta': {'lb': 5.2968750000000003e-05, 'ub': 5.3085937500000005e-05}}), width = 1.17187500000002e-07)\n"
     ]
    },
    {
     "name": "stderr",
     "output_type": "stream",
     "text": [
      "Point: Point({'type': 'point', 'label': 'unknown', 'values': {'beta': 5.294027555511102e-05}}) is marked false, but already marked true.\n"
     ]
    },
    {
     "name": "stdout",
     "output_type": "stream",
     "text": [
      "Split(Box({'beta': {'lb': 5.28515625e-05, 'ub': 5.2968750000000003e-05}}), width = 1.17187500000002e-07)\n",
      "Split(Box({'beta': {'lb': 5.2734375000000006e-05, 'ub': 5.28515625e-05}}), width = 1.1718749999999523e-07)\n"
     ]
    },
    {
     "name": "stderr",
     "output_type": "stream",
     "text": [
      "Point: Point({'type': 'point', 'label': 'unknown', 'values': {'beta': 5.264724819963993e-05}}) is marked false, but already marked true.\n"
     ]
    },
    {
     "name": "stdout",
     "output_type": "stream",
     "text": [
      "Split(Box({'beta': {'lb': 5.2617187500000004e-05, 'ub': 5.2734375000000006e-05}}), width = 1.17187500000002e-07)\n",
      "Split(Box({'beta': {'lb': 5.25e-05, 'ub': 5.2617187500000004e-05}}), width = 1.17187500000002e-07)\n"
     ]
    },
    {
     "name": "stderr",
     "output_type": "stream",
     "text": [
      "Point: Point({'type': 'point', 'label': 'unknown', 'values': {'beta': 5.245189662932586e-05}}) is marked false, but already marked true.\n"
     ]
    },
    {
     "name": "stdout",
     "output_type": "stream",
     "text": [
      "Split(Box({'beta': {'lb': 5.23828125e-05, 'ub': 5.25e-05}}), width = 1.17187500000002e-07)\n",
      "Split(Box({'beta': {'lb': 5.2265625e-05, 'ub': 5.23828125e-05}}), width = 1.17187500000002e-07)\n",
      "Split(Box({'beta': {'lb': 5.21484375e-05, 'ub': 5.2265625e-05}}), width = 1.1718749999999523e-07)\n"
     ]
    },
    {
     "name": "stderr",
     "output_type": "stream",
     "text": [
      "Point: Point({'type': 'point', 'label': 'unknown', 'values': {'beta': 5.206119348869774e-05}}) is marked false, but already marked true.\n"
     ]
    },
    {
     "name": "stdout",
     "output_type": "stream",
     "text": [
      "Split(Box({'beta': {'lb': 5.203125e-05, 'ub': 5.21484375e-05}}), width = 1.17187500000002e-07)\n",
      "Split(Box({'beta': {'lb': 5.19140625e-05, 'ub': 5.203125e-05}}), width = 1.17187500000002e-07)\n"
     ]
    },
    {
     "name": "stderr",
     "output_type": "stream",
     "text": [
      "Point: Point({'type': 'point', 'label': 'unknown', 'values': {'beta': 5.1865841918383675e-05}}) is marked false, but already marked true.\n"
     ]
    },
    {
     "name": "stdout",
     "output_type": "stream",
     "text": [
      "Split(Box({'beta': {'lb': 5.1796875000000004e-05, 'ub': 5.19140625e-05}}), width = 1.1718749999999523e-07)\n"
     ]
    },
    {
     "name": "stderr",
     "output_type": "stream",
     "text": [
      "Point: Point({'type': 'point', 'label': 'unknown', 'values': {'beta': 5.1768166133226645e-05}}) is marked false, but already marked true.\n"
     ]
    },
    {
     "name": "stdout",
     "output_type": "stream",
     "text": [
      "Split(Box({'beta': {'lb': 5.16796875e-05, 'ub': 5.1796875000000004e-05}}), width = 1.17187500000002e-07)\n",
      "Split(Box({'beta': {'lb': 5.15625e-05, 'ub': 5.16796875e-05}}), width = 1.17187500000002e-07)\n"
     ]
    },
    {
     "name": "stderr",
     "output_type": "stream",
     "text": [
      "Point: Point({'type': 'point', 'label': 'unknown', 'values': {'beta': 5.1475138777755554e-05}}) is marked false, but already marked true.\n"
     ]
    },
    {
     "name": "stdout",
     "output_type": "stream",
     "text": [
      "Split(Box({'beta': {'lb': 5.1445312500000004e-05, 'ub': 5.15625e-05}}), width = 1.1718749999999523e-07)\n",
      "Split(Box({'beta': {'lb': 5.1328125e-05, 'ub': 5.1445312500000004e-05}}), width = 1.17187500000002e-07)\n"
     ]
    },
    {
     "name": "stderr",
     "output_type": "stream",
     "text": [
      "Point: Point({'type': 'point', 'label': 'unknown', 'values': {'beta': 5.127978720744149e-05}}) is marked false, but already marked true.\n"
     ]
    },
    {
     "name": "stdout",
     "output_type": "stream",
     "text": [
      "Split(Box({'beta': {'lb': 5.12109375e-05, 'ub': 5.1328125e-05}}), width = 1.17187500000002e-07)\n",
      "Split(Box({'beta': {'lb': 5.1093750000000005e-05, 'ub': 5.12109375e-05}}), width = 1.1718749999999523e-07)\n",
      "Split(Box({'beta': {'lb': 5.09765625e-05, 'ub': 5.1093750000000005e-05}}), width = 1.17187500000002e-07)\n"
     ]
    },
    {
     "name": "stderr",
     "output_type": "stream",
     "text": [
      "Point: Point({'type': 'point', 'label': 'unknown', 'values': {'beta': 5.0889084066813366e-05}}) is marked false, but already marked true.\n"
     ]
    },
    {
     "name": "stdout",
     "output_type": "stream",
     "text": [
      "Split(Box({'beta': {'lb': 5.0859375e-05, 'ub': 5.09765625e-05}}), width = 1.17187500000002e-07)\n",
      "Split(Box({'beta': {'lb': 5.0742187500000006e-05, 'ub': 5.0859375e-05}}), width = 1.1718749999999523e-07)\n"
     ]
    },
    {
     "name": "stderr",
     "output_type": "stream",
     "text": [
      "Point: Point({'type': 'point', 'label': 'unknown', 'values': {'beta': 5.06937324964993e-05}}) is marked false, but already marked true.\n"
     ]
    },
    {
     "name": "stdout",
     "output_type": "stream",
     "text": [
      "Split(Box({'beta': {'lb': 5.0625000000000004e-05, 'ub': 5.0742187500000006e-05}}), width = 1.17187500000002e-07)\n"
     ]
    },
    {
     "name": "stderr",
     "output_type": "stream",
     "text": [
      "Point: Point({'type': 'point', 'label': 'unknown', 'values': {'beta': 5.059605671134227e-05}}) is marked false, but already marked true.\n"
     ]
    },
    {
     "name": "stdout",
     "output_type": "stream",
     "text": [
      "Split(Box({'beta': {'lb': 5.05078125e-05, 'ub': 5.0625000000000004e-05}}), width = 1.17187500000002e-07)\n",
      "Split(Box({'beta': {'lb': 5.039062500000001e-05, 'ub': 5.05078125e-05}}), width = 1.1718749999999523e-07)\n"
     ]
    },
    {
     "name": "stderr",
     "output_type": "stream",
     "text": [
      "Point: Point({'type': 'point', 'label': 'unknown', 'values': {'beta': 5.030302935587117e-05}}) is marked false, but already marked true.\n"
     ]
    },
    {
     "name": "stdout",
     "output_type": "stream",
     "text": [
      "Split(Box({'beta': {'lb': 5.0273437500000005e-05, 'ub': 5.039062500000001e-05}}), width = 1.17187500000002e-07)\n",
      "Split(Box({'beta': {'lb': 5.015625e-05, 'ub': 5.0273437500000005e-05}}), width = 1.17187500000002e-07)\n"
     ]
    },
    {
     "name": "stderr",
     "output_type": "stream",
     "text": [
      "Point: Point({'type': 'point', 'label': 'unknown', 'values': {'beta': 5.010767778555711e-05}}) is marked false, but already marked true.\n"
     ]
    },
    {
     "name": "stdout",
     "output_type": "stream",
     "text": [
      "Split(Box({'beta': {'lb': 5.003906250000001e-05, 'ub': 5.015625e-05}}), width = 1.1718749999999523e-07)\n",
      "Split(Box({'beta': {'lb': 4.9921875000000006e-05, 'ub': 5.003906250000001e-05}}), width = 1.17187500000002e-07)\n",
      "Split(Box({'beta': {'lb': 4.9804687500000004e-05, 'ub': 4.9921875000000006e-05}}), width = 1.17187500000002e-07)\n"
     ]
    },
    {
     "name": "stderr",
     "output_type": "stream",
     "text": [
      "Point: Point({'type': 'point', 'label': 'unknown', 'values': {'beta': 4.971697464492898e-05}}) is marked false, but already marked true.\n"
     ]
    },
    {
     "name": "stdout",
     "output_type": "stream",
     "text": [
      "Split(Box({'beta': {'lb': 4.968750000000001e-05, 'ub': 4.9804687500000004e-05}}), width = 1.1718749999999523e-07)\n",
      "Split(Box({'beta': {'lb': 4.9570312500000006e-05, 'ub': 4.968750000000001e-05}}), width = 1.17187500000002e-07)\n"
     ]
    },
    {
     "name": "stderr",
     "output_type": "stream",
     "text": [
      "Point: Point({'type': 'point', 'label': 'unknown', 'values': {'beta': 4.952162307461492e-05}}) is marked false, but already marked true.\n"
     ]
    },
    {
     "name": "stdout",
     "output_type": "stream",
     "text": [
      "Split(Box({'beta': {'lb': 4.9453125000000004e-05, 'ub': 4.9570312500000006e-05}}), width = 1.17187500000002e-07)\n"
     ]
    },
    {
     "name": "stderr",
     "output_type": "stream",
     "text": [
      "Point: Point({'type': 'point', 'label': 'unknown', 'values': {'beta': 4.942394728945789e-05}}) is marked false, but already marked true.\n"
     ]
    },
    {
     "name": "stdout",
     "output_type": "stream",
     "text": [
      "Split(Box({'beta': {'lb': 4.933593750000001e-05, 'ub': 4.9453125000000004e-05}}), width = 1.1718749999999523e-07)\n",
      "Split(Box({'beta': {'lb': 4.921875000000001e-05, 'ub': 4.933593750000001e-05}}), width = 1.17187500000002e-07)\n"
     ]
    },
    {
     "name": "stderr",
     "output_type": "stream",
     "text": [
      "Point: Point({'type': 'point', 'label': 'unknown', 'values': {'beta': 4.9130919933986794e-05}}) is marked false, but already marked true.\n"
     ]
    },
    {
     "name": "stdout",
     "output_type": "stream",
     "text": [
      "Split(Box({'beta': {'lb': 4.9101562500000005e-05, 'ub': 4.921875000000001e-05}}), width = 1.17187500000002e-07)\n",
      "Split(Box({'beta': {'lb': 4.898437500000001e-05, 'ub': 4.9101562500000005e-05}}), width = 1.1718749999999523e-07)\n"
     ]
    },
    {
     "name": "stderr",
     "output_type": "stream",
     "text": [
      "Point: Point({'type': 'point', 'label': 'unknown', 'values': {'beta': 4.8935568363672734e-05}}) is marked false, but already marked true.\n"
     ]
    },
    {
     "name": "stdout",
     "output_type": "stream",
     "text": [
      "Split(Box({'beta': {'lb': 4.886718750000001e-05, 'ub': 4.898437500000001e-05}}), width = 1.17187500000002e-07)\n",
      "Split(Box({'beta': {'lb': 4.8750000000000006e-05, 'ub': 4.886718750000001e-05}}), width = 1.17187500000002e-07)\n",
      "Split(Box({'beta': {'lb': 4.8632812500000004e-05, 'ub': 4.8750000000000006e-05}}), width = 1.17187500000002e-07)\n"
     ]
    },
    {
     "name": "stderr",
     "output_type": "stream",
     "text": [
      "Point: Point({'type': 'point', 'label': 'unknown', 'values': {'beta': 4.8544865223044606e-05}}) is marked false, but already marked true.\n"
     ]
    },
    {
     "name": "stdout",
     "output_type": "stream",
     "text": [
      "Split(Box({'beta': {'lb': 4.8515625e-05, 'ub': 4.8632812500000004e-05}}), width = 1.17187500000002e-07)\n",
      "Split(Box({'beta': {'lb': 4.839843750000001e-05, 'ub': 4.8515625e-05}}), width = 1.1718749999999523e-07)\n"
     ]
    },
    {
     "name": "stderr",
     "output_type": "stream",
     "text": [
      "Point: Point({'type': 'point', 'label': 'unknown', 'values': {'beta': 4.8349513652730546e-05}}) is marked false, but already marked true.\n"
     ]
    },
    {
     "name": "stdout",
     "output_type": "stream",
     "text": [
      "Split(Box({'beta': {'lb': 4.8281250000000005e-05, 'ub': 4.839843750000001e-05}}), width = 1.17187500000002e-07)\n"
     ]
    },
    {
     "name": "stderr",
     "output_type": "stream",
     "text": [
      "Point: Point({'type': 'point', 'label': 'unknown', 'values': {'beta': 4.8251837867573515e-05}}) is marked false, but already marked true.\n"
     ]
    },
    {
     "name": "stdout",
     "output_type": "stream",
     "text": [
      "Split(Box({'beta': {'lb': 4.81640625e-05, 'ub': 4.8281250000000005e-05}}), width = 1.17187500000002e-07)\n",
      "Split(Box({'beta': {'lb': 4.804687500000001e-05, 'ub': 4.81640625e-05}}), width = 1.1718749999999523e-07)\n"
     ]
    },
    {
     "name": "stderr",
     "output_type": "stream",
     "text": [
      "Point: Point({'type': 'point', 'label': 'unknown', 'values': {'beta': 4.795881051210242e-05}}) is marked false, but already marked true.\n"
     ]
    },
    {
     "name": "stdout",
     "output_type": "stream",
     "text": [
      "Split(Box({'beta': {'lb': 4.7929687500000005e-05, 'ub': 4.804687500000001e-05}}), width = 1.17187500000002e-07)\n",
      "Split(Box({'beta': {'lb': 4.7812500000000003e-05, 'ub': 4.7929687500000005e-05}}), width = 1.17187500000002e-07)\n"
     ]
    },
    {
     "name": "stderr",
     "output_type": "stream",
     "text": [
      "Point: Point({'type': 'point', 'label': 'unknown', 'values': {'beta': 4.776345894178836e-05}}) is marked false, but already marked true.\n"
     ]
    },
    {
     "name": "stdout",
     "output_type": "stream",
     "text": [
      "Split(Box({'beta': {'lb': 4.76953125e-05, 'ub': 4.7812500000000003e-05}}), width = 1.17187500000002e-07)\n",
      "Split(Box({'beta': {'lb': 4.7578125e-05, 'ub': 4.76953125e-05}}), width = 1.17187500000002e-07)\n",
      "Split(Box({'beta': {'lb': 4.7460937500000004e-05, 'ub': 4.7578125e-05}}), width = 1.1718749999999523e-07)\n"
     ]
    },
    {
     "name": "stderr",
     "output_type": "stream",
     "text": [
      "Point: Point({'type': 'point', 'label': 'unknown', 'values': {'beta': 4.737275580116023e-05}}) is marked false, but already marked true.\n"
     ]
    },
    {
     "name": "stdout",
     "output_type": "stream",
     "text": [
      "Split(Box({'beta': {'lb': 4.734375e-05, 'ub': 4.7460937500000004e-05}}), width = 1.17187500000002e-07)\n",
      "Split(Box({'beta': {'lb': 4.72265625e-05, 'ub': 4.734375e-05}}), width = 1.17187500000002e-07)\n"
     ]
    },
    {
     "name": "stderr",
     "output_type": "stream",
     "text": [
      "Point: Point({'type': 'point', 'label': 'unknown', 'values': {'beta': 4.717740423084617e-05}}) is marked false, but already marked true.\n"
     ]
    },
    {
     "name": "stdout",
     "output_type": "stream",
     "text": [
      "Split(Box({'beta': {'lb': 4.7109375000000005e-05, 'ub': 4.72265625e-05}}), width = 1.1718749999999523e-07)\n"
     ]
    },
    {
     "name": "stderr",
     "output_type": "stream",
     "text": [
      "Point: Point({'type': 'point', 'label': 'unknown', 'values': {'beta': 4.707972844568914e-05}}) is marked false, but already marked true.\n"
     ]
    },
    {
     "name": "stdout",
     "output_type": "stream",
     "text": [
      "Split(Box({'beta': {'lb': 4.69921875e-05, 'ub': 4.7109375000000005e-05}}), width = 1.17187500000002e-07)\n",
      "Split(Box({'beta': {'lb': 4.6875e-05, 'ub': 4.69921875e-05}}), width = 1.17187500000002e-07)\n"
     ]
    },
    {
     "name": "stderr",
     "output_type": "stream",
     "text": [
      "Point: Point({'type': 'point', 'label': 'unknown', 'values': {'beta': 4.678670109021804e-05}}) is marked false, but already marked true.\n"
     ]
    },
    {
     "name": "stdout",
     "output_type": "stream",
     "text": [
      "Split(Box({'beta': {'lb': 4.67578125e-05, 'ub': 4.6875e-05}}), width = 1.17187500000002e-07)\n",
      "Split(Box({'beta': {'lb': 4.6640625e-05, 'ub': 4.67578125e-05}}), width = 1.17187500000002e-07)\n"
     ]
    },
    {
     "name": "stderr",
     "output_type": "stream",
     "text": [
      "Point: Point({'type': 'point', 'label': 'unknown', 'values': {'beta': 4.659134951990398e-05}}) is marked false, but already marked true.\n"
     ]
    },
    {
     "name": "stdout",
     "output_type": "stream",
     "text": [
      "Split(Box({'beta': {'lb': 4.65234375e-05, 'ub': 4.6640625e-05}}), width = 1.1718749999999523e-07)\n",
      "Split(Box({'beta': {'lb': 4.640625e-05, 'ub': 4.65234375e-05}}), width = 1.17187500000002e-07)\n",
      "Split(Box({'beta': {'lb': 4.62890625e-05, 'ub': 4.640625e-05}}), width = 1.17187500000002e-07)\n"
     ]
    },
    {
     "name": "stderr",
     "output_type": "stream",
     "text": [
      "Point: Point({'type': 'point', 'label': 'unknown', 'values': {'beta': 4.620064637927585e-05}}) is marked false, but already marked true.\n"
     ]
    },
    {
     "name": "stdout",
     "output_type": "stream",
     "text": [
      "Split(Box({'beta': {'lb': 4.6171875e-05, 'ub': 4.62890625e-05}}), width = 1.1718749999999523e-07)\n",
      "Split(Box({'beta': {'lb': 4.60546875e-05, 'ub': 4.6171875e-05}}), width = 1.17187500000002e-07)\n"
     ]
    },
    {
     "name": "stderr",
     "output_type": "stream",
     "text": [
      "Point: Point({'type': 'point', 'label': 'unknown', 'values': {'beta': 4.600529480896179e-05}}) is marked false, but already marked true.\n"
     ]
    },
    {
     "name": "stdout",
     "output_type": "stream",
     "text": [
      "Split(Box({'beta': {'lb': 4.59375e-05, 'ub': 4.60546875e-05}}), width = 1.17187500000002e-07)\n"
     ]
    },
    {
     "name": "stderr",
     "output_type": "stream",
     "text": [
      "Point: Point({'type': 'point', 'label': 'unknown', 'values': {'beta': 4.590761902380476e-05}}) is marked false, but already marked true.\n"
     ]
    },
    {
     "name": "stdout",
     "output_type": "stream",
     "text": [
      "Split(Box({'beta': {'lb': 4.58203125e-05, 'ub': 4.59375e-05}}), width = 1.1718749999999523e-07)\n",
      "Split(Box({'beta': {'lb': 4.5703125e-05, 'ub': 4.58203125e-05}}), width = 1.17187500000002e-07)\n"
     ]
    },
    {
     "name": "stderr",
     "output_type": "stream",
     "text": [
      "Point: Point({'type': 'point', 'label': 'unknown', 'values': {'beta': 4.5614591668333665e-05}}) is marked false, but already marked true.\n"
     ]
    },
    {
     "name": "stdout",
     "output_type": "stream",
     "text": [
      "Split(Box({'beta': {'lb': 4.55859375e-05, 'ub': 4.5703125e-05}}), width = 1.17187500000002e-07)\n",
      "Split(Box({'beta': {'lb': 4.5468750000000004e-05, 'ub': 4.55859375e-05}}), width = 1.1718749999999523e-07)\n"
     ]
    },
    {
     "name": "stderr",
     "output_type": "stream",
     "text": [
      "Point: Point({'type': 'point', 'label': 'unknown', 'values': {'beta': 4.5419240098019605e-05}}) is marked false, but already marked true.\n"
     ]
    },
    {
     "name": "stdout",
     "output_type": "stream",
     "text": [
      "Split(Box({'beta': {'lb': 4.53515625e-05, 'ub': 4.5468750000000004e-05}}), width = 1.17187500000002e-07)\n",
      "Split(Box({'beta': {'lb': 4.5234375e-05, 'ub': 4.53515625e-05}}), width = 1.17187500000002e-07)\n",
      "Split(Box({'beta': {'lb': 4.5117187500000005e-05, 'ub': 4.5234375e-05}}), width = 1.1718749999999523e-07)\n"
     ]
    },
    {
     "name": "stderr",
     "output_type": "stream",
     "text": [
      "Point: Point({'type': 'point', 'label': 'unknown', 'values': {'beta': 4.502853695739148e-05}}) is marked false, but already marked true.\n"
     ]
    },
    {
     "name": "stdout",
     "output_type": "stream",
     "text": [
      "Split(Box({'beta': {'lb': 4.5e-05, 'ub': 4.5117187500000005e-05}}), width = 1.17187500000002e-07)\n",
      "Split(Box({'beta': {'lb': 4.48828125e-05, 'ub': 4.5e-05}}), width = 1.17187500000002e-07)\n"
     ]
    },
    {
     "name": "stderr",
     "output_type": "stream",
     "text": [
      "Point: Point({'type': 'point', 'label': 'unknown', 'values': {'beta': 4.4833185387077416e-05}}) is marked false, but already marked true.\n"
     ]
    },
    {
     "name": "stdout",
     "output_type": "stream",
     "text": [
      "Split(Box({'beta': {'lb': 4.4765625000000006e-05, 'ub': 4.48828125e-05}}), width = 1.1718749999999523e-07)\n"
     ]
    },
    {
     "name": "stderr",
     "output_type": "stream",
     "text": [
      "Point: Point({'type': 'point', 'label': 'unknown', 'values': {'beta': 4.4735509601920386e-05}}) is marked false, but already marked true.\n"
     ]
    },
    {
     "name": "stdout",
     "output_type": "stream",
     "text": [
      "Split(Box({'beta': {'lb': 4.4648437500000004e-05, 'ub': 4.4765625000000006e-05}}), width = 1.17187500000002e-07)\n",
      "Split(Box({'beta': {'lb': 4.453125e-05, 'ub': 4.4648437500000004e-05}}), width = 1.17187500000002e-07)\n"
     ]
    },
    {
     "name": "stderr",
     "output_type": "stream",
     "text": [
      "Point: Point({'type': 'point', 'label': 'unknown', 'values': {'beta': 4.444248224644929e-05}}) is marked false, but already marked true.\n"
     ]
    },
    {
     "name": "stdout",
     "output_type": "stream",
     "text": [
      "Split(Box({'beta': {'lb': 4.4414062500000006e-05, 'ub': 4.453125e-05}}), width = 1.1718749999999523e-07)\n",
      "Split(Box({'beta': {'lb': 4.4296875000000004e-05, 'ub': 4.4414062500000006e-05}}), width = 1.17187500000002e-07)\n"
     ]
    },
    {
     "name": "stderr",
     "output_type": "stream",
     "text": [
      "Point: Point({'type': 'point', 'label': 'unknown', 'values': {'beta': 4.424713067613523e-05}}) is marked false, but already marked true.\n"
     ]
    },
    {
     "name": "stdout",
     "output_type": "stream",
     "text": [
      "Split(Box({'beta': {'lb': 4.41796875e-05, 'ub': 4.4296875000000004e-05}}), width = 1.17187500000002e-07)\n",
      "Split(Box({'beta': {'lb': 4.406250000000001e-05, 'ub': 4.41796875e-05}}), width = 1.1718749999999523e-07)\n",
      "Split(Box({'beta': {'lb': 4.3945312500000005e-05, 'ub': 4.406250000000001e-05}}), width = 1.17187500000002e-07)\n"
     ]
    },
    {
     "name": "stderr",
     "output_type": "stream",
     "text": [
      "Point: Point({'type': 'point', 'label': 'unknown', 'values': {'beta': 4.38564275355071e-05}}) is marked false, but already marked true.\n"
     ]
    },
    {
     "name": "stdout",
     "output_type": "stream",
     "text": [
      "Split(Box({'beta': {'lb': 4.3828125e-05, 'ub': 4.3945312500000005e-05}}), width = 1.17187500000002e-07)\n",
      "Split(Box({'beta': {'lb': 4.371093750000001e-05, 'ub': 4.3828125e-05}}), width = 1.1718749999999523e-07)\n"
     ]
    },
    {
     "name": "stderr",
     "output_type": "stream",
     "text": [
      "Point: Point({'type': 'point', 'label': 'unknown', 'values': {'beta': 4.366107596519304e-05}}) is marked false, but already marked true.\n"
     ]
    },
    {
     "name": "stdout",
     "output_type": "stream",
     "text": [
      "Split(Box({'beta': {'lb': 4.3593750000000006e-05, 'ub': 4.371093750000001e-05}}), width = 1.17187500000002e-07)\n"
     ]
    },
    {
     "name": "stderr",
     "output_type": "stream",
     "text": [
      "Point: Point({'type': 'point', 'label': 'unknown', 'values': {'beta': 4.356340018003601e-05}}) is marked false, but already marked true.\n"
     ]
    },
    {
     "name": "stdout",
     "output_type": "stream",
     "text": [
      "Split(Box({'beta': {'lb': 4.3476562500000004e-05, 'ub': 4.3593750000000006e-05}}), width = 1.17187500000002e-07)\n",
      "Split(Box({'beta': {'lb': 4.335937500000001e-05, 'ub': 4.3476562500000004e-05}}), width = 1.1718749999999523e-07)\n"
     ]
    },
    {
     "name": "stderr",
     "output_type": "stream",
     "text": [
      "Point: Point({'type': 'point', 'label': 'unknown', 'values': {'beta': 4.327037282456491e-05}}) is marked false, but already marked true.\n"
     ]
    },
    {
     "name": "stdout",
     "output_type": "stream",
     "text": [
      "Split(Box({'beta': {'lb': 4.324218750000001e-05, 'ub': 4.335937500000001e-05}}), width = 1.17187500000002e-07)\n",
      "Split(Box({'beta': {'lb': 4.3125000000000005e-05, 'ub': 4.324218750000001e-05}}), width = 1.17187500000002e-07)\n"
     ]
    },
    {
     "name": "stderr",
     "output_type": "stream",
     "text": [
      "Point: Point({'type': 'point', 'label': 'unknown', 'values': {'beta': 4.307502125425085e-05}}) is marked false, but already marked true.\n"
     ]
    },
    {
     "name": "stdout",
     "output_type": "stream",
     "text": [
      "Split(Box({'beta': {'lb': 4.30078125e-05, 'ub': 4.3125000000000005e-05}}), width = 1.17187500000002e-07)\n",
      "Split(Box({'beta': {'lb': 4.2890625e-05, 'ub': 4.30078125e-05}}), width = 1.17187500000002e-07)\n",
      "Split(Box({'beta': {'lb': 4.2773437500000005e-05, 'ub': 4.2890625e-05}}), width = 1.1718749999999523e-07)\n"
     ]
    },
    {
     "name": "stderr",
     "output_type": "stream",
     "text": [
      "Point: Point({'type': 'point', 'label': 'unknown', 'values': {'beta': 4.2684318113622724e-05}}) is marked false, but already marked true.\n"
     ]
    },
    {
     "name": "stdout",
     "output_type": "stream",
     "text": [
      "Split(Box({'beta': {'lb': 4.2656250000000003e-05, 'ub': 4.2773437500000005e-05}}), width = 1.17187500000002e-07)\n",
      "Split(Box({'beta': {'lb': 4.25390625e-05, 'ub': 4.2656250000000003e-05}}), width = 1.17187500000002e-07)\n"
     ]
    },
    {
     "name": "stderr",
     "output_type": "stream",
     "text": [
      "Point: Point({'type': 'point', 'label': 'unknown', 'values': {'beta': 4.2488966543308663e-05}}) is marked false, but already marked true.\n"
     ]
    },
    {
     "name": "stdout",
     "output_type": "stream",
     "text": [
      "Split(Box({'beta': {'lb': 4.2421875000000006e-05, 'ub': 4.25390625e-05}}), width = 1.1718749999999523e-07)\n"
     ]
    },
    {
     "name": "stderr",
     "output_type": "stream",
     "text": [
      "Point: Point({'type': 'point', 'label': 'unknown', 'values': {'beta': 4.239129075815163e-05}}) is marked false, but already marked true.\n"
     ]
    },
    {
     "name": "stdout",
     "output_type": "stream",
     "text": [
      "Split(Box({'beta': {'lb': 4.2304687500000004e-05, 'ub': 4.2421875000000006e-05}}), width = 1.17187500000002e-07)\n",
      "Split(Box({'beta': {'lb': 4.21875e-05, 'ub': 4.2304687500000004e-05}}), width = 1.17187500000002e-07)\n"
     ]
    },
    {
     "name": "stderr",
     "output_type": "stream",
     "text": [
      "Point: Point({'type': 'point', 'label': 'unknown', 'values': {'beta': 4.2098263402680536e-05}}) is marked false, but already marked true.\n"
     ]
    },
    {
     "name": "stdout",
     "output_type": "stream",
     "text": [
      "Split(Box({'beta': {'lb': 4.20703125e-05, 'ub': 4.21875e-05}}), width = 1.17187500000002e-07)\n",
      "Split(Box({'beta': {'lb': 4.1953125e-05, 'ub': 4.20703125e-05}}), width = 1.17187500000002e-07)\n"
     ]
    },
    {
     "name": "stderr",
     "output_type": "stream",
     "text": [
      "Point: Point({'type': 'point', 'label': 'unknown', 'values': {'beta': 4.1902911832366475e-05}}) is marked false, but already marked true.\n"
     ]
    },
    {
     "name": "stdout",
     "output_type": "stream",
     "text": [
      "Split(Box({'beta': {'lb': 4.18359375e-05, 'ub': 4.1953125e-05}}), width = 1.1718749999999523e-07)\n",
      "Split(Box({'beta': {'lb': 4.171875e-05, 'ub': 4.18359375e-05}}), width = 1.17187500000002e-07)\n",
      "Split(Box({'beta': {'lb': 4.16015625e-05, 'ub': 4.171875e-05}}), width = 1.17187500000002e-07)\n"
     ]
    },
    {
     "name": "stderr",
     "output_type": "stream",
     "text": [
      "Point: Point({'type': 'point', 'label': 'unknown', 'values': {'beta': 4.151220869173835e-05}}) is marked false, but already marked true.\n"
     ]
    },
    {
     "name": "stdout",
     "output_type": "stream",
     "text": [
      "Split(Box({'beta': {'lb': 4.1484375000000004e-05, 'ub': 4.16015625e-05}}), width = 1.1718749999999523e-07)\n",
      "Split(Box({'beta': {'lb': 4.13671875e-05, 'ub': 4.1484375000000004e-05}}), width = 1.17187500000002e-07)\n"
     ]
    },
    {
     "name": "stderr",
     "output_type": "stream",
     "text": [
      "Point: Point({'type': 'point', 'label': 'unknown', 'values': {'beta': 4.131685712142429e-05}}) is marked false, but already marked true.\n"
     ]
    },
    {
     "name": "stdout",
     "output_type": "stream",
     "text": [
      "Split(Box({'beta': {'lb': 4.125e-05, 'ub': 4.13671875e-05}}), width = 1.17187500000002e-07)\n"
     ]
    },
    {
     "name": "stderr",
     "output_type": "stream",
     "text": [
      "Point: Point({'type': 'point', 'label': 'unknown', 'values': {'beta': 4.121918133626726e-05}}) is marked false, but already marked true.\n"
     ]
    },
    {
     "name": "stdout",
     "output_type": "stream",
     "text": [
      "Split(Box({'beta': {'lb': 4.11328125e-05, 'ub': 4.125e-05}}), width = 1.17187500000002e-07)\n",
      "Split(Box({'beta': {'lb': 4.1015624999999996e-05, 'ub': 4.11328125e-05}}), width = 1.17187500000002e-07)\n"
     ]
    },
    {
     "name": "stderr",
     "output_type": "stream",
     "text": [
      "Point: Point({'type': 'point', 'label': 'unknown', 'values': {'beta': 4.092615398079616e-05}}) is marked false, but already marked true.\n"
     ]
    },
    {
     "name": "stdout",
     "output_type": "stream",
     "text": [
      "Split(Box({'beta': {'lb': 4.08984375e-05, 'ub': 4.1015624999999996e-05}}), width = 1.1718749999999523e-07)\n",
      "Split(Box({'beta': {'lb': 4.078125e-05, 'ub': 4.08984375e-05}}), width = 1.17187500000002e-07)\n"
     ]
    },
    {
     "name": "stderr",
     "output_type": "stream",
     "text": [
      "Point: Point({'type': 'point', 'label': 'unknown', 'values': {'beta': 4.07308024104821e-05}}) is marked false, but already marked true.\n"
     ]
    },
    {
     "name": "stdout",
     "output_type": "stream",
     "text": [
      "Split(Box({'beta': {'lb': 4.0664062499999997e-05, 'ub': 4.078125e-05}}), width = 1.17187500000002e-07)\n",
      "Split(Box({'beta': {'lb': 4.0546875e-05, 'ub': 4.0664062499999997e-05}}), width = 1.1718749999999523e-07)\n",
      "Split(Box({'beta': {'lb': 4.04296875e-05, 'ub': 4.0546875e-05}}), width = 1.17187500000002e-07)\n"
     ]
    },
    {
     "name": "stderr",
     "output_type": "stream",
     "text": [
      "Point: Point({'type': 'point', 'label': 'unknown', 'values': {'beta': 4.034009926985397e-05}}) is marked false, but already marked true.\n"
     ]
    },
    {
     "name": "stdout",
     "output_type": "stream",
     "text": [
      "Split(Box({'beta': {'lb': 4.03125e-05, 'ub': 4.04296875e-05}}), width = 1.17187500000002e-07)\n",
      "Split(Box({'beta': {'lb': 4.01953125e-05, 'ub': 4.03125e-05}}), width = 1.1718749999999523e-07)\n"
     ]
    },
    {
     "name": "stderr",
     "output_type": "stream",
     "text": [
      "Point: Point({'type': 'point', 'label': 'unknown', 'values': {'beta': 4.014474769953991e-05}}) is marked false, but already marked true.\n"
     ]
    },
    {
     "name": "stdout",
     "output_type": "stream",
     "text": [
      "Split(Box({'beta': {'lb': 4.0078125e-05, 'ub': 4.01953125e-05}}), width = 1.17187500000002e-07)\n"
     ]
    },
    {
     "name": "stderr",
     "output_type": "stream",
     "text": [
      "Point: Point({'type': 'point', 'label': 'unknown', 'values': {'beta': 4.0047071914382874e-05}}) is marked false, but already marked true.\n"
     ]
    },
    {
     "name": "stdout",
     "output_type": "stream",
     "text": [
      "Split(Box({'beta': {'lb': 3.99609375e-05, 'ub': 4.0078125e-05}}), width = 1.17187500000002e-07)\n",
      "Split(Box({'beta': {'lb': 3.984375e-05, 'ub': 3.99609375e-05}}), width = 1.1718749999999523e-07)\n"
     ]
    },
    {
     "name": "stderr",
     "output_type": "stream",
     "text": [
      "Point: Point({'type': 'point', 'label': 'unknown', 'values': {'beta': 3.975404455891178e-05}}) is marked false, but already marked true.\n"
     ]
    },
    {
     "name": "stdout",
     "output_type": "stream",
     "text": [
      "Split(Box({'beta': {'lb': 3.97265625e-05, 'ub': 3.984375e-05}}), width = 1.17187500000002e-07)\n",
      "Split(Box({'beta': {'lb': 3.9609375e-05, 'ub': 3.97265625e-05}}), width = 1.17187500000002e-07)\n"
     ]
    },
    {
     "name": "stderr",
     "output_type": "stream",
     "text": [
      "Point: Point({'type': 'point', 'label': 'unknown', 'values': {'beta': 3.955869298859772e-05}}) is marked false, but already marked true.\n"
     ]
    },
    {
     "name": "stdout",
     "output_type": "stream",
     "text": [
      "Split(Box({'beta': {'lb': 3.9492187500000004e-05, 'ub': 3.9609375e-05}}), width = 1.1718749999999523e-07)\n",
      "Split(Box({'beta': {'lb': 3.9375e-05, 'ub': 3.9492187500000004e-05}}), width = 1.17187500000002e-07)\n",
      "Split(Box({'beta': {'lb': 3.92578125e-05, 'ub': 3.9375e-05}}), width = 1.17187500000002e-07)\n"
     ]
    },
    {
     "name": "stderr",
     "output_type": "stream",
     "text": [
      "Point: Point({'type': 'point', 'label': 'unknown', 'values': {'beta': 3.9167989847969595e-05}}) is marked false, but already marked true.\n"
     ]
    },
    {
     "name": "stdout",
     "output_type": "stream",
     "text": [
      "Split(Box({'beta': {'lb': 3.9140625000000004e-05, 'ub': 3.92578125e-05}}), width = 1.1718749999999523e-07)\n",
      "Split(Box({'beta': {'lb': 3.90234375e-05, 'ub': 3.9140625000000004e-05}}), width = 1.17187500000002e-07)\n"
     ]
    },
    {
     "name": "stderr",
     "output_type": "stream",
     "text": [
      "Point: Point({'type': 'point', 'label': 'unknown', 'values': {'beta': 3.8972638277655534e-05}}) is marked false, but already marked true.\n"
     ]
    },
    {
     "name": "stdout",
     "output_type": "stream",
     "text": [
      "Split(Box({'beta': {'lb': 3.890625e-05, 'ub': 3.90234375e-05}}), width = 1.17187500000002e-07)\n"
     ]
    },
    {
     "name": "stderr",
     "output_type": "stream",
     "text": [
      "Point: Point({'type': 'point', 'label': 'unknown', 'values': {'beta': 3.88749624924985e-05}}) is marked false, but already marked true.\n"
     ]
    },
    {
     "name": "stdout",
     "output_type": "stream",
     "text": [
      "Split(Box({'beta': {'lb': 3.8789062500000005e-05, 'ub': 3.890625e-05}}), width = 1.1718749999999523e-07)\n",
      "Split(Box({'beta': {'lb': 3.8671875e-05, 'ub': 3.8789062500000005e-05}}), width = 1.17187500000002e-07)\n"
     ]
    },
    {
     "name": "stderr",
     "output_type": "stream",
     "text": [
      "Point: Point({'type': 'point', 'label': 'unknown', 'values': {'beta': 3.8581935137027406e-05}}) is marked false, but already marked true.\n"
     ]
    },
    {
     "name": "stdout",
     "output_type": "stream",
     "text": [
      "Split(Box({'beta': {'lb': 3.85546875e-05, 'ub': 3.8671875e-05}}), width = 1.17187500000002e-07)\n",
      "Split(Box({'beta': {'lb': 3.8437500000000006e-05, 'ub': 3.85546875e-05}}), width = 1.1718749999999523e-07)\n"
     ]
    },
    {
     "name": "stderr",
     "output_type": "stream",
     "text": [
      "Point: Point({'type': 'point', 'label': 'unknown', 'values': {'beta': 3.8386583566713346e-05}}) is marked false, but already marked true.\n"
     ]
    },
    {
     "name": "stdout",
     "output_type": "stream",
     "text": [
      "Split(Box({'beta': {'lb': 3.8320312500000004e-05, 'ub': 3.8437500000000006e-05}}), width = 1.17187500000002e-07)\n",
      "Split(Box({'beta': {'lb': 3.8203125e-05, 'ub': 3.8320312500000004e-05}}), width = 1.17187500000002e-07)\n",
      "Split(Box({'beta': {'lb': 3.808593750000001e-05, 'ub': 3.8203125e-05}}), width = 1.1718749999999523e-07)\n"
     ]
    },
    {
     "name": "stderr",
     "output_type": "stream",
     "text": [
      "Point: Point({'type': 'point', 'label': 'unknown', 'values': {'beta': 3.799588042608522e-05}}) is marked false, but already marked true.\n"
     ]
    },
    {
     "name": "stdout",
     "output_type": "stream",
     "text": [
      "Split(Box({'beta': {'lb': 3.7968750000000005e-05, 'ub': 3.808593750000001e-05}}), width = 1.17187500000002e-07)\n",
      "Split(Box({'beta': {'lb': 3.78515625e-05, 'ub': 3.7968750000000005e-05}}), width = 1.17187500000002e-07)\n"
     ]
    },
    {
     "name": "stderr",
     "output_type": "stream",
     "text": [
      "Point: Point({'type': 'point', 'label': 'unknown', 'values': {'beta': 3.780052885577115e-05}}) is marked false, but already marked true.\n"
     ]
    },
    {
     "name": "stdout",
     "output_type": "stream",
     "text": [
      "Split(Box({'beta': {'lb': 3.773437500000001e-05, 'ub': 3.78515625e-05}}), width = 1.1718749999999523e-07)\n"
     ]
    },
    {
     "name": "stderr",
     "output_type": "stream",
     "text": [
      "Point: Point({'type': 'point', 'label': 'unknown', 'values': {'beta': 3.770285307061412e-05}}) is marked false, but already marked true.\n"
     ]
    },
    {
     "name": "stdout",
     "output_type": "stream",
     "text": [
      "Split(Box({'beta': {'lb': 3.7617187500000005e-05, 'ub': 3.773437500000001e-05}}), width = 1.17187500000002e-07)\n",
      "Split(Box({'beta': {'lb': 3.7500000000000003e-05, 'ub': 3.7617187500000005e-05}}), width = 1.17187500000002e-07)\n"
     ]
    },
    {
     "name": "stderr",
     "output_type": "stream",
     "text": [
      "Point: Point({'type': 'point', 'label': 'unknown', 'values': {'beta': 3.740982571514303e-05}}) is marked false, but already marked true.\n"
     ]
    },
    {
     "name": "stdout",
     "output_type": "stream",
     "text": [
      "Split(Box({'beta': {'lb': 3.73828125e-05, 'ub': 3.7500000000000003e-05}}), width = 1.17187500000002e-07)\n",
      "Split(Box({'beta': {'lb': 3.7265625e-05, 'ub': 3.73828125e-05}}), width = 1.17187500000002e-07)\n"
     ]
    },
    {
     "name": "stderr",
     "output_type": "stream",
     "text": [
      "Point: Point({'type': 'point', 'label': 'unknown', 'values': {'beta': 3.721447414482896e-05}}) is marked false, but already marked true.\n"
     ]
    },
    {
     "name": "stdout",
     "output_type": "stream",
     "text": [
      "Split(Box({'beta': {'lb': 3.7148437500000004e-05, 'ub': 3.7265625e-05}}), width = 1.1718749999999523e-07)\n",
      "Split(Box({'beta': {'lb': 3.703125e-05, 'ub': 3.7148437500000004e-05}}), width = 1.17187500000002e-07)\n",
      "Split(Box({'beta': {'lb': 3.69140625e-05, 'ub': 3.703125e-05}}), width = 1.17187500000002e-07)\n"
     ]
    },
    {
     "name": "stderr",
     "output_type": "stream",
     "text": [
      "Point: Point({'type': 'point', 'label': 'unknown', 'values': {'beta': 3.682377100420084e-05}}) is marked false, but already marked true.\n"
     ]
    },
    {
     "name": "stdout",
     "output_type": "stream",
     "text": [
      "Split(Box({'beta': {'lb': 3.6796875000000005e-05, 'ub': 3.69140625e-05}}), width = 1.1718749999999523e-07)\n",
      "Split(Box({'beta': {'lb': 3.66796875e-05, 'ub': 3.6796875000000005e-05}}), width = 1.17187500000002e-07)\n"
     ]
    },
    {
     "name": "stderr",
     "output_type": "stream",
     "text": [
      "Point: Point({'type': 'point', 'label': 'unknown', 'values': {'beta': 3.6628419433886774e-05}}) is marked false, but already marked true.\n"
     ]
    },
    {
     "name": "stdout",
     "output_type": "stream",
     "text": [
      "Split(Box({'beta': {'lb': 3.65625e-05, 'ub': 3.66796875e-05}}), width = 1.17187500000002e-07)\n"
     ]
    },
    {
     "name": "stderr",
     "output_type": "stream",
     "text": [
      "Point: Point({'type': 'point', 'label': 'unknown', 'values': {'beta': 3.6530743648729744e-05}}) is marked false, but already marked true.\n"
     ]
    },
    {
     "name": "stdout",
     "output_type": "stream",
     "text": [
      "Split(Box({'beta': {'lb': 3.64453125e-05, 'ub': 3.65625e-05}}), width = 1.17187500000002e-07)\n",
      "Split(Box({'beta': {'lb': 3.6328125e-05, 'ub': 3.64453125e-05}}), width = 1.17187500000002e-07)\n"
     ]
    },
    {
     "name": "stderr",
     "output_type": "stream",
     "text": [
      "Point: Point({'type': 'point', 'label': 'unknown', 'values': {'beta': 3.6237716293258653e-05}}) is marked false, but already marked true.\n"
     ]
    },
    {
     "name": "stdout",
     "output_type": "stream",
     "text": [
      "Split(Box({'beta': {'lb': 3.62109375e-05, 'ub': 3.6328125e-05}}), width = 1.1718749999999523e-07)\n",
      "Split(Box({'beta': {'lb': 3.609375e-05, 'ub': 3.62109375e-05}}), width = 1.17187500000002e-07)\n"
     ]
    },
    {
     "name": "stderr",
     "output_type": "stream",
     "text": [
      "Point: Point({'type': 'point', 'label': 'unknown', 'values': {'beta': 3.6042364722944586e-05}}) is marked false, but already marked true.\n"
     ]
    },
    {
     "name": "stdout",
     "output_type": "stream",
     "text": [
      "Split(Box({'beta': {'lb': 3.59765625e-05, 'ub': 3.609375e-05}}), width = 1.17187500000002e-07)\n",
      "Split(Box({'beta': {'lb': 3.5859375e-05, 'ub': 3.59765625e-05}}), width = 1.1718749999999523e-07)\n",
      "Split(Box({'beta': {'lb': 3.57421875e-05, 'ub': 3.5859375e-05}}), width = 1.17187500000002e-07)\n"
     ]
    },
    {
     "name": "stderr",
     "output_type": "stream",
     "text": [
      "Point: Point({'type': 'point', 'label': 'unknown', 'values': {'beta': 3.5651661582316465e-05}}) is marked false, but already marked true.\n"
     ]
    },
    {
     "name": "stdout",
     "output_type": "stream",
     "text": [
      "Split(Box({'beta': {'lb': 3.5625e-05, 'ub': 3.57421875e-05}}), width = 1.17187500000002e-07)\n",
      "Split(Box({'beta': {'lb': 3.5507812499999997e-05, 'ub': 3.5625e-05}}), width = 1.17187500000002e-07)\n"
     ]
    },
    {
     "name": "stderr",
     "output_type": "stream",
     "text": [
      "Point: Point({'type': 'point', 'label': 'unknown', 'values': {'beta': 3.54563100120024e-05}}) is marked false, but already marked true.\n"
     ]
    },
    {
     "name": "stdout",
     "output_type": "stream",
     "text": [
      "Split(Box({'beta': {'lb': 3.5390624999999995e-05, 'ub': 3.5507812499999997e-05}}), width = 1.17187500000002e-07)\n"
     ]
    },
    {
     "name": "stderr",
     "output_type": "stream",
     "text": [
      "Point: Point({'type': 'point', 'label': 'unknown', 'values': {'beta': 3.535863422684537e-05}}) is marked false, but already marked true.\n"
     ]
    },
    {
     "name": "stdout",
     "output_type": "stream",
     "text": [
      "Split(Box({'beta': {'lb': 3.52734375e-05, 'ub': 3.5390624999999995e-05}}), width = 1.1718749999999523e-07)\n",
      "Split(Box({'beta': {'lb': 3.515625e-05, 'ub': 3.52734375e-05}}), width = 1.17187500000002e-07)\n"
     ]
    },
    {
     "name": "stderr",
     "output_type": "stream",
     "text": [
      "Point: Point({'type': 'point', 'label': 'unknown', 'values': {'beta': 3.506560687137428e-05}}) is marked false, but already marked true.\n"
     ]
    },
    {
     "name": "stdout",
     "output_type": "stream",
     "text": [
      "Split(Box({'beta': {'lb': 3.5039062499999995e-05, 'ub': 3.515625e-05}}), width = 1.17187500000002e-07)\n",
      "Split(Box({'beta': {'lb': 3.4921875e-05, 'ub': 3.5039062499999995e-05}}), width = 1.1718749999999523e-07)\n"
     ]
    },
    {
     "name": "stderr",
     "output_type": "stream",
     "text": [
      "Point: Point({'type': 'point', 'label': 'unknown', 'values': {'beta': 3.487025530106021e-05}}) is marked false, but already marked true.\n"
     ]
    },
    {
     "name": "stdout",
     "output_type": "stream",
     "text": [
      "Split(Box({'beta': {'lb': 3.48046875e-05, 'ub': 3.4921875e-05}}), width = 1.17187500000002e-07)\n",
      "Split(Box({'beta': {'lb': 3.4687499999999996e-05, 'ub': 3.48046875e-05}}), width = 1.17187500000002e-07)\n",
      "Split(Box({'beta': {'lb': 3.45703125e-05, 'ub': 3.4687499999999996e-05}}), width = 1.1718749999999523e-07)\n"
     ]
    },
    {
     "name": "stderr",
     "output_type": "stream",
     "text": [
      "Point: Point({'type': 'point', 'label': 'unknown', 'values': {'beta': 3.447955216043209e-05}}) is marked false, but already marked true.\n"
     ]
    },
    {
     "name": "stdout",
     "output_type": "stream",
     "text": [
      "Split(Box({'beta': {'lb': 3.4453125e-05, 'ub': 3.45703125e-05}}), width = 1.17187500000002e-07)\n",
      "Split(Box({'beta': {'lb': 3.43359375e-05, 'ub': 3.4453125e-05}}), width = 1.17187500000002e-07)\n"
     ]
    },
    {
     "name": "stderr",
     "output_type": "stream",
     "text": [
      "Point: Point({'type': 'point', 'label': 'unknown', 'values': {'beta': 3.428420059011802e-05}}) is marked false, but already marked true.\n"
     ]
    },
    {
     "name": "stdout",
     "output_type": "stream",
     "text": [
      "Split(Box({'beta': {'lb': 3.421875e-05, 'ub': 3.43359375e-05}}), width = 1.1718749999999523e-07)\n"
     ]
    },
    {
     "name": "stderr",
     "output_type": "stream",
     "text": [
      "Point: Point({'type': 'point', 'label': 'unknown', 'values': {'beta': 3.418652480496099e-05}}) is marked false, but already marked true.\n"
     ]
    },
    {
     "name": "stdout",
     "output_type": "stream",
     "text": [
      "Split(Box({'beta': {'lb': 3.41015625e-05, 'ub': 3.421875e-05}}), width = 1.17187500000002e-07)\n",
      "Split(Box({'beta': {'lb': 3.3984375e-05, 'ub': 3.41015625e-05}}), width = 1.17187500000002e-07)\n"
     ]
    },
    {
     "name": "stderr",
     "output_type": "stream",
     "text": [
      "Point: Point({'type': 'point', 'label': 'unknown', 'values': {'beta': 3.38934974494899e-05}}) is marked false, but already marked true.\n"
     ]
    },
    {
     "name": "stdout",
     "output_type": "stream",
     "text": [
      "Split(Box({'beta': {'lb': 3.38671875e-05, 'ub': 3.3984375e-05}}), width = 1.1718749999999523e-07)\n",
      "Split(Box({'beta': {'lb': 3.375e-05, 'ub': 3.38671875e-05}}), width = 1.17187500000002e-07)\n"
     ]
    },
    {
     "name": "stderr",
     "output_type": "stream",
     "text": [
      "Point: Point({'type': 'point', 'label': 'unknown', 'values': {'beta': 3.369814587917583e-05}}) is marked false, but already marked true.\n"
     ]
    },
    {
     "name": "stdout",
     "output_type": "stream",
     "text": [
      "Split(Box({'beta': {'lb': 3.36328125e-05, 'ub': 3.375e-05}}), width = 1.17187500000002e-07)\n",
      "Split(Box({'beta': {'lb': 3.3515625e-05, 'ub': 3.36328125e-05}}), width = 1.1718749999999523e-07)\n",
      "Split(Box({'beta': {'lb': 3.33984375e-05, 'ub': 3.3515625e-05}}), width = 1.17187500000002e-07)\n"
     ]
    },
    {
     "name": "stderr",
     "output_type": "stream",
     "text": [
      "Point: Point({'type': 'point', 'label': 'unknown', 'values': {'beta': 3.330744273854771e-05}}) is marked false, but already marked true.\n"
     ]
    },
    {
     "name": "stdout",
     "output_type": "stream",
     "text": [
      "Split(Box({'beta': {'lb': 3.328125e-05, 'ub': 3.33984375e-05}}), width = 1.17187500000002e-07)\n",
      "Split(Box({'beta': {'lb': 3.3164062500000004e-05, 'ub': 3.328125e-05}}), width = 1.1718749999999523e-07)\n"
     ]
    },
    {
     "name": "stderr",
     "output_type": "stream",
     "text": [
      "Point: Point({'type': 'point', 'label': 'unknown', 'values': {'beta': 3.3112091168233645e-05}}) is marked false, but already marked true.\n"
     ]
    },
    {
     "name": "stdout",
     "output_type": "stream",
     "text": [
      "Split(Box({'beta': {'lb': 3.3046875e-05, 'ub': 3.3164062500000004e-05}}), width = 1.17187500000002e-07)\n"
     ]
    },
    {
     "name": "stderr",
     "output_type": "stream",
     "text": [
      "Point: Point({'type': 'point', 'label': 'unknown', 'values': {'beta': 3.3014415383076615e-05}}) is marked false, but already marked true.\n"
     ]
    },
    {
     "name": "stdout",
     "output_type": "stream",
     "text": [
      "Split(Box({'beta': {'lb': 3.29296875e-05, 'ub': 3.3046875e-05}}), width = 1.17187500000002e-07)\n",
      "Split(Box({'beta': {'lb': 3.2812500000000005e-05, 'ub': 3.29296875e-05}}), width = 1.1718749999999523e-07)\n"
     ]
    },
    {
     "name": "stderr",
     "output_type": "stream",
     "text": [
      "Point: Point({'type': 'point', 'label': 'unknown', 'values': {'beta': 3.2721388027605524e-05}}) is marked false, but already marked true.\n"
     ]
    },
    {
     "name": "stdout",
     "output_type": "stream",
     "text": [
      "Split(Box({'beta': {'lb': 3.26953125e-05, 'ub': 3.2812500000000005e-05}}), width = 1.17187500000002e-07)\n",
      "Split(Box({'beta': {'lb': 3.2578125e-05, 'ub': 3.26953125e-05}}), width = 1.17187500000002e-07)\n"
     ]
    },
    {
     "name": "stderr",
     "output_type": "stream",
     "text": [
      "Point: Point({'type': 'point', 'label': 'unknown', 'values': {'beta': 3.252603645729146e-05}}) is marked false, but already marked true.\n"
     ]
    },
    {
     "name": "stdout",
     "output_type": "stream",
     "text": [
      "Split(Box({'beta': {'lb': 3.2460937500000006e-05, 'ub': 3.2578125e-05}}), width = 1.1718749999999523e-07)\n",
      "Split(Box({'beta': {'lb': 3.2343750000000004e-05, 'ub': 3.2460937500000006e-05}}), width = 1.17187500000002e-07)\n",
      "Split(Box({'beta': {'lb': 3.22265625e-05, 'ub': 3.2343750000000004e-05}}), width = 1.17187500000002e-07)\n"
     ]
    },
    {
     "name": "stderr",
     "output_type": "stream",
     "text": [
      "Point: Point({'type': 'point', 'label': 'unknown', 'values': {'beta': 3.2135333316663336e-05}}) is marked false, but already marked true.\n"
     ]
    },
    {
     "name": "stdout",
     "output_type": "stream",
     "text": [
      "Split(Box({'beta': {'lb': 3.2109375000000006e-05, 'ub': 3.22265625e-05}}), width = 1.1718749999999523e-07)\n",
      "Split(Box({'beta': {'lb': 3.1992187500000004e-05, 'ub': 3.2109375000000006e-05}}), width = 1.17187500000002e-07)\n"
     ]
    },
    {
     "name": "stderr",
     "output_type": "stream",
     "text": [
      "Point: Point({'type': 'point', 'label': 'unknown', 'values': {'beta': 3.193998174634927e-05}}) is marked false, but already marked true.\n"
     ]
    },
    {
     "name": "stdout",
     "output_type": "stream",
     "text": [
      "Split(Box({'beta': {'lb': 3.1875e-05, 'ub': 3.1992187500000004e-05}}), width = 1.17187500000002e-07)\n"
     ]
    },
    {
     "name": "stderr",
     "output_type": "stream",
     "text": [
      "Point: Point({'type': 'point', 'label': 'unknown', 'values': {'beta': 3.184230596119224e-05}}) is marked false, but already marked true.\n"
     ]
    },
    {
     "name": "stdout",
     "output_type": "stream",
     "text": [
      "Split(Box({'beta': {'lb': 3.17578125e-05, 'ub': 3.1875e-05}}), width = 1.17187500000002e-07)\n",
      "Split(Box({'beta': {'lb': 3.1640625e-05, 'ub': 3.17578125e-05}}), width = 1.17187500000002e-07)\n"
     ]
    },
    {
     "name": "stderr",
     "output_type": "stream",
     "text": [
      "Point: Point({'type': 'point', 'label': 'unknown', 'values': {'beta': 3.154927860572115e-05}}) is marked false, but already marked true.\n"
     ]
    },
    {
     "name": "stdout",
     "output_type": "stream",
     "text": [
      "Split(Box({'beta': {'lb': 3.15234375e-05, 'ub': 3.1640625e-05}}), width = 1.1718749999999523e-07)\n",
      "Split(Box({'beta': {'lb': 3.140625e-05, 'ub': 3.15234375e-05}}), width = 1.17187500000002e-07)\n"
     ]
    },
    {
     "name": "stderr",
     "output_type": "stream",
     "text": [
      "Point: Point({'type': 'point', 'label': 'unknown', 'values': {'beta': 3.135392703540708e-05}}) is marked false, but already marked true.\n"
     ]
    },
    {
     "name": "stdout",
     "output_type": "stream",
     "text": [
      "Split(Box({'beta': {'lb': 3.12890625e-05, 'ub': 3.140625e-05}}), width = 1.17187500000002e-07)\n",
      "Split(Box({'beta': {'lb': 3.1171875000000004e-05, 'ub': 3.12890625e-05}}), width = 1.1718749999999523e-07)\n",
      "Split(Box({'beta': {'lb': 3.10546875e-05, 'ub': 3.1171875000000004e-05}}), width = 1.17187500000002e-07)\n"
     ]
    },
    {
     "name": "stderr",
     "output_type": "stream",
     "text": [
      "Point: Point({'type': 'point', 'label': 'unknown', 'values': {'beta': 3.096322389477895e-05}}) is marked false, but already marked true.\n"
     ]
    },
    {
     "name": "stdout",
     "output_type": "stream",
     "text": [
      "Split(Box({'beta': {'lb': 3.09375e-05, 'ub': 3.10546875e-05}}), width = 1.17187500000002e-07)\n",
      "Split(Box({'beta': {'lb': 3.08203125e-05, 'ub': 3.09375e-05}}), width = 1.17187500000002e-07)\n"
     ]
    },
    {
     "name": "stderr",
     "output_type": "stream",
     "text": [
      "Point: Point({'type': 'point', 'label': 'unknown', 'values': {'beta': 3.076787232446489e-05}}) is marked false, but already marked true.\n"
     ]
    },
    {
     "name": "stdout",
     "output_type": "stream",
     "text": [
      "Split(Box({'beta': {'lb': 3.0703124999999996e-05, 'ub': 3.08203125e-05}}), width = 1.17187500000002e-07)\n"
     ]
    },
    {
     "name": "stderr",
     "output_type": "stream",
     "text": [
      "Point: Point({'type': 'point', 'label': 'unknown', 'values': {'beta': 3.067019653930786e-05}}) is marked false, but already marked true.\n"
     ]
    },
    {
     "name": "stdout",
     "output_type": "stream",
     "text": [
      "Split(Box({'beta': {'lb': 3.05859375e-05, 'ub': 3.0703124999999996e-05}}), width = 1.1718749999999523e-07)\n",
      "Split(Box({'beta': {'lb': 3.046875e-05, 'ub': 3.05859375e-05}}), width = 1.17187500000002e-07)\n"
     ]
    },
    {
     "name": "stderr",
     "output_type": "stream",
     "text": [
      "Point: Point({'type': 'point', 'label': 'unknown', 'values': {'beta': 3.0377169183836768e-05}}) is marked false, but already marked true.\n"
     ]
    },
    {
     "name": "stdout",
     "output_type": "stream",
     "text": [
      "Split(Box({'beta': {'lb': 3.03515625e-05, 'ub': 3.046875e-05}}), width = 1.1718749999999861e-07)\n",
      "Split(Box({'beta': {'lb': 3.0234375e-05, 'ub': 3.03515625e-05}}), width = 1.1718749999999861e-07)\n"
     ]
    },
    {
     "name": "stderr",
     "output_type": "stream",
     "text": [
      "Point: Point({'type': 'point', 'label': 'unknown', 'values': {'beta': 3.0181817613522704e-05}}) is marked false, but already marked true.\n"
     ]
    },
    {
     "name": "stdout",
     "output_type": "stream",
     "text": [
      "Split(Box({'beta': {'lb': 3.01171875e-05, 'ub': 3.0234375e-05}}), width = 1.17187500000002e-07)\n"
     ]
    }
   ],
   "source": [
    "# Start API Server\n",
    "server = Server(\n",
    "            config=ServerConfig(\n",
    "                app,\n",
    "                host=API_SERVER_HOST,\n",
    "                port=API_SERVER_PORT,\n",
    "                log_level=\"info\",\n",
    "            )\n",
    "        )\n",
    "nest_asyncio.apply()\n",
    "thread = server.start_in_thread()"
   ]
  },
  {
   "cell_type": "code",
   "execution_count": null,
   "id": "8f8b5e65",
   "metadata": {},
   "outputs": [
    {
     "name": "stderr",
     "output_type": "stream",
     "text": [
      "INFO:     Shutting down\n",
      "INFO:     Waiting for application shutdown.\n"
     ]
    },
    {
     "name": "stdout",
     "output_type": "stream",
     "text": [
      "Split(Box({'beta': {'lb': 3.7500000000000003e-05, 'ub': 3.9375e-05}}), width = 1.8749999999999981e-06)\n",
      "Split(Box({'beta': {'lb': 3.5625e-05, 'ub': 3.7500000000000003e-05}}), width = 1.875000000000005e-06)\n",
      "Split(Box({'beta': {'lb': 3.375e-05, 'ub': 3.5625e-05}}), width = 1.8749999999999981e-06)\n"
     ]
    },
    {
     "name": "stderr",
     "output_type": "stream",
     "text": [
      "Point: Point({'type': 'point', 'label': 'unknown', 'values': {'beta': 3.2819063812762554e-05}}) is marked false, but already marked true.\n"
     ]
    },
    {
     "name": "stdout",
     "output_type": "stream",
     "text": [
      "Split(Box({'beta': {'lb': 3.1875e-05, 'ub': 3.375e-05}}), width = 1.8749999999999981e-06)\n",
      "Split(Box({'beta': {'lb': 3e-05, 'ub': 3.1875e-05}}), width = 1.8750000000000015e-06)\n",
      "Split(Box({'beta': {'lb': 8.90625e-05, 'ub': 9e-05}}), width = 9.375000000000025e-07)\n",
      "Split(Box({'beta': {'lb': 8.812500000000001e-05, 'ub': 8.90625e-05}}), width = 9.374999999999889e-07)\n"
     ]
    },
    {
     "name": "stderr",
     "output_type": "stream",
     "text": [
      "Point: Point({'type': 'point', 'label': 'unknown', 'values': {'beta': 8.751750350070014e-05}}) is marked true, but already marked false.\n"
     ]
    },
    {
     "name": "stdout",
     "output_type": "stream",
     "text": [
      "Split(Box({'beta': {'lb': 8.718750000000001e-05, 'ub': 8.812500000000001e-05}}), width = 9.375000000000025e-07)\n",
      "Split(Box({'beta': {'lb': 8.625000000000001e-05, 'ub': 8.718750000000001e-05}}), width = 9.375000000000025e-07)\n"
     ]
    },
    {
     "name": "stderr",
     "output_type": "stream",
     "text": [
      "Point: Point({'type': 'point', 'label': 'unknown', 'values': {'beta': 8.595469093818764e-05}}) is marked false, but already marked true.\n"
     ]
    },
    {
     "name": "stdout",
     "output_type": "stream",
     "text": [
      "Split(Box({'beta': {'lb': 8.531250000000001e-05, 'ub': 8.625000000000001e-05}}), width = 9.375000000000025e-07)\n",
      "Split(Box({'beta': {'lb': 8.4375e-05, 'ub': 8.531250000000001e-05}}), width = 9.375000000000025e-07)\n",
      "Split(Box({'beta': {'lb': 8.34375e-05, 'ub': 8.4375e-05}}), width = 9.375000000000025e-07)\n",
      "Split(Box({'beta': {'lb': 8.25e-05, 'ub': 8.34375e-05}}), width = 9.375000000000025e-07)\n"
     ]
    }
   ],
   "source": [
    "# Close out server\n",
    "server.should_exit = True\n",
    "thread.join()"
   ]
  },
  {
   "cell_type": "code",
   "execution_count": null,
   "id": "4cf1dd9f",
   "metadata": {},
   "outputs": [],
   "source": []
  }
 ],
 "metadata": {
  "kernelspec": {
   "display_name": "Python 3 (ipykernel)",
   "language": "python",
   "name": "python3"
  },
  "language_info": {
   "codemirror_mode": {
    "name": "ipython",
    "version": 3
   },
   "file_extension": ".py",
   "mimetype": "text/x-python",
   "name": "python",
   "nbconvert_exporter": "python",
   "pygments_lexer": "ipython3",
   "version": "3.8.10"
  }
 },
 "nbformat": 4,
 "nbformat_minor": 5
}
