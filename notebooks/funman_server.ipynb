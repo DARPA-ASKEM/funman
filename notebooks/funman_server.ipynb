{
 "cells": [
  {
   "cell_type": "code",
   "execution_count": 1,
   "id": "18ad842e",
   "metadata": {},
   "outputs": [],
   "source": [
    "import asyncio\n",
    "import nest_asyncio\n",
    "import os\n",
    "import json\n",
    "import unittest\n",
    "from pathlib import Path\n",
    "\n",
    "import funman.api.client as client\n",
    "from funman.api.api import app\n",
    "from funman.api.server import Server, ServerConfig\n",
    "\n",
    "API_BASE_PATH = os.path.join(os.getcwd(), \"..\")\n",
    "API_SERVER_HOST = \"0.0.0.0\"\n",
    "API_SERVER_PORT = 8190\n",
    "SERVER_URL = f\"http://{API_SERVER_HOST}:{API_SERVER_PORT}\"\n",
    "OPENAPI_URL = f\"{SERVER_URL}/openapi.json\"\n",
    "CLIENT_NAME = \"funman-api-client\""
   ]
  },
  {
   "cell_type": "code",
   "execution_count": null,
   "id": "1026004e",
   "metadata": {},
   "outputs": [
    {
     "name": "stdout",
     "output_type": "stream",
     "text": [
      "Split(Box({'beta': {'lb': 7.3125e-05, 'ub': 7.500000000000001e-05}}), width = 1.875000000000005e-06)\n",
      "Split(Box({'beta': {'lb': 7.125000000000001e-05, 'ub': 7.3125e-05}}), width = 1.8749999999999914e-06)\n",
      "Split(Box({'beta': {'lb': 6.937500000000002e-05, 'ub': 7.125000000000001e-05}}), width = 1.8749999999999914e-06)\n",
      "Split(Box({'beta': {'lb': 6.750000000000001e-05, 'ub': 6.937500000000002e-05}}), width = 1.875000000000005e-06)\n",
      "WARNING: Running without API token\n",
      "Halting dc5ebc38-b348-4a4f-8abb-c4867be1e11c\n",
      "INFO:     172.17.0.1:49118 - \"GET /queries/dc5ebc38-b348-4a4f-8abb-c4867be1e11c/halt HTTP/1.1\" 200 OK\n"
     ]
    },
    {
     "name": "stderr",
     "output_type": "stream",
     "text": [
      "Point: Point({'type': 'point', 'label': 'unknown', 'values': {'beta': 3e-05}}) is marked false, but already marked true.\n"
     ]
    },
    {
     "name": "stdout",
     "output_type": "stream",
     "text": [
      "Completed work on: dc5ebc38-b348-4a4f-8abb-c4867be1e11c\n",
      "Starting work on: a5b20629-9216-4100-a9b0-8e6654226570\n",
      "Starting initializing dynamics of model\n",
      "Initialized dynamics of model\n",
      "Split(Box({'beta': {'lb': 3e-05, 'ub': 9e-05}}), width = 6.000000000000001e-05)\n"
     ]
    },
    {
     "name": "stderr",
     "output_type": "stream",
     "text": [
      "Traceback (most recent call last):\n",
      "  File \"/home/jladwig/funman/src/funman/search/box_search.py\", line 503, in _expand\n",
      "    true_points = self._get_true_points(\n",
      "  File \"/home/jladwig/funman/src/funman/search/box_search.py\", line 414, in _get_true_points\n",
      "    true_points = [episode._extract_point(res1)]\n",
      "  File \"/home/jladwig/funman/src/funman/search/box_search.py\", line 207, in _extract_point\n",
      "    values={\n",
      "  File \"/home/jladwig/funman/src/funman/search/box_search.py\", line 209, in <dictcomp>\n",
      "    p.name: float(model.get_py_value(p.symbol()))\n",
      "TypeError: float() argument must be a string or a number, not 'Numeral'\n",
      "\n"
     ]
    },
    {
     "name": "stdout",
     "output_type": "stream",
     "text": [
      "Completed work on: a5b20629-9216-4100-a9b0-8e6654226570\n",
      "WARNING: Running without API token\n",
      "INFO:     172.17.0.1:57704 - \"GET /queries/dc5ebc38-b348-4a4f-8abb-c4867be1e11c HTTP/1.1\" 200 OK\n",
      "WARNING: Running without API token\n",
      "INFO:     127.0.0.1:54146 - \"POST /queries HTTP/1.1\" 200 OK\n",
      "Starting work on: a854792c-3ab1-4284-b3c5-bc7a77532bba\n",
      "Starting initializing dynamics of model\n",
      "Initialized dynamics of model\n",
      "Split(Box({'beta': {'lb': 3e-05, 'ub': 9e-05}}), width = 6.000000000000001e-05)\n"
     ]
    },
    {
     "name": "stderr",
     "output_type": "stream",
     "text": [
      "Point: Point({'type': 'point', 'label': 'unknown', 'values': {'beta': 7.501500300060012e-05}}) is marked false, but already marked true.\n"
     ]
    },
    {
     "name": "stdout",
     "output_type": "stream",
     "text": [
      "Split(Box({'beta': {'lb': 6.000000000000001e-05, 'ub': 9e-05}}), width = 2.9999999999999997e-05)\n",
      "Split(Box({'beta': {'lb': 3e-05, 'ub': 6.000000000000001e-05}}), width = 3.0000000000000008e-05)\n",
      "Split(Box({'beta': {'lb': 7.500000000000001e-05, 'ub': 9e-05}}), width = 1.4999999999999999e-05)\n"
     ]
    },
    {
     "name": "stderr",
     "output_type": "stream",
     "text": [
      "Point: Point({'type': 'point', 'label': 'unknown', 'values': {'beta': 6.25125025005001e-05}}) is marked false, but already marked true.\n"
     ]
    },
    {
     "name": "stdout",
     "output_type": "stream",
     "text": [
      "Split(Box({'beta': {'lb': 6.000000000000001e-05, 'ub': 7.500000000000001e-05}}), width = 1.4999999999999999e-05)\n"
     ]
    },
    {
     "name": "stderr",
     "output_type": "stream",
     "text": [
      "Point: Point({'type': 'point', 'label': 'unknown', 'values': {'beta': 5.001000200040008e-05}}) is marked true, but already marked false.\n"
     ]
    },
    {
     "name": "stdout",
     "output_type": "stream",
     "text": [
      "Split(Box({'beta': {'lb': 4.5e-05, 'ub': 6.000000000000001e-05}}), width = 1.5000000000000005e-05)\n",
      "Split(Box({'beta': {'lb': 3e-05, 'ub': 4.5e-05}}), width = 1.5000000000000002e-05)\n"
     ]
    },
    {
     "name": "stderr",
     "output_type": "stream",
     "text": [
      "Point: Point({'type': 'point', 'label': 'unknown', 'values': {'beta': 8.751750350070014e-05}}) is marked false, but already marked true.\n"
     ]
    },
    {
     "name": "stdout",
     "output_type": "stream",
     "text": [
      "Split(Box({'beta': {'lb': 8.25e-05, 'ub': 9e-05}}), width = 7.500000000000006e-06)\n",
      "WARNING: Running without API token\n",
      "INFO:     127.0.0.1:37224 - \"POST /queries HTTP/1.1\" 200 OK\n",
      "Split(Box({'beta': {'lb': 7.500000000000001e-05, 'ub': 8.25e-05}}), width = 7.4999999999999926e-06)\n"
     ]
    },
    {
     "name": "stderr",
     "output_type": "stream",
     "text": [
      "Point: Point({'type': 'point', 'label': 'unknown', 'values': {'beta': 6.87637527505501e-05}}) is marked false, but already marked true.\n"
     ]
    },
    {
     "name": "stdout",
     "output_type": "stream",
     "text": [
      "Split(Box({'beta': {'lb': 6.750000000000001e-05, 'ub': 7.500000000000001e-05}}), width = 7.4999999999999926e-06)\n",
      "Split(Box({'beta': {'lb': 6.000000000000001e-05, 'ub': 6.750000000000001e-05}}), width = 7.500000000000006e-06)\n",
      "Split(Box({'beta': {'lb': 5.25e-05, 'ub': 6.000000000000001e-05}}), width = 7.500000000000006e-06)\n",
      "Split(Box({'beta': {'lb': 4.5e-05, 'ub': 5.25e-05}}), width = 7.499999999999999e-06)\n"
     ]
    },
    {
     "name": "stderr",
     "output_type": "stream",
     "text": [
      "Point: Point({'type': 'point', 'label': 'unknown', 'values': {'beta': 3.750750150030006e-05}}) is marked true, but already marked false.\n"
     ]
    },
    {
     "name": "stdout",
     "output_type": "stream",
     "text": [
      "Split(Box({'beta': {'lb': 3.7500000000000003e-05, 'ub': 4.5e-05}}), width = 7.499999999999999e-06)\n",
      "Split(Box({'beta': {'lb': 3e-05, 'ub': 3.7500000000000003e-05}}), width = 7.500000000000003e-06)\n",
      "Split(Box({'beta': {'lb': 8.625000000000001e-05, 'ub': 9e-05}}), width = 3.7499999999999963e-06)\n"
     ]
    },
    {
     "name": "stderr",
     "output_type": "stream",
     "text": [
      "Point: Point({'type': 'point', 'label': 'unknown', 'values': {'beta': 8.439187837567513e-05}}) is marked false, but already marked true.\n"
     ]
    },
    {
     "name": "stdout",
     "output_type": "stream",
     "text": [
      "Split(Box({'beta': {'lb': 8.25e-05, 'ub': 8.625000000000001e-05}}), width = 3.75000000000001e-06)\n"
     ]
    },
    {
     "name": "stderr",
     "output_type": "stream",
     "text": [
      "Point: Point({'type': 'point', 'label': 'unknown', 'values': {'beta': 8.126625325065012e-05}}) is marked false, but already marked true.\n"
     ]
    },
    {
     "name": "stdout",
     "output_type": "stream",
     "text": [
      "Split(Box({'beta': {'lb': 7.875e-05, 'ub': 8.25e-05}}), width = 3.7499999999999963e-06)\n",
      "Split(Box({'beta': {'lb': 7.500000000000001e-05, 'ub': 7.875e-05}}), width = 3.7499999999999963e-06)\n"
     ]
    },
    {
     "name": "stderr",
     "output_type": "stream",
     "text": [
      "Point: Point({'type': 'point', 'label': 'unknown', 'values': {'beta': 7.188937787557511e-05}}) is marked false, but already marked true.\n"
     ]
    },
    {
     "name": "stdout",
     "output_type": "stream",
     "text": [
      "Split(Box({'beta': {'lb': 7.125000000000001e-05, 'ub': 7.500000000000001e-05}}), width = 3.7499999999999963e-06)\n",
      "Split(Box({'beta': {'lb': 6.750000000000001e-05, 'ub': 7.125000000000001e-05}}), width = 3.7499999999999963e-06)\n"
     ]
    },
    {
     "name": "stderr",
     "output_type": "stream",
     "text": [
      "Point: Point({'type': 'point', 'label': 'unknown', 'values': {'beta': 6.563812762552511e-05}}) is marked false, but already marked true.\n"
     ]
    },
    {
     "name": "stdout",
     "output_type": "stream",
     "text": [
      "Split(Box({'beta': {'lb': 6.375e-05, 'ub': 6.750000000000001e-05}}), width = 3.75000000000001e-06)\n",
      "Split(Box({'beta': {'lb': 6.000000000000001e-05, 'ub': 6.375e-05}}), width = 3.7499999999999963e-06)\n",
      "WARNING: Running without API token\n",
      "TODO: Get running results\n",
      "INFO:     172.17.0.1:52738 - \"GET /queries/a854792c-3ab1-4284-b3c5-bc7a77532bba HTTP/1.1\" 500 Internal Server Error\n"
     ]
    },
    {
     "name": "stderr",
     "output_type": "stream",
     "text": [
      "ERROR:    Exception in ASGI application\n",
      "Traceback (most recent call last):\n",
      "  File \"/home/jladwig/funman_venv/lib/python3.8/site-packages/uvicorn/protocols/http/h11_impl.py\", line 428, in run_asgi\n",
      "    result = await app(  # type: ignore[func-returns-value]\n",
      "  File \"/home/jladwig/funman_venv/lib/python3.8/site-packages/uvicorn/middleware/proxy_headers.py\", line 78, in __call__\n",
      "    return await self.app(scope, receive, send)\n",
      "  File \"/home/jladwig/funman_venv/lib/python3.8/site-packages/fastapi/applications.py\", line 276, in __call__\n",
      "    await super().__call__(scope, receive, send)\n",
      "  File \"/home/jladwig/funman_venv/lib/python3.8/site-packages/starlette/applications.py\", line 122, in __call__\n",
      "    await self.middleware_stack(scope, receive, send)\n",
      "  File \"/home/jladwig/funman_venv/lib/python3.8/site-packages/starlette/middleware/errors.py\", line 184, in __call__\n",
      "    raise exc\n",
      "  File \"/home/jladwig/funman_venv/lib/python3.8/site-packages/starlette/middleware/errors.py\", line 162, in __call__\n",
      "    await self.app(scope, receive, _send)\n",
      "  File \"/home/jladwig/funman_venv/lib/python3.8/site-packages/starlette/middleware/cors.py\", line 84, in __call__\n",
      "    await self.app(scope, receive, send)\n",
      "  File \"/home/jladwig/funman_venv/lib/python3.8/site-packages/starlette/middleware/exceptions.py\", line 79, in __call__\n",
      "    raise exc\n",
      "  File \"/home/jladwig/funman_venv/lib/python3.8/site-packages/starlette/middleware/exceptions.py\", line 68, in __call__\n",
      "    await self.app(scope, receive, sender)\n",
      "  File \"/home/jladwig/funman_venv/lib/python3.8/site-packages/fastapi/middleware/asyncexitstack.py\", line 21, in __call__\n",
      "    raise e\n",
      "  File \"/home/jladwig/funman_venv/lib/python3.8/site-packages/fastapi/middleware/asyncexitstack.py\", line 18, in __call__\n",
      "    await self.app(scope, receive, send)\n",
      "  File \"/home/jladwig/funman_venv/lib/python3.8/site-packages/starlette/routing.py\", line 718, in __call__\n",
      "    await route.handle(scope, receive, send)\n",
      "  File \"/home/jladwig/funman_venv/lib/python3.8/site-packages/starlette/routing.py\", line 276, in handle\n",
      "    await self.app(scope, receive, send)\n",
      "  File \"/home/jladwig/funman_venv/lib/python3.8/site-packages/starlette/routing.py\", line 66, in app\n",
      "    response = await func(request)\n",
      "  File \"/home/jladwig/funman_venv/lib/python3.8/site-packages/fastapi/routing.py\", line 255, in app\n",
      "    content = await serialize_response(\n",
      "  File \"/home/jladwig/funman_venv/lib/python3.8/site-packages/fastapi/routing.py\", line 141, in serialize_response\n",
      "    raise ValidationError(errors, field.type_)\n",
      "pydantic.error_wrappers.ValidationError: 1 validation error for FunmanResults\n",
      "response\n",
      "  none is not an allowed value (type=type_error.none.not_allowed)\n"
     ]
    },
    {
     "name": "stdout",
     "output_type": "stream",
     "text": [
      "Split(Box({'beta': {'lb': 5.6250000000000005e-05, 'ub': 6.000000000000001e-05}}), width = 3.750000000000003e-06)\n"
     ]
    },
    {
     "name": "stderr",
     "output_type": "stream",
     "text": [
      "Point: Point({'type': 'point', 'label': 'unknown', 'values': {'beta': 5.313562712542508e-05}}) is marked false, but already marked true.\n"
     ]
    },
    {
     "name": "stdout",
     "output_type": "stream",
     "text": [
      "Split(Box({'beta': {'lb': 5.25e-05, 'ub': 5.6250000000000005e-05}}), width = 3.750000000000003e-06)\n",
      "Split(Box({'beta': {'lb': 4.8750000000000006e-05, 'ub': 5.25e-05}}), width = 3.7499999999999963e-06)\n",
      "Split(Box({'beta': {'lb': 4.5e-05, 'ub': 4.8750000000000006e-05}}), width = 3.750000000000003e-06)\n"
     ]
    },
    {
     "name": "stderr",
     "output_type": "stream",
     "text": [
      "Point: Point({'type': 'point', 'label': 'unknown', 'values': {'beta': 4.375875175035007e-05}}) is marked false, but already marked true.\n"
     ]
    },
    {
     "name": "stdout",
     "output_type": "stream",
     "text": [
      "Split(Box({'beta': {'lb': 4.125e-05, 'ub': 4.5e-05}}), width = 3.750000000000003e-06)\n",
      "Split(Box({'beta': {'lb': 3.7500000000000003e-05, 'ub': 4.125e-05}}), width = 3.7499999999999963e-06)\n",
      "Split(Box({'beta': {'lb': 3.375e-05, 'ub': 3.7500000000000003e-05}}), width = 3.750000000000003e-06)\n",
      "Split(Box({'beta': {'lb': 3e-05, 'ub': 3.375e-05}}), width = 3.7499999999999997e-06)\n"
     ]
    },
    {
     "name": "stderr",
     "output_type": "stream",
     "text": [
      "Point: Point({'type': 'point', 'label': 'unknown', 'values': {'beta': 8.908031606321264e-05}}) is marked false, but already marked true.\n"
     ]
    },
    {
     "name": "stdout",
     "output_type": "stream",
     "text": [
      "Split(Box({'beta': {'lb': 8.812500000000001e-05, 'ub': 9e-05}}), width = 1.8749999999999914e-06)\n",
      "Split(Box({'beta': {'lb': 8.625000000000001e-05, 'ub': 8.812500000000001e-05}}), width = 1.875000000000005e-06)\n",
      "WARNING: Running without API token\n",
      "Halting a854792c-3ab1-4284-b3c5-bc7a77532bba\n",
      "INFO:     172.17.0.1:42944 - \"GET /queries/a854792c-3ab1-4284-b3c5-bc7a77532bba/halt HTTP/1.1\" 200 OK\n",
      "Completed work on: a854792c-3ab1-4284-b3c5-bc7a77532bba\n",
      "Starting work on: 7d6d9e20-e830-4b96-8859-185cf7ba3569\n",
      "Starting initializing dynamics of model\n",
      "Initialized dynamics of model\n",
      "Split(Box({'beta': {'lb': 3e-05, 'ub': 9e-05}}), width = 6.000000000000001e-05)\n",
      "Split(Box({'beta': {'lb': 6.000000000000001e-05, 'ub': 9e-05}}), width = 2.9999999999999997e-05)\n",
      "Split(Box({'beta': {'lb': 3e-05, 'ub': 6.000000000000001e-05}}), width = 3.0000000000000008e-05)\n",
      "Split(Box({'beta': {'lb': 7.500000000000001e-05, 'ub': 9e-05}}), width = 1.4999999999999999e-05)\n",
      "Split(Box({'beta': {'lb': 6.000000000000001e-05, 'ub': 7.500000000000001e-05}}), width = 1.4999999999999999e-05)\n",
      "Split(Box({'beta': {'lb': 4.5e-05, 'ub': 6.000000000000001e-05}}), width = 1.5000000000000005e-05)\n",
      "Split(Box({'beta': {'lb': 3e-05, 'ub': 4.5e-05}}), width = 1.5000000000000002e-05)\n"
     ]
    },
    {
     "name": "stderr",
     "output_type": "stream",
     "text": [
      "Point: Point({'type': 'point', 'label': 'unknown', 'values': {'beta': 8.751750350070014e-05}}) is marked false, but already marked true.\n"
     ]
    },
    {
     "name": "stdout",
     "output_type": "stream",
     "text": [
      "Split(Box({'beta': {'lb': 8.25e-05, 'ub': 9e-05}}), width = 7.500000000000006e-06)\n"
     ]
    },
    {
     "name": "stderr",
     "output_type": "stream",
     "text": [
      "Point: Point({'type': 'point', 'label': 'unknown', 'values': {'beta': 7.501500300060012e-05}}) is marked true, but already marked false.\n"
     ]
    },
    {
     "name": "stdout",
     "output_type": "stream",
     "text": [
      "Split(Box({'beta': {'lb': 7.500000000000001e-05, 'ub': 8.25e-05}}), width = 7.4999999999999926e-06)\n",
      "Split(Box({'beta': {'lb': 6.750000000000001e-05, 'ub': 7.500000000000001e-05}}), width = 7.4999999999999926e-06)\n",
      "Split(Box({'beta': {'lb': 6.000000000000001e-05, 'ub': 6.750000000000001e-05}}), width = 7.500000000000006e-06)\n"
     ]
    },
    {
     "name": "stderr",
     "output_type": "stream",
     "text": [
      "Point: Point({'type': 'point', 'label': 'unknown', 'values': {'beta': 5.626125225045009e-05}}) is marked false, but already marked true.\n"
     ]
    },
    {
     "name": "stdout",
     "output_type": "stream",
     "text": [
      "Split(Box({'beta': {'lb': 5.25e-05, 'ub': 6.000000000000001e-05}}), width = 7.500000000000006e-06)\n",
      "Split(Box({'beta': {'lb': 4.5e-05, 'ub': 5.25e-05}}), width = 7.499999999999999e-06)\n",
      "Split(Box({'beta': {'lb': 3.7500000000000003e-05, 'ub': 4.5e-05}}), width = 7.499999999999999e-06)\n",
      "Split(Box({'beta': {'lb': 3e-05, 'ub': 3.7500000000000003e-05}}), width = 7.500000000000003e-06)\n",
      "Split(Box({'beta': {'lb': 8.625000000000001e-05, 'ub': 9e-05}}), width = 3.7499999999999963e-06)\n",
      "Split(Box({'beta': {'lb': 8.25e-05, 'ub': 8.625000000000001e-05}}), width = 3.75000000000001e-06)\n"
     ]
    },
    {
     "name": "stderr",
     "output_type": "stream",
     "text": [
      "Point: Point({'type': 'point', 'label': 'unknown', 'values': {'beta': 8.126625325065012e-05}}) is marked false, but already marked true.\n"
     ]
    },
    {
     "name": "stdout",
     "output_type": "stream",
     "text": [
      "Split(Box({'beta': {'lb': 7.875e-05, 'ub': 8.25e-05}}), width = 3.7499999999999963e-06)\n"
     ]
    }
   ],
   "source": [
    "# Start API Server\n",
    "server = Server(\n",
    "            config=ServerConfig(\n",
    "                app,\n",
    "                host=API_SERVER_HOST,\n",
    "                port=API_SERVER_PORT,\n",
    "                log_level=\"info\",\n",
    "            )\n",
    "        )\n",
    "nest_asyncio.apply()\n",
    "thread = server.start_in_thread()"
   ]
  },
  {
   "cell_type": "code",
   "execution_count": null,
   "id": "8f8b5e65",
   "metadata": {},
   "outputs": [
    {
     "name": "stderr",
     "output_type": "stream",
     "text": [
      "INFO:     Shutting down\n",
      "INFO:     Waiting for application shutdown.\n"
     ]
    },
    {
     "name": "stdout",
     "output_type": "stream",
     "text": [
      "Split(Box({'beta': {'lb': 3.7500000000000003e-05, 'ub': 3.9375e-05}}), width = 1.8749999999999981e-06)\n",
      "Split(Box({'beta': {'lb': 3.5625e-05, 'ub': 3.7500000000000003e-05}}), width = 1.875000000000005e-06)\n",
      "Split(Box({'beta': {'lb': 3.375e-05, 'ub': 3.5625e-05}}), width = 1.8749999999999981e-06)\n"
     ]
    },
    {
     "name": "stderr",
     "output_type": "stream",
     "text": [
      "Point: Point({'type': 'point', 'label': 'unknown', 'values': {'beta': 3.2819063812762554e-05}}) is marked false, but already marked true.\n"
     ]
    },
    {
     "name": "stdout",
     "output_type": "stream",
     "text": [
      "Split(Box({'beta': {'lb': 3.1875e-05, 'ub': 3.375e-05}}), width = 1.8749999999999981e-06)\n",
      "Split(Box({'beta': {'lb': 3e-05, 'ub': 3.1875e-05}}), width = 1.8750000000000015e-06)\n",
      "Split(Box({'beta': {'lb': 8.90625e-05, 'ub': 9e-05}}), width = 9.375000000000025e-07)\n",
      "Split(Box({'beta': {'lb': 8.812500000000001e-05, 'ub': 8.90625e-05}}), width = 9.374999999999889e-07)\n"
     ]
    },
    {
     "name": "stderr",
     "output_type": "stream",
     "text": [
      "Point: Point({'type': 'point', 'label': 'unknown', 'values': {'beta': 8.751750350070014e-05}}) is marked true, but already marked false.\n"
     ]
    },
    {
     "name": "stdout",
     "output_type": "stream",
     "text": [
      "Split(Box({'beta': {'lb': 8.718750000000001e-05, 'ub': 8.812500000000001e-05}}), width = 9.375000000000025e-07)\n",
      "Split(Box({'beta': {'lb': 8.625000000000001e-05, 'ub': 8.718750000000001e-05}}), width = 9.375000000000025e-07)\n"
     ]
    },
    {
     "name": "stderr",
     "output_type": "stream",
     "text": [
      "Point: Point({'type': 'point', 'label': 'unknown', 'values': {'beta': 8.595469093818764e-05}}) is marked false, but already marked true.\n"
     ]
    },
    {
     "name": "stdout",
     "output_type": "stream",
     "text": [
      "Split(Box({'beta': {'lb': 8.531250000000001e-05, 'ub': 8.625000000000001e-05}}), width = 9.375000000000025e-07)\n",
      "Split(Box({'beta': {'lb': 8.4375e-05, 'ub': 8.531250000000001e-05}}), width = 9.375000000000025e-07)\n",
      "Split(Box({'beta': {'lb': 8.34375e-05, 'ub': 8.4375e-05}}), width = 9.375000000000025e-07)\n",
      "Split(Box({'beta': {'lb': 8.25e-05, 'ub': 8.34375e-05}}), width = 9.375000000000025e-07)\n"
     ]
    }
   ],
   "source": [
    "# Close out server\n",
    "server.should_exit = True\n",
    "thread.join()"
   ]
  },
  {
   "cell_type": "code",
   "execution_count": null,
   "id": "4cf1dd9f",
   "metadata": {},
   "outputs": [],
   "source": []
  }
 ],
 "metadata": {
  "kernelspec": {
   "display_name": "Python 3 (ipykernel)",
   "language": "python",
   "name": "python3"
  },
  "language_info": {
   "codemirror_mode": {
    "name": "ipython",
    "version": 3
   },
   "file_extension": ".py",
   "mimetype": "text/x-python",
   "name": "python",
   "nbconvert_exporter": "python",
   "pygments_lexer": "ipython3",
   "version": "3.8.10"
  }
 },
 "nbformat": 4,
 "nbformat_minor": 5
}
