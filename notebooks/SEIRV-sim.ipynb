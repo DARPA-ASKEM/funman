{
 "cells": [
  {
   "cell_type": "code",
   "execution_count": 53,
   "id": "127333a7",
   "metadata": {
    "ExecuteTime": {
     "end_time": "2023-01-03T01:23:58.201127Z",
     "start_time": "2023-01-03T01:23:55.847624Z"
    }
   },
   "outputs": [],
   "source": [
    "# import statements\n",
    "from scipy.integrate import odeint\n",
    "import numpy as np\n",
    "import matplotlib.pyplot as plt\n",
    "import pandas as pd2"
   ]
  },
  {
   "cell_type": "markdown",
   "id": "f587697b",
   "metadata": {},
   "source": [
    "# Function Definitions"
   ]
  },
  {
   "cell_type": "code",
   "execution_count": 25,
   "id": "3d7e40f5",
   "metadata": {
    "ExecuteTime": {
     "end_time": "2023-01-03T01:24:00.194654Z",
     "start_time": "2023-01-03T01:24:00.112157Z"
    }
   },
   "outputs": [],
   "source": [
    "# define model\n",
    "## note: p_EI could be included but it's just 1.\n",
    "def SEIHRD_model(y, t, beta, r_EI, p_EI, r_IR, p_IR, r_IH, p_IH, r_HR, p_HR, r_HD, p_HD, N):\n",
    "    S, E, I, R, H, D = y\n",
    "    dSdt = -S*I*beta(t)/N\n",
    "    dEdt = S*I*beta(t)/N - E*r_EI(t)\n",
    "    dIdt = E*r_EI(t) - I*r_IR(t)*p_IR(t) - I*r_IH(t)*p_IH(t)\n",
    "    dHdt = I*r_IH(t)*p_IH(t) - H*r_HR(t)*p_HR(t) - H*r_HD(t)*p_HD(t)\n",
    "    dRdt = I*r_IR(t)*p_IR(t) + H*r_HR(t)*p_HR(t)\n",
    "    dDdt = H*r_HD(t)*p_HD(t)\n",
    "    return dSdt, dEdt, dIdt, dHdt, dRdt, dDdt\n",
    "\n",
    "#  plot SIDARTHE model\n",
    "def plotSEIHRD(t, S, E, I, H, R, D):\n",
    "    f, ax = plt.subplots(1,1,figsize=(10,4))\n",
    "    ax.plot(t, S, 'r', alpha=0.7, linewidth=2, label='Susceptible')\n",
    "    ax.plot(t, E, 'o', alpha=0.7, linewidth=2, label='Exposed')\n",
    "    ax.plot(t, I, 'y', alpha=0.7, linewidth=2, label='Infected')\n",
    "    ax.plot(t, H, 'g', alpha=0.7, linewidth=2, label='Hospitalized')\n",
    "    ax.plot(t, R, 'b', alpha=0.7, linewidth=2, label='Recovered')\n",
    "    ax.plot(t, D, 'p', alpha=0.7, linewidth=2, label='Dead')\n",
    "\n",
    "\n",
    "    ax.set_xlabel('Time (days)')\n",
    "    ax.set_ylabel('Population')\n",
    "\n",
    "    ax.yaxis.set_tick_params(length=0)\n",
    "    ax.xaxis.set_tick_params(length=0)\n",
    "    ax.grid(b=True, which='major', c='w', lw=2, ls='-')\n",
    "    legend = ax.legend()\n",
    "    legend.get_frame().set_alpha(0.5)\n",
    "    \n",
    "    plt.show();"
   ]
  },
  {
   "cell_type": "markdown",
   "id": "f3df1865",
   "metadata": {},
   "source": [
    "# Example Simulation and Plot"
   ]
  },
  {
   "cell_type": "code",
   "execution_count": 47,
   "id": "959a3338",
   "metadata": {
    "ExecuteTime": {
     "end_time": "2023-01-03T01:25:26.156874Z",
     "start_time": "2023-01-03T01:25:24.374120Z"
    }
   },
   "outputs": [
    {
     "name": "stderr",
     "output_type": "stream",
     "text": [
      "/var/folders/fg/63k_244d5jg2d0hp2j_fb21w0000gp/T/ipykernel_89098/3539529373.py:29: MatplotlibDeprecationWarning: The 'b' parameter of grid() has been renamed 'visible' since Matplotlib 3.5; support for the old name will be dropped two minor releases later.\n",
      "  ax.grid(b=True, which='major', c='w', lw=2, ls='-')\n"
     ]
    },
    {
     "data": {
      "image/png": "[encoded data removed]",
      "text/plain": [
       "<Figure size 720x288 with 1 Axes>"
      ]
     },
     "metadata": {
      "needs_background": "light"
     },
     "output_type": "display_data"
    }
   ],
   "source": [
    "# set parameter values\n",
    "def beta(t): return np.piecewise(t, [t>=0], [0.4])\n",
    "def r_EI(t): return np.piecewise(t, [t>=0], [0.2])\n",
    "def p_EI(t): return np.piecewise(t, [t>=0], [1]) ## not sure if this is necessary?? not in the model.\n",
    "def r_IR(t): return np.piecewise(t, [t>=0], [0.07])\n",
    "def p_IR(t): return np.piecewise(t, [t>=0], [0.8])\n",
    "def r_IH(t): return np.piecewise(t, [t>=0], [0.1])\n",
    "def p_IH(t): return np.piecewise(t, [t>=0], [0.2])\n",
    "def r_HR(t): return np.piecewise(t, [t>=0], [0.1])\n",
    "def p_HR(t): return np.piecewise(t, [t>=0], [0.88])\n",
    "def r_HD(t): return np.piecewise(t, [t>=0], [0.1])\n",
    "def p_HD(t): return np.piecewise(t, [t>=0], [0.12])\n",
    "N = 19340000\n",
    "\n",
    "\n",
    "# set initial conditions\n",
    "N0 = N\n",
    "I0 = 400 # fill in with data\n",
    "D0 = 0 # fill in with data\n",
    "R0 = 0 # fill in with data\n",
    "H0 = 0 # fill in with data\n",
    "E0 = I0/4 \n",
    "S0 = N - E0 - I0 - R0 - H0 - D0\n",
    "y0 = S0, E0, I0, H0, R0, D0 # Initial conditions vector\n",
    "\n",
    "# set simulation parameters\n",
    "## \n",
    "dt = 1\n",
    "tstart = 0\n",
    "tend = 200\n",
    "tvect = np.arange(tstart, tend, dt) \n",
    "\n",
    "# solve odes\n",
    "sim = odeint(SEIHRD_model, y0, tvect, args=(beta, r_EI, p_EI, r_IR, p_IR, r_IH, p_IH, r_HR, p_HR, r_HD, p_HD, N))\n",
    "S, E, I, H, R, D = sim.T\n",
    "\n",
    "# plot results\n",
    "plotSEIHRD(tvect, S, E, I, H, R, D)"
   ]
  },
  {
   "cell_type": "code",
   "execution_count": 54,
   "id": "2ed75a61",
   "metadata": {},
   "outputs": [
    {
     "ename": "AttributeError",
     "evalue": "module 'pandas' has no attribute 'DataFrame'",
     "output_type": "error",
     "traceback": [
      "\u001b[0;31m---------------------------------------------------------------------------\u001b[0m",
      "\u001b[0;31mAttributeError\u001b[0m                            Traceback (most recent call last)",
      "Cell \u001b[0;32mIn[54], line 1\u001b[0m\n\u001b[0;32m----> 1\u001b[0m df \u001b[38;5;241m=\u001b[39m \u001b[43mpd2\u001b[49m\u001b[38;5;241;43m.\u001b[39;49m\u001b[43mDataFrame\u001b[49m(\u001b[38;5;28mlist\u001b[39m(\u001b[38;5;28mzip\u001b[39m(S, E, I, H, R, D)), columns \u001b[38;5;241m=\u001b[39m[\u001b[38;5;124m'\u001b[39m\u001b[38;5;124mS\u001b[39m\u001b[38;5;124m'\u001b[39m, \u001b[38;5;124m'\u001b[39m\u001b[38;5;124mE\u001b[39m\u001b[38;5;124m'\u001b[39m, \u001b[38;5;124m'\u001b[39m\u001b[38;5;124mI\u001b[39m\u001b[38;5;124m'\u001b[39m, \u001b[38;5;124m'\u001b[39m\u001b[38;5;124mH\u001b[39m\u001b[38;5;124m'\u001b[39m, \u001b[38;5;124m'\u001b[39m\u001b[38;5;124mR\u001b[39m\u001b[38;5;124m'\u001b[39m, \u001b[38;5;124m'\u001b[39m\u001b[38;5;124mD\u001b[39m\u001b[38;5;124m'\u001b[39m])\n\u001b[1;32m      2\u001b[0m df\n",
      "\u001b[0;31mAttributeError\u001b[0m: module 'pandas' has no attribute 'DataFrame'"
     ]
    }
   ],
   "source": [
    "df = pd2.DataFrame(list(zip(S, E, I, H, R, D)), columns =['S', 'E', 'I', 'H', 'R', 'D'])\n",
    "df"
   ]
  },
  {
   "cell_type": "code",
   "execution_count": 45,
   "id": "0cf4d6fe",
   "metadata": {},
   "outputs": [
    {
     "name": "stdout",
     "output_type": "stream",
     "text": [
      "[4.00000000e+00 4.02721951e+00 4.27715392e+00 4.71031666e+00\n",
      " 5.30717647e+00 6.06223245e+00 6.98031693e+00 8.07437837e+00\n",
      " 9.36426097e+00 1.08761713e+01 1.26426359e+01 1.47028284e+01\n",
      " 1.71031972e+01 1.98983545e+01 2.31522169e+01 2.69394002e+01\n",
      " 3.13468866e+01 3.64759941e+01 4.24446871e+01 4.93902768e+01\n",
      " 5.74725725e+01 6.68775533e+01 7.78216429e+01 9.05566883e+01\n",
      " 1.05375752e+02 1.22619856e+02 1.42685824e+02 1.66035416e+02\n",
      " 1.93205945e+02 2.24822646e+02 2.61613051e+02 3.04423727e+02\n",
      " 3.54239752e+02 4.12207360e+02 4.79660309e+02 5.58150543e+02\n",
      " 6.49483871e+02 7.55761474e+02 8.79428191e+02 1.02332869e+03\n",
      " 1.19077281e+03 1.38561156e+03 1.61232548e+03 1.87612751e+03\n",
      " 2.18308244e+03 2.54024596e+03 2.95582624e+03 3.43937174e+03\n",
      " 4.00198954e+03 4.65659897e+03 5.41822629e+03 6.30434692e+03\n",
      " 7.33528275e+03 8.53466324e+03 9.92996037e+03 1.15531088e+04\n",
      " 1.34412245e+04 1.56374370e+04 1.81918522e+04 2.11626652e+04\n",
      " 2.46174451e+04 2.86346168e+04 3.33051666e+04 3.87346019e+04\n",
      " 4.50451990e+04 5.23785733e+04 6.08986099e+04 7.07947935e+04\n",
      " 8.22859741e+04 9.56246045e+04 1.11101478e+05 1.29050983e+05\n",
      " 1.49856877e+05 1.73958550e+05 2.01857717e+05 2.34125427e+05\n",
      " 2.71409181e+05 3.14439906e+05 3.64038343e+05 4.21120311e+05\n",
      " 4.86700060e+05 5.61890756e+05 6.47900812e+05 7.46024553e+05\n",
      " 8.57625403e+05 9.84109537e+05 1.12688788e+06 1.28732430e+06\n",
      " 1.46666840e+06 1.66597191e+06 1.88598917e+06 2.12706423e+06\n",
      " 2.38900940e+06 2.67098352e+06 2.97138096e+06 3.28774526e+06\n",
      " 3.61672274e+06 3.95407050e+06 4.29473049e+06 4.63297475e+06\n",
      " 4.96261900e+06 5.27729183e+06 5.57073823e+06 5.83712993e+06\n",
      " 6.07135274e+06 6.26924384e+06 6.42775861e+06 6.54505621e+06\n",
      " 6.62050330e+06 6.65460440e+06 6.64887420e+06 6.60567013e+06\n",
      " 6.52800443e+06 6.41935257e+06 6.28347161e+06 6.12423816e+06\n",
      " 5.94551144e+06 5.75102372e+06 5.54429777e+06 5.32858929e+06\n",
      " 5.10685094e+06 4.88171459e+06 4.65548777e+06 4.43016123e+06\n",
      " 4.20742425e+06 3.98868528e+06 3.77509582e+06 3.56757581e+06\n",
      " 3.36683935e+06 3.17341978e+06 2.98769361e+06 2.80990274e+06\n",
      " 2.64017484e+06 2.47854181e+06 2.32495620e+06 2.17930574e+06\n",
      " 2.04142608e+06 1.91111181e+06 1.78812597e+06 1.67220812e+06\n",
      " 1.56308127e+06 1.46045759e+06 1.36404326e+06 1.27354238e+06\n",
      " 1.18866024e+06 1.10910592e+06 1.03459435e+06 9.64847930e+05\n",
      " 8.99597741e+05 8.38584475e+05 7.81559050e+05 7.28283017e+05\n",
      " 6.78528787e+05 6.32079701e+05 5.88729978e+05 5.48284565e+05\n",
      " 5.10558919e+05 4.75378716e+05 4.42579526e+05 4.12006452e+05\n",
      " 3.83513745e+05 3.56964410e+05 3.32229799e+05 3.09189208e+05\n",
      " 2.87729472e+05 2.67744567e+05 2.49135226e+05 2.31808556e+05\n",
      " 2.15677682e+05 2.00661388e+05 1.86683785e+05 1.73673991e+05\n",
      " 1.61565819e+05 1.50297494e+05 1.39811370e+05 1.30053671e+05\n",
      " 1.20974244e+05 1.12526326e+05 1.04666322e+05 9.73536014e+04\n",
      " 9.05503007e+04 8.42211419e+04 7.83332602e+04 7.28560439e+04\n",
      " 6.77609828e+04 6.30215277e+04 5.86129575e+04 5.45122561e+04\n",
      " 5.06979965e+04 4.71502330e+04 4.38503998e+04 4.07812171e+04\n",
      " 3.79266030e+04 3.52715913e+04 3.28022550e+04 3.05056346e+04\n",
      " 2.83696717e+04 2.63831467e+04 2.45356209e+04 2.28173824e+04]\n"
     ]
    }
   ],
   "source": [
    "print(I)"
   ]
  },
  {
   "cell_type": "code",
   "execution_count": 44,
   "id": "1f359bbd",
   "metadata": {},
   "outputs": [
    {
     "name": "stdout",
     "output_type": "stream",
     "text": [
      "[ 4.00000000e-01  4.68353206e-01  5.14830391e-01  5.39740560e-01\n",
      "  5.41389992e-01  5.16404426e-01  4.59871928e-01  3.65357291e-01\n",
      "  2.24819169e-01  2.84480445e-02 -2.35565829e-01 -5.81331580e-01\n",
      " -1.02562569e+00 -1.58833403e+00 -2.29297631e+00 -3.16732399e+00\n",
      " -4.24412553e+00 -5.56195562e+00 -7.16620841e+00 -9.11025794e+00\n",
      " -1.14568133e+01 -1.42795010e+01 -1.76647107e+01 -2.17137495e+01\n",
      " -2.65453544e+01 -3.22986234e+01 -3.91364321e+01 -4.72494184e+01\n",
      " -5.68606279e+01 -6.82309280e+01 -8.16653192e+01 -9.75202897e+01\n",
      " -1.16212386e+02 -1.38228200e+02 -1.64136002e+02 -1.94599299e+02\n",
      " -2.30392622e+02 -2.72419922e+02 -3.21735990e+02 -3.79571413e+02\n",
      " -4.47361630e+02 -5.26780776e+02 -6.19781086e+02 -7.28638786e+02\n",
      " -8.56007522e+02 -1.00498057e+03 -1.17916326e+03 -1.38275731e+03\n",
      " -1.62065900e+03 -1.89857341e+03 -2.22314752e+03 -2.60212498e+03\n",
      " -3.04452645e+03 -3.56085930e+03 -4.16336186e+03 -4.86628756e+03\n",
      " -5.68623571e+03 -6.64253630e+03 -7.75769795e+03 -9.05792901e+03\n",
      " -1.05737439e+04 -1.23406688e+04 -1.44000617e+04 -1.68000680e+04\n",
      " -1.95967302e+04 -2.28552796e+04 -2.66516377e+04 -3.10741623e+04\n",
      " -3.62256770e+04 -4.22258296e+04 -4.92138329e+04 -5.73516476e+04\n",
      " -6.68276788e+04 -7.78610663e+04 -9.07066617e+04 -1.05660800e+05\n",
      " -1.23067985e+05 -1.43328633e+05 -1.66908028e+05 -1.94346662e+05\n",
      " -2.26272177e+05 -2.63413104e+05 -3.06614665e+05 -3.56856885e+05\n",
      " -4.15275301e+05 -4.83184538e+05 -5.62105059e+05 -6.53793327e+05\n",
      " -7.60275616e+05 -8.83885622e+05 -1.02730592e+06 -1.19361317e+06\n",
      " -1.38632678e+06 -1.60946052e+06 -1.86757633e+06 -2.16583933e+06\n",
      " -2.51007273e+06 -2.90681145e+06 -3.36335297e+06 -3.88780437e+06\n",
      " -4.48912479e+06 -5.17716335e+06 -5.96269291e+06 -6.85744158e+06\n",
      " -7.87412385e+06 -9.02647468e+06 -1.03292896e+07 -1.17984745e+07\n",
      " -1.34511081e+07 -1.53055202e+07 -1.73813881e+07 -1.96998526e+07\n",
      " -2.22836546e+07 -2.51572937e+07 -2.83472094e+07 -3.18819830e+07\n",
      " -3.57925644e+07 -4.01125207e+07 -4.48783089e+07 -5.01295744e+07\n",
      " -5.59094749e+07 -6.22650329e+07 -6.92475182e+07 -7.69128634e+07\n",
      " -8.53221140e+07 -9.45419186e+07 -1.04645060e+08 -1.15711035e+08\n",
      " -1.27826680e+08 -1.41086862e+08 -1.55595219e+08 -1.71464975e+08\n",
      " -1.88819827e+08 -2.07794912e+08 -2.28537857e+08 -2.51209937e+08\n",
      " -2.75987324e+08 -3.03062458e+08 -3.32645546e+08 -3.64966193e+08\n",
      " -4.00275185e+08 -4.38846434e+08 -4.80979107e+08 -5.26999943e+08\n",
      " -5.77265790e+08 -6.32166369e+08 -6.92127302e+08 -7.57613402e+08\n",
      " -8.29132288e+08 -9.07238308e+08 -9.92536847e+08 -1.08568901e+09\n",
      " -1.18741675e+09 -1.29850847e+09 -1.41982511e+09 -1.55230684e+09\n",
      " -1.69698037e+09 -1.85496684e+09 -2.02749055e+09 -2.21588847e+09\n",
      " -2.42162055e+09 -2.64628106e+09 -2.89161096e+09 -3.15951136e+09\n",
      " -3.45205825e+09 -3.77151863e+09 -4.12036804e+09 -4.50130975e+09\n",
      " -4.91729570e+09 -5.37154940e+09 -5.86759090e+09 -6.40926405e+09\n",
      " -7.00076629e+09 -7.64668120e+09 -8.35201399e+09 -9.12223031e+09\n",
      " -9.96329858e+09 -1.08817363e+10 -1.18846603e+10 -1.29798425e+10\n",
      " -1.41757693e+10 -1.54817079e+10 -1.69077782e+10 -1.84650308e+10\n",
      " -2.01655327e+10 -2.20224613e+10 -2.40502058e+10 -2.62644793e+10\n",
      " -2.86824401e+10 -3.13228251e+10 -3.42060946e+10 -3.73545910e+10\n",
      " -4.07927121e+10 -4.45470999e+10 -4.86468470e+10 -5.31237225e+10\n",
      " -5.80124177e+10 -6.33508151e+10 -6.91802819e+10 -7.55459906e+10]\n"
     ]
    }
   ],
   "source": [
    "print(H)"
   ]
  },
  {
   "cell_type": "markdown",
   "id": "dd4a5a49",
   "metadata": {},
   "source": [
    "# Modification: \n",
    "### redefine beta to depend on mask compliance rate and mask effectiveness rate"
   ]
  },
  {
   "cell_type": "code",
   "execution_count": null,
   "id": "8eb78a70",
   "metadata": {},
   "outputs": [],
   "source": [
    "# set parameter values\n",
    "def c_m(t): return np.piecewise(t, [t>=0], [0.4])\n",
    "def epsilon_m(t): return np.piecewise(t, [t>=0], [0.4])\n",
    "def beta(t): return np.piecewise(t, [t>=0], [0.4])\n",
    "def r_EI(t): return np.piecewise(t, [t>=0], [0.2])\n",
    "def p_EI(t): return np.piecewise(t, [t>=0], [1]) ## not sure if this is necessary?? not in the model.\n",
    "def r_IR(t): return np.piecewise(t, [t>=0], [0.07])\n",
    "def p_IR(t): return np.piecewise(t, [t>=0], [0.8])\n",
    "def r_IH(t): return np.piecewise(t, [t>=0], [0.1])\n",
    "def p_IH(t): return np.piecewise(t, [t>=0], [0.2])\n",
    "def r_HR(t): return np.piecewise(t, [t>=0], [0.1])\n",
    "def p_HR(t): return np.piecewise(t, [t>=0], [0.88])\n",
    "def r_HD(t): return np.piecewise(t, [t>=0], [0.1])\n",
    "def p_HD(t): return np.piecewise(t, [t>=0], [0.12])\n",
    "N = 19340000\n",
    "\n",
    "\n",
    "# set initial conditions\n",
    "N0 = N\n",
    "I0 = 4 # fill in with data\n",
    "D0 = 0 # fill in with data\n",
    "R0 = 0 # fill in with data\n",
    "H0 = I0/10 # fill in with data\n",
    "E0 = I0/4 \n",
    "S0 = N - E0 - I0 - R0 - H0 - D0\n",
    "y0 = S0, E0, I0, H0, R0, D0 # Initial conditions vector\n",
    "\n",
    "# set simulation parameters\n",
    "## \n",
    "dt = .5\n",
    "tstart = 0\n",
    "tend = 200\n",
    "tvect = np.arange(tstart, tend, dt) \n",
    "\n",
    "# solve odes\n",
    "sim = odeint(SEIHRD_model, y0, tvect, args=(beta, r_EI, p_EI, r_IR, p_IR, r_IH, p_IH, r_HR, p_HR, r_HD, p_HD, N))\n",
    "S, E, I, H, R, D = sim.T\n",
    "\n",
    "# plot results\n",
    "plotSEIHRD(tvect, S, E, I, H, R, D)"
   ]
  },
  {
   "cell_type": "code",
   "execution_count": 40,
   "id": "1b03e0a0",
   "metadata": {},
   "outputs": [],
   "source": [
    "# ## derivatives\n",
    "# ## finite difference second derivative: [f(x+h)+f(x-h)-2f(x)]/h^2\n",
    "\n",
    "# def first_derivative(var, timestep):\n",
    "#     return [(var[i+1]-var[i])/(timestep) for i in range(len(var)-1)]\n",
    "\n",
    "# def second_derivative(var, timestep):\n",
    "#     return [(var[i+1]+var[i-1]-2*var[i])/(timestep**2) for i in range(len(var)-1)]\n",
    "\n",
    "\n"
   ]
  },
  {
   "cell_type": "code",
   "execution_count": 38,
   "id": "f48e8ffb",
   "metadata": {},
   "outputs": [],
   "source": [
    "# variable_list = [S,I,D,A,R,T,H,E]\n",
    "\n",
    "# for var in variable_list:\n",
    "#     firstderivative = first_derivative(var, dt)\n",
    "#     secondderivative = second_derivative(var, dt)\n",
    "#     print([d > 0 for d in secondderivative])\n",
    "#     print('')"
   ]
  },
  {
   "cell_type": "code",
   "execution_count": 39,
   "id": "86a099cb",
   "metadata": {},
   "outputs": [],
   "source": [
    "# print([d > 0 for d in first_derivative(S,dt)])"
   ]
  },
  {
   "cell_type": "code",
   "execution_count": 41,
   "id": "12c1a0ac",
   "metadata": {},
   "outputs": [],
   "source": [
    "### manual computation example\n",
    "# S_first_derivative = [(S[i+1]-S[i])/(dt) for i in range(len(S)-1)]\n",
    "# print(max(np.abs(S_first_derivative)))\n",
    "# print(min(S_first_derivative),max(S_first_derivative))\n",
    "\n",
    "# S_second_derivative = [(S[i+1]+S[i-1]-2*S[i])/(dt)**2 for i in range(len(S)-1)]\n",
    "# print(max(np.abs(S_second_derivative)))\n",
    "# print(min(S_second_derivative),max(S_second_derivative))\n"
   ]
  },
  {
   "cell_type": "code",
   "execution_count": null,
   "id": "5fa77784",
   "metadata": {},
   "outputs": [],
   "source": []
  },
  {
   "cell_type": "code",
   "execution_count": null,
   "id": "ca7da4b5",
   "metadata": {},
   "outputs": [],
   "source": []
  },
  {
   "cell_type": "code",
   "execution_count": null,
   "id": "6a2a9fea",
   "metadata": {},
   "outputs": [],
   "source": []
  }
 ],
 "metadata": {
  "kernelspec": {
   "display_name": "Python 3 (ipykernel)",
   "language": "python",
   "name": "python3"
  },
  "language_info": {
   "codemirror_mode": {
    "name": "ipython",
    "version": 3
   },
   "file_extension": ".py",
   "mimetype": "text/x-python",
   "name": "python",
   "nbconvert_exporter": "python",
   "pygments_lexer": "ipython3",
   "version": "3.9.12"
  },
  "toc": {
   "base_numbering": 1,
   "nav_menu": {},
   "number_sections": true,
   "sideBar": true,
   "skip_h1_title": false,
   "title_cell": "Table of Contents",
   "title_sidebar": "Contents",
   "toc_cell": false,
   "toc_position": {
    "height": "calc(100% - 180px)",
    "left": "10px",
    "top": "150px",
    "width": "304.475px"
   },
   "toc_section_display": true,
   "toc_window_display": true
  },
  "varInspector": {
   "cols": {
    "lenName": 16,
    "lenType": 16,
    "lenVar": 40
   },
   "kernels_config": {
    "python": {
     "delete_cmd_postfix": "",
     "delete_cmd_prefix": "del ",
     "library": "var_list.py",
     "varRefreshCmd": "print(var_dic_list())"
    },
    "r": {
     "delete_cmd_postfix": ") ",
     "delete_cmd_prefix": "rm(",
     "library": "var_list.r",
     "varRefreshCmd": "cat(var_dic_list()) "
    }
   },
   "types_to_exclude": [
    "module",
    "function",
    "builtin_function_or_method",
    "instance",
    "_Feature"
   ],
   "window_display": false
  },
  "vscode": {
   "interpreter": {
    "hash": "f70904c00f3e5db7ed77335922286f33ced945fd1de3c4e0e8e3be9be772bce3"
   }
  }
 },
 "nbformat": 4,
 "nbformat_minor": 5
}
