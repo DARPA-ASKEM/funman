{
 "cells": [
  {
   "cell_type": "code",
   "execution_count": 45,
   "id": "f8e1ffcc",
   "metadata": {},
   "outputs": [],
   "source": [
    "## imports\n",
    "import matplotlib.pyplot as plt\n",
    "from matplotlib.lines import Line2D\n",
    "import numpy as np"
   ]
  },
  {
   "cell_type": "code",
   "execution_count": null,
   "id": "631c2aaa",
   "metadata": {},
   "outputs": [],
   "source": [
    "\n"
   ]
  },
  {
   "cell_type": "code",
   "execution_count": 36,
   "id": "4dddc865",
   "metadata": {},
   "outputs": [],
   "source": []
  },
  {
   "cell_type": "code",
   "execution_count": 3,
   "id": "6f48a00e",
   "metadata": {},
   "outputs": [],
   "source": [
    "## short example of marginalization. this uses intervals but needs to be changed to boxes.\n",
    "\n",
    "## basic 2d box plotting function\n",
    "\n",
    "def plot2DBox(box, color=\"b\",alpha=0.2):\n",
    "    x_limits = [box[0][0],box[0][1]]\n",
    "    y_limits = [box[1][0],box[1][1]]\n",
    "    x = np.linspace(x_limits[0], x_limits[1], 1000)\n",
    "    plt.fill_between(x, y_limits[0], y_limits[1], color=color, alpha=alpha)\n"
   ]
  },
  {
   "cell_type": "code",
   "execution_count": 64,
   "id": "bf9e7c0a",
   "metadata": {},
   "outputs": [
    {
     "data": {
      "image/png": "[encoded data removed]",
      "text/plain": [
       "<Figure size 432x288 with 1 Axes>"
      ]
     },
     "metadata": {
      "needs_background": "light"
     },
     "output_type": "display_data"
    }
   ],
   "source": [
    "box_1 = [[0.5,2], [0,1]]\n",
    "box_2 = [[0,1], [4,6]]\n",
    "box_3 = [[0.5,1.5], [3,5]]\n",
    "plot2DBox(box_2)\n",
    "plot2DBox(box_3)\n",
    "##plot2DBox(box_3)"
   ]
  },
  {
   "cell_type": "code",
   "execution_count": 74,
   "id": "2c4ca3c0",
   "metadata": {},
   "outputs": [],
   "source": [
    "def union_two_intervals(i1,i2):\n",
    "    #intersection = intersect_two_intervals(i1,i2)\n",
    "    if lt(i1[0], i2[0]):\n",
    "        minInterval = i1\n",
    "        maxInterval = i2\n",
    "    else:\n",
    "        minInterval = i2\n",
    "        maxInterval = i1\n",
    "    if gte(minInterval[1],maxInterval[0]): ## intervals touch at one point. \n",
    "        ans = [[minInterval[0], maxInterval[1]]] \n",
    "        return ans\n",
    "    elif lt(minInterval[1], maxInterval[0]): ## intervals are disjoint.\n",
    "        ans = [minInterval, maxInterval]\n",
    "        return ans\n",
    "            "
   ]
  },
  {
   "cell_type": "code",
   "execution_count": 77,
   "id": "285ec0d7",
   "metadata": {},
   "outputs": [
    {
     "name": "stdout",
     "output_type": "stream",
     "text": [
      "[[2, 4], [5, 6]]\n",
      "[[1, 4]]\n",
      "[[1, 4]]\n"
     ]
    }
   ],
   "source": [
    "### interval example 1: disjoint\n",
    "interval1 = [2,4]\n",
    "interval2 = [5,6]\n",
    "print(union_two_intervals(interval1,interval2))\n",
    "\n",
    "### interval example 2: contact at one point\n",
    "interval1 = [3,4]\n",
    "interval2 = [1,3]\n",
    "print(union_two_intervals(interval1,interval2))\n",
    "\n",
    "### interval example 3: more than 1 point overlap\n",
    "interval1 = [1,3]\n",
    "interval2 = [2,4]\n",
    "print(union_two_intervals(interval1,interval2))"
   ]
  },
  {
   "cell_type": "code",
   "execution_count": 65,
   "id": "d951c816",
   "metadata": {},
   "outputs": [],
   "source": [
    "def union_two_boxes(b1,b2):\n",
    "    ## check for intersecting x-bounds\n",
    "    ## if there is an intersection:\n",
    "    x_intersection = (intersect_two_intervals(b1[0], b2[0]))\n",
    "    if x_intersection != []:\n",
    "        total_width = x_intersection[1] - x_intersection[0]\n",
    "        bounds = x_intersection\n",
    "        print(bounds)\n",
    "    y_intersection = (intersect_two_intervals(b1[1], b2[1]))\n",
    "    ## no y intersection\n",
    "    if y_intersection == []: \n",
    "        height_b1 = b1[1][1] - b1[1][0]\n",
    "        height_b2 = b2[1][1] - b2[1][0]\n",
    "        total_height = (height_b1 + height_b2)\n",
    "    ## nontrivial y intersection: calculate\n",
    "    else:\n",
    "        total_height = y_intersection[1] - y_intersection[0]\n",
    "    return total_width, total_height    "
   ]
  },
  {
   "cell_type": "code",
   "execution_count": 66,
   "id": "69b8af05",
   "metadata": {},
   "outputs": [
    {
     "name": "stdout",
     "output_type": "stream",
     "text": [
      "[0.5, 1]\n"
     ]
    },
    {
     "data": {
      "image/png": "[encoded data removed]",
      "text/plain": [
       "<Figure size 432x288 with 1 Axes>"
      ]
     },
     "metadata": {
      "needs_background": "light"
     },
     "output_type": "display_data"
    },
    {
     "data": {
      "image/png": "[encoded data removed]",
      "text/plain": [
       "<Figure size 432x288 with 1 Axes>"
      ]
     },
     "metadata": {
      "needs_background": "light"
     },
     "output_type": "display_data"
    }
   ],
   "source": [
    "a = union_two_boxes(box_2, box_3)\n",
    "plot2DBox(box_2)\n",
    "plot2DBox(box_3)\n",
    "plt.show()\n",
    "plot2DBox([[0,0+a[0]],[0,0+a[1]]]) ## change x coordinate to be x bounds"
   ]
  },
  {
   "cell_type": "code",
   "execution_count": 40,
   "id": "94de7f1c",
   "metadata": {},
   "outputs": [],
   "source": []
  },
  {
   "cell_type": "code",
   "execution_count": null,
   "id": "fbc47802",
   "metadata": {},
   "outputs": [],
   "source": []
  }
 ],
 "metadata": {
  "kernelspec": {
   "display_name": "Python 3 (ipykernel)",
   "language": "python",
   "name": "python3"
  },
  "language_info": {
   "codemirror_mode": {
    "name": "ipython",
    "version": 3
   },
   "file_extension": ".py",
   "mimetype": "text/x-python",
   "name": "python",
   "nbconvert_exporter": "python",
   "pygments_lexer": "ipython3",
   "version": "3.9.12"
  }
 },
 "nbformat": 4,
 "nbformat_minor": 5
}
