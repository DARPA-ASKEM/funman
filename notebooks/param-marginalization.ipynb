{
 "cells": [
  {
   "cell_type": "code",
   "execution_count": 43,
   "id": "f8e1ffcc",
   "metadata": {},
   "outputs": [],
   "source": [
    "## imports\n",
    "import matplotlib.pyplot as plt\n",
    "from matplotlib.lines import Line2D\n",
    "import numpy as np"
   ]
  },
  {
   "cell_type": "code",
   "execution_count": 44,
   "id": "73d7191b",
   "metadata": {},
   "outputs": [],
   "source": [
    "## math utils functions\n",
    "\n",
    "# lhs < rhs\n",
    "def lt(lhs, rhs):\n",
    "    # inf < ?\n",
    "    if lhs == POS_INFINITY:\n",
    "        return False\n",
    "\n",
    "    # ? < -inf\n",
    "    if rhs == NEG_INFINITY:\n",
    "        return False\n",
    "\n",
    "    # -inf < ?\n",
    "    if lhs == NEG_INFINITY:\n",
    "        # -inf < (> -int)\n",
    "        return True\n",
    "\n",
    "    # ? < inf\n",
    "    if rhs == POS_INFINITY:\n",
    "        # (< inf) < inf\n",
    "        return True\n",
    "\n",
    "    # there is no case where\n",
    "    # - lhs = POS_INFINITY\n",
    "    # - lhs = NEG_INFINITY\n",
    "    # - rhs = POS_INFINITY\n",
    "    # - rhs = NEG_INFINITY\n",
    "    # so just use the float check\n",
    "    return lhs < rhs\n",
    "\n",
    "# lhs > rhs\n",
    "def gt(lhs, rhs):\n",
    "    # ? > inf\n",
    "    if rhs == POS_INFINITY:\n",
    "        return False\n",
    "\n",
    "    # -inf > ?\n",
    "    if lhs == NEG_INFINITY:\n",
    "        return False\n",
    "\n",
    "    # ? > -inf\n",
    "    if rhs == NEG_INFINITY:\n",
    "        # (> -int) > -inf\n",
    "        return True\n",
    "\n",
    "    # inf > ?\n",
    "    if lhs == POS_INFINITY:\n",
    "        # inf > (< inf)\n",
    "        return True\n",
    "\n",
    "    # there is no case where\n",
    "    # - lhs = POS_INFINITY\n",
    "    # - lhs = NEG_INFINITY\n",
    "    # - rhs = POS_INFINITY\n",
    "    # - rhs = NEG_INFINITY\n",
    "    # so just use the float check\n",
    "    return lhs > rhs\n",
    "\n",
    "# lhs >= rhs\n",
    "def gte(lhs, rhs):\n",
    "    return not lt(lhs, rhs)\n",
    "\n",
    "# lhs <= rhs\n",
    "def lte(lhs, rhs):\n",
    "    return not gt(lhs, rhs)\n"
   ]
  },
  {
   "cell_type": "code",
   "execution_count": 36,
   "id": "4dddc865",
   "metadata": {},
   "outputs": [],
   "source": [
    "def intersect_two_intervals(a,b):\n",
    "    \"\"\"Given 2 intervals a = [a0,a1] and b=[b0,b1], check whether they intersect.  If they do, return their intersection.\"\"\"\n",
    "    if a[0] <= b[0]:\n",
    "        minArray = a\n",
    "        maxArray = b\n",
    "    else:\n",
    "        minArray = b\n",
    "        maxArray = a\n",
    "    if minArray[1] > maxArray[0]: ## has nonempty intersection. return intersection\n",
    "        return [maxArray[0], minArray[1]]\n",
    "    else: ## no intersection.\n",
    "        return []\n",
    "\n",
    "    \n",
    "def intersect_two_boxes(a,b):\n",
    "    result = []\n",
    "    d = len(a) ## dimension\n",
    "    for i in range(d):\n",
    "        subresult = intersect_two_1d_boxes(a[i],b[i])\n",
    "        if subresult == []:\n",
    "            return None\n",
    "        else:\n",
    "            result.append(subresult)\n",
    "    return result\n",
    "\n",
    "def intersect_two_param_spaces(ps1, ps2):\n",
    "    results_list = []\n",
    "    for box1 in ps1:\n",
    "        for box2 in ps2:\n",
    "            subresult = intersect_two_boxes(box1, box2)\n",
    "            if subresult != None:\n",
    "                results_list.append(subresult)\n",
    "    return results_list"
   ]
  },
  {
   "cell_type": "code",
   "execution_count": 3,
   "id": "6f48a00e",
   "metadata": {},
   "outputs": [],
   "source": [
    "## short example of marginalization. this uses intervals but needs to be changed to boxes.\n",
    "\n",
    "## basic 2d box plotting function\n",
    "\n",
    "def plot2DBox(box, color=\"b\",alpha=0.2):\n",
    "    x_limits = [box[0][0],box[0][1]]\n",
    "    y_limits = [box[1][0],box[1][1]]\n",
    "    x = np.linspace(x_limits[0], x_limits[1], 1000)\n",
    "    plt.fill_between(x, y_limits[0], y_limits[1], color=color, alpha=alpha)\n"
   ]
  },
  {
   "cell_type": "code",
   "execution_count": 9,
   "id": "bf9e7c0a",
   "metadata": {},
   "outputs": [
    {
     "data": {
      "image/png": "[encoded data removed]",
      "text/plain": [
       "<Figure size 432x288 with 1 Axes>"
      ]
     },
     "metadata": {
      "needs_background": "light"
     },
     "output_type": "display_data"
    }
   ],
   "source": [
    "box_1 = [[0.5,2], [0,1]]\n",
    "box_2 = [[0,1], [2,4]]\n",
    "box_3 = [[3,4], [2,4]]\n",
    "plot2DBox(box_1)\n",
    "plot2DBox(box_2)\n",
    "##plot2DBox(box_3)"
   ]
  },
  {
   "cell_type": "code",
   "execution_count": 31,
   "id": "d951c816",
   "metadata": {},
   "outputs": [],
   "source": [
    "def union_two_boxes(b1,b2):\n",
    "    ## check for intersecting x-bounds\n",
    "    ## if there is an intersection:\n",
    "    x_intersection = (intersect_two_intervals(b1[0], b2[0]))\n",
    "    if x_intersection != []:\n",
    "        total_width = x_intersection[1] - x_intersection[0]\n",
    "    y_intersection = (intersect_two_intervals(b1[1], b2[1]))\n",
    "    if y_intersection == []:\n",
    "        ## get the height of the disjoint region\n",
    "        height_b1 = b1[1][1] - b1[1][0]\n",
    "        height_b2 = b2[1][1] - b2[1][0]\n",
    "        total_height = (height_b1 + height_b2)\n",
    "    return total_width, total_height\n",
    "    \n",
    "    "
   ]
  },
  {
   "cell_type": "code",
   "execution_count": 32,
   "id": "69b8af05",
   "metadata": {},
   "outputs": [
    {
     "name": "stdout",
     "output_type": "stream",
     "text": [
      "[]\n"
     ]
    },
    {
     "data": {
      "text/plain": [
       "(0.5, 3)"
      ]
     },
     "execution_count": 32,
     "metadata": {},
     "output_type": "execute_result"
    }
   ],
   "source": [
    "union_two_boxes(box_1, box_2)"
   ]
  },
  {
   "cell_type": "code",
   "execution_count": 40,
   "id": "94de7f1c",
   "metadata": {},
   "outputs": [],
   "source": [
    "### 3d examples\n",
    "\n",
    "box13d = [[0,1],[0,1],[0,1]]\n",
    "box23d = [[2,3],[2,3],[2,3]]\n",
    "intersect_two_boxes(box23d,box13d)"
   ]
  },
  {
   "cell_type": "code",
   "execution_count": null,
   "id": "fd379229",
   "metadata": {},
   "outputs": [],
   "source": []
  }
 ],
 "metadata": {
  "kernelspec": {
   "display_name": "Python 3 (ipykernel)",
   "language": "python",
   "name": "python3"
  },
  "language_info": {
   "codemirror_mode": {
    "name": "ipython",
    "version": 3
   },
   "file_extension": ".py",
   "mimetype": "text/x-python",
   "name": "python",
   "nbconvert_exporter": "python",
   "pygments_lexer": "ipython3",
   "version": "3.9.12"
  }
 },
 "nbformat": 4,
 "nbformat_minor": 5
}
