{
 "cells": [
  {
   "cell_type": "code",
   "execution_count": 11,
   "metadata": {},
   "outputs": [],
   "source": [
    "# This notebook illustrates example outputs from Funman, and how to work with the ParameterSpace object it creates.\n",
    "\n",
    "# Import funman related code\n",
    "\n",
    "from pathlib import Path\n",
    "from funman import FunmanResults\n",
    "import json\n",
    "from funman import Point, Box, Parameter\n",
    "from typing import List, Dict\n",
    "\n",
    "# %load_ext autoreload\n",
    "# %autoreload 2"
   ]
  },
  {
   "cell_type": "code",
   "execution_count": 9,
   "metadata": {},
   "outputs": [
    {
     "name": "stdout",
     "output_type": "stream",
     "text": [
      "Model has the symbols: ['Susceptible', 'Diagnosed', 'Infected', 'Ailing', 'Recognized', 'Healed', 'Threatened', 'Extinct', 'beta', 'gamma', 'delta', 'alpha', 'epsilon', 'zeta', 'lambda', 'eta', 'rho', 'theta', 'kappa', 'mu', 'nu', 'xi', 'tau', 'sigma', 't']\n"
     ]
    }
   ],
   "source": [
    "SAVED_RESULTS_DIR = Path(\"saved-results\").resolve()\n",
    "SAVED_RESULT_FILES = [\n",
    "    \"d6f61dc8-79a8-44e0-8b9c-f7abc79b45d8.json\"\n",
    "]\n",
    "SAVED_RESULT_TO_USE = SAVED_RESULTS_DIR / SAVED_RESULT_FILES[0]\n",
    "\n",
    "with open(SAVED_RESULT_TO_USE, \"r\") as f:\n",
    "    # Create a FunmanResults object\n",
    "    results: FunmanResults = FunmanResults.model_validate(json.load(f))\n",
    "\n",
    "print(f\"Model has the symbols: {results.model._symbols()}\")"
   ]
  },
  {
   "cell_type": "code",
   "execution_count": 10,
   "metadata": {},
   "outputs": [
    {
     "data": {
      "text/plain": [
       "<Axes: title={'center': 'Point Trajectories'}, xlabel='Time', ylabel='Infected'>"
      ]
     },
     "execution_count": 10,
     "metadata": {},
     "output_type": "execute_result"
    },
    {
     "data": {
      "image/png": "[encoded data removed]",
      "text/plain": [
       "<Figure size 800x600 with 1 Axes>"
      ]
     },
     "metadata": {},
     "output_type": "display_data"
    }
   ],
   "source": [
    "# Plot the trajectories for each point in the ParameterSpace\n",
    "\n",
    "results.plot(variables=[\"Infected\"], label_marker={\"true\":\",\", \"false\": \",\"},  xlabel=\"Time\", ylabel=\"Infected\")\n"
   ]
  },
  {
   "cell_type": "code",
   "execution_count": 4,
   "metadata": {},
   "outputs": [
    {
     "name": "stdout",
     "output_type": "stream",
     "text": [
      "37 Points (+:28, -:9), 37 Boxes (+:28, -:9)\n",
      "{beta[0.011, 0.011): 0.011, gamma[0.456, 0.456): 0.456, delta[0.011, 0.011): 0.011, alpha[0.57, 0.57): 0.57, epsilon[0.1368, 0.20520000000000002): 0.1851337291300297, zeta[0.125, 0.125): 0.125, lambda[0.034, 0.034): 0.034, eta[0.125, 0.125): 0.125, rho[0.034, 0.034): 0.034, theta[0.2968, 0.4452): 0.3694555829524995, kappa[0.017, 0.017): 0.017, mu[0.017, 0.017): 0.017, nu[0.027, 0.027): 0.027, xi[0.017, 0.017): 0.017, tau[0.01, 0.01): 0.01, sigma[0.017, 0.017): 0.017}\n",
      "                    Ailing     Diagnosed       Extinct        Healed  \\\n",
      "time                                                                   \n",
      "0.000000e+00  1.666667e-08  3.333333e-07  0.000000e+00  0.000000e+00   \n",
      "3.333333e-09  1.833333e-08  3.033333e-07  3.333333e-09  3.333333e-09   \n",
      "6.666667e-09  2.000000e-08  2.733333e-07  6.666667e-09  6.666667e-09   \n",
      "1.000000e-08  2.166667e-08  2.433333e-07  1.000000e-08  1.000000e-08   \n",
      "1.333333e-08  2.333333e-08  2.133333e-07  1.333333e-08  1.333333e-08   \n",
      "1.666667e-08  2.500000e-08  1.833333e-07  1.666667e-08  1.666667e-08   \n",
      "2.000000e-08  2.666667e-08  1.533333e-07  2.000000e-08  2.000000e-08   \n",
      "2.333333e-08  2.833333e-08  1.233333e-07  2.333333e-08  2.333333e-08   \n",
      "2.666667e-08  3.000000e-08  9.333333e-08  2.666667e-08  2.666667e-08   \n",
      "3.000000e-08  3.166667e-08  6.333333e-08  3.000000e-08  3.000000e-08   \n",
      "3.333333e-08  3.333333e-08  3.333333e-08  3.333333e-08  3.333333e-08   \n",
      "\n",
      "                  Infected    Recognized   Susceptible    Threatened  alpha  \\\n",
      "time                                                                          \n",
      "0.000000e+00  3.333333e-06  3.333333e-08  9.999963e-01  0.000000e+00   0.57   \n",
      "3.333333e-09  3.003333e-06  3.333333e-08  8.999967e-01  3.333333e-09   0.57   \n",
      "6.666667e-09  2.673333e-06  3.333333e-08  7.999970e-01  6.666667e-09   0.57   \n",
      "1.000000e-08  2.343333e-06  3.333333e-08  6.999974e-01  1.000000e-08   0.57   \n",
      "1.333333e-08  2.013333e-06  3.333333e-08  5.999978e-01  1.333333e-08   0.57   \n",
      "1.666667e-08  1.683333e-06  3.333333e-08  4.999982e-01  1.666667e-08   0.57   \n",
      "2.000000e-08  1.353333e-06  3.333333e-08  3.999985e-01  2.000000e-08   0.57   \n",
      "2.333333e-08  1.023333e-06  3.333333e-08  2.999989e-01  2.333333e-08   0.57   \n",
      "2.666667e-08  6.933333e-07  3.333333e-08  1.999993e-01  2.666667e-08   0.57   \n",
      "3.000000e-08  3.633333e-07  3.333333e-08  9.999966e-02  3.000000e-08   0.57   \n",
      "3.333333e-08  3.333333e-08  3.333333e-08  3.333333e-08  3.333333e-08   0.57   \n",
      "\n",
      "               beta  ...  label  lambda     mu     nu    rho  sigma   tau  \\\n",
      "time                 ...                                                    \n",
      "0.000000e+00  0.011  ...  false   0.034  0.017  0.027  0.034  0.017  0.01   \n",
      "3.333333e-09  0.011  ...  false   0.034  0.017  0.027  0.034  0.017  0.01   \n",
      "6.666667e-09  0.011  ...  false   0.034  0.017  0.027  0.034  0.017  0.01   \n",
      "1.000000e-08  0.011  ...  false   0.034  0.017  0.027  0.034  0.017  0.01   \n",
      "1.333333e-08  0.011  ...  false   0.034  0.017  0.027  0.034  0.017  0.01   \n",
      "1.666667e-08  0.011  ...  false   0.034  0.017  0.027  0.034  0.017  0.01   \n",
      "2.000000e-08  0.011  ...  false   0.034  0.017  0.027  0.034  0.017  0.01   \n",
      "2.333333e-08  0.011  ...  false   0.034  0.017  0.027  0.034  0.017  0.01   \n",
      "2.666667e-08  0.011  ...  false   0.034  0.017  0.027  0.034  0.017  0.01   \n",
      "3.000000e-08  0.011  ...  false   0.034  0.017  0.027  0.034  0.017  0.01   \n",
      "3.333333e-08  0.011  ...  false   0.034  0.017  0.027  0.034  0.017  0.01   \n",
      "\n",
      "                 theta     xi   zeta  \n",
      "time                                  \n",
      "0.000000e+00  0.369456  0.017  0.125  \n",
      "3.333333e-09  0.369456  0.017  0.125  \n",
      "6.666667e-09  0.369456  0.017  0.125  \n",
      "1.000000e-08  0.369456  0.017  0.125  \n",
      "1.333333e-08  0.369456  0.017  0.125  \n",
      "1.666667e-08  0.369456  0.017  0.125  \n",
      "2.000000e-08  0.369456  0.017  0.125  \n",
      "2.333333e-08  0.369456  0.017  0.125  \n",
      "2.666667e-08  0.369456  0.017  0.125  \n",
      "3.000000e-08  0.369456  0.017  0.125  \n",
      "3.333333e-08  0.369456  0.017  0.125  \n",
      "\n",
      "[11 rows x 26 columns]\n"
     ]
    }
   ],
   "source": [
    "# Example uses the result object created by FUNMAN\n",
    "# - Get the points and boxes\n",
    "# - Get the parameters corresponding to a point\n",
    "# - Generate a dataframe with the point timeseries\n",
    "\n",
    "\n",
    "\n",
    "points: List[Point] = results.points()\n",
    "boxes: List[Box] = results.parameter_space.boxes()\n",
    "\n",
    "num_true_points = len(results.parameter_space.true_points())\n",
    "num_false_points = len(results.parameter_space.false_points())\n",
    "num_true_boxes = len(results.parameter_space.true_boxes)\n",
    "num_false_boxes = len(results.parameter_space.false_boxes)\n",
    "\n",
    "print(\n",
    "    f\"{len(points)} Points (+:{num_true_points}, -:{num_false_points}), {len(boxes)} Boxes (+:{num_true_boxes}, -:{num_true_boxes})\"\n",
    ")\n",
    "if points and len(points) > 0:\n",
    "    point: Point = points[-1]\n",
    "    parameters: Dict[Parameter, float] = results.point_parameters(point)\n",
    "    print(parameters)\n",
    "    print(results.dataframe([point]))\n",
    "else:\n",
    "    # if there are no points, then we have a box that we found without needing points\n",
    "\n",
    "    box = boxes[0]\n",
    "    print(json.dumps(box.explain(), indent=4))"
   ]
  },
  {
   "cell_type": "code",
   "execution_count": 5,
   "metadata": {},
   "outputs": [
    {
     "data": {
      "text/plain": [
       "[]"
      ]
     },
     "execution_count": 5,
     "metadata": {},
     "output_type": "execute_result"
    }
   ],
   "source": [
    "# Get the corner points of a box\n",
    "\n",
    "results.parameter_space.false_boxes[0].corner_points"
   ]
  },
  {
   "cell_type": "code",
   "execution_count": 6,
   "metadata": {},
   "outputs": [
    {
     "ename": "TypeError",
     "evalue": "'method' object is not subscriptable",
     "output_type": "error",
     "traceback": [
      "\u001b[0;31m---------------------------------------------------------------------------\u001b[0m",
      "\u001b[0;31mTypeError\u001b[0m                                 Traceback (most recent call last)",
      "\u001b[1;32m/home/danbryce/funman/notebooks/funman_results.ipynb Cell 6\u001b[0m line \u001b[0;36m3\n\u001b[1;32m      <a href='vscode-notebook-cell://attached-container%2B7b22636f6e7461696e65724e616d65223a222f66756e6d616e2d646576222c2273657474696e6773223a7b22636f6e74657874223a226465736b746f702d6c696e7578227d7d/home/danbryce/funman/notebooks/funman_results.ipynb#W5sdnNjb2RlLXJlbW90ZQ%3D%3D?line=0'>1</a>\u001b[0m \u001b[39m# Get the state varibles and parameters from a point (used by the dataframe timeseries function above)\u001b[39;00m\n\u001b[0;32m----> <a href='vscode-notebook-cell://attached-container%2B7b22636f6e7461696e65724e616d65223a222f66756e6d616e2d646576222c2273657474696e6773223a7b22636f6e74657874223a226465736b746f702d6c696e7578227d7d/home/danbryce/funman/notebooks/funman_results.ipynb#W5sdnNjb2RlLXJlbW90ZQ%3D%3D?line=2'>3</a>\u001b[0m results\u001b[39m.\u001b[39;49mparameter_space\u001b[39m.\u001b[39;49mtrue_points[\u001b[39m0\u001b[39;49m]\u001b[39m.\u001b[39mvalues\n",
      "\u001b[0;31mTypeError\u001b[0m: 'method' object is not subscriptable"
     ]
    }
   ],
   "source": [
    "# Get the state varibles and parameters from a point (used by the dataframe timeseries function above)\n",
    "\n",
    "results.parameter_space.true_points[0].values"
   ]
  },
  {
   "cell_type": "code",
   "execution_count": null,
   "metadata": {},
   "outputs": [],
   "source": [
    "# Plot the parameter space\n",
    "\n",
    "from funman_demo.parameter_space_plotter import ParameterSpacePlotter\n",
    "ParameterSpacePlotter(\n",
    "        results.parameter_space, plot_points=True, parameters=[\"beta\", \"gamma\", \"timestep\"]\n",
    "    ).plot(show=False)"
   ]
  },
  {
   "cell_type": "code",
   "execution_count": null,
   "metadata": {},
   "outputs": [],
   "source": [
    "# Plot the timeseries for each point in the parameter space for the selected variables\n",
    "\n",
    "results.plot(variables=[\"I\"], label_marker={\"true\":\",\", \"false\": \",\"})"
   ]
  },
  {
   "cell_type": "code",
   "execution_count": null,
   "metadata": {},
   "outputs": [],
   "source": [
    "# Plot the points from a saved result file.\n",
    "\n",
    "from funman.server.query import FunmanResults\n",
    "import json\n",
    "\n",
    "# %load_ext autoreload\n",
    "# %autoreload 2\n",
    "with open(\"out/f13f5edb-41ba-4a70-bcc6-0bb9881ce71c.json\", \"r\") as f:\n",
    "    results = FunmanResults.model_validate(json.load(f))\n",
    "    results.plot(variables=[\"I\"], label_marker={\"true\":\",\", \"false\": \",\"})"
   ]
  },
  {
   "cell_type": "code",
   "execution_count": null,
   "metadata": {},
   "outputs": [],
   "source": [
    "print(results.parameter_space.false_boxes[1].explain(  ))\n",
    "results.plot(points=results.parameter_space.false_boxes[1].corner_points, variables=[\"I\"], label_marker={\"true\":\",\", \"false\": \",\"})"
   ]
  }
 ],
 "metadata": {
  "kernelspec": {
   "display_name": "funman_venv",
   "language": "python",
   "name": "python3"
  },
  "language_info": {
   "codemirror_mode": {
    "name": "ipython",
    "version": 3
   },
   "file_extension": ".py",
   "mimetype": "text/x-python",
   "name": "python",
   "nbconvert_exporter": "python",
   "pygments_lexer": "ipython3",
   "version": "3.8.10"
  },
  "orig_nbformat": 4
 },
 "nbformat": 4,
 "nbformat_minor": 2
}
