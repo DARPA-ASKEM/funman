{
 "cells": [
  {
   "cell_type": "code",
   "execution_count": 1,
   "metadata": {},
   "outputs": [],
   "source": [
    "%load_ext autoreload\n",
    "%autoreload 2\n",
    "from funman_demo.example.demo120822 import Scenario1, Scenario2\n",
    "from IPython.display import Markdown as md"
   ]
  },
  {
   "cell_type": "markdown",
   "metadata": {},
   "source": [
    "# Scenario 1\n",
    "0. No Intervention\n",
    "1. Intervene at day 1, 0.05 reduction in transmissibility\n",
    "2. Intervene at day 30, X reduction in transmissibility\n"
   ]
  },
  {
   "cell_type": "code",
   "execution_count": 3,
   "metadata": {},
   "outputs": [
    {
     "data": {
      "text/markdown": [
       "# Bilayer and Measurement Model\n",
       "SIR Bilayer (left), Hospitalized Measurement (right)\n",
       "\n",
       "![](SIR+H_bilayer.png) ![](SIR+H_measurement.png)\n",
       "# Initial State (population 10000)\n",
       "- ## R: 1\n",
       "- ## S: 9998\n",
       "- ## I: 1\n",
       "# Parameter Bounds\n",
       "- ## beta: [6.7e-05, 6.7e-05]\n",
       "- ## gamma: [0.07142857142857142, 0.07142857142857142]\n",
       "- ## hr: [0.01, 0.01]\n",
       "# Scenario Configuration\n",
       "- ## step_size: 1\n",
       "- ## query_variable: H\n",
       "- ## query_threshold: 10000\n",
       "- ## duration: 1\n",
       "# Query\n",
       "- ## $\\bigwedge\\limits_{t \\in [0,1]} H_t \\leq10000$\n",
       "\n",
       "# Bilayer and Measurement Model\n",
       "SIR Bilayer (left), Hospitalized Measurement (right)\n",
       "\n",
       "![](SVIIR_bilayer.png) ![](SVIIR_measurement.png)\n",
       "# Initial State (population 10000)\n",
       "- ## V: 1\n",
       "- ## I_v: 1\n",
       "- ## S: 10000\n",
       "- ## I: 1\n",
       "- ## R: 1\n",
       "# Parameter Bounds\n",
       "- ## gamma_1: [0.07142857142857142, 0.07142857142857142]\n",
       "- ## gamma_2: [0.07142857142857142, 0.07142857142857142]\n",
       "- ## v_r: [0.001, 0.001]\n",
       "- ## beta_1: [6.7e-05, 6.7e-05]\n",
       "- ## v_s2: [6.7e-05, 6.7e-05]\n",
       "- ## hr_1: [0.01, 0.01]\n",
       "- ## beta_2: [6.7e-05, 6.7e-05]\n",
       "- ## hr_2: [0.01, 0.01]\n",
       "- ## v_s1: [6.7e-05, 6.7e-05]\n",
       "# Scenario Configuration\n",
       "- ## step_size: 1\n",
       "- ## query_variable: H\n",
       "- ## query_threshold: 10000\n",
       "- ## duration: 1\n",
       "# Query\n",
       "- ## $\\bigwedge\\limits_{t \\in [0,1]} H_t \\leq10000$\n",
       "\n",
       "# Bilayer and Measurement Model\n",
       "SIR Bilayer (left), Hospitalized Measurement (right)\n",
       "\n",
       "![](Bucky_bilayer.png) ![](Bucky_measurement.png)\n",
       "# Initial State (population 10000)\n",
       "- ## I_asym: 1\n",
       "- ## R_hosp: 1\n",
       "- ## S: 10000\n",
       "- ## I_crit: 1\n",
       "- ## E: 100\n",
       "- ## I_mild: 1\n",
       "- ## R: 1\n",
       "- ## D: 0\n",
       "# Parameter Bounds\n",
       "- ## gamma_1: [0.07142857142857142, 0.07142857142857142]\n",
       "- ## gamma_2: [0.07142857142857142, 0.07142857142857142]\n",
       "- ## delta_3: [0.001, 0.001]\n",
       "- ## delta_2: [0.01, 0.01]\n",
       "- ## beta_1: [6.7e-05, 6.7e-05]\n",
       "- ## gamma_h: [0.07142857142857142, 0.07142857142857142]\n",
       "- ## delta_4: [0.0056, 0.0056]\n",
       "- ## beta_2: [6.7e-05, 6.7e-05]\n",
       "- ## theta: [0.03333333333333333, 0.03333333333333333]\n",
       "- ## hr: [1.0, 1.0]\n",
       "- ## sigma: [0.01, 0.01]\n",
       "- ## delta_1: [3.3e-05, 3.3e-05]\n",
       "# Scenario Configuration\n",
       "- ## step_size: 1\n",
       "- ## query_variable: H\n",
       "- ## query_threshold: 10000\n",
       "- ## duration: 1\n",
       "# Query\n",
       "- ## $\\bigwedge\\limits_{t \\in [0,1]} H_t \\leq10000$\n"
      ],
      "text/plain": [
       "<IPython.core.display.Markdown object>"
      ]
     },
     "execution_count": 3,
     "metadata": {},
     "output_type": "execute_result"
    }
   ],
   "source": [
    "# Scenario 1 models\n",
    "scenario1 = Scenario1()\n",
    "models = \"SIR+H\" #scenario1.models[\"intervention1\"]\n",
    "scenario1.to_md(scenario1.models[\"intervention1\"])"
   ]
  },
  {
   "cell_type": "code",
   "execution_count": 108,
   "metadata": {},
   "outputs": [],
   "source": [
    "# Setup \n",
    "\n",
    "duration = 20\n",
    "step_size = 1\n",
    "hospital_capacity = 50 \n",
    "transmissibility_reduction = 0.0\n",
    "\n",
    "\n",
    "# scenario1 = Scenario1(duration=duration, query_threshold=hospital_capacity, step_size=step_size)\n",
    "# results = scenario1.analyze_intervention_1(transmissibility_reduction, models=models)\n",
    "# print(\"\\n\".join([f\"{n}: Maximum Hospital usage: {r['dataframe']['H'].max()}\" for n, r in results.items() if r['dataframe'] is not None]))"
   ]
  },
  {
   "cell_type": "code",
   "execution_count": 109,
   "metadata": {},
   "outputs": [
    {
     "name": "stdout",
     "output_type": "stream",
     "text": [
      "Analyzing Model: SIR+H ...\n",
      "SIR+H: Query Not Satisfied\n",
      "No results to plot ...\n"
     ]
    }
   ],
   "source": [
    "# 0. No intervention. Will H_t <= hospital_capacity forall t?\n",
    "\n",
    "# Create and Evaluate Scenario and Intervention\n",
    "scenario1_i0 = Scenario1(duration=duration, query_threshold=hospital_capacity, step_size=step_size)\n",
    "results1_i0 = scenario1_i0.analyze_intervention_1(transmissibility_reduction, models=models)\n",
    "\n",
    "# Output Results\n",
    "print(\"\\n\".join([r[\"message\"] for n, r in results1_i0.items()]))\n",
    "scenario1_i0.compare_model_results(results1_i0)"
   ]
  },
  {
   "cell_type": "code",
   "execution_count": 110,
   "metadata": {},
   "outputs": [
    {
     "name": "stdout",
     "output_type": "stream",
     "text": [
      "Analyzing Model: SIR+H ...\n"
     ]
    },
    {
     "data": {
      "image/png": "[encoded data removed]",
      "text/plain": [
       "<Figure size 432x288 with 1 Axes>"
      ]
     },
     "metadata": {
      "needs_background": "light"
     },
     "output_type": "display_data"
    },
    {
     "name": "stdout",
     "output_type": "stream",
     "text": [
      "SIR+H: Query Satisfied\n"
     ]
    },
    {
     "data": {
      "image/png": "[encoded data removed]",
      "text/plain": [
       "<Figure size 432x288 with 1 Axes>"
      ]
     },
     "metadata": {
      "needs_background": "light"
     },
     "output_type": "display_data"
    }
   ],
   "source": [
    "# 1. Intervene with 0.05 reduction in transmissibility.  Will H_t <= hospital_capacity forall t?\n",
    "\n",
    "transmissibility_reduction = 0.05\n",
    "\n",
    "# Create and Evaluate Scenario and Intervention\n",
    "scenario1_i1 = Scenario1(duration=duration, query_threshold=hospital_capacity, step_size=step_size)\n",
    "results1_i1 = scenario1_i1.analyze_intervention_1(transmissibility_reduction, models=models)\n",
    "\n",
    "# Output Results\n",
    "print(\"\\n\".join([r[\"message\"] for n, r in results1_i1.items()]))\n",
    "scenario1_i1.compare_model_results(results1_i1)"
   ]
  },
  {
   "cell_type": "code",
   "execution_count": 113,
   "metadata": {},
   "outputs": [
    {
     "name": "stdout",
     "output_type": "stream",
     "text": [
      "Starting initializing dynamics of model\n",
      "Initialized dynamics of model\n",
      "Checking true query\n",
      "--- False(dict_values([[5.695e-05, 7.035e-05]]))\n"
     ]
    },
    {
     "data": {
      "image/png": "[encoded data removed]",
      "text/plain": [
       "<Figure size 432x288 with 1 Axes>"
      ]
     },
     "metadata": {
      "needs_background": "light"
     },
     "output_type": "display_data"
    }
   ],
   "source": [
    "# Intervention 2 is over a shorter time period, with different initial conditions\n",
    "\n",
    "# What is S, I, and R at day 30, with no intervervention?\n",
    "start_day = duration-7\n",
    "scenario1_i2pre = Scenario1(duration=start_day, step_size=step_size, query_threshold=hospital_capacity)\n",
    "transmissibility_reduction = 0.0\n",
    "results1_i2pre = scenario1_i2pre.analyze_intervention_1(transmissibility_reduction, models=models)"
   ]
  },
  {
   "cell_type": "code",
   "execution_count": 119,
   "metadata": {},
   "outputs": [
    {
     "name": "stdout",
     "output_type": "stream",
     "text": [
      "Starting initializing dynamics of model\n",
      "Initialized dynamics of model\n",
      "Checking true query\n",
      "Checking false query\n",
      "Split(dict_values([[4.69e-05, 8.04e-05]]))\n",
      "Checking true query\n",
      "--- False(dict_values([[7.258088960509471e-05, 8.04e-05]]))\n",
      "Checking true query\n",
      "Checking false query\n",
      "Split(dict_values([[4.69e-05, 7.258088960509471e-05]]))\n",
      "Checking true query\n",
      "Checking false query\n",
      "Split(dict_values([[7.105021509599152e-05, 7.258088960509471e-05]]))\n",
      "Checking true query\n",
      "Checking false query\n",
      "+++ True(dict_values([[4.69e-05, 7.105021509599152e-05]]))\n",
      "Checking true query\n",
      "--- False(dict_values([[7.195644092097952e-05, 7.258088960509471e-05]]))\n",
      "Checking true query\n",
      "Checking false query\n",
      "Split(dict_values([[7.105021509599152e-05, 7.195644092097952e-05]]))\n",
      "Checking true query\n",
      "Checking false query\n",
      "Split(dict_values([[7.172397932184982e-05, 7.195644092097952e-05]]))\n",
      "Checking true query\n",
      "Checking false query\n",
      "+++ True(dict_values([[7.105021509599152e-05, 7.172397932184982e-05]]))\n",
      "Checking true query\n",
      "--- False(dict_values([[7.189607179566694e-05, 7.195644092097952e-05]]))\n",
      "Checking true query\n",
      "Checking false query\n",
      "Split(dict_values([[7.172397932184982e-05, 7.189607179566694e-05]]))\n",
      "Checking true query\n",
      "--- False(dict_values([[7.187802802165121e-05, 7.189607179566694e-05]]))\n",
      "Checking true query\n",
      "Checking false query\n",
      "Split(dict_values([[7.172397932184982e-05, 7.187802802165121e-05]]))\n",
      "Checking true query\n",
      "Checking false query\n",
      "Split(dict_values([[7.183871685659019e-05, 7.187802802165121e-05]]))\n",
      "Checking true query\n",
      "Checking false query\n",
      "+++ True(dict_values([[7.172397932184982e-05, 7.183871685659019e-05]]))\n",
      "Checking true query\n",
      "--- False(dict_values([[7.186638451430778e-05, 7.187802802165121e-05]]))\n",
      "Checking true query\n",
      "Checking false query\n",
      "Split(dict_values([[7.183871685659019e-05, 7.186638451430778e-05]]))\n",
      "Checking true query\n",
      "Checking false query\n",
      "+++ True(dict_values([[7.183871685659019e-05, 7.185917999643076e-05]]))\n"
     ]
    },
    {
     "data": {
      "image/png": "[encoded data removed]",
      "text/plain": [
       "<Figure size 432x288 with 1 Axes>"
      ]
     },
     "metadata": {
      "needs_background": "light"
     },
     "output_type": "display_data"
    }
   ],
   "source": [
    "scenario1_i2 = Scenario1(duration=6, query_threshold=hospital_capacity, step_size=step_size)\n",
    "init_values={ model_name : { k: results1_i2pre[model_name][\"dataframe\"].loc[start_day][k] \n",
    "                             for k in model.init_values.keys() } \n",
    "              for model_name, model in scenario1_i2.models[\"intervention2\"].items() if model_name in models }\n",
    "init_values\n",
    "margin=0.25\n",
    "results1_i2 = scenario1_i2.analyze_intervention_2([0.05-margin, 0.05+margin], models=models, init_values=init_values)\n"
   ]
  },
  {
   "cell_type": "code",
   "execution_count": 155,
   "metadata": {},
   "outputs": [
    {
     "data": {
      "text/plain": [
       "<AxesSubplot:title={'center':'Intervention Impact on Unused Capacity'}, xlabel='Reduction in Transmissibility', ylabel='Ununsed Hospital Capacity'>"
      ]
     },
     "execution_count": 155,
     "metadata": {},
     "output_type": "execute_result"
    },
    {
     "data": {
      "image/png": "[encoded data removed]",
      "text/plain": [
       "<Figure size 432x288 with 1 Axes>"
      ]
     },
     "metadata": {
      "needs_background": "light"
     },
     "output_type": "display_data"
    }
   ],
   "source": [
    "#points = scenario1_i2.extract_true_points(results1_i2, {\"SIR+H\": \"beta\", \"SVIIR\": \"beta_1\", \"Bucky\": \"beta_1\"}, num_points=5)\n",
    "scenario1_i2.plot_points(points, width=.01)"
   ]
  },
  {
   "cell_type": "markdown",
   "metadata": {},
   "source": [
    "<!-- (:process infection\n",
    " :parameters (?gamma)\n",
    " :precondition (and)\n",
    " :effect (and \n",
    "            (increase (I) (function1))\n",
    "            (increase (R) (function2))\n",
    "            (increase (S) (function3))\n",
    "            )\n",
    " )\n",
    "\n",
    " (:durative-action mandate\n",
    "  :parameters ()\n",
    "  :duraiton (?duration)\n",
    "  :precondition (and)\n",
    "  :effect (and (at-start (increase (beta) (function1))\n",
    "                (at-end (decrease (beta) (function1))))\n",
    "  )\n",
    "\n",
    "  (:event infected-threshold\n",
    "   :precondtion (>= I 1000)\n",
    "   :effect (fail)\n",
    "   ) -->"
   ]
  },
  {
   "cell_type": "markdown",
   "metadata": {},
   "source": [
    "# Scenario 2\n",
    "Synthesize Vaccination Rate to Cause Infected to fall below a threhold by "
   ]
  },
  {
   "cell_type": "code",
   "execution_count": null,
   "metadata": {},
   "outputs": [],
   "source": [
    "scenario2 = Scenario2(duration=20, query_threshold=hospital_capacity, step_size=2)\n",
    "results = scenario2.analyze_intervention_vaccination([-0.05, 0.1])\n"
   ]
  }
 ],
 "metadata": {
  "kernelspec": {
   "display_name": "Python 3",
   "language": "python",
   "name": "python3"
  },
  "language_info": {
   "codemirror_mode": {
    "name": "ipython",
    "version": 3
   },
   "file_extension": ".py",
   "mimetype": "text/x-python",
   "name": "python",
   "nbconvert_exporter": "python",
   "pygments_lexer": "ipython3",
   "version": "3.6.9"
  },
  "vscode": {
   "interpreter": {
    "hash": "9dc75540f12627f4d337de302ba22817c846571fb771982f2e8118ce5d7356dd"
   }
  }
 },
 "nbformat": 4,
 "nbformat_minor": 2
}
