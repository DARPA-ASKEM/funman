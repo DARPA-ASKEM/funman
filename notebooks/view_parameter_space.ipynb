{
 "cells": [
  {
   "attachments": {},
   "cell_type": "markdown",
   "id": "76292192",
   "metadata": {},
   "source": [
    "# Demo Setup"
   ]
  },
  {
   "cell_type": "code",
   "execution_count": 1,
   "id": "66470a80",
   "metadata": {},
   "outputs": [],
   "source": [
    "import os\n",
    "import json\n",
    "\n",
    "import matplotlib.pyplot as plt\n",
    "from funman_demo.parameter_space_plotter import ParameterSpacePlotter\n",
    "from IPython.display import JSON\n",
    "from funman.server.query import FunmanResults\n",
    "import pydantic\n",
    "from funman.model.petrinet import Model as GeneratedPetriNetModel\n",
    "from funman.api.api import _wrap_with_internal_model\n",
    "\n",
    "RESULTS_DIR = os.path.join(\n",
    "    os.path.dirname(os.path.abspath(\"\")), \"scratch/out/hackathon\"\n",
    ")\n",
    "\n",
    "out_dir = os.path.join(os.path.dirname(os.path.abspath(\"\")), \"out\")\n",
    "\n",
    "\n",
    "\n",
    "if not os.path.exists(out_dir):\n",
    "    os.mkdir(out_dir)\n",
    "\n",
    "def get_job_results(job):\n",
    "    results_file = os.path.join(RESULTS_DIR, f\"{job}.json\")\n",
    "    results: FunmanResults = FunmanResults.parse_file(results_file)\n",
    "    return results\n",
    "\n",
    "def plot(results):\n",
    "    ParameterSpacePlotter(\n",
    "        results.parameter_space, plot_points=True\n",
    "    ).plot(show=False)\n",
    "    plt.savefig(f\"{out_dir}/{results.id}.png\")\n",
    "    plt.show()\n",
    "    plt.close()\n",
    "\n",
    "%load_ext autoreload\n",
    "%autoreload 2"
   ]
  },
  {
   "cell_type": "code",
   "execution_count": 2,
   "id": "3d251f97",
   "metadata": {},
   "outputs": [],
   "source": [
    "jobs = [\n",
    "   \"d1b4cb93-cf5e-48ce-8c20-99056dfbd1a4\" # 1.1.b, t_0 = 0\n",
    "        ]\n"
   ]
  },
  {
   "cell_type": "code",
   "execution_count": 3,
   "id": "d2afc3d4",
   "metadata": {},
   "outputs": [
    {
     "data": {
      "text/plain": [
       "{'type': 'point', 'label': 'true', 'values': {'S_0': 5599999.0, 'I_0': 0.0, 'E_0': 1.0, 'R_0': 0.0, 'D_0': 0.0, 'timer_t_4': 4.0, 'S_4': 5599999.0, 'I_4': 0.8, 'E_4': 0.19999999999999996, 'R_4': 0.0, 'D_4': 0.0, 'timer_t_0': 0.0, 't_0': 0.0, 'N': 5600000.0, 'beta_c': 0.4, 'beta_s': 1.0, 'k': 5.0, 'kappa': 0.45454545454545453, 'delta': 0.2, 'alpha': 6.4e-05, 'gamma': 0.09090909090909091, 'rho': 0.1111111111111111, 'num_steps': 1.0, 'step_size': 4.0}}"
      ]
     },
     "execution_count": 3,
     "metadata": {},
     "output_type": "execute_result"
    }
   ],
   "source": [
    "job=jobs[0]\n",
    "results = get_job_results(job)\n",
    "#plot(results)\n",
    "# JSON(results.parameter_space.dict())\n",
    "results.parameter_space.true_points[0]\n",
    "# df = results.dataframe(results.parameter_space.true_points[0])"
   ]
  },
  {
   "cell_type": "code",
   "execution_count": 29,
   "id": "9ba3efbb",
   "metadata": {},
   "outputs": [
    {
     "data": {
      "text/plain": [
       "<Axes: xlabel='time'>"
      ]
     },
     "execution_count": 29,
     "metadata": {},
     "output_type": "execute_result"
    },
    {
     "data": {
      "image/png": "[encoded data removed]",
      "text/plain": [
       "<Figure size 640x480 with 1 Axes>"
      ]
     },
     "metadata": {},
     "output_type": "display_data"
    }
   ],
   "source": [
    "# from funman.server.query import FunmanWorkUnit\n",
    "# # from funman.api.api import _wrap_with_internal_model\n",
    "# wu = FunmanWorkUnit(id=job, model=pydantic.parse_obj_as(GeneratedPetriNetModel, results.model), request=results.request)\n",
    "# scenario = wu.to_scenario()\n",
    "point = results.parameter_space.true_points[0]\n",
    "results.plot(point, log_y=True)"
   ]
  }
 ],
 "metadata": {
  "kernelspec": {
   "display_name": "Python 3 (ipykernel)",
   "language": "python",
   "name": "python3"
  },
  "language_info": {
   "codemirror_mode": {
    "name": "ipython",
    "version": 3
   },
   "file_extension": ".py",
   "mimetype": "text/x-python",
   "name": "python",
   "nbconvert_exporter": "python",
   "pygments_lexer": "ipython3",
   "version": "3.8.10"
  }
 },
 "nbformat": 4,
 "nbformat_minor": 5
}
