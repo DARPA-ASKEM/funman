{
 "cells": [
  {
   "attachments": {},
   "cell_type": "markdown",
   "id": "76292192",
   "metadata": {},
   "source": [
    "# Demo Setup"
   ]
  },
  {
   "cell_type": "code",
   "execution_count": 28,
   "id": "66470a80",
   "metadata": {},
   "outputs": [],
   "source": [
    "import os\n",
    "import json\n",
    "\n",
    "import matplotlib.pyplot as plt\n",
    "from funman_demo.parameter_space_plotter import ParameterSpacePlotter\n",
    "from IPython.display import JSON\n",
    "from funman.server.query import FunmanResults\n",
    "\n",
    "RESULTS_DIR = os.path.join(\n",
    "    os.path.dirname(os.path.abspath(\"\")), \"scratch/out/hackathon\"\n",
    ")\n",
    "\n",
    "out_dir = os.path.join(os.path.dirname(os.path.abspath(\"\")), \"out\")\n",
    "\n",
    "\n",
    "\n",
    "if not os.path.exists(out_dir):\n",
    "    os.mkdir(out_dir)\n",
    "\n",
    "def get_job_results(job):\n",
    "    results_file = os.path.join(RESULTS_DIR, f\"{job}.json\")\n",
    "    results: FunmanResults = FunmanResults.parse_file(results_file)\n",
    "    return results\n",
    "\n",
    "def plot(results):\n",
    "    ParameterSpacePlotter(\n",
    "        results.parameter_space, plot_points=True\n",
    "    ).plot(show=False)\n",
    "    plt.savefig(f\"{out_dir}/{results.id}.png\")\n",
    "    plt.show()\n",
    "    plt.close()\n",
    "\n"
   ]
  },
  {
   "cell_type": "code",
   "execution_count": 11,
   "id": "3d251f97",
   "metadata": {},
   "outputs": [],
   "source": [
    "jobs = [\n",
    "   \"ceb537b1-203b-4f09-a54d-394fa6c018c9\" # 1.1.b, t_0 = 0\n",
    "        ]\n"
   ]
  },
  {
   "cell_type": "code",
   "execution_count": 37,
   "id": "d2afc3d4",
   "metadata": {},
   "outputs": [
    {
     "data": {
      "application/json": {
       "false_boxes": [],
       "false_points": [],
       "num_dimensions": 12,
       "true_boxes": [],
       "true_points": [
        {
         "label": "true",
         "type": "point",
         "values": {
          "N": 5600000,
          "alpha": 0.00006400000000000001,
          "beta_c": 0.4,
          "beta_s": 1,
          "delta": 0.2,
          "gamma": 0.09090909090909091,
          "k": 5,
          "kappa": 0.45454545454545453,
          "num_steps": 100,
          "rho": 0.1111111111111111,
          "step_size": 4,
          "t_0": 0
         }
        }
       ]
      },
      "text/plain": [
       "<IPython.core.display.JSON object>"
      ]
     },
     "execution_count": 37,
     "metadata": {
      "application/json": {
       "expanded": false,
       "root": "root"
      }
     },
     "output_type": "execute_result"
    }
   ],
   "source": [
    "job=jobs[0]\n",
    "results = get_job_results(job)\n",
    "#plot(results)\n",
    "JSON(results.parameter_space.dict())"
   ]
  },
  {
   "cell_type": "code",
   "execution_count": null,
   "id": "9ba3efbb",
   "metadata": {},
   "outputs": [],
   "source": []
  }
 ],
 "metadata": {
  "kernelspec": {
   "display_name": "Python 3 (ipykernel)",
   "language": "python",
   "name": "python3"
  },
  "language_info": {
   "codemirror_mode": {
    "name": "ipython",
    "version": 3
   },
   "file_extension": ".py",
   "mimetype": "text/x-python",
   "name": "python",
   "nbconvert_exporter": "python",
   "pygments_lexer": "ipython3",
   "version": "3.8.10"
  }
 },
 "nbformat": 4,
 "nbformat_minor": 5
}
