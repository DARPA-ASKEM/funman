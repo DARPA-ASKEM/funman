{
 "cells": [
  {
   "cell_type": "markdown",
   "id": "9d3ba6dc",
   "metadata": {},
   "source": [
    "# Demo\n",
    "1. Show two json files as the inputs\n",
    "2. Post to terrarium funman api, show response id\n",
    "3. Get result from id, and plot\n",
    "\n",
    "# Todo\n",
    "1. How to interact with terrarium\n",
    "2. Setup API for two json files\n",
    "3. Setup async anytime results\n",
    "4. Truncate/halt request endpoint\n",
    "5. Allow multiple requests in a queue, needs server thread"
   ]
  },
  {
   "cell_type": "code",
   "execution_count": 18,
   "id": "66470a80",
   "metadata": {},
   "outputs": [],
   "source": [
    "import asyncio\n",
    "import nest_asyncio\n",
    "import os\n",
    "import json\n",
    "from pathlib import Path\n",
    "\n",
    "API_BASE_PATH = os.path.join(os.getcwd(), \"..\")\n",
    "API_SERVER_HOST = \"127.0.0.1\"\n",
    "API_SERVER_PORT = 8190\n",
    "SERVER_URL = f\"http://{API_SERVER_HOST}:{API_SERVER_PORT}\"\n",
    "OPENAPI_URL = f\"{SERVER_URL}/openapi.json\"\n",
    "CLIENT_NAME = \"funman-api-client\"\n",
    "RESOURCES = Path(\"../resources\").resolve()"
   ]
  },
  {
   "cell_type": "code",
   "execution_count": 19,
   "id": "158a13d1",
   "metadata": {},
   "outputs": [
    {
     "name": "stdout",
     "output_type": "stream",
     "text": [
      "Updating existing funman client at /home/jladwig/funman from http://127.0.0.1:8190/openapi.json\n",
      "Updating funman_api_client\n"
     ]
    }
   ],
   "source": [
    "# Install API client to the working directory\n",
    "# and add the install to the sys path\n",
    "import funman.api.client as client\n",
    "client.make_client(\n",
    "    API_BASE_PATH, openapi_url=OPENAPI_URL, client_name=CLIENT_NAME\n",
    ")"
   ]
  },
  {
   "cell_type": "code",
   "execution_count": 20,
   "id": "4230e571",
   "metadata": {},
   "outputs": [],
   "source": [
    "# Setup API client request\n",
    "from funman_api_client import Client\n",
    "from funman_api_client.api.default import (\n",
    "    post_queries_queries_post,\n",
    "    get_queries_queries_query_id_get,\n",
    ")\n",
    "from funman_api_client.models.body_post_queries_queries_post import BodyPostQueriesQueriesPost\n",
    "from funman_api_client.models import (\n",
    "    BilayerModel,\n",
    "    FUNMANConfig,\n",
    "    LabeledParameter,\n",
    "    QueryLE,\n",
    "    FunmanWorkRequest,\n",
    "    FunmanWorkUnit,\n",
    "    FunmanResults\n",
    ")\n",
    "\n",
    "nest_asyncio.apply()\n",
    "funman_client = Client(SERVER_URL, timeout=None)"
   ]
  },
  {
   "cell_type": "code",
   "execution_count": 21,
   "id": "b3f4d4d5",
   "metadata": {},
   "outputs": [
    {
     "data": {
      "text/plain": [
       "'e9ba8950-d862-44ea-a918-9f0f175a3135'"
      ]
     },
     "execution_count": 21,
     "metadata": {},
     "output_type": "execute_result"
    }
   ],
   "source": [
    "# example paths\n",
    "example_dir = RESOURCES / \"funman\" / \"infected_threshold_example\"\n",
    "model_file = example_dir / \"model.json\"\n",
    "request_file = example_dir / \"request.json\"\n",
    "\n",
    "# read in json files\n",
    "model = json.loads(model_file.read_bytes())\n",
    "request = json.loads(request_file.read_bytes())\n",
    "\n",
    "response = asyncio.run(\n",
    "    post_queries_queries_post.asyncio_detailed(\n",
    "        client=funman_client,\n",
    "        json_body=BodyPostQueriesQueriesPost.from_dict({\n",
    "            \"model\": model,\n",
    "            \"request\": request\n",
    "        }),\n",
    "    )\n",
    ")\n",
    "\n",
    "work_unit = FunmanWorkUnit.from_dict(\n",
    "    src_dict=json.loads(response.content.decode())\n",
    ")\n",
    "work_unit.id"
   ]
  },
  {
   "cell_type": "code",
   "execution_count": 5,
   "id": "4d4136de",
   "metadata": {
    "scrolled": true
   },
   "outputs": [
    {
     "data": {
      "text/plain": [
       "FunmanResults(id='08f7e830-0bfa-4904-ba45-d52b92bc4f46', model=EncodedModel(name='model_b5ad4c92-2d30-4936-a69b-22f8fc9a0399', init_values=EncodedModelInitValues(additional_properties={'S': 9998.0, 'I': 1.0, 'R': 1.0}), parameter_bounds=EncodedModelParameterBounds(additional_properties={}), structural_parameter_bounds=EncodedModelStructuralParameterBounds(additional_properties={}), additional_properties={'bilayer': {'json_graph': {'Wa': [{'influx': 1, 'infusion': 2}, {'influx': 2, 'infusion': 3}], 'Win': [{'arg': 1, 'call': 1}, {'arg': 2, 'call': 1}, {'arg': 2, 'call': 2}], 'Box': [{'parameter': 'beta'}, {'parameter': 'gamma'}], 'Qin': [{'variable': 'S'}, {'variable': 'I'}, {'variable': 'R'}], 'Qout': [{'tanvar': \"S'\"}, {'tanvar': \"I'\"}, {'tanvar': \"R'\"}], 'Wn': [{'efflux': 1, 'effusion': 1}, {'efflux': 2, 'effusion': 2}]}}, 'measurements': None, 'identical_parameters': []}), request=FunmanWorkRequest(query=QueryLE(variable='I', ub=130.0, model=None, at_end=False, additional_properties={}), parameters=[], config=FUNMANConfig(tolerance=1e-08, queue_timeout=1, number_of_processes=1, wait_timeout=None, wait_action_timeout=0.05, solver='z3', num_steps=2, step_size=1, num_initial_boxes=1, save_smtlib=False, dreal_precision=0.001, dreal_log_level='off', constraint_noise=0.0, initial_state_tolerance=0.0, dreal_mcts=False, additional_properties={}), additional_properties={}), done=False, parameter_space=ParameterSpace(true_boxes=[], false_boxes=[], true_points=[Point(values=PointValues(additional_properties={'R_1': 2502.0, 'beta': 0.2629525905181036, 'I_2': -72537.00450090018, 'S_1': 7369.0, 'S_2': -242593.9954990998, 'R_2': 325131.0, 'I_1': 129.0, 'gamma': 2501.0, 'S_0': 9998.0, 'I_0': 1.0, 'R_0': 1.0}), type=<PointType.POINT: 'point'>, label=<PointLabel.TRUE: 'true'>, additional_properties={})], false_points=[], additional_properties={}), additional_properties={})"
      ]
     },
     "execution_count": 5,
     "metadata": {},
     "output_type": "execute_result"
    }
   ],
   "source": [
    "response = asyncio.run(get_queries_queries_query_id_get.asyncio_detailed(\n",
    "    work_unit.id,\n",
    "    client=funman_client\n",
    "))\n",
    "results = FunmanResults.from_dict(\n",
    "    src_dict=json.loads(response.content.decode())\n",
    ")\n",
    "results"
   ]
  },
  {
   "cell_type": "code",
   "execution_count": 6,
   "id": "3c6b47b9",
   "metadata": {},
   "outputs": [
    {
     "data": {
      "image/png": "[encoded data removed]",
      "text/plain": [
       "<Figure size 640x480 with 1 Axes>"
      ]
     },
     "metadata": {},
     "output_type": "display_data"
    }
   ],
   "source": [
    "from funman_demo import plot\n",
    "plot.plot_parameter_space(results.parameter_space, 1.0, True)"
   ]
  },
  {
   "cell_type": "code",
   "execution_count": null,
   "id": "9358ff98",
   "metadata": {},
   "outputs": [],
   "source": []
  }
 ],
 "metadata": {
  "kernelspec": {
   "display_name": "Python 3 (ipykernel)",
   "language": "python",
   "name": "python3"
  },
  "language_info": {
   "codemirror_mode": {
    "name": "ipython",
    "version": 3
   },
   "file_extension": ".py",
   "mimetype": "text/x-python",
   "name": "python",
   "nbconvert_exporter": "python",
   "pygments_lexer": "ipython3",
   "version": "3.8.10"
  }
 },
 "nbformat": 4,
 "nbformat_minor": 5
}
