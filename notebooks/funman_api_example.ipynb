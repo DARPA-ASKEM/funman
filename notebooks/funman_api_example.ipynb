{
 "cells": [
  {
   "attachments": {},
   "cell_type": "markdown",
   "id": "9d3ba6dc",
   "metadata": {},
   "source": [
    "# Demo\n",
    "1. Show two json files as the inputs\n",
    "2. Post to terrarium funman api, show response id\n",
    "3. Get result from id, and plot\n",
    "\n",
    "# Todo\n",
    "1. How to interact with terrarium\n",
    "2. Setup API for two json files\n",
    "3. Setup async anytime results\n",
    "4. Truncate/halt request endpoint\n",
    "5. Allow multiple requests in a queue, needs server thread"
   ]
  },
  {
   "cell_type": "code",
   "execution_count": null,
   "id": "66470a80",
   "metadata": {},
   "outputs": [],
   "source": [
    "import asyncio\n",
    "import nest_asyncio\n",
    "import json\n",
    "import unittest\n",
    "from os import path, getcwd\n",
    "\n",
    "import funman.api.client as client\n",
    "from funman.api.api import app\n",
    "from funman.api.server import Server, ServerConfig\n",
    "\n",
    "API_BASE_PATH = path.join(getcwd(), \"..\")\n",
    "API_SERVER_HOST = \"0.0.0.0\"\n",
    "API_SERVER_PORT = 8190\n",
    "SERVER_URL = f\"http://{API_SERVER_HOST}:{API_SERVER_PORT}\"\n",
    "OPENAPI_URL = f\"{SERVER_URL}/openapi.json\"\n",
    "CLIENT_NAME = \"funman-api-client\""
   ]
  },
  {
   "cell_type": "code",
   "execution_count": null,
   "id": "a9782b1a",
   "metadata": {
    "scrolled": true
   },
   "outputs": [],
   "source": [
    "# Start API Server\n",
    "server = Server(\n",
    "            config=ServerConfig(\n",
    "                app,\n",
    "                host=API_SERVER_HOST,\n",
    "                port=API_SERVER_PORT,\n",
    "                log_level=\"info\",\n",
    "            )\n",
    "        )\n",
    "nest_asyncio.apply()\n",
    "thread = server.start_in_thread()"
   ]
  },
  {
   "cell_type": "code",
   "execution_count": null,
   "id": "588ccbca",
   "metadata": {},
   "outputs": [],
   "source": [
    "# Install API client to the working directory\n",
    "# and add the install to the sys path\n",
    "client.make_client(\n",
    "    API_BASE_PATH, openapi_url=OPENAPI_URL, client_name=CLIENT_NAME\n",
    ")"
   ]
  },
  {
   "cell_type": "code",
   "execution_count": null,
   "id": "4230e571",
   "metadata": {},
   "outputs": [],
   "source": [
    "# Setup API client request\n",
    "from funman_api_client import Client\n",
    "from funman_api_client.api.default import (\n",
    "    post_queries_queries_post,\n",
    ")\n",
    "from funman_api_client.models.body_post_queries_queries_post import BodyPostQueriesQueriesPost\n",
    "from funman_api_client.models import (\n",
    "    BilayerModel,\n",
    "    FUNMANConfig,\n",
    "    LabeledParameter,\n",
    "    QueryLE,\n",
    "    QueryRequest,\n",
    "    QueryResponse\n",
    ")\n",
    "\n",
    "funman_client = Client(SERVER_URL, timeout=None)"
   ]
  },
  {
   "cell_type": "code",
   "execution_count": null,
   "id": "b3f4d4d5",
   "metadata": {},
   "outputs": [],
   "source": [
    "bilayer_json =     {\"Wa\":[{\"influx\":1,\"infusion\":2},\n",
    "\t\t\t {\"influx\":2,\"infusion\":3}],\n",
    " \"Win\":[{\"arg\":1,\"call\":1},\n",
    " \t\t\t\t{\"arg\":2,\"call\":1},\n",
    " \t\t\t\t{\"arg\":2,\"call\":2}],\n",
    " \"Box\":[{\"parameter\":\"beta\"},\n",
    " \t\t\t\t{\"parameter\":\"gamma\"}],\n",
    " \"Qin\":[{\"variable\":\"S\"},\n",
    " \t\t\t\t{\"variable\":\"I\"},\n",
    " \t\t\t\t{\"variable\":\"R\"}],\n",
    " \"Qout\":[{\"tanvar\":\"S'\"},\n",
    " \t\t\t\t {\"tanvar\":\"I'\"},\n",
    " \t\t\t\t {\"tanvar\":\"R'\"}],\n",
    " \"Wn\":[{\"efflux\":1,\"effusion\":1},\n",
    " \t\t\t {\"efflux\":2,\"effusion\":2}]}\n",
    "\n",
    "infected_threshold = 130\n",
    "init_values = {\"S\": 9998, \"I\": 1, \"R\": 1}\n",
    "\n",
    "lb = 0.000067 * (1 - 0.5)\n",
    "ub = 0.000067 * (1 + 0.5)\n",
    "\n",
    "response = asyncio.run(\n",
    "    post_queries_queries_post.asyncio_detailed(\n",
    "        client=funman_client,\n",
    "        json_body=BodyPostQueriesQueriesPost(\n",
    "            QueryRequest(\n",
    "                model = BilayerModel.from_dict(\n",
    "                    {\n",
    "                        \"init_values\": init_values,\n",
    "                        \"bilayer\": {\"json_graph\": bilayer_json},\n",
    "                    }\n",
    "                ),\n",
    "                query = QueryLE.from_dict(\n",
    "                    {\n",
    "                        \"variable\": \"I\",\n",
    "                        \"ub\": infected_threshold,\n",
    "                        \"at_end\": False,\n",
    "                    }\n",
    "                ),\n",
    "                parameters = [\n",
    "                    #LabeledParameter.from_dict({\n",
    "                    #    \"name\": \"beta\",\n",
    "                    #    \"lb\": lb,      \n",
    "                    #    \"ub\": ub,\n",
    "                    #    \"label\": \"all\",\n",
    "                    #})\n",
    "                ]\n",
    "            ),\n",
    "            FUNMANConfig.from_dict(\n",
    "                {\n",
    "                    \"tolerance\": 1.0e-8,\n",
    "                    \"number_of_processes\": 1\n",
    "                }\n",
    "            ),  \n",
    "        ),\n",
    "    )\n",
    ")\n",
    "\n",
    "result = QueryResponse.from_dict(\n",
    "    src_dict=json.loads(response.content.decode())\n",
    ")\n",
    "result.parameter_space"
   ]
  },
  {
   "cell_type": "code",
   "execution_count": null,
   "id": "3c6b47b9",
   "metadata": {},
   "outputs": [],
   "source": [
    "from funman_demo import plot\n",
    "plot.plot_parameter_space(result.parameter_space, 1.0, True)"
   ]
  },
  {
   "cell_type": "code",
   "execution_count": null,
   "id": "fccb7b00",
   "metadata": {},
   "outputs": [],
   "source": [
    "# Close out server\n",
    "server.should_exit = True\n",
    "thread.join()"
   ]
  },
  {
   "cell_type": "code",
   "execution_count": null,
   "id": "05e16a03",
   "metadata": {},
   "outputs": [],
   "source": []
  }
 ],
 "metadata": {
  "kernelspec": {
   "display_name": "Python 3 (ipykernel)",
   "language": "python",
   "name": "python3"
  },
  "language_info": {
   "codemirror_mode": {
    "name": "ipython",
    "version": 3
   },
   "file_extension": ".py",
   "mimetype": "text/x-python",
   "name": "python",
   "nbconvert_exporter": "python",
   "pygments_lexer": "ipython3",
   "version": "3.8.10"
  }
 },
 "nbformat": 4,
 "nbformat_minor": 5
}
