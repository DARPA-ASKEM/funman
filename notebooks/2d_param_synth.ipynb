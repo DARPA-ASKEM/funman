{
 "cells": [
  {
   "cell_type": "code",
   "execution_count": null,
   "metadata": {},
   "outputs": [],
   "source": [
    "from pysmt.typing import INT, REAL, BOOL\n",
    "from pysmt.shortcuts import get_model, And, Or, Symbol, Real, GT, LE, GE, Equals, Plus, Times, Minus\n",
    "import os\n",
    "import funman\n",
    "\n",
    "%load_ext autoreload\n",
    "%autoreload 2"
   ]
  },
  {
   "cell_type": "code",
   "execution_count": null,
   "metadata": {},
   "outputs": [],
   "source": [
    "x = Symbol(\"x\", REAL)\n",
    "y = Symbol(\"y\", REAL)\n",
    "parameters = [funman.Parameter(x), funman.Parameter(y)]\n",
    "\n",
    "# 0.0 < x < 5.0, 10.0 < y < 12.0\n",
    "model = funman.Model(\n",
    "    Or(\n",
    "        And(\n",
    "            LE(x, Real(5.0)), \n",
    "            GE(x, Real(0.0)),\n",
    "            LE(y, Real(12.0)), \n",
    "            GE(y, Real(10.0)),\n",
    "            LE(Plus(x, y), Real(12.0)),\n",
    "            GE(Times(x, y), Real(10.0))\n",
    "            ),\n",
    "        And(\n",
    "            LE(x, Real(15.0)), \n",
    "            GE(x, Real(5.0)),\n",
    "            LE(y, Real(20.0)), \n",
    "            GE(y, Real(10.0)),\n",
    "            LE(Minus(x, y), Real(10.0)),\n",
    "            GE(Times(x, y), Real(100.0))\n",
    "            )\n",
    "        )\n",
    "    )\n",
    "\n",
    "scenario = funman.ParameterSynthesisScenario(parameters, model)\n",
    "fm = funman.Funman()\n",
    "result = fm.solve(scenario)"
   ]
  }
 ],
 "metadata": {
  "kernelspec": {
   "display_name": "Python 3.9.13 ('.venv': pipenv)",
   "language": "python",
   "name": "python3"
  },
  "language_info": {
   "codemirror_mode": {
    "name": "ipython",
    "version": 3
   },
   "file_extension": ".py",
   "mimetype": "text/x-python",
   "name": "python",
   "nbconvert_exporter": "python",
   "pygments_lexer": "ipython3",
   "version": "3.9.13"
  },
  "orig_nbformat": 4,
  "vscode": {
   "interpreter": {
    "hash": "42a3906a3350e5064a7e00078499f09a4bbb5a540c65613c9f70666c79605455"
   }
  }
 },
 "nbformat": 4,
 "nbformat_minor": 2
}
