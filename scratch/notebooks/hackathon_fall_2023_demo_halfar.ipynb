{
 "cells": [
  {
   "cell_type": "code",
   "execution_count": 1,
   "metadata": {},
   "outputs": [],
   "source": [
    "# This notebook illustrates the halfar ice model\n",
    "\n",
    "# Import funman related code\n",
    "import os\n",
    "from pathlib import Path\n",
    "from funman import FunmanResults\n",
    "import json\n",
    "from funman import Point, Box, Parameter\n",
    "from typing import List, Dict\n",
    "from funman.api.run import Runner\n",
    "\n",
    "# %load_ext autoreload\n",
    "# %autoreload 2"
   ]
  },
  {
   "cell_type": "code",
   "execution_count": 9,
   "metadata": {},
   "outputs": [
    {
     "name": "stderr",
     "output_type": "stream",
     "text": [
      "2023-11-01 21:11:08,959 - funman.server.worker - INFO - FunmanWorker running...\n",
      "2023-11-01 21:11:08,967 - funman.server.worker - INFO - Starting work on: a99c05ac-e487-4b09-8cbf-7dd0dba678ce\n"
     ]
    },
    {
     "name": "stderr",
     "output_type": "stream",
     "text": [
      "2023-11-01 21:11:10,974 - funman.api.run - INFO - Dumping results to ./out/a99c05ac-e487-4b09-8cbf-7dd0dba678ce.json\n",
      "2023-11-01 21:11:12,905 - funman.scenario.consistency - INFO - 16:\t[+]\n",
      "2023-11-01 21:11:12,912 - funman.server.worker - INFO - Completed work on: a99c05ac-e487-4b09-8cbf-7dd0dba678ce\n",
      "2023-11-01 21:11:22,911 - funman.server.worker - INFO - Worker.stop() acquiring state lock ....\n",
      "2023-11-01 21:11:22,920 - funman.server.worker - INFO - FunmanWorker exiting...\n",
      "2023-11-01 21:11:22,923 - funman.server.worker - INFO - Worker.stop() completed.\n"
     ]
    },
    {
     "name": "stdout",
     "output_type": "stream",
     "text": [
      "gamma = 0.06325\n",
      "1 Points (+:1, -:0), 1 Boxes (+:1, -:0)\n",
      "{}\n",
      "           h_0       h_1       h_2       h_3       h_4  id label\n",
      "time                                                            \n",
      "0.0   0.100000  0.500000  1.000000  0.500000  0.100000   0  true\n",
      "1.0   0.100494  0.483693  0.999747  0.500127  0.115940   0  true\n",
      "2.0   0.100954  0.467475  0.999523  0.500239  0.131809   0  true\n",
      "3.0   0.101380  0.451326  0.999324  0.500338  0.147617   0  true\n",
      "4.0   0.101770  0.435144  0.999150  0.500425  0.163459   0  true\n",
      "5.0   0.102124  0.419036  0.998998  0.500501  0.179284   0  true\n",
      "6.0   0.102443  0.402997  0.998867  0.500567  0.195067   0  true\n",
      "7.0   0.102727  0.387021  0.998753  0.500623  0.210811   0  true\n",
      "8.0   0.102978  0.371104  0.998656  0.500672  0.226523   0  true\n",
      "9.0   0.103199  0.355239  0.998574  0.500713  0.242141   0  true\n",
      "10.0  0.103389  0.339511  0.998506  0.500747  0.257780   0  true\n",
      "11.0  0.103552  0.323987  0.998448  0.500776  0.273375   0  true\n",
      "12.0  0.103691  0.308501  0.998402  0.500799  0.288995   0  true\n",
      "13.0  0.103807  0.292805  0.998364  0.500818  0.304477   0  true\n",
      "14.0  0.103903  0.277130  0.998334  0.500833  0.320008   0  true\n",
      "15.0  0.103980  0.261605  0.998310  0.500845  0.335563   0  true\n"
     ]
    },
    {
     "data": {
      "image/png": "[encoded data removed]",
      "text/plain": [
       "<Figure size 800x600 with 1 Axes>"
      ]
     },
     "metadata": {},
     "output_type": "display_data"
    }
   ],
   "source": [
    "RESOURCES = os.path.join(\n",
    "   os.getcwd(), \"../../resources\"\n",
    ")\n",
    "EXAMPLE_DIR = os.path.join(RESOURCES, \"amr\", \"halfar\")\n",
    "MODEL_PATH = os.path.join(EXAMPLE_DIR, \"halfar.json\")\n",
    "REQUEST_PATH = os.path.join(EXAMPLE_DIR, \"halfar_request.json\")\n",
    "\n",
    "request_dict = {\n",
    "    \"structure_parameters\": [\n",
    "        {\n",
    "            \"name\": \"schedules\",\n",
    "            \"schedules\": [\n",
    "                {\"timepoints\": [0, 1, 2, 3, 4, 5, 6, 7, 8, 9, 10, 11, 12, 13, 14, 15]}\n",
    "                # {\"timepoints\": [0, 10]}\n",
    "            ],\n",
    "        },\n",
    "        \n",
    "    ],\n",
    "    \"constraints\": [\n",
    "        # {\"name\": \"non-negative_h_0\",\n",
    "        #  \"variable\": \"h_0\",\n",
    "        #  \"interval\": {\"lb\": 0}\n",
    "        #  },\n",
    "        # {\"name\": \"non-negative_h_1\",\n",
    "        #  \"variable\": \"h_1\",\n",
    "        #  \"interval\": {\"lb\": 0}\n",
    "        # },\n",
    "        # {\"name\": \"non-negative_h_2\",\n",
    "        #  \"variable\": \"h_2\",\n",
    "        #  \"interval\": {\"lb\": 0}\n",
    "        # },\n",
    "        # {\"name\": \"non-negative_h_3\",\n",
    "        #  \"variable\": \"h_3\",\n",
    "        #  \"interval\": {\"lb\": 0}\n",
    "        # },\n",
    "        # {\"name\": \"non-negative_h_4\",\n",
    "        #  \"variable\": \"h_4\",\n",
    "        #  \"interval\": {\"lb\": 0}\n",
    "        # },\n",
    "        {\"name\": \"LHS_slope\",\n",
    "            \"variables\": [\"h_1\", \"h_0\"],\n",
    "            \"weights\": [1, -1],\n",
    "            \"additive_bounds\": {\"lb\": 0},\n",
    "            \"timepoints\": {\"lb\": 0}\n",
    "        }, \n",
    "        {\"name\": \"RHS_slope\",\n",
    "            \"variables\": [\"h_3\", \"h_4\"],\n",
    "            \"weights\": [1, -1],\n",
    "            \"additive_bounds\": {\"lb\": 0},\n",
    "            \"timepoints\": {\"lb\": 0}\n",
    "        }\n",
    "        ],\n",
    "    \"config\": {\n",
    "        \"use_compartmental_constraints\": False,\n",
    "        \"normalization_constant\": 1.0,\n",
    "        \"tolerance\": 1e-1,\n",
    "        \"verbosity\": 20,\n",
    "        \"dreal_mcts\": True,\n",
    "        \"save_smtlib\": True,\n",
    "        \"substitute_subformulas\": False,\n",
    "        \"series_approximation_threshold\": None,\n",
    "        \"dreal_log_level\": \"none\",\n",
    "        \"profile\": False,\n",
    "    },\n",
    "}\n",
    "\n",
    "# Use request_dict\n",
    "results = Runner().run(\n",
    "    MODEL_PATH,\n",
    "    request_dict,\n",
    "    # REQUEST_PATH,\n",
    "    description=\"Halfar demo\",\n",
    "    case_out_dir=\"./out\",\n",
    ")\n",
    "print(f\"gamma = {results.parameter_space.points()[0].values['gamma']:.5f}\")\n",
    "results.plot(variables=[\"h_0\", \"h_1\", \"h_2\", \"h_3\", \"h_4\"], label_marker={\"true\":\",\", \"false\": \",\"},  xlabel=\"Time\", ylabel=\"Height\", legend=[\"h_0\", \"h_1\", \"h_2\", \"h_3\", \"h_4\"],label_color={\"true\": None})\n",
    "points = results.points()\n",
    "boxes = results.parameter_space.boxes()\n",
    "\n",
    "print(\n",
    "    f\"{len(points)} Points (+:{len(results.parameter_space.true_points())}, -:{len(results.parameter_space.false_points())}), {len(boxes)} Boxes (+:{len(results.parameter_space.true_boxes)}, -:{len(results.parameter_space.false_boxes)})\"\n",
    ")\n",
    "if points and len(points) > 0:\n",
    "    point: Point = points[-1]\n",
    "    parameters: Dict[Parameter, float] = results.point_parameters(point)\n",
    "    print(parameters)\n",
    "    print(results.dataframe([point]))\n",
    "else:\n",
    "    # if there are no points, then we have a box that we found without needing points\n",
    "\n",
    "    box = boxes[0]\n",
    "    print(json.dumps(box.explain(), indent=4))\n",
    "\n",
    "\n"
   ]
  }
 ],
 "metadata": {
  "kernelspec": {
   "display_name": "funman_venv",
   "language": "python",
   "name": "python3"
  },
  "language_info": {
   "codemirror_mode": {
    "name": "ipython",
    "version": 3
   },
   "file_extension": ".py",
   "mimetype": "text/x-python",
   "name": "python",
   "nbconvert_exporter": "python",
   "pygments_lexer": "ipython3",
   "version": "3.8.10"
  }
 },
 "nbformat": 4,
 "nbformat_minor": 2
}
