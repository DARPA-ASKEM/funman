{
 "cells": [
  {
   "cell_type": "code",
   "execution_count": 1,
   "id": "265c12b0",
   "metadata": {},
   "outputs": [],
   "source": [
    "import matplotlib.pyplot as plt\n",
    "from matplotlib.lines import Line2D\n",
    "import numpy as np"
   ]
  },
  {
   "cell_type": "code",
   "execution_count": null,
   "id": "8a0cc244",
   "metadata": {},
   "outputs": [],
   "source": []
  },
  {
   "cell_type": "markdown",
   "id": "2716ae96",
   "metadata": {},
   "source": [
    "Intersection functions and demonstrations:  intersect_two_param_spaces(ps1, ps2) will take two parameter spaces and compute their intersection."
   ]
  },
  {
   "cell_type": "code",
   "execution_count": 4,
   "id": "e7ada209",
   "metadata": {},
   "outputs": [],
   "source": [
    "def intersect_two_1d_boxes(a,b):\n",
    "    \"\"\"Given 2 intervals a = [a0,a1] and b=[b0,b1], check whether they intersect.  If they do, return their intersection.\"\"\"\n",
    "    if a[0] <= b[0]:\n",
    "        minArray = a\n",
    "        maxArray = b\n",
    "    else:\n",
    "        minArray = b\n",
    "        maxArray = a\n",
    "    if minArray[1] > maxArray[0]: ## has nonempty intersection. return intersection\n",
    "        return [maxArray[0], minArray[1]]\n",
    "    else: ## no intersection.\n",
    "        return []"
   ]
  },
  {
   "cell_type": "code",
   "execution_count": 5,
   "id": "482526b2",
   "metadata": {},
   "outputs": [
    {
     "name": "stdout",
     "output_type": "stream",
     "text": [
      "[1, 2]\n",
      "[]\n",
      "[]\n"
     ]
    }
   ],
   "source": [
    "print(intersect_two_1d_boxes([0,2],[1,3]))\n",
    "print(intersect_two_1d_boxes([0,1],[1,2]))\n",
    "print(intersect_two_1d_boxes([0,1],[2,3]))"
   ]
  },
  {
   "cell_type": "code",
   "execution_count": 6,
   "id": "725abcc2",
   "metadata": {},
   "outputs": [],
   "source": [
    "def intersect_two_boxes(a,b):\n",
    "    result = []\n",
    "    d = len(a) ## dimension\n",
    "    for i in range(d):\n",
    "        subresult = intersect_two_1d_boxes(a[i],b[i])\n",
    "        if subresult == []:\n",
    "            return None\n",
    "        else:\n",
    "            result.append(subresult)\n",
    "    return result"
   ]
  },
  {
   "cell_type": "code",
   "execution_count": 7,
   "id": "f9a0dfca",
   "metadata": {},
   "outputs": [
    {
     "name": "stdout",
     "output_type": "stream",
     "text": [
      "None\n",
      "None\n",
      "[[4.76837158203125, 4.887580871582031], [10.967254638671875, 11]]\n"
     ]
    }
   ],
   "source": [
    "box_1 = [[4.76837158203125, 4.887580871582031], [10.967254638671875, 11.205673217773438]]\n",
    "box_2 = [[4.887580871582031, 4.947185516357422], [11.801719665527344, 11.920928955078125]]\n",
    "print(intersect_two_boxes(box_1,box_2))\n",
    "\n",
    "box_1 = [[4.76837158203125, 4.887580871582031], [10.967254638671875, 11.205673217773438]]\n",
    "box_2 = [[4.76837158203125, 4.887580871582031], [11.801719665527344, 11.920928955078125]]\n",
    "print(intersect_two_boxes(box_1,box_2))\n",
    "\n",
    "box_1 = [[4.76837158203125, 4.887580871582031], [10.967254638671875, 11.205673217773438]]\n",
    "box_2 = [[4.76837158203125, 4.887580871582031], [10,11]]\n",
    "print(intersect_two_boxes(box_1,box_2))\n",
    "\n"
   ]
  },
  {
   "cell_type": "markdown",
   "id": "324d3ba3",
   "metadata": {},
   "source": [
    "General 2d box plotting function and example:"
   ]
  },
  {
   "cell_type": "code",
   "execution_count": 8,
   "id": "7b36d705",
   "metadata": {},
   "outputs": [],
   "source": [
    "def plot2DBox(box, color=\"b\",alpha=0.2):\n",
    "    x_limits = [box[0][0],box[0][1]]\n",
    "    y_limits = [box[1][0],box[1][1]]\n",
    "    x = np.linspace(x_limits[0], x_limits[1], 1000)\n",
    "    plt.fill_between(x, y_limits[0], y_limits[1], color=color, alpha=alpha)"
   ]
  },
  {
   "cell_type": "code",
   "execution_count": 9,
   "id": "84aec7ad",
   "metadata": {},
   "outputs": [
    {
     "data": {
      "image/png": "[encoded data removed]",
      "text/plain": [
       "<Figure size 432x288 with 1 Axes>"
      ]
     },
     "metadata": {
      "needs_background": "light"
     },
     "output_type": "display_data"
    }
   ],
   "source": [
    "box_1 = [[4.76837158203125, 4.887580871582031], [10.967254638671875, 11.205673217773438]]\n",
    "box_2 = [[4.76837158203125, 4.887580871582031], [10,11]]\n",
    "plot2DBox(box_1)\n",
    "plot2DBox(box_2, color='r')"
   ]
  },
  {
   "cell_type": "markdown",
   "id": "4700a51e",
   "metadata": {},
   "source": [
    "Intersection function for two parameter spaces:"
   ]
  },
  {
   "cell_type": "code",
   "execution_count": 10,
   "id": "ba52cc0d",
   "metadata": {},
   "outputs": [],
   "source": [
    "def intersect_two_param_spaces(ps1, ps2):\n",
    "    results_list = []\n",
    "    for box1 in ps1:\n",
    "        for box2 in ps2:\n",
    "            subresult = intersect_two_boxes(box1, box2)\n",
    "            if subresult != None:\n",
    "                results_list.append(subresult)\n",
    "    return results_list"
   ]
  },
  {
   "cell_type": "markdown",
   "id": "8fe72ebd",
   "metadata": {},
   "source": [
    "Example plotting two parameter spaces separately (in translucent red and blue), then computing their intersection and plotting it (in green)"
   ]
  },
  {
   "cell_type": "code",
   "execution_count": 11,
   "id": "21218463",
   "metadata": {},
   "outputs": [
    {
     "name": "stdout",
     "output_type": "stream",
     "text": [
      "[[[4.887580871582031, 4.947185516357422], [11.801719665527344, 11.920928955078125]], [[2.86102294921875, 3.814697265625], [10.49041748046875, 11.444091796875]]]\n"
     ]
    }
   ],
   "source": [
    "paramsp1 = [[[4.76837158203125, 4.887580871582031], [10.967254638671875, 11.205673217773438]],\n",
    "[[4.887580871582031, 4.947185516357422], [11.801719665527344, 11.920928955078125]],\n",
    "[[2.86102294921875, 3.814697265625], [10.49041748046875, 11.444091796875]]]\n",
    "\n",
    "paramsp2 = [[[4.887580871582031, 4.947185516357422], [11.801719665527344, 11.920928955078125]],\n",
    "[[2.86102294921875, 3.814697265625], [10.49041748046875, 11.444091796875]],\n",
    "[[3.337860107421875, 3.814697265625], [11.444091796875, 11.920928955078125]]]\n",
    "\n",
    "print(intersect_two_param_spaces(paramsp1, paramsp2))\n"
   ]
  },
  {
   "cell_type": "code",
   "execution_count": 12,
   "id": "c26c6d96",
   "metadata": {},
   "outputs": [
    {
     "data": {
      "image/png": "[encoded data removed]",
      "text/plain": [
       "<Figure size 432x288 with 1 Axes>"
      ]
     },
     "metadata": {
      "needs_background": "light"
     },
     "output_type": "display_data"
    }
   ],
   "source": [
    "custom_lines = [\n",
    "    Line2D([0], [0], color=\"b\", lw=4,alpha=0.2),\n",
    "    Line2D([0], [0], color=\"r\", lw=4,alpha=0.2),\n",
    "]\n",
    "\n",
    "plt.legend(custom_lines, [\"ps1\", \"ps2\"])\n",
    "\n",
    "for b1 in paramsp1:\n",
    "    plot2DBox(b1, color = 'b')\n",
    "for b2 in paramsp2:\n",
    "    plot2DBox(b2, color = 'r')"
   ]
  },
  {
   "cell_type": "code",
   "execution_count": 13,
   "id": "269ec5ff",
   "metadata": {},
   "outputs": [
    {
     "data": {
      "image/png": "[encoded data removed]",
      "text/plain": [
       "<Figure size 432x288 with 1 Axes>"
      ]
     },
     "metadata": {
      "needs_background": "light"
     },
     "output_type": "display_data"
    }
   ],
   "source": [
    "custom_lines = [\n",
    "    Line2D([0], [0], color=\"g\", lw=4,alpha=1),\n",
    "]\n",
    "\n",
    "plt.legend(custom_lines, [\"intersection\"])\n",
    "\n",
    "\n",
    "paramsp3 = intersect_two_param_spaces(paramsp1, paramsp2)\n",
    "for b3 in paramsp3:\n",
    "    plot2DBox(b3, color = 'g', alpha=1)"
   ]
  },
  {
   "cell_type": "markdown",
   "id": "93e4e962",
   "metadata": {},
   "source": [
    "Symmetric difference functions:"
   ]
  },
  {
   "cell_type": "code",
   "execution_count": 15,
   "id": "68f72562",
   "metadata": {},
   "outputs": [],
   "source": [
    "def symmetric_difference_two_1d_boxes(a,b):\n",
    "    \"\"\"Given 2 intervals a = [a0,a1] and b=[b0,b1], return their symmetric difference (points not in their intersection).\"\"\"\n",
    "    if a == b: ## no symmetric difference\n",
    "        return None\n",
    "    else:\n",
    "        if a[0] <= b[0]:\n",
    "            minArray = a\n",
    "            maxArray = b\n",
    "        else:\n",
    "            minArray = b\n",
    "            maxArray = a\n",
    "        if minArray[1] > maxArray[0]: ## has nonempty intersection. form symmetric differences and return them\n",
    "            return [[minArray[0], maxArray[0]],[minArray[1], maxArray[1]]]\n",
    "        else: ## no intersection. symmetric difference is the entirety of the 2 arrays\n",
    "            return [minArray, maxArray]\n"
   ]
  },
  {
   "cell_type": "code",
   "execution_count": 19,
   "id": "a2f574d7",
   "metadata": {},
   "outputs": [],
   "source": [
    "def subtract_two_1d_boxes(a,b):\n",
    "    \"\"\"Given 2 intervals a = [a0,a1] and b=[b0,b1], return the part of a that does not intersect with b.\"\"\"\n",
    "    if intersect_two_1d_boxes(a,b) == None:\n",
    "        return a\n",
    "    else:\n",
    "        if a[0] < b[0]:\n",
    "            return [a[0],b[0]]\n",
    "        elif a[0] > b[0]:\n",
    "            return [b[1],a[1]]\n",
    "        "
   ]
  },
  {
   "cell_type": "code",
   "execution_count": 36,
   "id": "7b545632",
   "metadata": {},
   "outputs": [],
   "source": [
    "def symmetric_difference_two_boxes(a,b): ### WIP - just for 2 dimensions at this point.\n",
    "    result = []\n",
    "    if a == b:\n",
    "        result = None \n",
    "    elif intersect_two_boxes(a,b) == None: ## no intersection so they are disjoint - return both original boxes\n",
    "        result = [a,b]\n",
    "    else:\n",
    "        xbounds = subtract_two_1d_boxes(a[0],b[0])\n",
    "        if xbounds != None:\n",
    "            result.append([xbounds,a[1]])\n",
    "        xbounds = subtract_two_1d_boxes(b[0],a[0])\n",
    "        if xbounds != None:\n",
    "            result.append([xbounds,b[1]])\n",
    "        ybounds = subtract_two_1d_boxes(a[1],b[1])\n",
    "        if ybounds != None:\n",
    "            result.append([a[0],ybounds]) \n",
    "        ybounds = subtract_two_1d_boxes(b[1],a[1])\n",
    "        if ybounds != None:\n",
    "            result.append([b[0],ybounds])         \n",
    "    return result"
   ]
  },
  {
   "cell_type": "code",
   "execution_count": 17,
   "id": "d85c03bf",
   "metadata": {},
   "outputs": [
    {
     "name": "stdout",
     "output_type": "stream",
     "text": [
      "[[0, 1], [2, 3]]\n",
      "[[0, 1], [1, 2]]\n",
      "[[0, 1], [2, 3]]\n",
      "None\n"
     ]
    }
   ],
   "source": [
    "print(symmetric_difference_two_1d_boxes([0,2],[1,3]))\n",
    "print(symmetric_difference_two_1d_boxes([0,1],[1,2]))\n",
    "print(symmetric_difference_two_1d_boxes([0,1],[2,3]))\n",
    "print(symmetric_difference_two_1d_boxes([0,1],[0,1]))"
   ]
  },
  {
   "cell_type": "code",
   "execution_count": 35,
   "id": "ad82970f",
   "metadata": {},
   "outputs": [
    {
     "name": "stdout",
     "output_type": "stream",
     "text": [
      "[[[0, 2], [3, 4]], [[0, 2], [5, 6]]]\n"
     ]
    }
   ],
   "source": [
    "# ## Test case: disjoint. Should return [[[1, 2], [0, 1]], [[3, 4], [5, 6]]]\n",
    "# box_1 = [[1,2], [0,1]]\n",
    "# box_2 = [[3,4], [5,6]]\n",
    "# print(symmetric_difference_two_boxes(box_1,box_2))\n",
    "\n",
    "# ## Test case: disjoint. Should return [[[1, 2], [0, 1]], [[1,2], [5, 6]]]\n",
    "# box_1 = [[1,2], [0,1]]\n",
    "# box_2 = [[1,2], [5,6]]\n",
    "# print(symmetric_difference_two_boxes(box_1,box_2))\n",
    "\n",
    "# ## Test case: not disjoint.\n",
    "\n",
    "# box_1 = [[0,2],[3,5]]\n",
    "# box_2 = [[1,3],[4,6]]\n",
    "# print(symmetric_difference_two_boxes(box_1,box_2))\n",
    "\n",
    "## Test case: not disjoint.\n",
    "\n",
    "box_1 = [[0,2],[3,5]]\n",
    "box_2 = [[0,2],[4,6]]\n",
    "print(symmetric_difference_two_boxes(box_1,box_2))\n"
   ]
  },
  {
   "cell_type": "code",
   "execution_count": 75,
   "id": "c572a7b7",
   "metadata": {},
   "outputs": [],
   "source": [
    "def symmetric_difference_two_param_spaces(ps1, ps2):\n",
    "    results_list = []\n",
    "    for box2 in ps2:\n",
    "        box2_results = []\n",
    "        for box1 in ps1:\n",
    "            subresult = symmetric_difference_two_boxes(box2, box1)\n",
    "            if subresult != None:\n",
    "                box2_results.append(subresult[0])\n",
    "            elif subresult == None:\n",
    "                box2_results.append(subresult)\n",
    "#         print(box1_results)\n",
    "        if None in box2_results:\n",
    "            pass\n",
    "        else:\n",
    "            results_list.append(box2_results[0])\n",
    "    for box1 in ps1:\n",
    "        box1_results = []\n",
    "        for box2 in ps2:\n",
    "            subresult = symmetric_difference_two_boxes(box1, box2)\n",
    "            if subresult != None:\n",
    "                box1_results.append(subresult[0])\n",
    "            elif subresult == None:\n",
    "                box1_results.append(subresult)\n",
    "        if None in box1_results:\n",
    "            pass\n",
    "        else:\n",
    "            results_list.append(box1_results[0])\n",
    "    return results_list"
   ]
  },
  {
   "cell_type": "markdown",
   "id": "238f1f22",
   "metadata": {},
   "source": [
    "Example/test using symmetric difference of two parameter spaces:\n"
   ]
  },
  {
   "cell_type": "code",
   "execution_count": 76,
   "id": "26e4d246",
   "metadata": {},
   "outputs": [
    {
     "data": {
      "text/plain": [
       "[[[3.337860107421875, 3.814697265625], [11.444091796875, 11.920928955078125]],\n",
       " [[4.76837158203125, 4.887580871582031],\n",
       "  [10.967254638671875, 11.205673217773438]]]"
      ]
     },
     "execution_count": 76,
     "metadata": {},
     "output_type": "execute_result"
    }
   ],
   "source": [
    "paramsp1 = [[[4.76837158203125, 4.887580871582031], [10.967254638671875, 11.205673217773438]],\n",
    "[[4.887580871582031, 4.947185516357422], [11.801719665527344, 11.920928955078125]],\n",
    "[[2.86102294921875, 3.814697265625], [10.49041748046875, 11.444091796875]]]\n",
    "\n",
    "paramsp2 = [[[4.887580871582031, 4.947185516357422], [11.801719665527344, 11.920928955078125]],\n",
    "[[2.86102294921875, 3.814697265625], [10.49041748046875, 11.444091796875]],\n",
    "[[3.337860107421875, 3.814697265625], [11.444091796875, 11.920928955078125]]]\n",
    "\n",
    "symmetric_difference_two_param_spaces(paramsp1, paramsp2)"
   ]
  },
  {
   "cell_type": "code",
   "execution_count": 71,
   "id": "4547e401",
   "metadata": {},
   "outputs": [
    {
     "name": "stdout",
     "output_type": "stream",
     "text": [
      "None\n"
     ]
    }
   ],
   "source": [
    "box_1 = [[2.86102294921875, 3.814697265625], [10.49041748046875, 11.444091796875]]\n",
    "box_2 = [[2.86102294921875, 3.814697265625], [10.49041748046875, 11.444091796875]]\n",
    "print(symmetric_difference_two_boxes(box_1,box_2))"
   ]
  },
  {
   "cell_type": "code",
   "execution_count": 77,
   "id": "b198d3f1",
   "metadata": {},
   "outputs": [
    {
     "data": {
      "image/png": "[encoded data removed]",
      "text/plain": [
       "<Figure size 432x288 with 1 Axes>"
      ]
     },
     "metadata": {
      "needs_background": "light"
     },
     "output_type": "display_data"
    }
   ],
   "source": [
    "custom_lines = [\n",
    "    Line2D([0], [0], color=\"g\", lw=4,alpha=1),\n",
    "]\n",
    "\n",
    "plt.legend(custom_lines, [\"symmetric difference\"])\n",
    "\n",
    "\n",
    "paramsp4 = symmetric_difference_two_param_spaces(paramsp1, paramsp2)\n",
    "for b4 in paramsp4:\n",
    "    plot2DBox(b4, color = 'g', alpha=1)"
   ]
  },
  {
   "cell_type": "code",
   "execution_count": 64,
   "id": "926cb012",
   "metadata": {},
   "outputs": [
    {
     "data": {
      "image/png": "[encoded data removed]",
      "text/plain": [
       "<Figure size 432x288 with 1 Axes>"
      ]
     },
     "metadata": {
      "needs_background": "light"
     },
     "output_type": "display_data"
    }
   ],
   "source": [
    "custom_lines = [\n",
    "    Line2D([0], [0], color=\"b\", lw=4,alpha=0.2),\n",
    "    Line2D([0], [0], color=\"r\", lw=4,alpha=0.2),\n",
    "]\n",
    "\n",
    "plt.legend(custom_lines, [\"ps1\", \"ps2\"])\n",
    "\n",
    "for b1 in paramsp1:\n",
    "    plot2DBox(b1, color = 'b')\n",
    "for b2 in paramsp2:\n",
    "    plot2DBox(b2, color = 'r')"
   ]
  },
  {
   "cell_type": "code",
   "execution_count": null,
   "id": "46df10d4",
   "metadata": {},
   "outputs": [],
   "source": []
  },
  {
   "cell_type": "code",
   "execution_count": null,
   "id": "28671fa4",
   "metadata": {},
   "outputs": [],
   "source": []
  }
 ],
 "metadata": {
  "kernelspec": {
   "display_name": "automates-virtualenv",
   "language": "python",
   "name": "automates-virtualenv"
  },
  "language_info": {
   "codemirror_mode": {
    "name": "ipython",
    "version": 3
   },
   "file_extension": ".py",
   "mimetype": "text/x-python",
   "name": "python",
   "nbconvert_exporter": "python",
   "pygments_lexer": "ipython3",
   "version": "3.9.12"
  }
 },
 "nbformat": 4,
 "nbformat_minor": 5
}
